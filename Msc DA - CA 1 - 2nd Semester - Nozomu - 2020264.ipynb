{
 "cells": [
  {
   "cell_type": "markdown",
   "id": "d341a948",
   "metadata": {},
   "source": [
    "Nozomu Nakanishi - 2020264 - Msc DA"
   ]
  },
  {
   "cell_type": "markdown",
   "id": "db729500",
   "metadata": {},
   "source": [
    "This notebook presents the technical part of the research which aims develop a neural network for sentiment analysis. The chosen networks <b>is/are, LSTM and (if you have time to develop a different one.</b>\n",
    "The chronological order will follow: \n",
    "1. Introduction;\n",
    "2. Data preparation and EDA; \n",
    "3. Text pre-processing;\n",
    "4. Embedding and Padding; \n",
    "5. LSTM; \n",
    ". Conclusion "
   ]
  },
  {
   "cell_type": "markdown",
   "id": "e7f0692e",
   "metadata": {},
   "source": [
    "## 1. Introduction \n",
    "\n",
    "The experiment will be carried out by importing the chosen dataset from Kaggle, the data is licensed under the Creative Commons (CC0 1.0 DEED), allowing the use of the data. \n",
    "\n",
    "The link for the dataset is available at kaggle: https://www.kaggle.com/datasets/irkaal/foodcom-recipes-and-reviews\n",
    "\n",
    "The objective of the notebook is to develop a neural network using PySpark (chosen tool for the project) and the chosen dataset to achieve the goal is the recipe reviews from food.com, which is  composed by 8 features and more tham a million rows.\n",
    "- There are two datasets in the zip file, however it does not says that the recipe ID in one will match the recipe ID in the other, therefore using only the reviews dataset.\n",
    "- Also, two types of format is available, parquet and csv files. And the choice for the first one is that the parquet file already has a columnar type, which when taking into consideration the tools that are being used such as pyspark it will present a better speed perfomance when performing tasks. In addition to the reduction for its size in megabytes (csv - 496.1 and 173.8). \n",
    "- The dataset review, which is going to be manipulated, is about the written reviews along with score rating given. They are the most important features in the dataset to achieve the objective. \n",
    "\n",
    "<b>The technical part of the task will be carried out by performing sentiment analysis using Long Short Term Memory (LSTM).....</b>"
   ]
  },
  {
   "cell_type": "code",
   "execution_count": 1,
   "id": "6de0a9d0",
   "metadata": {
    "scrolled": false
   },
   "outputs": [
    {
     "data": {
      "text/plain": [
       "'local[*]'"
      ]
     },
     "execution_count": 1,
     "metadata": {},
     "output_type": "execute_result"
    }
   ],
   "source": [
    "# The command below is to check where the PySpark is running, \n",
    "# in this case (returned:local[*]) data is being processed on my local (personal) machine.\n",
    "\n",
    "sc.master"
   ]
  },
  {
   "cell_type": "markdown",
   "id": "624cee5c",
   "metadata": {},
   "source": [
    "- The libraries to perform the required stages are going to be imported in the next cell."
   ]
  },
  {
   "cell_type": "code",
   "execution_count": 2,
   "id": "09e85221",
   "metadata": {},
   "outputs": [],
   "source": [
    "from pyspark.sql.functions import count # Funcion to get the \"size\" of the data.\n",
    "from pyspark.sql.functions import when # When function.\n",
    "from pyspark.sql.functions import col # Function column.\n",
    "from pyspark.sql.functions import mean, min, max, stddev # Imports function for statistical features. \n",
    "from pyspark.sql import functions as F # Data processing framework.\n",
    "from pyspark.sql.functions import lower # lower case function.\n",
    "from pyspark.sql.functions import length # Import lenght function.\n",
    "from pyspark.sql.functions import size, split # Imports function size and split.\n",
    "from pyspark.ml.feature import Tokenizer # Importing Tokenizer.\n",
    "from pyspark.sql.functions import regexp_replace # Remove / Replace function.\n",
    "from pyspark.sql.functions import explode, desc # Importing for word count.\n",
    "from pyspark.ml.feature import StopWordsRemover # Imports stopword remover.\n",
    "from pyspark.sql.types import StructField, StructType # Importing features for Schema.\n",
    "from pyspark.sql.types import IntegerType, StringType, TimestampType # Tools to create the schema.\n",
    "from pyspark.sql.functions import udf # Imports function UDF (user defined functions).\n",
    "from pyspark.sql.types import ArrayType, StringType\n",
    "from pyspark.ml.linalg import VectorUDT\n",
    "from pyspark.ml.feature import Word2Vec\n",
    "from pyspark.sql.functions import max as max_\n",
    "import numpy as np # for numerical operations.\n",
    "import seaborn as sns # Visualization tool.\n",
    "import matplotlib.pyplot as plt # visualization\n",
    "%matplotlib inline \n",
    "import spacy\n",
    "\n",
    "import warnings # Ignore warnings.\n",
    "warnings.filterwarnings(\"ignore\")"
   ]
  },
  {
   "cell_type": "code",
   "execution_count": 3,
   "id": "31ba4371",
   "metadata": {},
   "outputs": [],
   "source": [
    "# Initiating a spark session.\n",
    "spark = SparkSession.builder.appName('recipe_reviews').getOrCreate()"
   ]
  },
  {
   "cell_type": "markdown",
   "id": "c092bac1",
   "metadata": {},
   "source": [
    "## 2. Data preparation and EDA\n",
    "- Challeging to separete them both because it will be performed back and forth.\n",
    "- First, the numerical feature will be analysed and after the written review. \n",
    "\n",
    "#### - Importing the Review dataset.\n",
    "\n",
    "To start the dataset will be imported in parquet format as cited in the introduction."
   ]
  },
  {
   "cell_type": "code",
   "execution_count": 4,
   "id": "e4cc4c22",
   "metadata": {},
   "outputs": [
    {
     "name": "stderr",
     "output_type": "stream",
     "text": [
      "                                                                                \r"
     ]
    }
   ],
   "source": [
    "# Imports the dataset in a parquet format.\n",
    "df_reviews = spark.read.parquet(\"file:///home/hduser/Downloads/Dataset CA1/reviews.parquet\")"
   ]
  },
  {
   "cell_type": "code",
   "execution_count": 5,
   "id": "500cb040",
   "metadata": {},
   "outputs": [
    {
     "name": "stdout",
     "output_type": "stream",
     "text": [
      "root\n",
      " |-- ReviewId: integer (nullable = true)\n",
      " |-- RecipeId: integer (nullable = true)\n",
      " |-- AuthorId: integer (nullable = true)\n",
      " |-- AuthorName: string (nullable = true)\n",
      " |-- Rating: integer (nullable = true)\n",
      " |-- Review: string (nullable = true)\n",
      " |-- DateSubmitted: timestamp (nullable = true)\n",
      " |-- DateModified: timestamp (nullable = true)\n",
      "\n"
     ]
    }
   ],
   "source": [
    "# Prints the Schema of the dataset.\n",
    "df_reviews.printSchema()"
   ]
  },
  {
   "cell_type": "markdown",
   "id": "8f70430e",
   "metadata": {},
   "source": [
    "- The parquet format file already had a schema, therefore keeping the original dataset schema. However, if the csv were to be handled the following code would be appropriate to apply the schema, including the column names along with the data type."
   ]
  },
  {
   "cell_type": "code",
   "execution_count": 6,
   "id": "9b9548c8",
   "metadata": {},
   "outputs": [],
   "source": [
    "# Code that would be used to apply the schema in the review dataset if was required.\n",
    "\n",
    "#schema_reviews = StructType([\n",
    "    #StructField('ReviewId', IntegerType(), True),\n",
    "    #StructField('RecipeId', IntegerType(), True),\n",
    "    #StructField('AuthorId', IntegerType(), True),\n",
    "    #StructField('AuthorName', StringType(), True),\n",
    "    #StructField('Rating', IntegerType(), True),\n",
    "    #StructField('Review', StringType(), True),\n",
    "    #StructField('DateSubmitted', TimestampType(), True),\n",
    "    #StructField('DateModified', TimestampType(), True)])"
   ]
  },
  {
   "cell_type": "markdown",
   "id": "6ef469f7",
   "metadata": {},
   "source": [
    "The library Pandas used in the previous semester had different set of functions and/or commands. For example, the shape which provided the number of columns and observations in the dataset. However, in the PySpark the count method is use to tell how many rows and the lenght of the columns for the number of features. \n",
    "<br>However, in a later stage pandas format will be used for visualization purpose only, because pandas visualizations are better than the pyspark."
   ]
  },
  {
   "cell_type": "code",
   "execution_count": 7,
   "id": "5d6ee682",
   "metadata": {},
   "outputs": [
    {
     "name": "stderr",
     "output_type": "stream",
     "text": [
      "                                                                                \r"
     ]
    },
    {
     "name": "stdout",
     "output_type": "stream",
     "text": [
      "+--------+--------+--------+----------------+------+--------------------+-------------------+-------------------+\n",
      "|ReviewId|RecipeId|AuthorId|      AuthorName|Rating|              Review|      DateSubmitted|       DateModified|\n",
      "+--------+--------+--------+----------------+------+--------------------+-------------------+-------------------+\n",
      "|       2|     992|    2008|       gayg msft|     5|better than any y...|2000-01-25 21:44:00|2000-01-25 21:44:00|\n",
      "|       7|    4384|    1634|   Bill Hilbrich|     4|I cut back on the...|2001-10-17 17:49:59|2001-10-17 17:49:59|\n",
      "|       9|    4523|    2046|Gay Gilmore ckpt|     2|i think i did som...|2000-02-25 09:00:00|2000-02-25 09:00:00|\n",
      "|      13|    7435|    1773|   Malarkey Test|     5|easily the best i...|2000-03-13 21:15:00|2000-03-13 21:15:00|\n",
      "|      14|      44|    2085|      Tony Small|     5|  An excellent dish.|2000-03-28 13:51:00|2000-03-28 13:51:00|\n",
      "|      17|    5221|    2046|Gay Gilmore ckpt|     4|love it, but with...|2000-05-08 12:08:00|2000-05-08 12:08:00|\n",
      "|      19|   13307|    2046|Gay Gilmore ckpt|     5|chewy goodness, n...|2000-05-21 17:59:00|2000-05-21 17:59:00|\n",
      "|      21|     148|    2156|  Darlene Blythe|     0|Would someone ple...|2000-06-02 11:01:00|2000-06-02 11:01:00|\n",
      "|      22|     517|    2046|Gay Gilmore ckpt|     5|thought this was ...|2000-02-25 09:02:00|2000-02-25 09:02:00|\n",
      "|      23|    4684|    2046|Gay Gilmore ckpt|     5|this is absolutel...|2000-02-25 09:06:00|2000-02-25 09:06:00|\n",
      "+--------+--------+--------+----------------+------+--------------------+-------------------+-------------------+\n",
      "only showing top 10 rows\n",
      "\n"
     ]
    }
   ],
   "source": [
    "# It shows the first ten observations.\n",
    "df_reviews.show(10)"
   ]
  },
  {
   "cell_type": "code",
   "execution_count": 8,
   "id": "30ecdc19",
   "metadata": {
    "scrolled": false
   },
   "outputs": [
    {
     "name": "stderr",
     "output_type": "stream",
     "text": [
      "\r",
      "[Stage 2:>                                                          (0 + 2) / 2]\r"
     ]
    },
    {
     "name": "stdout",
     "output_type": "stream",
     "text": [
      "Shape: (1401982, 8)\n"
     ]
    },
    {
     "name": "stderr",
     "output_type": "stream",
     "text": [
      "\r",
      "                                                                                \r"
     ]
    }
   ],
   "source": [
    "num_rows_reviews = df_reviews.count() # Counting the number of rows.\n",
    "num_columns_reviews =len(df_reviews.columns) # Length of columns.\n",
    "print(f\"Shape: ({num_rows_reviews}, {num_columns_reviews})\") # Prints the shape of the dataset."
   ]
  },
  {
   "cell_type": "markdown",
   "id": "1585caa0",
   "metadata": {},
   "source": [
    "The previous code shows the shape of the dataset (1401982 rows, 8 columns) and by looking at the features, a few of them will not be needed to the analysis.\n",
    "- Temporal analysis is not the focus of the project, therefore, the date submitted and modified will be dropped in an early stage.\n",
    "- The Ids will not be part of the model, but will remain to check if they can indicate any anomaly.  "
   ]
  },
  {
   "cell_type": "code",
   "execution_count": 9,
   "id": "0e054d38",
   "metadata": {},
   "outputs": [],
   "source": [
    "# Droping two columns of the dataset.\n",
    "df_reviews = df_reviews.drop(\"DateSubmitted\", \"DateModified\")"
   ]
  },
  {
   "cell_type": "code",
   "execution_count": 10,
   "id": "00fd2635",
   "metadata": {},
   "outputs": [
    {
     "name": "stdout",
     "output_type": "stream",
     "text": [
      "Number of observations with missing Review: 0\n",
      "Number of observations with missing Rating: 0\n"
     ]
    }
   ],
   "source": [
    "# The two codes below are searching and printing the number of missing values in Review, Rating, Recipe Id.\n",
    "\n",
    "missing_review = df_reviews.filter(df_reviews.Review.isNull())\n",
    "print(f\"Number of observations with missing Review: {missing_review.count()}\")\n",
    "\n",
    "missing_rating = df_reviews.filter(df_reviews.Rating.isNull())\n",
    "print(f\"Number of observations with missing Rating: {missing_rating.count()}\")"
   ]
  },
  {
   "cell_type": "markdown",
   "id": "75a5f718",
   "metadata": {},
   "source": [
    "- No missing values are recorded in Review and Ratings. Only performing the command for two features because they are going to be the focus of the analysis. \n",
    "\n",
    "<br>\n",
    "\n",
    "- The following codes does not affect the analysis directly, but it increases the knowledge about the data.\n",
    "The next code will generate the frequency of three features, the Rating scores (check which score have the highest number and the lowest), the RecipeId (check how many times that recipe recieved a review and the AuthorId (check how many times that author wrote a review)."
   ]
  },
  {
   "cell_type": "code",
   "execution_count": 11,
   "id": "249be20d",
   "metadata": {
    "scrolled": true
   },
   "outputs": [
    {
     "name": "stderr",
     "output_type": "stream",
     "text": [
      "                                                                                \r"
     ]
    },
    {
     "name": "stdout",
     "output_type": "stream",
     "text": [
      "+------+-------+\n",
      "|Rating|  count|\n",
      "+------+-------+\n",
      "|     0|  76248|\n",
      "|     1|  16559|\n",
      "|     2|  17597|\n",
      "|     3|  50279|\n",
      "|     4| 229217|\n",
      "|     5|1012082|\n",
      "+------+-------+\n",
      "\n",
      "Frequency of Ratings\n"
     ]
    },
    {
     "name": "stderr",
     "output_type": "stream",
     "text": [
      "                                                                                \r"
     ]
    },
    {
     "name": "stdout",
     "output_type": "stream",
     "text": [
      "+--------+-----+\n",
      "|RecipeId|count|\n",
      "+--------+-----+\n",
      "|   45809| 2892|\n",
      "|    2886| 2182|\n",
      "|   27208| 1614|\n",
      "|   89204| 1584|\n",
      "|   39087| 1491|\n",
      "|   67256| 1359|\n",
      "|   35813| 1353|\n",
      "|   54257| 1325|\n",
      "|   22782| 1273|\n",
      "|   32204| 1228|\n",
      "|  420398| 1174|\n",
      "|   25690| 1076|\n",
      "|   69173| 1023|\n",
      "|   73440| 1008|\n",
      "|   68955|  910|\n",
      "|   33919|  885|\n",
      "|   82102|  862|\n",
      "|   25885|  856|\n",
      "|   85629|  805|\n",
      "|   28148|  804|\n",
      "+--------+-----+\n",
      "only showing top 20 rows\n",
      "\n",
      "Frequency of RecipesId\n"
     ]
    },
    {
     "name": "stderr",
     "output_type": "stream",
     "text": [
      "[Stage 19:=============================>                            (1 + 1) / 2]\r"
     ]
    },
    {
     "name": "stdout",
     "output_type": "stream",
     "text": [
      "+--------+-----+\n",
      "|AuthorId|count|\n",
      "+--------+-----+\n",
      "|  424680| 8842|\n",
      "|   37449| 6605|\n",
      "|  383346| 5438|\n",
      "|  128473| 4693|\n",
      "|  169430| 4586|\n",
      "|   89831| 3963|\n",
      "|   58104| 3743|\n",
      "|  199848| 3688|\n",
      "|  133174| 3590|\n",
      "|  305531| 3543|\n",
      "|  226863| 3340|\n",
      "|    4470| 3260|\n",
      "|  369715| 3167|\n",
      "|  498271| 3014|\n",
      "| 1072593| 2810|\n",
      "|  176615| 2790|\n",
      "|   95743| 2664|\n",
      "|  286566| 2635|\n",
      "|  107583| 2588|\n",
      "|   88099| 2574|\n",
      "+--------+-----+\n",
      "only showing top 20 rows\n",
      "\n",
      "Frequency of AuthorId\n"
     ]
    },
    {
     "name": "stderr",
     "output_type": "stream",
     "text": [
      "\r",
      "                                                                                \r"
     ]
    }
   ],
   "source": [
    "# The codes below are getting the frequency of values using the count function and printing them from\n",
    "# the highest to the lowest.\n",
    "\n",
    "df_reviews.groupBy(\"Rating\").count().orderBy(\"Rating\").show()\n",
    "print(f\"Frequency of Ratings\")\n",
    "\n",
    "df_reviews.groupBy(\"RecipeId\").count().orderBy(\"count\", ascending=False).show(20)\n",
    "print(f\"Frequency of RecipesId\")\n",
    "\n",
    "df_reviews.groupBy(\"AuthorId\").count().orderBy(\"count\", ascending=False).show(20)\n",
    "print(f\"Frequency of AuthorId\")"
   ]
  },
  {
   "cell_type": "markdown",
   "id": "d826e405",
   "metadata": {},
   "source": [
    "- The Rating columns shows that most of its values are located between 4 and 5.\n",
    "\n",
    "The Recipes and AuthorId column:\n",
    "- The recipes that received the highest amount of reviews was with the ID of 45089 and 2886 (more than 2000 ratings);\n",
    "- The Author that most reviewed recipes on the website was the Id 424680 with 8842, followed by Id 37449 with 6605 reviews;"
   ]
  },
  {
   "cell_type": "markdown",
   "id": "f461052f",
   "metadata": {},
   "source": [
    "The first attempt was with the entire dataset (1401982 observations), however due to computational it was attempted many times with different sample size of the original, 100%, 70%, 50%, 20%, but erros related to \"out of memory\" kept poping, thus 10% of the dataset will be handled.\n",
    "- During the attempts, any errors, typos in the parameters were taking hours to restart, or to wait for the error so it can be fixed later.\n",
    " \n",
    "- The sampling will occur based on the labels, which will be generated in the following cell. "
   ]
  },
  {
   "cell_type": "code",
   "execution_count": 13,
   "id": "cdf559e3",
   "metadata": {
    "scrolled": true
   },
   "outputs": [
    {
     "name": "stdout",
     "output_type": "stream",
     "text": [
      "+------+--------+\n",
      "|rating|   label|\n",
      "+------+--------+\n",
      "|     5|positive|\n",
      "|     4|positive|\n",
      "|     2|negative|\n",
      "|     5|positive|\n",
      "|     5|positive|\n",
      "|     4|positive|\n",
      "|     5|positive|\n",
      "|     0|negative|\n",
      "|     5|positive|\n",
      "|     5|positive|\n",
      "|     4|positive|\n",
      "|     5|positive|\n",
      "|     5|positive|\n",
      "|     1|negative|\n",
      "|     5|positive|\n",
      "|     4|positive|\n",
      "|     1|negative|\n",
      "|     5|positive|\n",
      "|     5|positive|\n",
      "|     3| neutral|\n",
      "+------+--------+\n",
      "only showing top 20 rows\n",
      "\n"
     ]
    }
   ],
   "source": [
    "# Creates a new column 'label' based on rating values\n",
    "df_reviews = df_reviews.withColumn(\"label\", \n",
    "                   when(col(\"rating\").isin([0, 1, 2]), \"negative\")\n",
    "                   .when(col(\"rating\") == 3, \"neutral\")\n",
    "                   .otherwise(\"positive\")\n",
    "                  )\n",
    "\n",
    "# You can verify by showing a few records\n",
    "df_reviews.select(\"rating\", \"label\").show()"
   ]
  },
  {
   "cell_type": "code",
   "execution_count": 14,
   "id": "290df0e5",
   "metadata": {},
   "outputs": [
    {
     "name": "stderr",
     "output_type": "stream",
     "text": [
      "\r",
      "[Stage 21:=============================>                            (1 + 1) / 2]\r"
     ]
    },
    {
     "name": "stdout",
     "output_type": "stream",
     "text": [
      "Rating Class Neutral (3): 3.586280%\n",
      "Rating Class Negatives (0-2): 7.874851%\n",
      "Rating Class Positives (4-5): 88.538869%\n"
     ]
    },
    {
     "name": "stderr",
     "output_type": "stream",
     "text": [
      "\r",
      "                                                                                \r"
     ]
    }
   ],
   "source": [
    "# Calculating the distribution of scores and the three different classes fo the train set.\n",
    "# Placing the 0,1,2 to the negatives, 3 neutral and 4,5 positives.\n",
    "class_counts = (\n",
    "    df_reviews.withColumn(\n",
    "    \"Rating_class\",\n",
    "    when((df_reviews['Rating'] >= 0) & (df_reviews['Rating'] <= 2), \"Negatives (0-2)\")\n",
    "    .when(df_reviews['Rating'] == 3, \"Neutral (3)\")\n",
    "    .otherwise(\"Positives (4-5)\"))\n",
    "# Grouping the ratings into its class and using rdd to transform them into a dictionary which is easier to access in a query.\n",
    "    .groupBy(\"Rating_class\")\n",
    "    .count()\n",
    "    .rdd.collectAsMap())\n",
    "\n",
    "# Calculates to total number of reviews.\n",
    "total_reviews = sum(class_counts.values())\n",
    "# Calculates the ratio.\n",
    "Ratios = {k: v / total_reviews for k, v in class_counts.items()}\n",
    "# Prints the percentages.\n",
    "for Rating_class, ratio in Ratios.items():\n",
    "    print(f\"Rating Class {Rating_class}: {ratio*100:2f}%\")"
   ]
  },
  {
   "cell_type": "markdown",
   "id": "9221fca6",
   "metadata": {},
   "source": [
    "- The sentiment label (classes) will be used to applied a stratified split, maintaining the same distribution of classes as the original. "
   ]
  },
  {
   "cell_type": "code",
   "execution_count": 15,
   "id": "38abf5c4",
   "metadata": {},
   "outputs": [
    {
     "name": "stderr",
     "output_type": "stream",
     "text": [
      "                                                                                \r"
     ]
    }
   ],
   "source": [
    "# Calculates the fraction for each label to reduce the dataset by half\n",
    "# As mentioned previously the reduction is 50%.\n",
    "fraction = 0.1\n",
    "reduce_fractions = {label: fraction for label in df_reviews.select(\"label\").distinct().rdd.flatMap(lambda x: x).collect()}\n",
    "\n",
    "# Reducing the dataset by half\n",
    "df_reviews = df_reviews.sampleBy(\"label\", fractions=reduce_fractions, seed=42)\n"
   ]
  },
  {
   "cell_type": "code",
   "execution_count": 17,
   "id": "6320c1e3",
   "metadata": {},
   "outputs": [
    {
     "name": "stderr",
     "output_type": "stream",
     "text": [
      "\r",
      "[Stage 27:=============================>                            (1 + 1) / 2]\r"
     ]
    },
    {
     "name": "stdout",
     "output_type": "stream",
     "text": [
      "Rating Class Neutral (3): 3.636260%\n",
      "Rating Class Negatives (0-2): 7.878801%\n",
      "Rating Class Positives (4-5): 88.484939%\n"
     ]
    },
    {
     "name": "stderr",
     "output_type": "stream",
     "text": [
      "\r",
      "                                                                                \r"
     ]
    }
   ],
   "source": [
    "# Calculating the distribution of scores and the three different classes fo the train set.\n",
    "# Placing the 0,1,2 to the negatives, 3 neutral and 4,5 positives.\n",
    "class_counts = (\n",
    "    df_reviews.withColumn(\n",
    "    \"Rating_class\",\n",
    "    when((df_reviews['Rating'] >= 0) & (df_reviews['Rating'] <= 2), \"Negatives (0-2)\")\n",
    "    .when(df_reviews['Rating'] == 3, \"Neutral (3)\")\n",
    "    .otherwise(\"Positives (4-5)\"))\n",
    "# Grouping the ratings into its class and using rdd to transform them into a dictionary which is easier to access in a query.\n",
    "    .groupBy(\"Rating_class\")\n",
    "    .count()\n",
    "    .rdd.collectAsMap())\n",
    "\n",
    "# Calculates to total number of reviews.\n",
    "total_reviews = sum(class_counts.values())\n",
    "# Calculates the ratio.\n",
    "Ratios = {k: v / total_reviews for k, v in class_counts.items()}\n",
    "# Prints the percentages.\n",
    "for Rating_class, ratio in Ratios.items():\n",
    "    print(f\"Rating Class {Rating_class}: {ratio*100:2f}%\")"
   ]
  },
  {
   "cell_type": "markdown",
   "id": "b9f056b2",
   "metadata": {},
   "source": [
    "- After applying the stratfied split, the results were successful, the difference between before and after are less than decimals.\n",
    "\n",
    "Thus, for the analysis the dataset to be handle is the half of the original named df_reviews."
   ]
  },
  {
   "cell_type": "code",
   "execution_count": 18,
   "id": "119234e8",
   "metadata": {
    "scrolled": false
   },
   "outputs": [
    {
     "name": "stderr",
     "output_type": "stream",
     "text": [
      "                                                                                \r"
     ]
    },
    {
     "name": "stdout",
     "output_type": "stream",
     "text": [
      "+-------+------------------+\n",
      "|summary|            Rating|\n",
      "+-------+------------------+\n",
      "|  count|            140529|\n",
      "|   mean| 4.407147279209274|\n",
      "| stddev|1.2729915087121748|\n",
      "|    min|                 0|\n",
      "|    max|                 5|\n",
      "+-------+------------------+\n",
      "\n"
     ]
    }
   ],
   "source": [
    "# Displaying statistical features of the Reviews dataset.\n",
    "df_reviews.describe().select(\"summary\", \"Rating\").show()"
   ]
  },
  {
   "cell_type": "code",
   "execution_count": 19,
   "id": "67ed4bfd",
   "metadata": {},
   "outputs": [
    {
     "name": "stderr",
     "output_type": "stream",
     "text": [
      "\r",
      "[Stage 33:=============================>                            (1 + 1) / 2]\r"
     ]
    },
    {
     "name": "stdout",
     "output_type": "stream",
     "text": [
      "+------+------+\n",
      "|Rating| count|\n",
      "+------+------+\n",
      "|     0|  7676|\n",
      "|     1|  1615|\n",
      "|     2|  1781|\n",
      "|     3|  5110|\n",
      "|     4| 22910|\n",
      "|     5|101437|\n",
      "+------+------+\n",
      "\n",
      "Frequency of Ratings\n"
     ]
    },
    {
     "name": "stderr",
     "output_type": "stream",
     "text": [
      "\r",
      "                                                                                \r"
     ]
    }
   ],
   "source": [
    "df_reviews.groupBy(\"Rating\").count().orderBy(\"Rating\").show()\n",
    "print(f\"Frequency of Ratings\")"
   ]
  },
  {
   "cell_type": "markdown",
   "id": "52623caf",
   "metadata": {},
   "source": [
    "Based on statistical feature:\n",
    "- It has a range of scores between 0 and 5;\n",
    "- The mean of 4.4 is close to 5, therefore most of the data points are close the highest value, so the data present signs of being left-skewed (strong evidence for skewness);\n",
    "- Also, because most of the values a concentrated in the score 5, the box (boxplot) might be very close or at the top at the upper whisker.\n",
    "- It presents a high standard deviation given the range of the scores.\n",
    "- The score zero represents the majority in the negative class, while in the positive side the maximum value is more frequent also represents more than 50% of the data.\n",
    "\n",
    "Further analysis will be performed using visual tools."
   ]
  },
  {
   "cell_type": "markdown",
   "id": "6ed45165",
   "metadata": {},
   "source": [
    "### Ratings feature visual representation.\n",
    "\n",
    "- The visualization tools using Pandas provided a better result, therefore for visualization (boxplot and histogram) purpose it will be created a dataframe using pandas library."
   ]
  },
  {
   "cell_type": "code",
   "execution_count": 20,
   "id": "fe7b6bbc",
   "metadata": {
    "scrolled": true
   },
   "outputs": [
    {
     "name": "stderr",
     "output_type": "stream",
     "text": [
      "                                                                                \r"
     ]
    }
   ],
   "source": [
    "# Creating a dataframe using pandas library.\n",
    "ratings_column_pd = df_reviews.select(\"Rating\").toPandas()"
   ]
  },
  {
   "cell_type": "code",
   "execution_count": 21,
   "id": "09289558",
   "metadata": {},
   "outputs": [
    {
     "data": {
      "image/png": "[encoded data removed]",
      "text/plain": [
       "<Figure size 864x576 with 1 Axes>"
      ]
     },
     "metadata": {
      "needs_background": "light"
     },
     "output_type": "display_data"
    }
   ],
   "source": [
    "# Generating the figure.\n",
    "plt.figure(figsize=(12, 8)) # Setting the figure size.\n",
    "sns.set(style=\"whitegrid\", font_scale=1.2) # Addind a white space on the back and adjustive font scale.\n",
    "# Creates the boxplot\n",
    "ax = sns.boxplot(data=ratings_column_pd['Rating'], width=0.5) # Boxplot, setting the width of the box to .5.\n",
    "ax.set_title('Boxplot of Rating scores') # Add title to the figure.\n",
    "plt.tight_layout() # Adjusts the layout\n",
    "plt.show() # Shows the plot"
   ]
  },
  {
   "cell_type": "markdown",
   "id": "0215fe23",
   "metadata": {},
   "source": [
    "The boxplot shows shows that most of values are located in the maximum values, but also points the score 0, 1 and 2 as outliers, this could be due to the fact that those values represents a small percentage of the total (approximately 7-8%). So based on IQR calculations are considering them as outliers.\n",
    "\n",
    "- The values 1 and 2 will not be outliers, despite being a small amount they represent negative score reviews of the recipe;\n",
    "- The value of 0 will be analysed in a later stage along with the writen review.\n",
    "\n",
    "Despite considering of 1 and 2 score rating outliers, they will remain in the dataset. This is because they are still a valid data point and very important to achieve the goal. Although, the score zeros will be further analysed."
   ]
  },
  {
   "cell_type": "code",
   "execution_count": 22,
   "id": "9ec28520",
   "metadata": {},
   "outputs": [
    {
     "data": {
      "image/png": "[encoded data removed]",
      "text/plain": [
       "<Figure size 720x432 with 1 Axes>"
      ]
     },
     "metadata": {},
     "output_type": "display_data"
    }
   ],
   "source": [
    "# Creating the figure for the histogram.\n",
    "plt.figure(figsize=(10, 6))\n",
    "# Plots the histogram, bins set at 6 because of the range of the value.\n",
    "plt.hist(ratings_column_pd['Rating'], bins=6, edgecolor='black', alpha=0.7)\n",
    "plt.title(\"Histogram of Ranting Scores\") # Sets title.\n",
    "plt.xlabel(\"Ratings\") # Sets x label.\n",
    "plt.xticks(range(6)) # Add ticks with range between 0 and 6.\n",
    "plt.grid(axis='y') \n",
    "plt.show() # Display the histogram."
   ]
  },
  {
   "cell_type": "markdown",
   "id": "01007703",
   "metadata": {},
   "source": [
    "An extra visualization to look at the distribution of the data, the histogram shows that the ratings scores data is highly skewed to the left and most of its values are located at the maximum score.\n",
    "\n",
    "The scores zero raised doubts about its reliability, potentially someone forgot to leave a score or if it is actually the worst score. Also, there are no notes about the score zero, so a manual check will be applied to check if there is a balance between the review and the score zero. The procedure will be done by looking at random samples (attempted multiple times with differend seed values), checking if the reviews truly represents a sentiment of a lowest score possible."
   ]
  },
  {
   "cell_type": "code",
   "execution_count": 23,
   "id": "5ef49528",
   "metadata": {},
   "outputs": [
    {
     "name": "stdout",
     "output_type": "stream",
     "text": [
      "+-----------------------------------------------------------------------------------------------------------------------------------------------------------------------------------------------------------------------------------------------------------------------------------------------------------------------------------------------------------------------------------------------------------------------------------------------------------------------------------------------------------------------------------------------------------------------------------------------------------------------------------------------------------------------------------------------------------------------------------------------------------------------------------------------------------------------------------------------------------------------------------------------------------------+\n",
      "|Review                                                                                                                                                                                                                                                                                                                                                                                                                                                                                                                                                                                                                                                                                                                                                                                                                                                                                                           |\n",
      "+-----------------------------------------------------------------------------------------------------------------------------------------------------------------------------------------------------------------------------------------------------------------------------------------------------------------------------------------------------------------------------------------------------------------------------------------------------------------------------------------------------------------------------------------------------------------------------------------------------------------------------------------------------------------------------------------------------------------------------------------------------------------------------------------------------------------------------------------------------------------------------------------------------------------+\n",
      "|If you omit the nuts and spread with butter, powered sugar and fresh lemon juice.  My grandchildren love it this way.  You can add fresh fruit if you want.                                                                                                                                                                                                                                                                                                                                                                                                                                                                                                                                                                                                                                                                                                                                                      |\n",
      "|One of the best chocolate chip cookies I have ever made.                                                                                                                                                                                                                                                                                                                                                                                                                                                                                                                                                                                                                                                                                                                                                                                                                                                         |\n",
      "|hey everyone  chex are a type of cereal made by general mills                                                                                                                                                                                                                                                                                                                                                                                                                                                                                                                                                                                                                                                                                                                                                                                                                                                    |\n",
      "|It is a recipe that my mother passed down to me, I'm really not sure where it originated from. \\r\\nI love it with the black olives too but my husband isn't a fan of the olives so we have it without. It really is good with any meal.                                                                                                                                                                                                                                                                                                                                                                                                                                                                                                                                                                                                                                                                          |\n",
      "|Hi There,\\r\\n This is Julie,the mayo makes the cake moist the secret is not to use a tangy mayonaise as this will affect the tast .Use  Hellmans or Miracle whip I use the former and have made this cake many times so do try it I think you,ll be pleasantly surprised!                                                                                                                                                                                                                                                                                                                                                                                                                                                                                                                                                                                                                                        |\n",
      "|This sounds revolting! Hamburger Helper!?                                                                                                                                                                                                                                                                                                                                                                                                                                                                                                                                                                                                                                                                                                                                                                                                                                                                        |\n",
      "|This is a great way to cook brisket, but please don't call it BBQ.  I am THE past master of Southwest Texas Bar-B-que and I have been doing it for over 50 years now and have fed as many as 200 at a time.  They end up putting my BBQ sauce all over everything on their plate and sop it all up with their bread.  Warren                                                                                                                                                                                                                                                                                                                                                                                                                                                                                                                                                                                     |\n",
      "|I have used this recipe for 50 years.  It is my favorite.  I found it in a book from the Dept. of Agriculture through my local Extension Service.\\r\\n\\r\\nThe Not-So-Sweet is not a good name for it because it is very sweet...but I love it.                                                                                                                                                                                                                                                                                                                                                                                                                                                                                                                                                                                                                                                                    |\n",
      "|I just made this last night and wanted to add that it is best if cooled completely.  If it is too warm the 2 layers seem to run together and you don't get the same effect.  It remonds me of a lemon bar, with the crust and the curd filling.                                                                                                                                                                                                                                                                                                                                                                                                                                                                                                                                                                                                                                                                  |\n",
      "|I found this dish somehow lacking in flavor, although by the ingredient list it should've had loads.  I would never use dried garlic - always use fresh.                                                                                                                                                                                                                                                                                                                                                                                                                                                                                                                                                                                                                                                                                                                                                         |\n",
      "|PaulaT, You are right about adding the milk to the cheese and melting it.  That step has been corrected.  Also, canned mushrooms are OK if you're in a pinch, but fresh mushrooms have a better flavor. I appreciate your rating! :)                                                                                                                                                                                                                                                                                                                                                                                                                                                                                                                                                                                                                                                                             |\n",
      "|i agree, how big is this chicken? the size of a   small buzzard? i am now going to try this out, butnot with a buzzard.it sounds fab so watch this space for a review.                                                                                                                                                                                                                                                                                                                                                                                                                                                                                                                                                                                                                                                                                                                                           |\n",
      "|It's funny how differntly we can each perceive a recipe!  :)  I found these to be very, very good... but almost too sweet.  I followed the recipe exactly, but next time I think I'll begin cutting back the syrup by at least 1/4 cup.  That said, there is nothing to compare to the taste of fresh granola, and I will indeed be trying these very soon!                                                                                                                                                                                                                                                                                                                                                                                                                                                                                                                                                      |\n",
      "|Ah, what a shame to see that this greco-turkish conflict is still to be found in recipes...Yet I cannot do anything but support the fact that baklava is from the middle east and that it was imported to greece during the Ottoman occuppation. Anyway, great foods to be found in both countries.                                                                                                                                                                                                                                                                                                                                                                                                                                                                                                                                                                                                              |\n",
      "|This was my first experience making a pudding cake.  I had high hopes for a moist cinnamon cake, however, what I ended up with was a dry cake with lots of brown sugar sauce around the cake.  Upon inquiring with others in the forum that have prior experience making pudding cakes, it appears as though the brown sugar/water mixture should have been boiling hot when poured over the batter.  I ended up throwing away the original cake that I made as it was not really edible (at least no one in my family wanted to eat it) but I admit that I have not tried remaking this recipe using 'boiling' brown sugar/water rather than 'cooled' brown sugar/water.  I just wanted to warn others prior to making this recipe that they should consider make an adjustment to the directions before pouring the liquid over the batter based on suggestions by others with experience making pudding cakes.|\n",
      "|Very easy to make and extremely tasty, especially with the use of avacado!                                                                                                                                                                                                                                                                                                                                                                                                                                                                                                                                                                                                                                                                                                                                                                                                                                       |\n",
      "|my kids and i did not like these at all                                                                                                                                                                                                                                                                                                                                                                                                                                                                                                                                                                                                                                                                                                                                                                                                                                                                          |\n",
      "|What a great recipe!  Thanks so much!  Cyn.                                                                                                                                                                                                                                                                                                                                                                                                                                                                                                                                                                                                                                                                                                                                                                                                                                                                      |\n",
      "|The kids enjoyed this recipe.                                                                                                                                                                                                                                                                                                                                                                                                                                                                                                                                                                                                                                                                                                                                                                                                                                                                                    |\n",
      "|In their sauce?  But what is usually in ketchup?  (or catsup as we call it up here in the north...) (Where we love spaghetti, even if we're not officially Italian...)  Haven't tried it, but I never met a spaghetti recipe I didn't like.                                                                                                                                                                                                                                                                                                                                                                                                                                                                                                                                                                                                                                                                      |\n",
      "+-----------------------------------------------------------------------------------------------------------------------------------------------------------------------------------------------------------------------------------------------------------------------------------------------------------------------------------------------------------------------------------------------------------------------------------------------------------------------------------------------------------------------------------------------------------------------------------------------------------------------------------------------------------------------------------------------------------------------------------------------------------------------------------------------------------------------------------------------------------------------------------------------------------------+\n",
      "only showing top 20 rows\n",
      "\n"
     ]
    },
    {
     "name": "stderr",
     "output_type": "stream",
     "text": [
      "\r",
      "[Stage 37:>                                                         (0 + 1) / 1]\r",
      "\r",
      "                                                                                \r"
     ]
    }
   ],
   "source": [
    "zero_reviews = df_reviews.filter(col(\"Rating\") == 0)\n",
    "sample_reviews = zero_reviews.sample(withReplacement=False, fraction=0.25, seed=36)\n",
    "sample_reviews.select(\"Review\").show(truncate=False)"
   ]
  },
  {
   "cell_type": "markdown",
   "id": "de085cbd",
   "metadata": {},
   "source": [
    "- According to last code (with many attempts using different seed numbers), the written reviews does not match the score zero given. Positives reviews such as, great recipe, its delicious . Therefore, the chosen option is to drop the 0 scores (anomalies), so it does not affects the analysis by introducing noise to it, increasing the consistency in the data.\n",
    "- And since they are anomalies in the data, the rows with score of 0 will be dropped.\n",
    "<br><br><br>The next two codes will be used to drop (by using the method filter) and after printing the counts before and after the operation to check if it was correct. "
   ]
  },
  {
   "cell_type": "code",
   "execution_count": 24,
   "id": "08132f99",
   "metadata": {},
   "outputs": [],
   "source": [
    "# Method filter to exclude the rows with Rating equal to zero.\n",
    "df_reviews = df_reviews.filter(df_reviews.Rating != 0)"
   ]
  },
  {
   "cell_type": "code",
   "execution_count": 25,
   "id": "b965be92",
   "metadata": {},
   "outputs": [
    {
     "name": "stderr",
     "output_type": "stream",
     "text": [
      "\r",
      "[Stage 38:=============================>                            (1 + 1) / 2]\r"
     ]
    },
    {
     "name": "stdout",
     "output_type": "stream",
     "text": [
      "After filter obs count: 132853\n"
     ]
    },
    {
     "name": "stderr",
     "output_type": "stream",
     "text": [
      "\r",
      "                                                                                \r"
     ]
    }
   ],
   "source": [
    "# Counting after the exclusion and printing them for verification. \n",
    "filtered_count = df_reviews.count()\n",
    "print(f\"After filter obs count: {filtered_count}\")"
   ]
  },
  {
   "cell_type": "markdown",
   "id": "37fd6f70",
   "metadata": {},
   "source": [
    "- After the drop, the observations reduced by 7676, which is the number of zero scores given (also provided at the frequency line of code). Therefore, the drop operation was sucessful."
   ]
  },
  {
   "cell_type": "markdown",
   "id": "0057ccc2",
   "metadata": {},
   "source": [
    "## 3. Text pre-processing\n",
    "\n",
    "Next stage will be the text processing of the Review column, however only a few steps of the pre processing will be called before splitting the dataset to avoid data leakage. And the steps before dividing into traininig, validation and test are:\n",
    "\n",
    "- Lowering case; \n",
    "- Removing punctuations and \\r\\n;"
   ]
  },
  {
   "cell_type": "code",
   "execution_count": 26,
   "id": "67702a06",
   "metadata": {},
   "outputs": [],
   "source": [
    "# Creating a column named Review_lower to the dataframe in a lowercase version.\n",
    "df_reviews = df_reviews.withColumn(\"Review_lower\", lower(col(\"Review\")))"
   ]
  },
  {
   "cell_type": "code",
   "execution_count": 27,
   "id": "9c4de4a0",
   "metadata": {
    "scrolled": true
   },
   "outputs": [
    {
     "name": "stderr",
     "output_type": "stream",
     "text": [
      "\r",
      "[Stage 41:=============================>                            (1 + 1) / 2]\r"
     ]
    },
    {
     "name": "stdout",
     "output_type": "stream",
     "text": [
      "Transformation successful.\n"
     ]
    },
    {
     "name": "stderr",
     "output_type": "stream",
     "text": [
      "\r",
      "                                                                                \r"
     ]
    }
   ],
   "source": [
    "# Looks for any observation that the transformation did not work.\n",
    "no_match = df_reviews.filter(lower(col(\"Review\")) !=col(\"Review_lower\")).count()\n",
    "\n",
    "if no_match == 0:\n",
    "    print(\"Transformation successful.\")\n",
    "else:\n",
    "    print(\"There is/are rows that the transformation did not work.\")"
   ]
  },
  {
   "cell_type": "markdown",
   "id": "70ed3294",
   "metadata": {},
   "source": [
    "- After the transformation, a few statistical features will be generated before further processing for comparison purpose. "
   ]
  },
  {
   "cell_type": "code",
   "execution_count": 28,
   "id": "81eb55a6",
   "metadata": {},
   "outputs": [
    {
     "name": "stderr",
     "output_type": "stream",
     "text": [
      "\r",
      "[Stage 44:=============================>                            (1 + 1) / 2]\r"
     ]
    },
    {
     "name": "stdout",
     "output_type": "stream",
     "text": [
      "+-------+------------------+\n",
      "|summary|        word_count|\n",
      "+-------+------------------+\n",
      "|  count|            132853|\n",
      "|   mean| 53.33731266888967|\n",
      "| stddev|37.264817981508614|\n",
      "|    min|                 1|\n",
      "|    max|               944|\n",
      "+-------+------------------+\n",
      "\n"
     ]
    },
    {
     "name": "stderr",
     "output_type": "stream",
     "text": [
      "\r",
      "                                                                                \r"
     ]
    }
   ],
   "source": [
    "# It sums the number of words in the review column.\n",
    "df_reviews = df_reviews.withColumn(\"word_count\", size(split(df_reviews[\"Review_lower\"], \" \")))\n",
    "# Display statistical features of the review number of words.\n",
    "df_reviews.select(\"word_count\").describe().show()"
   ]
  },
  {
   "cell_type": "markdown",
   "id": "fc1bf4bc",
   "metadata": {},
   "source": [
    "According to the descriptive statistics of the review (132853 in total):\n",
    "- It ranges from 1 word to 944 words;\n",
    "- The mean is 53.35, thus the average of words is 53 words per review.\n",
    "- Most of the reviews are likely to be clustered in the lower values. "
   ]
  },
  {
   "cell_type": "code",
   "execution_count": 29,
   "id": "35fcec5a",
   "metadata": {
    "scrolled": true
   },
   "outputs": [
    {
     "name": "stderr",
     "output_type": "stream",
     "text": [
      "\r",
      "[Stage 47:=============================>                            (1 + 1) / 2]\r"
     ]
    },
    {
     "name": "stdout",
     "output_type": "stream",
     "text": [
      "+-------+------------------+\n",
      "|summary|   rev_char_length|\n",
      "+-------+------------------+\n",
      "|  count|            132853|\n",
      "|   mean| 276.8051455367963|\n",
      "| stddev|193.21814821238095|\n",
      "|    min|                 0|\n",
      "|    max|              5196|\n",
      "+-------+------------------+\n",
      "\n"
     ]
    },
    {
     "name": "stderr",
     "output_type": "stream",
     "text": [
      "\r",
      "                                                                                \r"
     ]
    }
   ],
   "source": [
    "# Displaying the characters length of the review_lowercase column\n",
    "df_reviews = df_reviews.withColumn(\"rev_char_length\", length(df_reviews[\"Review_lower\"]))\n",
    "# Displaying statistical feature of the reviews character length. \n",
    "df_reviews.select(\"rev_char_length\").describe().show()"
   ]
  },
  {
   "cell_type": "markdown",
   "id": "34596613",
   "metadata": {},
   "source": [
    "At this stage, the review features has:\n",
    "- An average of 276 characters per review;\n",
    "- Reviews range from 0 (empty) to 5196 (longest reviews);\n",
    "\n",
    "Based on the values, the mean is much closer to the minimum than to the maximum value, therefore indicating that the distribution of the character length is right skewed. However, the histogram will be generate to be certain."
   ]
  },
  {
   "cell_type": "code",
   "execution_count": 31,
   "id": "0a449b4c",
   "metadata": {
    "scrolled": false
   },
   "outputs": [
    {
     "name": "stderr",
     "output_type": "stream",
     "text": [
      "                                                                                \r"
     ]
    }
   ],
   "source": [
    "# Transforming to pandas dataframe for visualization purpose.\n",
    "review_char_lengh_pd = df_reviews.select(\"rev_char_length\").toPandas()"
   ]
  },
  {
   "cell_type": "code",
   "execution_count": 32,
   "id": "35fcd6a1",
   "metadata": {
    "scrolled": true
   },
   "outputs": [
    {
     "data": {
      "image/png": "[encoded data removed]",
      "text/plain": [
       "<Figure size 432x288 with 1 Axes>"
      ]
     },
     "metadata": {},
     "output_type": "display_data"
    }
   ],
   "source": [
    "# Creating histogram for characters length\n",
    "char_lengths = review_char_lengh_pd[\"rev_char_length\"] # Data\n",
    "char_lengths.hist(bins=50) # Generate histogram.\n",
    "plt.xlabel(\"Character Length\") # Adds label.\n",
    "plt.ylabel(\"Number of Reviews\") # Adds label.\n",
    "plt.title(\"Distribution of Review Lengths (in characters)\") # Adds title.\n",
    "plt.show() # Shows the histogram."
   ]
  },
  {
   "cell_type": "markdown",
   "id": "e7e20edb",
   "metadata": {},
   "source": [
    "- The histogram confirms what the descriptive statistic showed, that the distribution for the number of characters is right-skewed. "
   ]
  },
  {
   "cell_type": "code",
   "execution_count": 33,
   "id": "20ac5eb6",
   "metadata": {},
   "outputs": [
    {
     "name": "stderr",
     "output_type": "stream",
     "text": [
      "\r",
      "[Stage 51:=============================>                            (1 + 1) / 2]\r"
     ]
    },
    {
     "name": "stdout",
     "output_type": "stream",
     "text": [
      "Rating Class Positive: 93.60%\n",
      "Rating Class Neutral: 3.85%\n",
      "Rating Class Negative: 2.56%\n"
     ]
    },
    {
     "name": "stderr",
     "output_type": "stream",
     "text": [
      "\r",
      "                                                                                \r"
     ]
    }
   ],
   "source": [
    "# Group by the label column to get counts\n",
    "class_counts = df_reviews.groupBy(\"label\").count().rdd.collectAsMap()\n",
    "\n",
    "# Calculate the total number of reviews\n",
    "total_reviews = sum(class_counts.values())\n",
    "\n",
    "# Calculate the ratios\n",
    "Ratios = {k: v / total_reviews for k, v in class_counts.items()}\n",
    "\n",
    "# Print the percentages\n",
    "for label, ratio in Ratios.items():\n",
    "    print(f\"Rating Class {label.capitalize()}: {ratio*100:.2f}%\")"
   ]
  },
  {
   "cell_type": "markdown",
   "id": "c93d5e13",
   "metadata": {},
   "source": [
    "The reviews have gone through some manipulation and the last line of code still shows that.\n",
    "\n",
    "- By far, the highest number of score given is between the value of 4 and 5;\n",
    "- Lower scores (1 , 2) represents less than 3% of the total of ratings given and less than 4% for neutral scores (3);\n",
    "\n",
    "Next pre processing stage is to remove punctuations and characters such as \\r\\n."
   ]
  },
  {
   "cell_type": "code",
   "execution_count": 34,
   "id": "4b0b4349",
   "metadata": {},
   "outputs": [],
   "source": [
    "# Removing punctions of the Review_lowercase column.\n",
    "df_reviews = df_reviews.withColumn(\"Review_no_punct\", regexp_replace(col(\"Review_lower\"), \"[^a-zA-Z\\s]\", \"\"))"
   ]
  },
  {
   "cell_type": "code",
   "execution_count": 35,
   "id": "9e5361a6",
   "metadata": {
    "collapsed": true
   },
   "outputs": [
    {
     "name": "stdout",
     "output_type": "stream",
     "text": [
      "+---------------------------------------------------------------------------------------------------------------------------------------------------------------------------------------------------------------------------------------------------------------------------------------------------------------------------------------------------------------------------------------------------------------------------------------------------------------------------------------------+-------------------------------------------------------------------------------------------------------------------------------------------------------------------------------------------------------------------------------------------------------------------------------------------------------------------------------------------------------------------------------------------------------------------------------------------------------------------------------+\n",
      "|Review_lower                                                                                                                                                                                                                                                                                                                                                                                                                                                                                 |Review_no_punct                                                                                                                                                                                                                                                                                                                                                                                                                                                                |\n",
      "+---------------------------------------------------------------------------------------------------------------------------------------------------------------------------------------------------------------------------------------------------------------------------------------------------------------------------------------------------------------------------------------------------------------------------------------------------------------------------------------------+-------------------------------------------------------------------------------------------------------------------------------------------------------------------------------------------------------------------------------------------------------------------------------------------------------------------------------------------------------------------------------------------------------------------------------------------------------------------------------+\n",
      "|dear lord.                                                                                                                                                                                                                                                                                                                                                                                                                                                                                   |dear lord                                                                                                                                                                                                                                                                                                                                                                                                                                                                      |\n",
      "|clearly,        \\r\\n\\r\\n\\r\\na nine shot drink deserves at least five stars.  stiff, baby!                                                                                                                                                                                                                                                                                                                                                                                                    |clearly        \\r\\n\\r\\n\\r\\na nine shot drink deserves at least five stars  stiff baby                                                                                                                                                                                                                                                                                                                                                                                          |\n",
      "|it's a tasty dish.                                                                                                                                                                                                                                                                                                                                                                                                                                                                           |its a tasty dish                                                                                                                                                                                                                                                                                                                                                                                                                                                               |\n",
      "|needs more spice.                                                                                                                                                                                                                                                                                                                                                                                                                                                                            |needs more spice                                                                                                                                                                                                                                                                                                                                                                                                                                                               |\n",
      "|our family has enjoyed this recipe, time and time again with great success. favorite topping for this is to serve with chili, grated cheese and onions. the kids love it simply with catsup. \\r\\neither way this dish is a major favorite of our family. great also for the kids who are learning to cook.                                                                                                                                                                                   |our family has enjoyed this recipe time and time again with great success favorite topping for this is to serve with chili grated cheese and onions the kids love it simply with catsup \\r\\neither way this dish is a major favorite of our family great also for the kids who are learning to cook                                                                                                                                                                            |\n",
      "|this is a great quick,easy,tasy cheescake.\\r\\nthe hardest thing about it is waiting for it to cool. yum!\\r\\n\\r\\njinx                                                                                                                                                                                                                                                                                                                                                                         |this is a great quickeasytasy cheescake\\r\\nthe hardest thing about it is waiting for it to cool yum\\r\\n\\r\\njinx                                                                                                                                                                                                                                                                                                                                                                |\n",
      "|she loved it                                                                                                                                                                                                                                                                                                                                                                                                                                                                                 |she loved it                                                                                                                                                                                                                                                                                                                                                                                                                                                                   |\n",
      "|where's the nutmeg and the cinnamon?                                                                                                                                                                                                                                                                                                                                                                                                                                                         |wheres the nutmeg and the cinnamon                                                                                                                                                                                                                                                                                                                                                                                                                                             |\n",
      "|i ended up adapting this to make a kind of taco instead of baking it as enchiladas, but we liked it quite a bit.                                                                                                                                                                                                                                                                                                                                                                             |i ended up adapting this to make a kind of taco instead of baking it as enchiladas but we liked it quite a bit                                                                                                                                                                                                                                                                                                                                                                 |\n",
      "|i served this recipe, cherry cheese salad at our community dinner for 60 people. it was a hit. it is a wonderful, refreshing salad. it seems to come alive in your mouth when all the flavors hit the taste buds. great recipe!                                                                                                                                                                                                                                                              |i served this recipe cherry cheese salad at our community dinner for  people it was a hit it is a wonderful refreshing salad it seems to come alive in your mouth when all the flavors hit the taste buds great recipe                                                                                                                                                                                                                                                         |\n",
      "|this taste great!!!!!! even my 3yr. old loved it                                                                                                                                                                                                                                                                                                                                                                                                                                             |this taste great even my yr old loved it                                                                                                                                                                                                                                                                                                                                                                                                                                       |\n",
      "|great recipe, everyone loved it,,young & old.\\r\\n  we used 12oz frozen can of pink lemonade instead of the pineaple juice?                                                                                                                                                                                                                                                                                                                                                                   |great recipe everyone loved ityoung  old\\r\\n  we used oz frozen can of pink lemonade instead of the pineaple juice                                                                                                                                                                                                                                                                                                                                                             |\n",
      "|i am always looking for things such as this to give as gift to friends and family. i make an instant spice tea, which was given to me by a very good friend years ago. it has instant tea, cinnimon, tang, instant lemonade, cloves, etc. it is like the mocha cocoa mix. my friends will enjoy this at christmas. i will be putting it in small mason jars with a material cap tied off with ribbon and a small christmas wooden ornement.\\r\\n\\r\\nthank you this will be great,\\r\\ngrannymj0|i am always looking for things such as this to give as gift to friends and family i make an instant spice tea which was given to me by a very good friend years ago it has instant tea cinnimon tang instant lemonade cloves etc it is like the mocha cocoa mix my friends will enjoy this at christmas i will be putting it in small mason jars with a material cap tied off with ribbon and a small christmas wooden ornement\\r\\n\\r\\nthank you this will be great\\r\\ngrannymj|\n",
      "|ok                                                                                                                                                                                                                                                                                                                                                                                                                                                                                           |ok                                                                                                                                                                                                                                                                                                                                                                                                                                                                             |\n",
      "|i loved this recipe, very tasty and makes a great appy, i will be making it for my new years party.                                                                                                                                                                                                                                                                                                                                                                                          |i loved this recipe very tasty and makes a great appy i will be making it for my new years party                                                                                                                                                                                                                                                                                                                                                                               |\n",
      "|these were incredibly easy and fast to make.  they stored well in the refrigerator...i brought them to my organization's holiday potluck on a nice paper plate.  they all went quickly, so there was no cleanup or any leftovers to take back home.  ps--my coworkers liked them!                                                                                                                                                                                                            |these were incredibly easy and fast to make  they stored well in the refrigeratori brought them to my organizations holiday potluck on a nice paper plate  they all went quickly so there was no cleanup or any leftovers to take back home  psmy coworkers liked them                                                                                                                                                                                                         |\n",
      "|this is the best eggnog i have ever had.  it's good with fat-free half & half, too.  the writer suggested jack daniels might be good in it, but it is especially good with 1/2 cup of light rum (preferably bacardi) and 1/2 cup of crown royal.  delicious!                                                                                                                                                                                                                                 |this is the best eggnog i have ever had  its good with fatfree half  half too  the writer suggested jack daniels might be good in it but it is especially good with  cup of light rum preferably bacardi and  cup of crown royal  delicious                                                                                                                                                                                                                                    |\n",
      "|absolutely delightful recipe! rich and flavorful!                                                                                                                                                                                                                                                                                                                                                                                                                                            |absolutely delightful recipe rich and flavorful                                                                                                                                                                                                                                                                                                                                                                                                                                |\n",
      "|i have had a hashbrown casserole similar to this as well, but never got the recipe.  i am curious as how much sour cream should you put in then.  thanks.                                                                                                                                                                                                                                                                                                                                    |i have had a hashbrown casserole similar to this as well but never got the recipe  i am curious as how much sour cream should you put in then  thanks                                                                                                                                                                                                                                                                                                                          |\n",
      "|i haven't tried it yet, but when i do i will use cherry cola                                                                                                                                                                                                                                                                                                                                                                                                                                 |i havent tried it yet but when i do i will use cherry cola                                                                                                                                                                                                                                                                                                                                                                                                                     |\n",
      "+---------------------------------------------------------------------------------------------------------------------------------------------------------------------------------------------------------------------------------------------------------------------------------------------------------------------------------------------------------------------------------------------------------------------------------------------------------------------------------------------+-------------------------------------------------------------------------------------------------------------------------------------------------------------------------------------------------------------------------------------------------------------------------------------------------------------------------------------------------------------------------------------------------------------------------------------------------------------------------------+\n",
      "only showing top 20 rows\n",
      "\n"
     ]
    },
    {
     "name": "stderr",
     "output_type": "stream",
     "text": [
      "\r",
      "[Stage 54:>                                                         (0 + 1) / 1]\r",
      "\r",
      "                                                                                \r"
     ]
    }
   ],
   "source": [
    "# Displays the rows of column before and after the removal of punctuations. \n",
    "df_reviews.select(\"Review_lower\", \"Review_no_punct\").show(n=20, truncate=False)   "
   ]
  },
  {
   "cell_type": "markdown",
   "id": "74b1f1c5",
   "metadata": {},
   "source": [
    "- The previous line of code shows that the removal of puctuations was successful. However, it shows special characters like \\r\\n, which will be removed in the following step."
   ]
  },
  {
   "cell_type": "code",
   "execution_count": 37,
   "id": "e037c9f7",
   "metadata": {},
   "outputs": [],
   "source": [
    "# Removing \\r\\n.\n",
    "df_reviews = df_reviews.withColumn(\"Review_no_punct2\", regexp_replace(col(\"Review_no_punct\"), \"[\\r\\n]\", \"\"))"
   ]
  },
  {
   "cell_type": "code",
   "execution_count": 38,
   "id": "bf53c319",
   "metadata": {
    "collapsed": true
   },
   "outputs": [
    {
     "name": "stdout",
     "output_type": "stream",
     "text": [
      "+-------------------------------------------------------------------------------------------------------------------------------------------------------------------------------------------------------------------------------------------------------------------------------------------------------------------------------------------------------------------------------------------------------------------------------------------------------------------------------+-------------------------------------------------------------------------------------------------------------------------------------------------------------------------------------------------------------------------------------------------------------------------------------------------------------------------------------------------------------------------------------------------------------------------------------------------------------------+\n",
      "|Review_no_punct                                                                                                                                                                                                                                                                                                                                                                                                                                                                |Review_no_punct2                                                                                                                                                                                                                                                                                                                                                                                                                                                   |\n",
      "+-------------------------------------------------------------------------------------------------------------------------------------------------------------------------------------------------------------------------------------------------------------------------------------------------------------------------------------------------------------------------------------------------------------------------------------------------------------------------------+-------------------------------------------------------------------------------------------------------------------------------------------------------------------------------------------------------------------------------------------------------------------------------------------------------------------------------------------------------------------------------------------------------------------------------------------------------------------+\n",
      "|dear lord                                                                                                                                                                                                                                                                                                                                                                                                                                                                      |dear lord                                                                                                                                                                                                                                                                                                                                                                                                                                                          |\n",
      "|clearly        \\r\\n\\r\\n\\r\\na nine shot drink deserves at least five stars  stiff baby                                                                                                                                                                                                                                                                                                                                                                                          |clearly        a nine shot drink deserves at least five stars  stiff baby                                                                                                                                                                                                                                                                                                                                                                                          |\n",
      "|its a tasty dish                                                                                                                                                                                                                                                                                                                                                                                                                                                               |its a tasty dish                                                                                                                                                                                                                                                                                                                                                                                                                                                   |\n",
      "|needs more spice                                                                                                                                                                                                                                                                                                                                                                                                                                                               |needs more spice                                                                                                                                                                                                                                                                                                                                                                                                                                                   |\n",
      "|our family has enjoyed this recipe time and time again with great success favorite topping for this is to serve with chili grated cheese and onions the kids love it simply with catsup \\r\\neither way this dish is a major favorite of our family great also for the kids who are learning to cook                                                                                                                                                                            |our family has enjoyed this recipe time and time again with great success favorite topping for this is to serve with chili grated cheese and onions the kids love it simply with catsup either way this dish is a major favorite of our family great also for the kids who are learning to cook                                                                                                                                                                    |\n",
      "|this is a great quickeasytasy cheescake\\r\\nthe hardest thing about it is waiting for it to cool yum\\r\\n\\r\\njinx                                                                                                                                                                                                                                                                                                                                                                |this is a great quickeasytasy cheescakethe hardest thing about it is waiting for it to cool yumjinx                                                                                                                                                                                                                                                                                                                                                                |\n",
      "|she loved it                                                                                                                                                                                                                                                                                                                                                                                                                                                                   |she loved it                                                                                                                                                                                                                                                                                                                                                                                                                                                       |\n",
      "|wheres the nutmeg and the cinnamon                                                                                                                                                                                                                                                                                                                                                                                                                                             |wheres the nutmeg and the cinnamon                                                                                                                                                                                                                                                                                                                                                                                                                                 |\n",
      "|i ended up adapting this to make a kind of taco instead of baking it as enchiladas but we liked it quite a bit                                                                                                                                                                                                                                                                                                                                                                 |i ended up adapting this to make a kind of taco instead of baking it as enchiladas but we liked it quite a bit                                                                                                                                                                                                                                                                                                                                                     |\n",
      "|i served this recipe cherry cheese salad at our community dinner for  people it was a hit it is a wonderful refreshing salad it seems to come alive in your mouth when all the flavors hit the taste buds great recipe                                                                                                                                                                                                                                                         |i served this recipe cherry cheese salad at our community dinner for  people it was a hit it is a wonderful refreshing salad it seems to come alive in your mouth when all the flavors hit the taste buds great recipe                                                                                                                                                                                                                                             |\n",
      "|this taste great even my yr old loved it                                                                                                                                                                                                                                                                                                                                                                                                                                       |this taste great even my yr old loved it                                                                                                                                                                                                                                                                                                                                                                                                                           |\n",
      "|great recipe everyone loved ityoung  old\\r\\n  we used oz frozen can of pink lemonade instead of the pineaple juice                                                                                                                                                                                                                                                                                                                                                             |great recipe everyone loved ityoung  old  we used oz frozen can of pink lemonade instead of the pineaple juice                                                                                                                                                                                                                                                                                                                                                     |\n",
      "|i am always looking for things such as this to give as gift to friends and family i make an instant spice tea which was given to me by a very good friend years ago it has instant tea cinnimon tang instant lemonade cloves etc it is like the mocha cocoa mix my friends will enjoy this at christmas i will be putting it in small mason jars with a material cap tied off with ribbon and a small christmas wooden ornement\\r\\n\\r\\nthank you this will be great\\r\\ngrannymj|i am always looking for things such as this to give as gift to friends and family i make an instant spice tea which was given to me by a very good friend years ago it has instant tea cinnimon tang instant lemonade cloves etc it is like the mocha cocoa mix my friends will enjoy this at christmas i will be putting it in small mason jars with a material cap tied off with ribbon and a small christmas wooden ornementthank you this will be greatgrannymj|\n",
      "|ok                                                                                                                                                                                                                                                                                                                                                                                                                                                                             |ok                                                                                                                                                                                                                                                                                                                                                                                                                                                                 |\n",
      "|i loved this recipe very tasty and makes a great appy i will be making it for my new years party                                                                                                                                                                                                                                                                                                                                                                               |i loved this recipe very tasty and makes a great appy i will be making it for my new years party                                                                                                                                                                                                                                                                                                                                                                   |\n",
      "|these were incredibly easy and fast to make  they stored well in the refrigeratori brought them to my organizations holiday potluck on a nice paper plate  they all went quickly so there was no cleanup or any leftovers to take back home  psmy coworkers liked them                                                                                                                                                                                                         |these were incredibly easy and fast to make  they stored well in the refrigeratori brought them to my organizations holiday potluck on a nice paper plate  they all went quickly so there was no cleanup or any leftovers to take back home  psmy coworkers liked them                                                                                                                                                                                             |\n",
      "|this is the best eggnog i have ever had  its good with fatfree half  half too  the writer suggested jack daniels might be good in it but it is especially good with  cup of light rum preferably bacardi and  cup of crown royal  delicious                                                                                                                                                                                                                                    |this is the best eggnog i have ever had  its good with fatfree half  half too  the writer suggested jack daniels might be good in it but it is especially good with  cup of light rum preferably bacardi and  cup of crown royal  delicious                                                                                                                                                                                                                        |\n",
      "|absolutely delightful recipe rich and flavorful                                                                                                                                                                                                                                                                                                                                                                                                                                |absolutely delightful recipe rich and flavorful                                                                                                                                                                                                                                                                                                                                                                                                                    |\n",
      "|i have had a hashbrown casserole similar to this as well but never got the recipe  i am curious as how much sour cream should you put in then  thanks                                                                                                                                                                                                                                                                                                                          |i have had a hashbrown casserole similar to this as well but never got the recipe  i am curious as how much sour cream should you put in then  thanks                                                                                                                                                                                                                                                                                                              |\n",
      "|i havent tried it yet but when i do i will use cherry cola                                                                                                                                                                                                                                                                                                                                                                                                                     |i havent tried it yet but when i do i will use cherry cola                                                                                                                                                                                                                                                                                                                                                                                                         |\n",
      "+-------------------------------------------------------------------------------------------------------------------------------------------------------------------------------------------------------------------------------------------------------------------------------------------------------------------------------------------------------------------------------------------------------------------------------------------------------------------------------+-------------------------------------------------------------------------------------------------------------------------------------------------------------------------------------------------------------------------------------------------------------------------------------------------------------------------------------------------------------------------------------------------------------------------------------------------------------------+\n",
      "only showing top 20 rows\n",
      "\n"
     ]
    },
    {
     "name": "stderr",
     "output_type": "stream",
     "text": [
      "\r",
      "[Stage 55:>                                                         (0 + 1) / 1]\r",
      "\r",
      "                                                                                \r"
     ]
    }
   ],
   "source": [
    "# Checking the results of the last operation.\n",
    "df_reviews.select(\"Review_no_punct\", \"Review_no_punct2\").show(n=20, truncate=False)  "
   ]
  },
  {
   "cell_type": "markdown",
   "id": "4ff56cc6",
   "metadata": {},
   "source": [
    "- The last code showed that \\r\\n characters also were removed.  "
   ]
  },
  {
   "cell_type": "markdown",
   "id": "5922d785",
   "metadata": {},
   "source": [
    "Next step will separete the sentence into words (tokens)\n",
    "- The tokenizer provided by Keras has an additional feature which is possible to set the maximum number of words, however in the Spark enviroment this feature is not available. Therefore, a different approach to use a maximum range of vocabulary will be applied in later stage. "
   ]
  },
  {
   "cell_type": "markdown",
   "id": "c228c030",
   "metadata": {},
   "source": [
    "### Tokenizing all sets."
   ]
  },
  {
   "cell_type": "code",
   "execution_count": 39,
   "id": "89820227",
   "metadata": {},
   "outputs": [],
   "source": [
    "# Initialize a tokenizer\n",
    "tokenizer = Tokenizer(inputCol=\"Review_no_punct2\", outputCol=\"tokens\")\n",
    "\n",
    "# Tokenize X_train\n",
    "df_reviews = tokenizer.transform(df_reviews)"
   ]
  },
  {
   "cell_type": "markdown",
   "id": "8dfa6eb8",
   "metadata": {},
   "source": [
    "- There are pre processing steps that could have been called before tokenization, such as removal of stop words, however in the Spark environment the command only removes when its separeted. Therefore pre processing steps will be performed also after the tokenization. "
   ]
  },
  {
   "cell_type": "code",
   "execution_count": 40,
   "id": "7cfc1d90",
   "metadata": {},
   "outputs": [
    {
     "name": "stderr",
     "output_type": "stream",
     "text": [
      "                                                                                \r"
     ]
    },
    {
     "name": "stdout",
     "output_type": "stream",
     "text": [
      "+------+------+\n",
      "| words| count|\n",
      "+------+------+\n",
      "|      |329625|\n",
      "|     i|310998|\n",
      "|   the|304027|\n",
      "|   and|233968|\n",
      "|     a|180377|\n",
      "|    it|161278|\n",
      "|  this|141047|\n",
      "|    to|138130|\n",
      "|   for|131894|\n",
      "|    of|114211|\n",
      "|   was| 96108|\n",
      "|recipe| 79222|\n",
      "|    in| 65865|\n",
      "|  with| 63177|\n",
      "|    my| 62829|\n",
      "|    is| 58918|\n",
      "|    so| 56276|\n",
      "|  made| 55816|\n",
      "|  used| 49918|\n",
      "|   but| 47869|\n",
      "+------+------+\n",
      "only showing top 20 rows\n",
      "\n"
     ]
    }
   ],
   "source": [
    "# Explode the tokens column to have one token per row, group by words, and count their occurrences.\n",
    "word_counts_ordered = df_reviews.select(explode(\"tokens\").alias(\"words\")) \\\n",
    "    .groupBy(\"words\") \\\n",
    "    .agg(count(\"words\").alias(\"count\")) \\\n",
    "    .orderBy(desc(\"count\"))\n",
    "\n",
    "# Show the results.\n",
    "word_counts_ordered.show()"
   ]
  },
  {
   "cell_type": "markdown",
   "id": "a33b7907",
   "metadata": {},
   "source": [
    "- As shown in the previous cell that there are spaces being counted which does not have any meaning to the model. The removal of this character will be filtering out short tokens (less than 2), the reason for the number is that word like \"no\".\n",
    "\n",
    "Thus, the next two lines of code will filter out short tokens with lenght that are less than 2 characters, including the spaces. \n",
    "\n",
    "### Filter short tokens (less than 2)"
   ]
  },
  {
   "cell_type": "code",
   "execution_count": 42,
   "id": "6315d71d",
   "metadata": {},
   "outputs": [],
   "source": [
    "# UDF to filter out short tokens in all three sets.\n",
    "filter_short_udf = udf(lambda tokens: [token for token in tokens if len(token) > 1], ArrayType(StringType()))\n",
    "\n",
    "df_reviews = df_reviews.withColumn(\"filt_tokens\", filter_short_udf(df_reviews[\"tokens\"]))"
   ]
  },
  {
   "cell_type": "code",
   "execution_count": 43,
   "id": "56e17cd2",
   "metadata": {},
   "outputs": [
    {
     "name": "stderr",
     "output_type": "stream",
     "text": [
      "[Stage 59:=============================>                            (1 + 1) / 2]\r"
     ]
    },
    {
     "name": "stdout",
     "output_type": "stream",
     "text": [
      "+------+------+\n",
      "| words| count|\n",
      "+------+------+\n",
      "|   the|304027|\n",
      "|   and|233968|\n",
      "|    it|161278|\n",
      "|  this|141047|\n",
      "|    to|138130|\n",
      "|   for|131894|\n",
      "|    of|114211|\n",
      "|   was| 96108|\n",
      "|recipe| 79222|\n",
      "|    in| 65865|\n",
      "|  with| 63177|\n",
      "|    my| 62829|\n",
      "|    is| 58918|\n",
      "|    so| 56276|\n",
      "|  made| 55816|\n",
      "|  used| 49918|\n",
      "|   but| 47869|\n",
      "|  that| 41669|\n",
      "|  make| 39789|\n",
      "|thanks| 39697|\n",
      "+------+------+\n",
      "only showing top 20 rows\n",
      "\n"
     ]
    },
    {
     "name": "stderr",
     "output_type": "stream",
     "text": [
      "\r",
      "                                                                                \r"
     ]
    }
   ],
   "source": [
    "# Explode the tokens column to have one token per row, group by words, and count their occurrences.\n",
    "word_counts_ordered = df_reviews.select(explode(\"filt_tokens\").alias(\"words\")) \\\n",
    "    .groupBy(\"words\") \\\n",
    "    .agg(count(\"words\").alias(\"count\")) \\\n",
    "    .orderBy(desc(\"count\"))\n",
    "\n",
    "# Show the results.\n",
    "word_counts_ordered.show()"
   ]
  },
  {
   "cell_type": "markdown",
   "id": "89ec3b39",
   "metadata": {},
   "source": [
    "- Based on the results, spaces, letters such as i, a, are not present anymore. Thus, the operation of filtering the short tokens was successful.\n",
    "\n",
    "Next transformation to be called is to remove the stop words, a step that can be performed in early stages, although on Spark, setences has to be separeted by words. Thus this is why this step is being used now. "
   ]
  },
  {
   "cell_type": "markdown",
   "id": "d136c2e5",
   "metadata": {},
   "source": [
    "### Removing StopWords"
   ]
  },
  {
   "cell_type": "code",
   "execution_count": 44,
   "id": "ad0b817a",
   "metadata": {},
   "outputs": [],
   "source": [
    "# Defines the stopword remover.\n",
    "remover = StopWordsRemover(inputCol=\"filt_tokens\", outputCol=\"tokens_no_stopwords\")\n",
    "\n",
    "# Removes stopwords from the training dataset.\n",
    "df_reviews = remover.transform(df_reviews)"
   ]
  },
  {
   "cell_type": "markdown",
   "id": "86919e6c",
   "metadata": {},
   "source": [
    "- After some stages of pre processing (mainly transformations) the reviews, it could potentially create empty cells, for example a review with just punctuations or with just stopwords. Therefore, the following code will search for empty reviews in all three datasets. "
   ]
  },
  {
   "cell_type": "code",
   "execution_count": 45,
   "id": "f0f735ad",
   "metadata": {},
   "outputs": [
    {
     "name": "stderr",
     "output_type": "stream",
     "text": [
      "[Stage 62:=============================>                            (1 + 1) / 2]\r"
     ]
    },
    {
     "name": "stdout",
     "output_type": "stream",
     "text": [
      "Number of empty reviews in df_reviews: 31\n"
     ]
    },
    {
     "name": "stderr",
     "output_type": "stream",
     "text": [
      "\r",
      "                                                                                \r"
     ]
    }
   ],
   "source": [
    "# Counts the number of empty reviews.\n",
    "empty_count = df_reviews.filter(size(df_reviews[\"tokens_no_stopwords\"]) == 0).count()\n",
    "\n",
    "# Prints the results.\n",
    "print(f\"Number of empty reviews : {empty_count}\")"
   ]
  },
  {
   "cell_type": "markdown",
   "id": "e2de0f64",
   "metadata": {},
   "source": [
    "- The results of the last code shows that all the three sets now have a few empty cells, that might have been transformed to empty due to transformations. Therefore, the chosen option will be to drop the empty ones because it could potentially impact model efficiency."
   ]
  },
  {
   "cell_type": "code",
   "execution_count": 46,
   "id": "5b152b3e",
   "metadata": {
    "scrolled": false
   },
   "outputs": [],
   "source": [
    "# Filter out empty reviews in df_reviews\n",
    "df_reviews = df_reviews.filter(size(df_reviews[\"tokens_no_stopwords\"]) > 0)"
   ]
  },
  {
   "cell_type": "markdown",
   "id": "99b35c33",
   "metadata": {},
   "source": [
    "- For computational resources (time consuming), the maximum length of words (the vocabulary) is going to be taken from the train set only, by performing word count and frequency, along with visualization to help identify what is the number that represents the majority (at least 90%) of the words. "
   ]
  },
  {
   "cell_type": "code",
   "execution_count": 47,
   "id": "5f84e00e",
   "metadata": {},
   "outputs": [
    {
     "name": "stderr",
     "output_type": "stream",
     "text": [
      "\r",
      "[Stage 65:>                                                         (0 + 2) / 2]\r",
      "\r",
      "[Stage 65:=============================>                            (1 + 1) / 2]\r"
     ]
    },
    {
     "name": "stdout",
     "output_type": "stream",
     "text": [
      "Number of empty reviews : 0\n"
     ]
    },
    {
     "name": "stderr",
     "output_type": "stream",
     "text": [
      "\r",
      "                                                                                \r"
     ]
    }
   ],
   "source": [
    "# Counts the number of empty reviews.\n",
    "empty_count = df_reviews.filter(size(df_reviews[\"tokens_no_stopwords\"]) == 0).count()\n",
    "\n",
    "# Prints the results.\n",
    "print(f\"Number of empty reviews : {empty_count}\")"
   ]
  },
  {
   "cell_type": "markdown",
   "id": "c173efa5",
   "metadata": {},
   "source": [
    "The last code shows that there are no more emty reviews.\n",
    "- Lemmatization will be applied to handle words for example that are in the past, or with ing, but it has the same representation as the verb or noun."
   ]
  },
  {
   "cell_type": "code",
   "execution_count": 48,
   "id": "31457eb0",
   "metadata": {},
   "outputs": [],
   "source": [
    "from pyspark.sql.functions import pandas_udf\n",
    "from pyspark.sql.types import ArrayType, StringType\n",
    "import spacy\n",
    "\n",
    "# Loading spaCy model for Lemmatization.\n",
    "nlp = spacy.load(\"en_core_web_sm\", disable=[\"parser\", \"ner\", \"textcat\"])\n",
    "\n",
    "# Defines a Pandas UDF to perform lemmatization on a column of tokens.\n",
    "@pandas_udf(ArrayType(StringType()))\n",
    "def lemmatize_udf(tokens_series):\n",
    "    # Functions to lemmatize a list of tokens using spaCy.\n",
    "    def lemmatize(tokens):\n",
    "        doc = nlp(\" \".join(tokens))\n",
    "        return [token.lemma_ for token in doc]\n",
    "\n",
    "    # Appling the lemmatization function to each row in the input column.\n",
    "    return tokens_series.apply(lemmatize)\n",
    "\n",
    "# Appling the Pandas UDF to the DataFrame.\n",
    "df_reviews = df_reviews.withColumn(\"lemmatized_tokens\", lemmatize_udf(df_reviews[\"tokens_no_stopwords\"]))"
   ]
  },
  {
   "cell_type": "markdown",
   "id": "351ecec3",
   "metadata": {},
   "source": [
    "- After the stage of processing, the dataset will be split into three different sets, the training, validation and test in order to perform functions without causing any data leakage. \n",
    "- The ratio between classes observed a few steps back (i.e: Positives - above 93%), and because of this factor the stratified method will be aplied. When splitting the dataset into three, there is a chance of one of the sets do not get any values for neutral or/and negatives. "
   ]
  },
  {
   "cell_type": "code",
   "execution_count": 49,
   "id": "f9505410",
   "metadata": {},
   "outputs": [
    {
     "name": "stderr",
     "output_type": "stream",
     "text": [
      "                                                                                \r"
     ]
    }
   ],
   "source": [
    "# Defining fractions to split the dataset.\n",
    "train_fractions = {label: 0.6 for label in df_reviews.select(\"label\").distinct().rdd.flatMap(lambda x: x).collect()}\n",
    "\n",
    "# Creating a train set.\n",
    "df_train = df_reviews.sampleBy(\"label\", fractions=train_fractions, seed=42)"
   ]
  },
  {
   "cell_type": "code",
   "execution_count": 50,
   "id": "9b427743",
   "metadata": {},
   "outputs": [],
   "source": [
    "# Creates the 40% left set to be splitted between validation and test.\n",
    "remaining_df = df_reviews.subtract(df_train)"
   ]
  },
  {
   "cell_type": "code",
   "execution_count": 51,
   "id": "587421f9",
   "metadata": {},
   "outputs": [
    {
     "name": "stderr",
     "output_type": "stream",
     "text": [
      "                                                                                \r"
     ]
    }
   ],
   "source": [
    "# Defining fractions to split the dataset.\n",
    "valid_fractions = {label: 0.5 for label in df_reviews.select(\"label\").distinct().rdd.flatMap(lambda x: x).collect()}\n",
    "\n",
    "# Creates the validation set from the 40%, using its franction of \n",
    "df_valid = remaining_df.sampleBy(\"label\", fractions=valid_fractions, seed=42)"
   ]
  },
  {
   "cell_type": "code",
   "execution_count": 52,
   "id": "63b25b1b",
   "metadata": {},
   "outputs": [],
   "source": [
    "# Creating test df. \n",
    "df_test = remaining_df.subtract(df_valid)"
   ]
  },
  {
   "cell_type": "markdown",
   "id": "fdc109cd",
   "metadata": {},
   "source": [
    "- Due to memory reasons and performance, the maximum vocabulary will be determined by the train set and them the reviews will be filtered out based on the X number of words. "
   ]
  },
  {
   "cell_type": "code",
   "execution_count": 53,
   "id": "bbe1a405",
   "metadata": {
    "scrolled": false
   },
   "outputs": [
    {
     "name": "stderr",
     "output_type": "stream",
     "text": [
      "[Stage 74:=============================>                            (1 + 1) / 2]\r"
     ]
    },
    {
     "name": "stdout",
     "output_type": "stream",
     "text": [
      "Total distinct tokens in the Reviews: 50174\n"
     ]
    },
    {
     "name": "stderr",
     "output_type": "stream",
     "text": [
      "\r",
      "                                                                                \r"
     ]
    }
   ],
   "source": [
    "distinct_token_count = df_train.select(explode(col(\"lemmatized_tokens\")).alias(\"word\")).distinct().count()\n",
    "print(f\"Total distinct tokens in the Reviews: {distinct_token_count}\")"
   ]
  },
  {
   "cell_type": "code",
   "execution_count": 55,
   "id": "a2ebb3d6",
   "metadata": {},
   "outputs": [
    {
     "name": "stderr",
     "output_type": "stream",
     "text": [
      "[Stage 80:=============================>                            (1 + 1) / 2]\r"
     ]
    },
    {
     "name": "stdout",
     "output_type": "stream",
     "text": [
      "+---------+-----+\n",
      "|    words|count|\n",
      "+---------+-----+\n",
      "|     make|66256|\n",
      "|   recipe|50200|\n",
      "|      use|44867|\n",
      "|    thank|30750|\n",
      "|       nt|27755|\n",
      "|      add|26204|\n",
      "|     good|24463|\n",
      "|    great|21688|\n",
      "|     love|19833|\n",
      "|       do|19136|\n",
      "|     time|17832|\n",
      "|     like|17515|\n",
      "|     easy|16837|\n",
      "|   really|13516|\n",
      "|      one|12708|\n",
      "|    taste|12660|\n",
      "|     well|12018|\n",
      "|     also|11859|\n",
      "|delicious|11814|\n",
      "|   flavor|11294|\n",
      "+---------+-----+\n",
      "only showing top 20 rows\n",
      "\n"
     ]
    },
    {
     "name": "stderr",
     "output_type": "stream",
     "text": [
      "\r",
      "                                                                                \r"
     ]
    }
   ],
   "source": [
    "# It \"explodes\" the tokens column to have one token per row.\n",
    "df_train_exploded = df_train.select(explode(\"lemmatized_tokens\").alias(\"words\"))\n",
    "\n",
    "# Groups individual by tokens and count their occurrences.\n",
    "word_counts = df_train_exploded.groupBy(\"words\").agg(count(\"words\").alias(\"count\"))\n",
    "\n",
    "# Orders by count in descending order to see most frequent words at the top.\n",
    "word_counts_ordered = word_counts.orderBy(desc(\"count\"))\n",
    "\n",
    "# Show the results.\n",
    "word_counts_ordered.show()"
   ]
  },
  {
   "cell_type": "code",
   "execution_count": 56,
   "id": "81cf7d06",
   "metadata": {},
   "outputs": [
    {
     "name": "stderr",
     "output_type": "stream",
     "text": [
      "                                                                                \r"
     ]
    },
    {
     "data": {
      "image/png": "[encoded data removed]",
      "text/plain": [
       "<Figure size 720x432 with 1 Axes>"
      ]
     },
     "metadata": {},
     "output_type": "display_data"
    }
   ],
   "source": [
    "# Convert the word counts to pandas dataframe for visualization\n",
    "word_counts_ordered_pd = word_counts_ordered.toPandas()\n",
    "\n",
    "# 2. Compute the cumulative sum of the word frequencies\n",
    "word_counts_ordered_pd['cumulative_freq'] = word_counts_ordered_pd['count'].cumsum()\n",
    "word_counts_ordered_pd['cumulative_freq'] /= word_counts_ordered_pd['count'].sum()  # normalizes to get the CDF\n",
    "\n",
    "# 3. Plot the CDF\n",
    "plt.figure(figsize=(10, 6))\n",
    "plt.plot(word_counts_ordered_pd['cumulative_freq'], marker='.', linestyle='none')\n",
    "plt.xlabel('Word Rank')\n",
    "plt.xlim(0, 20000)\n",
    "plt.ylabel('CDF')\n",
    "plt.title('CDF of Word Frequencies')\n",
    "plt.grid(True)\n",
    "plt.show()"
   ]
  },
  {
   "cell_type": "code",
   "execution_count": 57,
   "id": "427b7404",
   "metadata": {},
   "outputs": [
    {
     "name": "stderr",
     "output_type": "stream",
     "text": [
      "                                                                                \r"
     ]
    },
    {
     "name": "stdout",
     "output_type": "stream",
     "text": [
      "Total word occurrences: 2125961\n",
      "Occurrences of top 15000 words: 2087736\n",
      "Coverage of top 15000 words: 98.20%\n"
     ]
    }
   ],
   "source": [
    "# Compute total word occurrences\n",
    "total_word_occurrences = word_counts_ordered.agg({\"count\": \"sum\"}).collect()[0][0]\n",
    "\n",
    "# Compute occurrences of top N words\n",
    "N = 15000\n",
    "top_N_word_occurrences = word_counts_ordered.limit(N).agg({\"count\": \"sum\"}).collect()[0][0]\n",
    "\n",
    "# Compute the coverage\n",
    "coverage = (top_N_word_occurrences / total_word_occurrences) * 100\n",
    "\n",
    "print(\"Total word occurrences:\", total_word_occurrences)\n",
    "print(f\"Occurrences of top {N} words:\", top_N_word_occurrences)\n",
    "print(f\"Coverage of top {N} words: {coverage:.2f}%\")"
   ]
  },
  {
   "cell_type": "markdown",
   "id": "5ed2d9ed",
   "metadata": {},
   "source": [
    "- Looking at the last codes and the CDF plot shows that the 15000 words is above 0.9. In addition the to the next code which tells that it covers 98.20%. Thus, a range of vocabulary will be set to N(15000) tokens (based on train set), and them filter the reviews to have tokens, which are in the range of (N). "
   ]
  },
  {
   "cell_type": "code",
   "execution_count": 58,
   "id": "47c3bf23",
   "metadata": {},
   "outputs": [
    {
     "name": "stderr",
     "output_type": "stream",
     "text": [
      "                                                                                \r"
     ]
    },
    {
     "ename": "NameError",
     "evalue": "name 'df_val' is not defined",
     "output_type": "error",
     "traceback": [
      "\u001b[0;31m---------------------------------------------------------------------------\u001b[0m",
      "\u001b[0;31mNameError\u001b[0m                                 Traceback (most recent call last)",
      "\u001b[0;32m/tmp/ipykernel_56380/2346655052.py\u001b[0m in \u001b[0;36m<module>\u001b[0;34m\u001b[0m\n\u001b[1;32m     15\u001b[0m \u001b[0;31m# Apply the UDF to the tokenized column in all three datasets:\u001b[0m\u001b[0;34m\u001b[0m\u001b[0;34m\u001b[0m\u001b[0m\n\u001b[1;32m     16\u001b[0m \u001b[0mdf_train\u001b[0m \u001b[0;34m=\u001b[0m \u001b[0mdf_train\u001b[0m\u001b[0;34m.\u001b[0m\u001b[0mwithColumn\u001b[0m\u001b[0;34m(\u001b[0m\u001b[0;34m\"filtered_tokens\"\u001b[0m\u001b[0;34m,\u001b[0m \u001b[0mfilter_udf\u001b[0m\u001b[0;34m(\u001b[0m\u001b[0mdf_train\u001b[0m\u001b[0;34m[\u001b[0m\u001b[0;34m\"lemmatized_tokens\"\u001b[0m\u001b[0;34m]\u001b[0m\u001b[0;34m)\u001b[0m\u001b[0;34m)\u001b[0m\u001b[0;34m\u001b[0m\u001b[0;34m\u001b[0m\u001b[0m\n\u001b[0;32m---> 17\u001b[0;31m \u001b[0mdf_valid\u001b[0m \u001b[0;34m=\u001b[0m \u001b[0mdf_val\u001b[0m\u001b[0;34m.\u001b[0m\u001b[0mwithColumn\u001b[0m\u001b[0;34m(\u001b[0m\u001b[0;34m\"filtered_tokens\"\u001b[0m\u001b[0;34m,\u001b[0m \u001b[0mfilter_udf\u001b[0m\u001b[0;34m(\u001b[0m\u001b[0mdf_valid\u001b[0m\u001b[0;34m[\u001b[0m\u001b[0;34m\"lemmatized_tokens\"\u001b[0m\u001b[0;34m]\u001b[0m\u001b[0;34m)\u001b[0m\u001b[0;34m)\u001b[0m\u001b[0;34m\u001b[0m\u001b[0;34m\u001b[0m\u001b[0m\n\u001b[0m\u001b[1;32m     18\u001b[0m \u001b[0mdf_test\u001b[0m \u001b[0;34m=\u001b[0m \u001b[0mdf_test\u001b[0m\u001b[0;34m.\u001b[0m\u001b[0mwithColumn\u001b[0m\u001b[0;34m(\u001b[0m\u001b[0;34m\"filtered_tokens\"\u001b[0m\u001b[0;34m,\u001b[0m \u001b[0mfilter_udf\u001b[0m\u001b[0;34m(\u001b[0m\u001b[0mdf_test\u001b[0m\u001b[0;34m[\u001b[0m\u001b[0;34m\"lemmatized_tokens\"\u001b[0m\u001b[0;34m]\u001b[0m\u001b[0;34m)\u001b[0m\u001b[0;34m)\u001b[0m\u001b[0;34m\u001b[0m\u001b[0;34m\u001b[0m\u001b[0m\n",
      "\u001b[0;31mNameError\u001b[0m: name 'df_val' is not defined"
     ]
    }
   ],
   "source": [
    "# Gets the top N tokens\n",
    "N = 15000\n",
    "top_N_tokens = word_counts_ordered.limit(N).select(\"words\").rdd.flatMap(lambda x: x).collect()\n",
    "\n",
    "# Broadcasting the top tokens list for efficient filtering\n",
    "top_tokens_broadcast = spark.sparkContext.broadcast(set(top_N_tokens))\n",
    "\n",
    "# Defines a filtering function that retains only those tokens present in our broadcasted top tokens set\n",
    "def filter_native(tokens):\n",
    "    return [t for t in tokens if t in top_tokens_broadcast.value]\n",
    "\n",
    "# Defining UDF for our function\n",
    "filter_udf = udf(filter_native, ArrayType(StringType()))\n",
    "\n",
    "# Apply the UDF to the tokenized column in all three datasets:\n",
    "df_train = df_train.withColumn(\"filtered_tokens\", filter_udf(df_train[\"lemmatized_tokens\"]))\n",
    "df_valid = df_valid.withColumn(\"filtered_tokens\", filter_udf(df_valid[\"lemmatized_tokens\"]))\n",
    "df_test = df_test.withColumn(\"filtered_tokens\", filter_udf(df_test[\"lemmatized_tokens\"]))"
   ]
  },
  {
   "cell_type": "code",
   "execution_count": null,
   "id": "9532a808",
   "metadata": {},
   "outputs": [],
   "source": [
    "distinct_token_count = (df_train\n",
    "                        .select(explode(col(\"filtered_tokens\")).alias(\"word\"))\n",
    "                        .distinct()\n",
    "                        .count())\n",
    "\n",
    "print(f\"Total distinct tokens in the training set (reviews): {distinct_token_count}\")"
   ]
  },
  {
   "cell_type": "markdown",
   "id": "afaa45c5",
   "metadata": {},
   "source": [
    "Next it will transform into vectors and the chosen tool is the Word2Vec, with the size of 100 and a minimum count of 5 (it has to pop up at leat 5 times). The Word2Vec model will follow three steps, first will set its configurations, second model will ve trained on the train set, and third will be applied (transform) on all three sets."
   ]
  },
  {
   "cell_type": "markdown",
   "id": "96e59a61",
   "metadata": {},
   "source": [
    "<b>- The imbalance between the positive classes are enourmous considering the others, and this potenlially could add bias into the sentiment analysis. To mitigate this issue there are some options available which will be attempt in a later stage. </b> NOT SURE!!!!!!!!!!!!\n",
    "<br>\n",
    "However, the ratio between the classes have changed:\n",
    "- The positive class increased from 88.54 to 93.64;\n",
    "- The neutral class increased from 3.59 to 3.81;\n",
    "- The negative class decreased from 7.86 to 2.55%"
   ]
  },
  {
   "cell_type": "code",
   "execution_count": 60,
   "id": "4c358356",
   "metadata": {
    "collapsed": true
   },
   "outputs": [
    {
     "ename": "IllegalArgumentException",
     "evalue": "requirement failed: Output column label_index already exists.",
     "output_type": "error",
     "traceback": [
      "\u001b[0;31m---------------------------------------------------------------------------\u001b[0m",
      "\u001b[0;31mIllegalArgumentException\u001b[0m                  Traceback (most recent call last)",
      "\u001b[0;32m/tmp/ipykernel_56380/3361850517.py\u001b[0m in \u001b[0;36m<module>\u001b[0;34m\u001b[0m\n\u001b[1;32m     12\u001b[0m \u001b[0;34m\u001b[0m\u001b[0m\n\u001b[1;32m     13\u001b[0m \u001b[0;31m# Fit and transform the training data\u001b[0m\u001b[0;34m\u001b[0m\u001b[0;34m\u001b[0m\u001b[0m\n\u001b[0;32m---> 14\u001b[0;31m \u001b[0mlabel_model\u001b[0m \u001b[0;34m=\u001b[0m \u001b[0mlabel_pipeline\u001b[0m\u001b[0;34m.\u001b[0m\u001b[0mfit\u001b[0m\u001b[0;34m(\u001b[0m\u001b[0mdf_train\u001b[0m\u001b[0;34m)\u001b[0m\u001b[0;34m\u001b[0m\u001b[0;34m\u001b[0m\u001b[0m\n\u001b[0m\u001b[1;32m     15\u001b[0m \u001b[0mdf_train\u001b[0m \u001b[0;34m=\u001b[0m \u001b[0mlabel_model\u001b[0m\u001b[0;34m.\u001b[0m\u001b[0mtransform\u001b[0m\u001b[0;34m(\u001b[0m\u001b[0mdf_train\u001b[0m\u001b[0;34m)\u001b[0m\u001b[0;34m\u001b[0m\u001b[0;34m\u001b[0m\u001b[0m\n\u001b[1;32m     16\u001b[0m \u001b[0;34m\u001b[0m\u001b[0m\n",
      "\u001b[0;32m/usr/local/spark/python/pyspark/ml/base.py\u001b[0m in \u001b[0;36mfit\u001b[0;34m(self, dataset, params)\u001b[0m\n\u001b[1;32m    159\u001b[0m                 \u001b[0;32mreturn\u001b[0m \u001b[0mself\u001b[0m\u001b[0;34m.\u001b[0m\u001b[0mcopy\u001b[0m\u001b[0;34m(\u001b[0m\u001b[0mparams\u001b[0m\u001b[0;34m)\u001b[0m\u001b[0;34m.\u001b[0m\u001b[0m_fit\u001b[0m\u001b[0;34m(\u001b[0m\u001b[0mdataset\u001b[0m\u001b[0;34m)\u001b[0m\u001b[0;34m\u001b[0m\u001b[0;34m\u001b[0m\u001b[0m\n\u001b[1;32m    160\u001b[0m             \u001b[0;32melse\u001b[0m\u001b[0;34m:\u001b[0m\u001b[0;34m\u001b[0m\u001b[0;34m\u001b[0m\u001b[0m\n\u001b[0;32m--> 161\u001b[0;31m                 \u001b[0;32mreturn\u001b[0m \u001b[0mself\u001b[0m\u001b[0;34m.\u001b[0m\u001b[0m_fit\u001b[0m\u001b[0;34m(\u001b[0m\u001b[0mdataset\u001b[0m\u001b[0;34m)\u001b[0m\u001b[0;34m\u001b[0m\u001b[0;34m\u001b[0m\u001b[0m\n\u001b[0m\u001b[1;32m    162\u001b[0m         \u001b[0;32melse\u001b[0m\u001b[0;34m:\u001b[0m\u001b[0;34m\u001b[0m\u001b[0;34m\u001b[0m\u001b[0m\n\u001b[1;32m    163\u001b[0m             raise TypeError(\"Params must be either a param map or a list/tuple of param maps, \"\n",
      "\u001b[0;32m/usr/local/spark/python/pyspark/ml/pipeline.py\u001b[0m in \u001b[0;36m_fit\u001b[0;34m(self, dataset)\u001b[0m\n\u001b[1;32m    112\u001b[0m                     \u001b[0mdataset\u001b[0m \u001b[0;34m=\u001b[0m \u001b[0mstage\u001b[0m\u001b[0;34m.\u001b[0m\u001b[0mtransform\u001b[0m\u001b[0;34m(\u001b[0m\u001b[0mdataset\u001b[0m\u001b[0;34m)\u001b[0m\u001b[0;34m\u001b[0m\u001b[0;34m\u001b[0m\u001b[0m\n\u001b[1;32m    113\u001b[0m                 \u001b[0;32melse\u001b[0m\u001b[0;34m:\u001b[0m  \u001b[0;31m# must be an Estimator\u001b[0m\u001b[0;34m\u001b[0m\u001b[0;34m\u001b[0m\u001b[0m\n\u001b[0;32m--> 114\u001b[0;31m                     \u001b[0mmodel\u001b[0m \u001b[0;34m=\u001b[0m \u001b[0mstage\u001b[0m\u001b[0;34m.\u001b[0m\u001b[0mfit\u001b[0m\u001b[0;34m(\u001b[0m\u001b[0mdataset\u001b[0m\u001b[0;34m)\u001b[0m\u001b[0;34m\u001b[0m\u001b[0;34m\u001b[0m\u001b[0m\n\u001b[0m\u001b[1;32m    115\u001b[0m                     \u001b[0mtransformers\u001b[0m\u001b[0;34m.\u001b[0m\u001b[0mappend\u001b[0m\u001b[0;34m(\u001b[0m\u001b[0mmodel\u001b[0m\u001b[0;34m)\u001b[0m\u001b[0;34m\u001b[0m\u001b[0;34m\u001b[0m\u001b[0m\n\u001b[1;32m    116\u001b[0m                     \u001b[0;32mif\u001b[0m \u001b[0mi\u001b[0m \u001b[0;34m<\u001b[0m \u001b[0mindexOfLastEstimator\u001b[0m\u001b[0;34m:\u001b[0m\u001b[0;34m\u001b[0m\u001b[0;34m\u001b[0m\u001b[0m\n",
      "\u001b[0;32m/usr/local/spark/python/pyspark/ml/base.py\u001b[0m in \u001b[0;36mfit\u001b[0;34m(self, dataset, params)\u001b[0m\n\u001b[1;32m    159\u001b[0m                 \u001b[0;32mreturn\u001b[0m \u001b[0mself\u001b[0m\u001b[0;34m.\u001b[0m\u001b[0mcopy\u001b[0m\u001b[0;34m(\u001b[0m\u001b[0mparams\u001b[0m\u001b[0;34m)\u001b[0m\u001b[0;34m.\u001b[0m\u001b[0m_fit\u001b[0m\u001b[0;34m(\u001b[0m\u001b[0mdataset\u001b[0m\u001b[0;34m)\u001b[0m\u001b[0;34m\u001b[0m\u001b[0;34m\u001b[0m\u001b[0m\n\u001b[1;32m    160\u001b[0m             \u001b[0;32melse\u001b[0m\u001b[0;34m:\u001b[0m\u001b[0;34m\u001b[0m\u001b[0;34m\u001b[0m\u001b[0m\n\u001b[0;32m--> 161\u001b[0;31m                 \u001b[0;32mreturn\u001b[0m \u001b[0mself\u001b[0m\u001b[0;34m.\u001b[0m\u001b[0m_fit\u001b[0m\u001b[0;34m(\u001b[0m\u001b[0mdataset\u001b[0m\u001b[0;34m)\u001b[0m\u001b[0;34m\u001b[0m\u001b[0;34m\u001b[0m\u001b[0m\n\u001b[0m\u001b[1;32m    162\u001b[0m         \u001b[0;32melse\u001b[0m\u001b[0;34m:\u001b[0m\u001b[0;34m\u001b[0m\u001b[0;34m\u001b[0m\u001b[0m\n\u001b[1;32m    163\u001b[0m             raise TypeError(\"Params must be either a param map or a list/tuple of param maps, \"\n",
      "\u001b[0;32m/usr/local/spark/python/pyspark/ml/wrapper.py\u001b[0m in \u001b[0;36m_fit\u001b[0;34m(self, dataset)\u001b[0m\n\u001b[1;32m    337\u001b[0m \u001b[0;34m\u001b[0m\u001b[0m\n\u001b[1;32m    338\u001b[0m     \u001b[0;32mdef\u001b[0m \u001b[0m_fit\u001b[0m\u001b[0;34m(\u001b[0m\u001b[0mself\u001b[0m\u001b[0;34m,\u001b[0m \u001b[0mdataset\u001b[0m\u001b[0;34m)\u001b[0m\u001b[0;34m:\u001b[0m\u001b[0;34m\u001b[0m\u001b[0;34m\u001b[0m\u001b[0m\n\u001b[0;32m--> 339\u001b[0;31m         \u001b[0mjava_model\u001b[0m \u001b[0;34m=\u001b[0m \u001b[0mself\u001b[0m\u001b[0;34m.\u001b[0m\u001b[0m_fit_java\u001b[0m\u001b[0;34m(\u001b[0m\u001b[0mdataset\u001b[0m\u001b[0;34m)\u001b[0m\u001b[0;34m\u001b[0m\u001b[0;34m\u001b[0m\u001b[0m\n\u001b[0m\u001b[1;32m    340\u001b[0m         \u001b[0mmodel\u001b[0m \u001b[0;34m=\u001b[0m \u001b[0mself\u001b[0m\u001b[0;34m.\u001b[0m\u001b[0m_create_model\u001b[0m\u001b[0;34m(\u001b[0m\u001b[0mjava_model\u001b[0m\u001b[0;34m)\u001b[0m\u001b[0;34m\u001b[0m\u001b[0;34m\u001b[0m\u001b[0m\n\u001b[1;32m    341\u001b[0m         \u001b[0;32mreturn\u001b[0m \u001b[0mself\u001b[0m\u001b[0;34m.\u001b[0m\u001b[0m_copyValues\u001b[0m\u001b[0;34m(\u001b[0m\u001b[0mmodel\u001b[0m\u001b[0;34m)\u001b[0m\u001b[0;34m\u001b[0m\u001b[0;34m\u001b[0m\u001b[0m\n",
      "\u001b[0;32m/usr/local/spark/python/pyspark/ml/wrapper.py\u001b[0m in \u001b[0;36m_fit_java\u001b[0;34m(self, dataset)\u001b[0m\n\u001b[1;32m    334\u001b[0m         \"\"\"\n\u001b[1;32m    335\u001b[0m         \u001b[0mself\u001b[0m\u001b[0;34m.\u001b[0m\u001b[0m_transfer_params_to_java\u001b[0m\u001b[0;34m(\u001b[0m\u001b[0;34m)\u001b[0m\u001b[0;34m\u001b[0m\u001b[0;34m\u001b[0m\u001b[0m\n\u001b[0;32m--> 336\u001b[0;31m         \u001b[0;32mreturn\u001b[0m \u001b[0mself\u001b[0m\u001b[0;34m.\u001b[0m\u001b[0m_java_obj\u001b[0m\u001b[0;34m.\u001b[0m\u001b[0mfit\u001b[0m\u001b[0;34m(\u001b[0m\u001b[0mdataset\u001b[0m\u001b[0;34m.\u001b[0m\u001b[0m_jdf\u001b[0m\u001b[0;34m)\u001b[0m\u001b[0;34m\u001b[0m\u001b[0;34m\u001b[0m\u001b[0m\n\u001b[0m\u001b[1;32m    337\u001b[0m \u001b[0;34m\u001b[0m\u001b[0m\n\u001b[1;32m    338\u001b[0m     \u001b[0;32mdef\u001b[0m \u001b[0m_fit\u001b[0m\u001b[0;34m(\u001b[0m\u001b[0mself\u001b[0m\u001b[0;34m,\u001b[0m \u001b[0mdataset\u001b[0m\u001b[0;34m)\u001b[0m\u001b[0;34m:\u001b[0m\u001b[0;34m\u001b[0m\u001b[0;34m\u001b[0m\u001b[0m\n",
      "\u001b[0;32m/usr/local/spark/python/lib/py4j-0.10.9.5-src.zip/py4j/java_gateway.py\u001b[0m in \u001b[0;36m__call__\u001b[0;34m(self, *args)\u001b[0m\n\u001b[1;32m   1319\u001b[0m \u001b[0;34m\u001b[0m\u001b[0m\n\u001b[1;32m   1320\u001b[0m         \u001b[0manswer\u001b[0m \u001b[0;34m=\u001b[0m \u001b[0mself\u001b[0m\u001b[0;34m.\u001b[0m\u001b[0mgateway_client\u001b[0m\u001b[0;34m.\u001b[0m\u001b[0msend_command\u001b[0m\u001b[0;34m(\u001b[0m\u001b[0mcommand\u001b[0m\u001b[0;34m)\u001b[0m\u001b[0;34m\u001b[0m\u001b[0;34m\u001b[0m\u001b[0m\n\u001b[0;32m-> 1321\u001b[0;31m         return_value = get_return_value(\n\u001b[0m\u001b[1;32m   1322\u001b[0m             answer, self.gateway_client, self.target_id, self.name)\n\u001b[1;32m   1323\u001b[0m \u001b[0;34m\u001b[0m\u001b[0m\n",
      "\u001b[0;32m/usr/local/spark/python/pyspark/sql/utils.py\u001b[0m in \u001b[0;36mdeco\u001b[0;34m(*a, **kw)\u001b[0m\n\u001b[1;32m    115\u001b[0m                 \u001b[0;31m# Hide where the exception came from that shows a non-Pythonic\u001b[0m\u001b[0;34m\u001b[0m\u001b[0;34m\u001b[0m\u001b[0m\n\u001b[1;32m    116\u001b[0m                 \u001b[0;31m# JVM exception message.\u001b[0m\u001b[0;34m\u001b[0m\u001b[0;34m\u001b[0m\u001b[0m\n\u001b[0;32m--> 117\u001b[0;31m                 \u001b[0;32mraise\u001b[0m \u001b[0mconverted\u001b[0m \u001b[0;32mfrom\u001b[0m \u001b[0;32mNone\u001b[0m\u001b[0;34m\u001b[0m\u001b[0;34m\u001b[0m\u001b[0m\n\u001b[0m\u001b[1;32m    118\u001b[0m             \u001b[0;32melse\u001b[0m\u001b[0;34m:\u001b[0m\u001b[0;34m\u001b[0m\u001b[0;34m\u001b[0m\u001b[0m\n\u001b[1;32m    119\u001b[0m                 \u001b[0;32mraise\u001b[0m\u001b[0;34m\u001b[0m\u001b[0;34m\u001b[0m\u001b[0m\n",
      "\u001b[0;31mIllegalArgumentException\u001b[0m: requirement failed: Output column label_index already exists."
     ]
    }
   ],
   "source": [
    "from pyspark.ml.feature import StringIndexer, OneHotEncoder\n",
    "from pyspark.ml import Pipeline\n",
    "\n",
    "# StringIndexer to convert labels to numerical values\n",
    "label_indexer = StringIndexer(inputCol=\"label\", outputCol=\"label_index\")\n",
    "\n",
    "# OneHotEncoder to convert numerical values to one-hot encoded vectors\n",
    "label_encoder = OneHotEncoder(inputCol=\"label_index\", outputCol=\"label_encoded\")\n",
    "\n",
    "# Create a pipeline to execute both operations\n",
    "label_pipeline = Pipeline(stages=[label_indexer, label_encoder])\n",
    "\n",
    "# Fit and transform the training data\n",
    "label_model = label_pipeline.fit(df_train)\n",
    "df_train = label_model.transform(df_train)\n",
    "\n",
    "# Transform the validation and test data using the same model\n",
    "df_valid = label_model.transform(df_valid)\n",
    "df_test = label_model.transform(df_test)"
   ]
  },
  {
   "cell_type": "markdown",
   "id": "4155c579",
   "metadata": {},
   "source": [
    "### 4. Feature Engineering (Word2Vec and Padding)\n",
    "\n",
    "In this stage feature engineering steps will be applied to the sets."
   ]
  },
  {
   "cell_type": "code",
   "execution_count": null,
   "id": "ce14e49f",
   "metadata": {},
   "outputs": [
    {
     "name": "stderr",
     "output_type": "stream",
     "text": [
      "[Stage 108:============================>                            (1 + 1) / 2]\r"
     ]
    }
   ],
   "source": [
    "# Step 1: Define the Word2Vec model.\n",
    "word2Vec = Word2Vec(vectorSize=100, minCount=5, inputCol=\"lemmatized_tokens\", outputCol=\"Review_Vec\")\n",
    "\n",
    "# Step 2: Train the Word2Vec model on the training set.\n",
    "model = word2Vec.fit(df_train)"
   ]
  },
  {
   "cell_type": "code",
   "execution_count": null,
   "id": "e00b3894",
   "metadata": {},
   "outputs": [],
   "source": [
    "# Step 3: Use the trained model to transform all datasets.\n",
    "df_train = model.transform(df_train)\n",
    "df_valid = model.transform(df_valid)\n",
    "df_test = model.transform(df_test)"
   ]
  },
  {
   "cell_type": "markdown",
   "id": "82bd62eb",
   "metadata": {},
   "source": [
    "- After the vectorizing stage, the following stage is the padding, but first the maximum legth of vectors has to be defined. "
   ]
  },
  {
   "cell_type": "code",
   "execution_count": null,
   "id": "aab67a5e",
   "metadata": {},
   "outputs": [],
   "source": [
    "# Creating a funtion .\n",
    "def vector_length(vector):\n",
    "    return len(vector)\n",
    "\n",
    "length_udf = udf(vector_length, IntegerType())\n",
    "\n",
    "df_train = df_train.withColumn(\"sequence_length\", length_udf(col(\"Review_Vec\")))"
   ]
  },
  {
   "cell_type": "code",
   "execution_count": null,
   "id": "9148b056",
   "metadata": {
    "scrolled": true
   },
   "outputs": [],
   "source": [
    "# Calculate mean and standard deviation\n",
    "df_train_trans.describe(\"sequence_length\").show()\n",
    "\n",
    "# Commented, it takes took long to run.\n",
    "# Compute maximum sequence length\n",
    "# max_length = df_train_trans.agg(max_(\"sequence_length\")).collect()[0][0]\n",
    "# print(f\"Maximum Sequence Length: {max_length}\")\n"
   ]
  },
  {
   "cell_type": "markdown",
   "id": "06e1f067",
   "metadata": {},
   "source": [
    "- The maximum length of  token to be used in the padding stage 476. "
   ]
  },
  {
   "cell_type": "code",
   "execution_count": null,
   "id": "297fee73",
   "metadata": {},
   "outputs": [],
   "source": [
    "df_train.columns"
   ]
  },
  {
   "cell_type": "code",
   "execution_count": null,
   "id": "ab6b841d",
   "metadata": {},
   "outputs": [],
   "source": [
    "df_train_pd = df_train.select(\"Review_Vec\",\"label_encoded\").toPandas()\n",
    "df_val_pd = df_val.select(\"Review_Vec\",\"label_encoded\").toPandas()\n",
    "df_test_pd = df_test.select(\"Review_Vec\",\"label_encoded\").toPandas()"
   ]
  },
  {
   "cell_type": "code",
   "execution_count": null,
   "id": "9aeb28d5",
   "metadata": {},
   "outputs": [],
   "source": [
    "df_train_np = df_train_pd.values\n",
    "df_val_np = df_val_pd.values\n",
    "df_test_np = df_test_pd.values"
   ]
  },
  {
   "cell_type": "markdown",
   "id": "20088413",
   "metadata": {},
   "source": [
    "# Separate out different classes from the training dataset\n",
    "positives = X_train_trans.filter(col(\"label\") == 'positive')\n",
    "negatives = X_train_trans.filter(col(\"label\") == 'negative')\n",
    "neutrals = X_train_trans.filter(col(\"label\") == 'neutral')\n",
    "\n",
    "# Define oversampling factors\n",
    "negative_oversample_factor = 2.0  # Double the negative samples\n",
    "neutral_oversample_factor = 1.5   # 1.5 times the neutral samples\n",
    "\n",
    "oversampled_negatives = negatives.sample(withReplacement=True, fraction=negative_oversample_factor)\n",
    "oversampled_neutrals = neutrals.sample(withReplacement=True, fraction=neutral_oversample_factor)\n",
    "\n",
    "# Undersample the majority class\n",
    "undersample_factor = 0.25  # Reducing by 25%\n",
    "undersampled_positives = positives.sample(withReplacement=False, fraction=undersample_factor)\n",
    "\n",
    "# Combine the samples back\n",
    "bal_X_train = undersampled_positives.unionAll(oversampled_negatives).unionAll(oversampled_neutrals)\n",
    "\n",
    "# Calculate class weights for the balanced dataset\n",
    "total_count = bal_X_train.count()\n",
    "positive_weight = total_count / undersampled_positives.count()\n",
    "negative_weight = total_count / (negatives.count() * negative_oversample_factor)\n",
    "neutral_weight = total_count / (neutrals.count() * neutral_oversample_factor)\n",
    "\n",
    "# Normalize weights\n",
    "normalizing_factor = positive_weight + negative_weight + neutral_weight\n",
    "positive_weight /= normalizing_factor\n",
    "negative_weight /= normalizing_factor\n",
    "neutral_weight /= normalizing_factor\n",
    "\n",
    "class_weights = {\n",
    "    'positive': positive_weight,\n",
    "    'negative': negative_weight,\n",
    "    'neutral': neutral_weight}"
   ]
  },
  {
   "cell_type": "markdown",
   "id": "365a3da0",
   "metadata": {},
   "source": [
    "# Count instances for each class\n",
    "positives = bal_X_train.filter(col(\"label\") == 'positive').count()\n",
    "negatives = bal_X_train.filter(col(\"label\") == 'negative').count()\n",
    "neutrals = bal_X_train.filter(col(\"label\") == 'neutral').count()\n",
    "\n",
    "total_count = positives + negatives + neutrals\n",
    "\n",
    "# Calculate proportions for each class\n",
    "positive_ratio = (positives / total_count) * 100\n",
    "negative_ratio = (negatives / total_count) * 100\n",
    "neutral_ratio = (neutrals / total_count) * 100\n",
    "\n",
    "print(f\"Rating Class Positives (4-5): {positive_ratio:.2f}%\")\n",
    "print(f\"Rating Class Negatives (1-2): {negative_ratio:.2f}%\")\n",
    "print(f\"Rating Class Neutral (3): {neutral_ratio:.2f}%\")\n"
   ]
  },
  {
   "cell_type": "markdown",
   "id": "72a19f64",
   "metadata": {},
   "source": [
    "As observed in previous cells, the gap ratio between the classes are large. Therefore, a few techniques will be combined to reduce the imbalaced between positive (93.63%), negative (2.58%) and neutral (3.79).<br><br> \n",
    "The first technique is the oversampling, increasing the size of the negative and neutral sample. It is worthy mentioning that this may cause overfiting, because it will increase by copying the data that already has.<b> WRITE THE AMOUNT OF THE INCREASE (DOUBLE TRIPLE...), NEED TO EXPERIMENT BASED ON RESULTS OF THE MODEL.</b><br><br>\n",
    "The second is to undersample the positive side (93.63%) and it will be reduced by <b> SAME APPLY HERE AS THE PREVIOUS ONE.</b> One of the downfalls is the lost of information by reducing the sample.<br><br>\n",
    "The last one is to apply class weights, <b>CHECK IF ITS GONNA BE SURE</b>, because even after the over and undersampling the imbalance is still present but not as large as the original."
   ]
  },
  {
   "cell_type": "markdown",
   "id": "eb0efdfb",
   "metadata": {},
   "source": [
    "#### - PADDING"
   ]
  },
  {
   "cell_type": "code",
   "execution_count": null,
   "id": "d34674be",
   "metadata": {},
   "outputs": [],
   "source": [
    "# Define the function to pad (or truncate) sequences\n",
    "def pad_sequence(tokens, length=467):\n",
    "    return tokens[:length] + [0] * (length - len(tokens))\n",
    "\n",
    "# Convert the Python function to a PySpark UDF\n",
    "pad_sequence_udf = udf(lambda x: pad_sequence(x), ArrayType(IntegerType(), containsNull=False))\n"
   ]
  },
  {
   "cell_type": "code",
   "execution_count": null,
   "id": "cd77971b",
   "metadata": {},
   "outputs": [],
   "source": [
    "# Apply padding to the training dataset\n",
    "df_train_np = df_train.withColumn(\"padded_sequence\", pad_sequence_udf(col(\"Review_Vec\")))\n",
    "\n",
    "# Apply padding to the validation dataset\n",
    "df_val_np = df_val.withColumn(\"padded_sequence\", pad_sequence_udf(col(\"Review_Vec\")))\n",
    "\n",
    "# Apply padding to the test dataset\n",
    "df_test_np = df_test.withColumn(\"padded_sequence\", pad_sequence_udf(col(\"Review_Vec\")))"
   ]
  },
  {
   "cell_type": "code",
   "execution_count": null,
   "id": "b7028669",
   "metadata": {},
   "outputs": [],
   "source": [
    "# Extract as DataFrames, not Columns\n",
    "X_train = df_train.select([\"Review_Vec\"])\n",
    "y_train = df_train.select([\"label\", \"label_encoded\"])\n",
    "\n",
    "X_val = df_val.select([\"Review_Vec\"])\n",
    "y_val = df_val.select([\"label\", \"label_encoded\"])\n",
    "\n",
    "X_test = df_test.select([\"Review_Vec\"])\n",
    "y_test = df_test.select([\"label\", \"label_encoded\"])"
   ]
  },
  {
   "cell_type": "code",
   "execution_count": null,
   "id": "9e75f239",
   "metadata": {
    "scrolled": true
   },
   "outputs": [],
   "source": [
    "X_train_np.columns"
   ]
  },
  {
   "cell_type": "code",
   "execution_count": null,
   "id": "5f24c022",
   "metadata": {},
   "outputs": [],
   "source": [
    "from keras.models import Sequential\n",
    "from keras.layers import Embedding, LSTM, Dense, SpatialDropout1D"
   ]
  },
  {
   "cell_type": "code",
   "execution_count": null,
   "id": "0f04e9e3",
   "metadata": {},
   "outputs": [],
   "source": [
    "# Defining the the model.\n",
    "model_lstm = Sequential()\n",
    "\n",
    "# Add an Embedding layer.\n",
    "embedding_dim = 100  # Setting the same embedding dimension as the Word2Vec model.\n",
    "vocab_size = 15000   # Vocabulary size, in this was set to be 15000 (max_vocab).\n",
    "max_length = 467    # Max sequence length.\n",
    "\n",
    "model_lstm.add(Embedding(input_dim=vocab_size, output_dim=embedding_dim, input_length=max_length))\n",
    "\n",
    "# Adding SpatialDropout1D layer to prevent overfitting.\n",
    "model_lstm.add(SpatialDropout1D(0.2))  # Adjust the dropout rate as needed\n",
    "\n",
    "# Add an LSTM layer\n",
    "lstm_units = 128  # Hidden layer with 128 neurons.\n",
    "model_lstm.add(LSTM(units=lstm_units, dropout=0.2, recurrent_dropout=0.2))\n",
    "\n",
    "# Three output layer (positive, negative and neutral)\n",
    "num_classes = 3  # Replace with the number of sentiment classes you have\n",
    "model_lstm.add(Dense(num_classes, activation='softmax'))\n",
    "\n",
    "# Compile the model\n",
    "model_lstm.compile(loss='categorical_crossentropy', optimizer='adam', metrics=['accuracy'])\n",
    "\n",
    "# Print the model summary\n",
    "model_lstm.summary()\n"
   ]
  },
  {
   "cell_type": "code",
   "execution_count": null,
   "id": "83b19619",
   "metadata": {},
   "outputs": [],
   "source": [
    "# Define the number of epochs and batch size\n",
    "epochs = 10  # You can adjust this as needed\n",
    "batch_size = 32  # You can adjust this as needed\n",
    "\n",
    "# Train the model on your training data\n",
    "history = model_lstm.fit(\n",
    "    X_train_np,  # Your preprocessed and padded training data\n",
    "    y_train_np,        # One-hot encoded training labels\n",
    "    epochs=epochs,\n",
    "    batch_size=batch_size,\n",
    "    validation_data=(X_val_np, y_val_np),  # Validation data\n",
    "    verbose=2  # You can set the verbosity level (0, 1, or 2) as needed\n",
    ")\n",
    "\n",
    "# Evaluate the model on your test data\n",
    "test_loss, test_accuracy = model_lstm.evaluate(X_test_np, y_test_np, verbose=2)\n",
    "\n",
    "print(f\"Test Accuracy: {test_accuracy * 100:.2f}%\")"
   ]
  },
  {
   "cell_type": "code",
   "execution_count": null,
   "id": "64f8363a",
   "metadata": {},
   "outputs": [],
   "source": [
    "# Initialize the model\n",
    "model_lstm_2 = Sequential()\n",
    "\n",
    "# Add an Embedding layer\n",
    "model_lstm_2.add(Embedding(input_dim=vocab_size, output_dim=embedding_dim, input_length=max_length))\n",
    "model_lstm_2.add(SpatialDropout1D(0.2))\n",
    "\n",
    "# Add the first LSTM layer\n",
    "model_lstm_2.add(LSTM(units=lstm_units, dropout=0.2, recurrent_dropout=0.2, return_sequences=True))\n",
    "\n",
    "# Add more LSTM layers (you can add as many as needed)\n",
    "model_lstm_2.add(LSTM(units=lstm_units, dropout=0.2, recurrent_dropout=0.2, return_sequences=True))\n",
    "model_lstm_2.add(LSTM(units=lstm_units, dropout=0.2, recurrent_dropout=0.2))\n",
    "\n",
    "# Add a dense hidden layer\n",
    "model_lstm_2.add(Dense(128, activation='relu'))\n",
    "\n",
    "# Add an output layer\n",
    "model_lstm_2.add(Dense(num_classes, activation='softmax'))\n",
    "\n",
    "# Compile the model\n",
    "model_lstm_2.compile(loss='categorical_crossentropy', optimizer='adam', metrics=['accuracy'])\n",
    "\n",
    "# Print the model summary\n",
    "model_lstm_2.summary()"
   ]
  },
  {
   "cell_type": "code",
   "execution_count": null,
   "id": "ce1c35cd",
   "metadata": {},
   "outputs": [],
   "source": []
  }
 ],
 "metadata": {
  "kernelspec": {
   "display_name": "Python 3 (ipykernel)",
   "language": "python",
   "name": "python3"
  },
  "language_info": {
   "codemirror_mode": {
    "name": "ipython",
    "version": 3
   },
   "file_extension": ".py",
   "mimetype": "text/x-python",
   "name": "python",
   "nbconvert_exporter": "python",
   "pygments_lexer": "ipython3",
   "version": "3.10.12"
  }
 },
 "nbformat": 4,
 "nbformat_minor": 5
}
