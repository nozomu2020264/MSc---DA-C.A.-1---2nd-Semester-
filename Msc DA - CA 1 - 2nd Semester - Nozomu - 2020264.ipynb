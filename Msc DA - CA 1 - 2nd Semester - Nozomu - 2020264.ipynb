{
 "cells": [
  {
   "cell_type": "markdown",
   "id": "d341a948",
   "metadata": {},
   "source": [
    "Nozomu Nakanishi - 2020264 - Msc DA"
   ]
  },
  {
   "cell_type": "markdown",
   "id": "e7f0692e",
   "metadata": {},
   "source": [
    "# The objectives here are:\n",
    "\n",
    "## - To create neural networks, at least two and  compare their performance and evaluate what one performed better by using loss as primary and accuracy as the second metrics.\n",
    "\n",
    "## - Sentiment Analysis using peoples review about culinary recipes on food.com. \n",
    "\n",
    "### The reviews a dataset with the score given in stars (from 0/1 to 5) along with the written review. (features that are going to be used.\n",
    "\n",
    "### Positive / Negative / Neutral Sentimet on the recipes review. "
   ]
  },
  {
   "cell_type": "code",
   "execution_count": 1,
   "id": "6de0a9d0",
   "metadata": {
    "scrolled": false
   },
   "outputs": [
    {
     "data": {
      "text/plain": [
       "'local[*]'"
      ]
     },
     "execution_count": 1,
     "metadata": {},
     "output_type": "execute_result"
    }
   ],
   "source": [
    "# The command below is to check where the PySpark is running, \n",
    "# in this case (returned:local[*]) data is being processed on my local (personal) machine.\n",
    "\n",
    "sc.master"
   ]
  },
  {
   "cell_type": "markdown",
   "id": "624cee5c",
   "metadata": {},
   "source": [
    "# START ADDING ALL THE LIBRARIES HERE."
   ]
  },
  {
   "cell_type": "code",
   "execution_count": 2,
   "id": "09e85221",
   "metadata": {},
   "outputs": [
    {
     "name": "stderr",
     "output_type": "stream",
     "text": [
      "/usr/lib/python3/dist-packages/scipy/__init__.py:146: UserWarning: A NumPy version >=1.17.3 and <1.25.0 is required for this version of SciPy (detected version 1.26.0\n",
      "  warnings.warn(f\"A NumPy version >={np_minversion} and <{np_maxversion}\"\n"
     ]
    }
   ],
   "source": [
    "from pyspark.sql.functions import count # Funcion to get the \"size\" of the data.\n",
    "from pyspark.sql.functions import when # When function.\n",
    "from pyspark.sql.functions import col # Function column.\n",
    "from pyspark.sql.functions import mean, min, max, stddev # Imports function for statistical features. \n",
    "from pyspark.sql import functions as F # Data processing framework.\n",
    "from pyspark.sql.functions import lower # lower case function.\n",
    "from pyspark.sql.functions import length # Import lenght function.\n",
    "from pyspark.sql.functions import size, split # Imports function size and split.\n",
    "from pyspark.ml.feature import Tokenizer # Importing Tokenizer.\n",
    "from pyspark.sql.functions import regexp_replace # Remove / Replace function.\n",
    "from pyspark.sql.functions import explode, count, desc # Importing for word count.\n",
    "from pyspark.ml.feature import StopWordsRemover # Imports stopword remover.\n",
    "from pyspark.sql.types import StructField, StructType # Importing features for Schema.\n",
    "from pyspark.sql.types import IntegerType, StringType, TimestampType # Tools to create the schema.\n",
    "from pyspark.sql.functions import udf # Imports function UDF.\n",
    "from pyspark.sql.types import ArrayType, StringType\n",
    "import numpy as np # for numerical operations.\n",
    "import seaborn as sns # Visualization tool.\n",
    "import matplotlib.pyplot as plt # visualization\n",
    "%matplotlib inline \n",
    "\n",
    "import warnings # Ignore warnings.\n",
    "warnings.filterwarnings(\"ignore\")"
   ]
  },
  {
   "cell_type": "code",
   "execution_count": 3,
   "id": "31ba4371",
   "metadata": {},
   "outputs": [],
   "source": [
    "spark = SparkSession.builder.appName('recipe_reviews').getOrCreate()"
   ]
  },
  {
   "cell_type": "markdown",
   "id": "7f922d1c",
   "metadata": {},
   "source": [
    "- The process to achieve the objetive will start importing the recipes reviews dataset and it is composed by 8 features and more than a million rows. The dataset is lincesed under the Creative Commons (CC0 1.0 DEED).\n",
    "\n",
    "The link for the dataset is available at kaggle: https://www.kaggle.com/datasets/irkaal/foodcom-recipes-and-reviews\n",
    "\n",
    "- There are two datasets in the zip file, however it does not says that the recipe ID in one will match the recipe ID in the other, therefore using only the reviews dataset to achieve the objective.<br>\n",
    "- Also, two types of format is available, a parquet file and a csv files and the choice for the first one is that the parquet file already has a columnar type, which when taking into consideration the tools that are being used such as pyspark it will present a better speed perfomance when performing tasks. In addition to the reduction for its size in megabytes. \n",
    "- The dataset review, which is going to be manipulated, is regarding the written reviews along with score rating given. <b>They are the most important features in  the dataset, in which the rating score would define the positive, neutral and negative label for the sentiment analysis of the review. </b>"
   ]
  },
  {
   "cell_type": "markdown",
   "id": "c092bac1",
   "metadata": {},
   "source": [
    "## 1. Data preparation and EDA\n",
    "- Challeging to separete, both will be performed back and forth. \n",
    "\n",
    "### - Importing the Review dataset.\n",
    "\n",
    "First, the dataset will be imported in parquet format as cited above."
   ]
  },
  {
   "cell_type": "code",
   "execution_count": 4,
   "id": "e4cc4c22",
   "metadata": {},
   "outputs": [
    {
     "name": "stderr",
     "output_type": "stream",
     "text": [
      "                                                                                \r"
     ]
    }
   ],
   "source": [
    "# Imports the dataset in a parquet format.\n",
    "df_reviews = spark.read.parquet(\"file:///home/hduser/Downloads/Dataset CA1/reviews.parquet\")"
   ]
  },
  {
   "cell_type": "markdown",
   "id": "1b0789d2",
   "metadata": {},
   "source": [
    "- After applying .head and .show, the second presented a better layout to look at the columns and the first 10 rows."
   ]
  },
  {
   "cell_type": "code",
   "execution_count": 5,
   "id": "98359948",
   "metadata": {
    "scrolled": false
   },
   "outputs": [
    {
     "name": "stderr",
     "output_type": "stream",
     "text": [
      "\r",
      "[Stage 1:>                                                          (0 + 1) / 1]\r"
     ]
    },
    {
     "name": "stdout",
     "output_type": "stream",
     "text": [
      "+--------+--------+--------+----------------+------+--------------------+-------------------+-------------------+\n",
      "|ReviewId|RecipeId|AuthorId|      AuthorName|Rating|              Review|      DateSubmitted|       DateModified|\n",
      "+--------+--------+--------+----------------+------+--------------------+-------------------+-------------------+\n",
      "|       2|     992|    2008|       gayg msft|     5|better than any y...|2000-01-25 21:44:00|2000-01-25 21:44:00|\n",
      "|       7|    4384|    1634|   Bill Hilbrich|     4|I cut back on the...|2001-10-17 17:49:59|2001-10-17 17:49:59|\n",
      "|       9|    4523|    2046|Gay Gilmore ckpt|     2|i think i did som...|2000-02-25 09:00:00|2000-02-25 09:00:00|\n",
      "|      13|    7435|    1773|   Malarkey Test|     5|easily the best i...|2000-03-13 21:15:00|2000-03-13 21:15:00|\n",
      "|      14|      44|    2085|      Tony Small|     5|  An excellent dish.|2000-03-28 13:51:00|2000-03-28 13:51:00|\n",
      "|      17|    5221|    2046|Gay Gilmore ckpt|     4|love it, but with...|2000-05-08 12:08:00|2000-05-08 12:08:00|\n",
      "|      19|   13307|    2046|Gay Gilmore ckpt|     5|chewy goodness, n...|2000-05-21 17:59:00|2000-05-21 17:59:00|\n",
      "|      21|     148|    2156|  Darlene Blythe|     0|Would someone ple...|2000-06-02 11:01:00|2000-06-02 11:01:00|\n",
      "|      22|     517|    2046|Gay Gilmore ckpt|     5|thought this was ...|2000-02-25 09:02:00|2000-02-25 09:02:00|\n",
      "|      23|    4684|    2046|Gay Gilmore ckpt|     5|this is absolutel...|2000-02-25 09:06:00|2000-02-25 09:06:00|\n",
      "+--------+--------+--------+----------------+------+--------------------+-------------------+-------------------+\n",
      "only showing top 10 rows\n",
      "\n"
     ]
    },
    {
     "name": "stderr",
     "output_type": "stream",
     "text": [
      "\r",
      "                                                                                \r"
     ]
    }
   ],
   "source": [
    "# It shows the first ten observations.\n",
    "df_reviews.show(10)"
   ]
  },
  {
   "cell_type": "code",
   "execution_count": 6,
   "id": "500cb040",
   "metadata": {},
   "outputs": [
    {
     "name": "stdout",
     "output_type": "stream",
     "text": [
      "root\n",
      " |-- ReviewId: integer (nullable = true)\n",
      " |-- RecipeId: integer (nullable = true)\n",
      " |-- AuthorId: integer (nullable = true)\n",
      " |-- AuthorName: string (nullable = true)\n",
      " |-- Rating: integer (nullable = true)\n",
      " |-- Review: string (nullable = true)\n",
      " |-- DateSubmitted: timestamp (nullable = true)\n",
      " |-- DateModified: timestamp (nullable = true)\n",
      "\n"
     ]
    }
   ],
   "source": [
    "# Prints the Schema of the dataset.\n",
    "df_reviews.printSchema()"
   ]
  },
  {
   "cell_type": "markdown",
   "id": "8f70430e",
   "metadata": {},
   "source": [
    "- The parquet format file already had a schema, therefore keeping the original dataset schema. However, if the csv were to be handled the following code would be appropriate to apply the schema, including the column names along with the data type."
   ]
  },
  {
   "cell_type": "code",
   "execution_count": 7,
   "id": "9b9548c8",
   "metadata": {},
   "outputs": [],
   "source": [
    "# Code that would be used to apply the schema in the review dataset if was required.\n",
    "\n",
    "#schema_reviews = StructType([\n",
    "    #StructField('ReviewId', IntegerType(), True),\n",
    "    #StructField('RecipeId', IntegerType(), True),\n",
    "    #StructField('AuthorId', IntegerType(), True),\n",
    "    #StructField('AuthorName', StringType(), True),\n",
    "    #StructField('Rating', IntegerType(), True),\n",
    "    #StructField('Review', StringType(), True),\n",
    "    #StructField('DateSubmitted', TimestampType(), True),\n",
    "    #StructField('DateModified', TimestampType(), True)])"
   ]
  },
  {
   "cell_type": "markdown",
   "id": "6ef469f7",
   "metadata": {},
   "source": [
    "The library Pandas used in the previous semester had different set of functions and/or commands. For example, the shape which provided the number of columns and observations in the dataset. However, in the PySpark the count method is use to tell how many rows and the lenght of the columns for the number of features. \n",
    "<br>However, in a later stage pandas format will be used for visualization purpose only, because pandas visualizations are better than the pyspark."
   ]
  },
  {
   "cell_type": "code",
   "execution_count": 8,
   "id": "30ecdc19",
   "metadata": {
    "scrolled": true
   },
   "outputs": [
    {
     "name": "stdout",
     "output_type": "stream",
     "text": [
      "Shape: (1401982, 8)\n"
     ]
    }
   ],
   "source": [
    "num_rows_reviews = df_reviews.count() # Counting the number of rows.\n",
    "num_columns_reviews =len(df_reviews.columns) # Length of columns.\n",
    "print(f\"Shape: ({num_rows_reviews}, {num_columns_reviews})\") # Prints the shape of the dataset."
   ]
  },
  {
   "cell_type": "markdown",
   "id": "1585caa0",
   "metadata": {},
   "source": [
    "- Temporal analysis is not the focus of the project, therefore, the date submitted and modified will be dropped in an early stage."
   ]
  },
  {
   "cell_type": "code",
   "execution_count": 9,
   "id": "0e054d38",
   "metadata": {},
   "outputs": [],
   "source": [
    "# Droping two columns of the dataset.\n",
    "df_reviews = df_reviews.drop(\"DateSubmitted\", \"DateModified\")"
   ]
  },
  {
   "cell_type": "code",
   "execution_count": 10,
   "id": "00fd2635",
   "metadata": {},
   "outputs": [
    {
     "name": "stdout",
     "output_type": "stream",
     "text": [
      "Number of observations with missing Review: 0\n",
      "Number of observations with missing Rating: 0\n",
      "Number of observations with missing Recipe Id: 0\n"
     ]
    }
   ],
   "source": [
    "# The three codes below are searching and printing the number of missing values in Review, Rating, Recipe Id.\n",
    "\n",
    "missing_review = df_reviews.filter(df_reviews.Review.isNull())\n",
    "print(f\"Number of observations with missing Review: {missing_review.count()}\")\n",
    "\n",
    "missing_rating = df_reviews.filter(df_reviews.Rating.isNull())\n",
    "print(f\"Number of observations with missing Rating: {missing_rating.count()}\")\n",
    "\n",
    "missing_recipeid = df_reviews.filter(df_reviews.RecipeId.isNull())\n",
    "print(f\"Number of observations with missing Recipe Id: {missing_recipeid.count()}\")"
   ]
  },
  {
   "cell_type": "markdown",
   "id": "75a5f718",
   "metadata": {},
   "source": [
    "- No missing values are recorded in the Recipe Id and Review, Ratings.\n",
    "\n",
    "Regarding the frequency, three features will be analysed, the Rating scores (check which score have the highest number and the lowest), the RecipeId (check how many times that recipe recieved a review and the AuthorId (check how many times that author wrote a review)."
   ]
  },
  {
   "cell_type": "code",
   "execution_count": 11,
   "id": "249be20d",
   "metadata": {},
   "outputs": [
    {
     "name": "stderr",
     "output_type": "stream",
     "text": [
      "                                                                                \r"
     ]
    },
    {
     "name": "stdout",
     "output_type": "stream",
     "text": [
      "+------+-------+\n",
      "|Rating|  count|\n",
      "+------+-------+\n",
      "|     0|  76248|\n",
      "|     1|  16559|\n",
      "|     2|  17597|\n",
      "|     3|  50279|\n",
      "|     4| 229217|\n",
      "|     5|1012082|\n",
      "+------+-------+\n",
      "\n",
      "Frequency of Ratings\n"
     ]
    },
    {
     "name": "stderr",
     "output_type": "stream",
     "text": [
      "                                                                                \r"
     ]
    },
    {
     "name": "stdout",
     "output_type": "stream",
     "text": [
      "+--------+-----+\n",
      "|RecipeId|count|\n",
      "+--------+-----+\n",
      "|   45809| 2892|\n",
      "|    2886| 2182|\n",
      "|   27208| 1614|\n",
      "|   89204| 1584|\n",
      "|   39087| 1491|\n",
      "|   67256| 1359|\n",
      "|   35813| 1353|\n",
      "|   54257| 1325|\n",
      "|   22782| 1273|\n",
      "|   32204| 1228|\n",
      "|  420398| 1174|\n",
      "|   25690| 1076|\n",
      "|   69173| 1023|\n",
      "|   73440| 1008|\n",
      "|   68955|  910|\n",
      "|   33919|  885|\n",
      "|   82102|  862|\n",
      "|   25885|  856|\n",
      "|   85629|  805|\n",
      "|   28148|  804|\n",
      "+--------+-----+\n",
      "only showing top 20 rows\n",
      "\n",
      "Frequency of RecipesId\n"
     ]
    },
    {
     "name": "stderr",
     "output_type": "stream",
     "text": [
      "[Stage 22:>                                                         (0 + 2) / 2]\r"
     ]
    },
    {
     "name": "stdout",
     "output_type": "stream",
     "text": [
      "+--------+-----+\n",
      "|AuthorId|count|\n",
      "+--------+-----+\n",
      "|  424680| 8842|\n",
      "|   37449| 6605|\n",
      "|  383346| 5438|\n",
      "|  128473| 4693|\n",
      "|  169430| 4586|\n",
      "|   89831| 3963|\n",
      "|   58104| 3743|\n",
      "|  199848| 3688|\n",
      "|  133174| 3590|\n",
      "|  305531| 3543|\n",
      "|  226863| 3340|\n",
      "|    4470| 3260|\n",
      "|  369715| 3167|\n",
      "|  498271| 3014|\n",
      "| 1072593| 2810|\n",
      "|  176615| 2790|\n",
      "|   95743| 2664|\n",
      "|  286566| 2635|\n",
      "|  107583| 2588|\n",
      "|   88099| 2574|\n",
      "+--------+-----+\n",
      "only showing top 20 rows\n",
      "\n",
      "Frequency of AuthorId\n"
     ]
    },
    {
     "name": "stderr",
     "output_type": "stream",
     "text": [
      "\r",
      "                                                                                \r"
     ]
    }
   ],
   "source": [
    "# The codes below are getting the frequency of values using the count function and printing them from\n",
    "# the highest to the lowest.\n",
    "\n",
    "df_reviews.groupBy(\"Rating\").count().orderBy(\"Rating\").show()\n",
    "print(f\"Frequency of Ratings\")\n",
    "\n",
    "df_reviews.groupBy(\"RecipeId\").count().orderBy(\"count\", ascending=False).show(20)\n",
    "print(f\"Frequency of RecipesId\")\n",
    "\n",
    "df_reviews.groupBy(\"AuthorId\").count().orderBy(\"count\", ascending=False).show(20)\n",
    "print(f\"Frequency of AuthorId\")"
   ]
  },
  {
   "cell_type": "markdown",
   "id": "d826e405",
   "metadata": {},
   "source": [
    "The Recipes and AuthorId column:\n",
    "- The recipes that recieved the highest amount of reviews was with the ID of 45089 and 2886 (more than 2000 ratings);\n",
    "- The Author that most reviewed recipes on the website was the Id424680 with 8842, followed by Id37449 with 6605 reviews;"
   ]
  },
  {
   "cell_type": "code",
   "execution_count": 12,
   "id": "1560a0f6",
   "metadata": {},
   "outputs": [
    {
     "name": "stderr",
     "output_type": "stream",
     "text": [
      "                                                                                \r"
     ]
    },
    {
     "name": "stdout",
     "output_type": "stream",
     "text": [
      "+--------+--------+-----------+\n",
      "|AuthorId|RecipeId|num_reviews|\n",
      "+--------+--------+-----------+\n",
      "+--------+--------+-----------+\n",
      "\n"
     ]
    },
    {
     "name": "stderr",
     "output_type": "stream",
     "text": [
      "\r",
      "[Stage 27:>                                                         (0 + 1) / 1]\r",
      "\r",
      "                                                                                \r"
     ]
    }
   ],
   "source": [
    "# Checking if the same user (AuthorId) posted more than one review in a recipe (RecipeId).\n",
    "# Since both columns are integers, the group by and aggregation will be used to find it.\n",
    "\n",
    "# Grouping the Author and Recipe Id and count the occurrences.\n",
    "dd_review = df_reviews.groupBy(\"AuthorId\", \"RecipeId\").agg(F.count(\"*\").alias(\"num_reviews\"))\n",
    "# Filtering rows where the count is above 1, which can indicate that the recipe multiple review from the same user.\n",
    "dd_review = dd_review.filter(dd_review.num_reviews > 1)\n",
    "# Displaying the results.\n",
    "dd_review.show()"
   ]
  },
  {
   "cell_type": "markdown",
   "id": "3d2bf6b2",
   "metadata": {},
   "source": [
    "Based on the empty results provided by the previous line of code, no users posted a review more than once in the same recipe. "
   ]
  },
  {
   "cell_type": "markdown",
   "id": "2c3228f0",
   "metadata": {},
   "source": [
    "- Only displaying the statistical features of the rating score, which is the only column that is going to be used in the analysis. The review and author Id columns are mainly to identify which is the review and who gave it."
   ]
  },
  {
   "cell_type": "code",
   "execution_count": 13,
   "id": "119234e8",
   "metadata": {},
   "outputs": [
    {
     "name": "stderr",
     "output_type": "stream",
     "text": [
      "[Stage 28:=============================>                            (1 + 1) / 2]\r"
     ]
    },
    {
     "name": "stdout",
     "output_type": "stream",
     "text": [
      "+-------+------------------+\n",
      "|summary|            Rating|\n",
      "+-------+------------------+\n",
      "|  count|           1401982|\n",
      "|   mean| 4.407951029328479|\n",
      "| stddev|1.2720116809642992|\n",
      "|    min|                 0|\n",
      "|    max|                 5|\n",
      "+-------+------------------+\n",
      "\n"
     ]
    },
    {
     "name": "stderr",
     "output_type": "stream",
     "text": [
      "\r",
      "                                                                                \r"
     ]
    }
   ],
   "source": [
    "# Displaying statistical features of the Reviews dataset.\n",
    "df_reviews.describe().select(\"summary\", \"Rating\").show()"
   ]
  },
  {
   "cell_type": "markdown",
   "id": "52623caf",
   "metadata": {},
   "source": [
    "Based on missing value and statistical feature codes, there are no missing values on the reviews dataset (same count as the shape of the dataset). And some statistical features can be displayed:\n",
    "- It has a range of scores between 0 and 5;\n",
    "- The mean of 4.4 is close to 5, therefore most of the data points are close the highest value, so the data present signs of being left-skewed (strong evidence for skewness);\n",
    "- Also, because most of the values a concentrated in the score 5, the box (boxplot) might be very close or at the top at the upper whisker.\n",
    "- It presents a high standard deviation given the range of the scores.\n",
    "\n",
    "Further analysis will be performed next using visual tools."
   ]
  },
  {
   "cell_type": "markdown",
   "id": "6ed45165",
   "metadata": {},
   "source": [
    "### Ratings feature visual representation.\n",
    "\n",
    "- The visualization tools using Pandas provided a better result, therefore for visualization purpose it will be created a dataframe using pandas library."
   ]
  },
  {
   "cell_type": "code",
   "execution_count": 14,
   "id": "fe7b6bbc",
   "metadata": {
    "scrolled": true
   },
   "outputs": [
    {
     "name": "stderr",
     "output_type": "stream",
     "text": [
      "                                                                                \r"
     ]
    }
   ],
   "source": [
    "# Creating a dataframe using pandas library.\n",
    "ratings_column_pd = df_reviews.select(\"Rating\").toPandas()"
   ]
  },
  {
   "cell_type": "code",
   "execution_count": 15,
   "id": "09289558",
   "metadata": {},
   "outputs": [
    {
     "data": {
      "image/png": "[encoded data removed]",
      "text/plain": [
       "<Figure size 864x576 with 1 Axes>"
      ]
     },
     "metadata": {
      "needs_background": "light"
     },
     "output_type": "display_data"
    }
   ],
   "source": [
    "# Generating the figure.\n",
    "plt.figure(figsize=(12, 8)) # Setting the figure size.\n",
    "sns.set(style=\"whitegrid\", font_scale=1.2) # Addind a white space on the back and adjustive font scale.\n",
    "# Creates the boxplot\n",
    "ax = sns.boxplot(data=ratings_column_pd['Rating'], width=0.5) # Boxplot, setting the width of the box to .5.\n",
    "ax.set_title('Boxplot of Rating scores') # Add title to the figure.\n",
    "plt.tight_layout() # Adjusts the layout\n",
    "plt.show() # Shows the plot"
   ]
  },
  {
   "cell_type": "markdown",
   "id": "0215fe23",
   "metadata": {},
   "source": [
    "The boxplot shows shows that most of values are located in the maximum values, but also points the score 0, 1 and 2 as outliers, this could be due to the fact that those values represents a small percentage of the total (approximately 7-8%). So based on IQR calculations are considering them as outliers.\n",
    "\n",
    "- The values 1 and 2 will not be outliers, despite being a small amount they represent negative score reviews of the recipe;\n",
    "- The value of 0 will be analysed in a later stage along with the writen review.\n",
    "\n",
    "Despite the outliers considerations the values which represents the 1 and 2 score rating will remain in the dataset. This is because they are still a valid data point. Although, the score zeros will be analysed a little further."
   ]
  },
  {
   "cell_type": "code",
   "execution_count": 16,
   "id": "9ec28520",
   "metadata": {},
   "outputs": [
    {
     "data": {
      "image/png": "[encoded data removed]",
      "text/plain": [
       "<Figure size 720x432 with 1 Axes>"
      ]
     },
     "metadata": {},
     "output_type": "display_data"
    }
   ],
   "source": [
    "# Creating the figure for the histogram.\n",
    "plt.figure(figsize=(10, 6))\n",
    "# Plots the histogram, bins set at 6 because of the range of the value.\n",
    "plt.hist(ratings_column_pd['Rating'], bins=6, edgecolor='black', alpha=0.7)\n",
    "plt.title(\"Histogram of Ranting Scores\") # Sets title.\n",
    "plt.xlabel(\"Ratings\") # Sets x label.\n",
    "plt.xticks(range(6)) # Add ticks with range between 0 and 6.\n",
    "plt.grid(axis='y') \n",
    "plt.show() # Display the histogram."
   ]
  },
  {
   "cell_type": "markdown",
   "id": "01007703",
   "metadata": {},
   "source": [
    "The histogram shows that the ratings scores data is highly left skewed. With most of its values located at the maximum."
   ]
  },
  {
   "cell_type": "markdown",
   "id": "09c8923a",
   "metadata": {},
   "source": [
    "- The score zero raised doubts if someone forgot to leave a score or if it is actually the worst score.\n",
    "\n",
    "- Also, there are no notes about the score zero, so a manual check will be apply to check if there is a balance between the review and the score zero. The procedure will be done by looking at random samples (attempted multiple times with differend seed values), checking if the reviews truly represents a sentiment of a lowest score possible."
   ]
  },
  {
   "cell_type": "code",
   "execution_count": 17,
   "id": "5ef49528",
   "metadata": {},
   "outputs": [
    {
     "name": "stdout",
     "output_type": "stream",
     "text": [
      "+-------------------------------------------------------------------------------------------------------------------------------------------------------------------------------------------------------------------------------------------------------------------------------------------------------------------------------------------------------------------------------------------------------------------------------------------------------------------------------------------------------------------------------------------------+\n",
      "|Review                                                                                                                                                                                                                                                                                                                                                                                                                                                                                                                                           |\n",
      "+-------------------------------------------------------------------------------------------------------------------------------------------------------------------------------------------------------------------------------------------------------------------------------------------------------------------------------------------------------------------------------------------------------------------------------------------------------------------------------------------------------------------------------------------------+\n",
      "|great recipe its delicious                                                                                                                                                                                                                                                                                                                                                                                                                                                                                                                       |\n",
      "|I need to try this.....This is typical recipe from my Mother's side of the family. \"use this much\" i can not see this much on the phone.                                                                                                                                                                                                                                                                                                                                                                                                         |\n",
      "|Sounds a bit like Bigos                                                                                                                                                                                                                                                                                                                                                                                                                                                                                                                          |\n",
      "|If you use a can of tomato sauce in place of the soup,and,1/2 can of cider vinegar with 1/2 can water (useing the tomato sauce can), you will have really delicious stuffed cabbage with a zest.\\r\\n\\r\\n                  Pepper barlow\\r\\n\\r\\n\\r\\nsize tomato sauce- 15 oz.Can                                                                                                                                                                                                                                                                  |\n",
      "|I had a Great Aunt that made the most wonderful dill pickles she told me that her secret was that she used rain water.  How interesting.  June Bug                                                                                                                                                                                                                                                                                                                                                                                               |\n",
      "|To David Cansler,  I would like your recipe please.  June Bug                                                                                                                                                                                                                                                                                                                                                                                                                                                                                    |\n",
      "|My recipe is similar...using a whole chicken instead...and slightly different ingerdients..but the major difference is that I make a small dumpling instead of the noodles....                                                                                                                                                                                                                                                                                                                                                                   |\n",
      "|I have not tried this recipe.  It sounds wonderful, but oh so high in caloried and fat!  Are you using whole milk ricotta?  And, can't a low-calorie marjorine be substituted but the butter??                                                                                                                                                                                                                                                                                                                                                   |\n",
      "|Suet is the fat that our mothers used to get with the stew beef . You need to grind it up to go in the bread pudding.                                                                                                                                                                                                                                                                                                                                                                                                                            |\n",
      "|I find this recipe hard to follow because im in australia  and need to find similar ingredients.                                                                                                                                                                                                                                                                                                                                                                                                                                                 |\n",
      "|Easy recipe - couldn't believe how easy. But I found there was too much flour -left out nearly i cup.And tastes great Janice                                                                                                                                                                                                                                                                                                                                                                                                                     |\n",
      "|I would love to make this recipe but there is no indication of how many eggs it calls for. HELP!                                                                                                                                                                                                                                                                                                                                                                                                                                                 |\n",
      "|Anything?\\r\\n\\r\\nThis is all wrong.  Who uses powdered sugar in Margarita's? What kind of surprise is this --\"Hey, there's marshmallows in the jello! Yes!\"\\r\\n\\r\\nDrink NO beverage that changes any part of the word \"margarita\".  What the hell is coarsely cracked ice?\\r\\n\\r\\nThe f'in truth? Ok, ok:\\r\\n\\r\\nHalf the glass filled with crushed ice. Fill up to ice line with GOOD tequila (important). Splash of Grand Marnier. Add some fresh squeezed lime juice. Rub lime around the rim AFTER.  Salt is optional and is, well, useless.|\n",
      "|This is one that I grew up with, but instead of bread cumbs we used rice, and combined ground sausage with the beef, and lots of pepper. You can also bake this in the oven.  Boil your cabbage leaves, roll the mixture and place in the oven at 350 degrees for 30 minutes, cover with the tomato sause/soup.                                                                                                                                                                                                                                  |\n",
      "|Its so nutritious and filling!!!                                                                                                                                                                                                                                                                                                                                                                                                                                                                                                                 |\n",
      "|love it!!!!                                                                                                                                                                                                                                                                                                                                                                                                                                                                                                                                      |\n",
      "|The lovely colours of this cake tempt your eyes...and melt your heart...and make your mouth water, just to have a bite and then have another one and then one more...endlessly!!                                                                                                                                                                                                                                                                                                                                                                 |\n",
      "|The recipe states in the ingredients listing, 1 1/2 quarts of shellfish veloute.......it would have made it so much easier for the normal cook if a recipe for the veloute had been included. The everyday cook would not have a clue as to what shellfish veloute even is.  It's an elegant recipe, but worthless to most people, without the veloute recipe included.                                                                                                                                                                          |\n",
      "|I found myself with an over abundance of zucchini, as we plant our own every year.  This recipe is fast and easy and it's a different change of pace from the ordinary.                                                                                                                                                                                                                                                                                                                                                                          |\n",
      "|Just viewing the page reminds me how tasty it is!                                                                                                                                                                                                                                                                                                                                                                                                                                                                                                |\n",
      "+-------------------------------------------------------------------------------------------------------------------------------------------------------------------------------------------------------------------------------------------------------------------------------------------------------------------------------------------------------------------------------------------------------------------------------------------------------------------------------------------------------------------------------------------------+\n",
      "only showing top 20 rows\n",
      "\n"
     ]
    }
   ],
   "source": [
    "zero_reviews = df_reviews.filter(col(\"Rating\") == 0)\n",
    "sample_reviews = zero_reviews.sample(withReplacement=False, fraction=0.25, seed=70)\n",
    "sample_reviews.select(\"Review\").show(truncate=False)"
   ]
  },
  {
   "cell_type": "markdown",
   "id": "de085cbd",
   "metadata": {},
   "source": [
    "- According to last code (with many attempts using different seed numbers), the written reviews does not match the score zero given. Positives reviews such as, great recipe, its delicious . Therefore, the chosen option is to drop the 0 scores (anomalies), so it does not affects the analysis by introducing noise to it, increasing the consistency in the data.\n",
    "- And since they are anomalies in the data, the rows with score of 0 will be dropped, also saving computational resources. \n",
    "<br><br><br>The next two codes will be used to drop (by using the method filter) and after printing the counts before and after the operation to check if it was correct. "
   ]
  },
  {
   "cell_type": "code",
   "execution_count": 18,
   "id": "08132f99",
   "metadata": {},
   "outputs": [],
   "source": [
    "# Method filter to exclude the rows with Rating equal to zero.\n",
    "df_reviews_no_zero = df_reviews.filter(df_reviews.Rating != 0)"
   ]
  },
  {
   "cell_type": "code",
   "execution_count": 19,
   "id": "b965be92",
   "metadata": {},
   "outputs": [
    {
     "name": "stdout",
     "output_type": "stream",
     "text": [
      "Original obs count: 1401982\n",
      "After filter obs count: 1325734\n"
     ]
    }
   ],
   "source": [
    "# Counting observations before and after the exclusion and printing them for verification. \n",
    "original_count = df_reviews.count()\n",
    "filtered_count = df_reviews_no_zero.count()\n",
    "print(f\"Original obs count: {original_count}\")\n",
    "print(f\"After filter obs count: {filtered_count}\")"
   ]
  },
  {
   "cell_type": "markdown",
   "id": "37fd6f70",
   "metadata": {},
   "source": [
    "- After the drop, the observations reduced by 76248, which is the number of zero scores given (also provided at the frequency line of code). Therefore, the drop operation was sucessful."
   ]
  },
  {
   "cell_type": "markdown",
   "id": "0057ccc2",
   "metadata": {},
   "source": [
    "### Next stage will be the text processing of the Review column, however only a few steps of the pre processing will be called before splitting the dataset to avoid data leakage.  The steps before dividing into traininig, validation and test are:\n",
    "\n",
    "- Label definition; \n",
    "- Lowering case; \n",
    "- Removing punctuations and \\r\\n;"
   ]
  },
  {
   "cell_type": "markdown",
   "id": "b6bc87dd",
   "metadata": {},
   "source": [
    "- First a column (label) will be created with positive, negative and neutral labels according to the rating score given by the reviewer. "
   ]
  },
  {
   "cell_type": "code",
   "execution_count": 20,
   "id": "db0a7ac9",
   "metadata": {},
   "outputs": [
    {
     "name": "stdout",
     "output_type": "stream",
     "text": [
      "+------+--------+\n",
      "|rating|   label|\n",
      "+------+--------+\n",
      "|     5|positive|\n",
      "|     4|positive|\n",
      "|     2|negative|\n",
      "|     5|positive|\n",
      "|     5|positive|\n",
      "|     4|positive|\n",
      "|     5|positive|\n",
      "|     5|positive|\n",
      "|     5|positive|\n",
      "|     4|positive|\n",
      "|     5|positive|\n",
      "|     5|positive|\n",
      "|     1|negative|\n",
      "|     5|positive|\n",
      "|     4|positive|\n",
      "|     1|negative|\n",
      "|     5|positive|\n",
      "|     5|positive|\n",
      "|     3| neutral|\n",
      "|     4|positive|\n",
      "+------+--------+\n",
      "only showing top 20 rows\n",
      "\n"
     ]
    }
   ],
   "source": [
    "# Creates a new column 'label' based on rating values\n",
    "df_reviews_no_zero = df_reviews_no_zero.withColumn(\"label\", \n",
    "                   when(col(\"rating\").isin([1, 2]), \"negative\")\n",
    "                   .when(col(\"rating\") == 3, \"neutral\")\n",
    "                   .otherwise(\"positive\")\n",
    "                  )\n",
    "\n",
    "# You can verify by showing a few records\n",
    "df_reviews_no_zero.select(\"rating\", \"label\").show()\n"
   ]
  },
  {
   "cell_type": "markdown",
   "id": "378069a7",
   "metadata": {},
   "source": [
    "According to the last cell, the label features was successfully created. Next, the dataset will be transformed into lower case letters."
   ]
  },
  {
   "cell_type": "code",
   "execution_count": 21,
   "id": "67702a06",
   "metadata": {},
   "outputs": [],
   "source": [
    "# Creating a column named Review_lower to the dataframe in a lowercase version.\n",
    "process_reviews = df_reviews_no_zero.withColumn(\"Review_lower\", lower(col(\"Review\")))"
   ]
  },
  {
   "cell_type": "code",
   "execution_count": 22,
   "id": "9c4de4a0",
   "metadata": {
    "scrolled": true
   },
   "outputs": [
    {
     "name": "stderr",
     "output_type": "stream",
     "text": [
      "\r",
      "[Stage 40:=============================>                            (1 + 1) / 2]\r"
     ]
    },
    {
     "name": "stdout",
     "output_type": "stream",
     "text": [
      "Transformation successful.\n"
     ]
    },
    {
     "name": "stderr",
     "output_type": "stream",
     "text": [
      "\r",
      "                                                                                \r"
     ]
    }
   ],
   "source": [
    "# Looks for any observation that the transformation did not work.\n",
    "no_match = process_reviews.filter(lower(col(\"Review\")) !=col(\"Review_lower\")).count()\n",
    "\n",
    "if no_match == 0:\n",
    "    print(\"Transformation successful.\")\n",
    "else:\n",
    "    print(\"There is/are rows that the transformation did not work.\")"
   ]
  },
  {
   "cell_type": "markdown",
   "id": "70ed3294",
   "metadata": {},
   "source": [
    "- After the transformation, a few statistical features will be generated for comparison purpose. "
   ]
  },
  {
   "cell_type": "code",
   "execution_count": 23,
   "id": "f56b2d8d",
   "metadata": {},
   "outputs": [
    {
     "name": "stdout",
     "output_type": "stream",
     "text": [
      "+---------------+\n",
      "|rev_char_length|\n",
      "+---------------+\n",
      "|             44|\n",
      "|            102|\n",
      "|             91|\n",
      "|            119|\n",
      "|             18|\n",
      "|             38|\n",
      "|            108|\n",
      "|             26|\n",
      "|            106|\n",
      "|             48|\n",
      "|            118|\n",
      "|            182|\n",
      "|             27|\n",
      "|            167|\n",
      "|            146|\n",
      "|             10|\n",
      "|            339|\n",
      "|             83|\n",
      "|             65|\n",
      "|            225|\n",
      "+---------------+\n",
      "only showing top 20 rows\n",
      "\n"
     ]
    }
   ],
   "source": [
    "# Displaying the characters length of the review_lowercase column\n",
    "process_reviews = process_reviews.withColumn(\"rev_char_length\", length(process_reviews[\"Review_lower\"]))\n",
    "process_reviews.select(\"rev_char_length\").show()"
   ]
  },
  {
   "cell_type": "code",
   "execution_count": 24,
   "id": "35fcec5a",
   "metadata": {
    "scrolled": true
   },
   "outputs": [
    {
     "name": "stderr",
     "output_type": "stream",
     "text": [
      "\r",
      "[Stage 44:=============================>                            (1 + 1) / 2]\r"
     ]
    },
    {
     "name": "stdout",
     "output_type": "stream",
     "text": [
      "+-------+------------------+\n",
      "|summary|   rev_char_length|\n",
      "+-------+------------------+\n",
      "|  count|           1325734|\n",
      "|   mean| 276.9054689703968|\n",
      "| stddev|194.79580324070147|\n",
      "|    min|                 0|\n",
      "|    max|              8587|\n",
      "+-------+------------------+\n",
      "\n"
     ]
    },
    {
     "name": "stderr",
     "output_type": "stream",
     "text": [
      "\r",
      "                                                                                \r"
     ]
    }
   ],
   "source": [
    "# Displaying statistical feature of the reviews character length. \n",
    "process_reviews.select(\"rev_char_length\").describe().show()"
   ]
  },
  {
   "cell_type": "code",
   "execution_count": 25,
   "id": "0a449b4c",
   "metadata": {
    "scrolled": false
   },
   "outputs": [
    {
     "name": "stderr",
     "output_type": "stream",
     "text": [
      "                                                                                \r"
     ]
    }
   ],
   "source": [
    "# Transforming to pandas dataframe for visualization purpose.\n",
    "review_char_lengh_pd = process_reviews.select(\"rev_char_length\").toPandas()"
   ]
  },
  {
   "cell_type": "code",
   "execution_count": 26,
   "id": "35fcd6a1",
   "metadata": {},
   "outputs": [
    {
     "data": {
      "image/png": "[encoded data removed]",
      "text/plain": [
       "<Figure size 432x288 with 1 Axes>"
      ]
     },
     "metadata": {},
     "output_type": "display_data"
    }
   ],
   "source": [
    "# Creating histogram for characters length\n",
    "char_lengths = review_char_lengh_pd[\"rev_char_length\"] # Data\n",
    "char_lengths.hist(bins=50) # Generate histogram.\n",
    "plt.xlabel(\"Character Length\") # Adds label.\n",
    "plt.ylabel(\"Number of Reviews\") # Adds label.\n",
    "plt.title(\"Distribution of Review Lengths (in characters)\") # Adds title.\n",
    "plt.show() # Shows the histogram."
   ]
  },
  {
   "cell_type": "markdown",
   "id": "e7e20edb",
   "metadata": {},
   "source": [
    "- According to the character length histogram, the majority of reviews ranges between 0 and around 1500, but also showing that also has reviews with more than 6000 characters. \n",
    "\n",
    "Next pre processing stage is to remove punctuations and characters such as \\r\\n."
   ]
  },
  {
   "cell_type": "code",
   "execution_count": 27,
   "id": "4b0b4349",
   "metadata": {},
   "outputs": [],
   "source": [
    "# Removing punctions of the Review_lowercase column.\n",
    "process_reviews = process_reviews.withColumn(\"Review_no_punct\", regexp_replace(col(\"Review_lower\"), \"[^a-zA-Z\\s]\", \"\"))"
   ]
  },
  {
   "cell_type": "code",
   "execution_count": 28,
   "id": "9e5361a6",
   "metadata": {},
   "outputs": [
    {
     "name": "stdout",
     "output_type": "stream",
     "text": [
      "+-------------------------------------------------------------------------------------------------------------------------------------------------------------------------------------------------------------------------------------------------------------------------------------------------------------------------------------------------------------+-------------------------------------------------------------------------------------------------------------------------------------------------------------------------------------------------------------------------------------------------------------------------------------------------------------------------------------------+\n",
      "|Review_lower                                                                                                                                                                                                                                                                                                                                                 |Review_no_punct                                                                                                                                                                                                                                                                                                                            |\n",
      "+-------------------------------------------------------------------------------------------------------------------------------------------------------------------------------------------------------------------------------------------------------------------------------------------------------------------------------------------------------------+-------------------------------------------------------------------------------------------------------------------------------------------------------------------------------------------------------------------------------------------------------------------------------------------------------------------------------------------+\n",
      "|better than any you can get at a restaurant!                                                                                                                                                                                                                                                                                                                 |better than any you can get at a restaurant                                                                                                                                                                                                                                                                                                |\n",
      "|i cut back on the mayo, and made up the difference with sour cream to adjust the stiffness of the dip.                                                                                                                                                                                                                                                       |i cut back on the mayo and made up the difference with sour cream to adjust the stiffness of the dip                                                                                                                                                                                                                                       |\n",
      "|i think i did something wrong because i could taste the cornstarch in the finished product.                                                                                                                                                                                                                                                                  |i think i did something wrong because i could taste the cornstarch in the finished product                                                                                                                                                                                                                                                 |\n",
      "|easily the best i have ever had.  juicy flavorful, not dry.  the vegetables retain crispness as well, not bland at all!                                                                                                                                                                                                                                      |easily the best i have ever had  juicy flavorful not dry  the vegetables retain crispness as well not bland at all                                                                                                                                                                                                                         |\n",
      "|an excellent dish.                                                                                                                                                                                                                                                                                                                                           |an excellent dish                                                                                                                                                                                                                                                                                                                          |\n",
      "|love it, but without the bean sprouts.                                                                                                                                                                                                                                                                                                                       |love it but without the bean sprouts                                                                                                                                                                                                                                                                                                       |\n",
      "|chewy goodness, not crispy at all. i even threw in craisins and left the oatmeal whole, and they were great.                                                                                                                                                                                                                                                 |chewy goodness not crispy at all i even threw in craisins and left the oatmeal whole and they were great                                                                                                                                                                                                                                   |\n",
      "|thought this was terrific!                                                                                                                                                                                                                                                                                                                                   |thought this was terrific                                                                                                                                                                                                                                                                                                                  |\n",
      "|this is absolutely delicious.  i even served it with lime slices so you could squeeze on more of the acid.                                                                                                                                                                                                                                                   |this is absolutely delicious  i even served it with lime slices so you could squeeze on more of the acid                                                                                                                                                                                                                                   |\n",
      "|a little greasy, but a huge hit with the guests.                                                                                                                                                                                                                                                                                                             |a little greasy but a huge hit with the guests                                                                                                                                                                                                                                                                                             |\n",
      "|leeks on a pizza?!  it was really delicious.  i used a boboli and added some chicken sausage slices and mushrooms too.                                                                                                                                                                                                                                       |leeks on a pizza  it was really delicious  i used a boboli and added some chicken sausage slices and mushrooms too                                                                                                                                                                                                                         |\n",
      "|i deleted the bean sprouts and replaced them with salted cashew nuts...a nice complement to the sweet/sour dressing. our guests loved it, in my opinion,it deserves a \"5-pan\" rating.                                                                                                                                                                        |i deleted the bean sprouts and replaced them with salted cashew nutsa nice complement to the sweetsour dressing our guests loved it in my opinionit deserves a pan rating                                                                                                                                                                  |\n",
      "|where does the bbq come in                                                                                                                                                                                                                                                                                                                                   |where does the bbq come in                                                                                                                                                                                                                                                                                                                 |\n",
      "|this was a fine sandwich, i'll definitely be making it again. i think you could also use blue cheese rather than goat or feta--blue seems to go well with roast beef.\\r\\n                                                                                                                                                                                    |this was a fine sandwich ill definitely be making it again i think you could also use blue cheese rather than goat or fetablue seems to go well with roast beef\\r\\n                                                                                                                                                                        |\n",
      "|very simple recipe to make! this is a refreshing treat that goes well with vanilla ice cream. my husband and i made this dessert disappear fast!\\r\\n                                                                                                                                                                                                         |very simple recipe to make this is a refreshing treat that goes well with vanilla ice cream my husband and i made this dessert disappear fast\\r\\n                                                                                                                                                                                          |\n",
      "|dear lord.                                                                                                                                                                                                                                                                                                                                                   |dear lord                                                                                                                                                                                                                                                                                                                                  |\n",
      "|vastly superior to its bastard cousin the twinkie pie, this is a true delight to the \"redneck-chic\" cook in all of us.  my wife and girlfriends (in  utah, that is) were astounded.  how could you possibly combine canned tuna with refined sugar, and then (italics there) add brine!  \"recipezaar, baby- who needs the ocean?\"\\r\\n\\r\\neli totz\\r\\n\\r\\n\\r\\n|vastly superior to its bastard cousin the twinkie pie this is a true delight to the redneckchic cook in all of us  my wife and girlfriends in  utah that is were astounded  how could you possibly combine canned tuna with refined sugar and then italics there add brine  recipezaar baby who needs the ocean\\r\\n\\r\\neli totz\\r\\n\\r\\n\\r\\n|\n",
      "|clearly,        \\r\\n\\r\\n\\r\\na nine shot drink deserves at least five stars.  stiff, baby!                                                                                                                                                                                                                                                                    |clearly        \\r\\n\\r\\n\\r\\na nine shot drink deserves at least five stars  stiff baby                                                                                                                                                                                                                                                      |\n",
      "|i never tasted it but it sure doesn''t look easy.  toast is easy.                                                                                                                                                                                                                                                                                            |i never tasted it but it sure doesnt look easy  toast is easy                                                                                                                                                                                                                                                                              |\n",
      "|this recipe was really easy to follow and was quite delicious.  it reheats really well, too, for small families.  \\r\\n\\r\\ni think next time i will buy the crust, as mine needed a little more polishing.\\r\\n\\r\\nthanks for the recipe!\\r\\n                                                                                                                  |this recipe was really easy to follow and was quite delicious  it reheats really well too for small families  \\r\\n\\r\\ni think next time i will buy the crust as mine needed a little more polishing\\r\\n\\r\\nthanks for the recipe\\r\\n                                                                                                       |\n",
      "+-------------------------------------------------------------------------------------------------------------------------------------------------------------------------------------------------------------------------------------------------------------------------------------------------------------------------------------------------------------+-------------------------------------------------------------------------------------------------------------------------------------------------------------------------------------------------------------------------------------------------------------------------------------------------------------------------------------------+\n",
      "only showing top 20 rows\n",
      "\n"
     ]
    }
   ],
   "source": [
    "# Displays the rows of column before and after the removal of punctuations. \n",
    "process_reviews.select(\"Review_lower\", \"Review_no_punct\").show(n=20, truncate=False)   "
   ]
  },
  {
   "cell_type": "markdown",
   "id": "74b1f1c5",
   "metadata": {},
   "source": [
    "- The previous line of code shows that the removal of puctuations was successful. However, it shows special characters like \\r\\n, which will be removed in the following step."
   ]
  },
  {
   "cell_type": "code",
   "execution_count": 29,
   "id": "e037c9f7",
   "metadata": {},
   "outputs": [],
   "source": [
    "# Removing \\r\\n.\n",
    "process_reviews = process_reviews.withColumn(\"Review_no_punct2\", regexp_replace(col(\"Review_no_punct\"), \"[\\r\\n]\", \"\"))"
   ]
  },
  {
   "cell_type": "code",
   "execution_count": 30,
   "id": "bf53c319",
   "metadata": {
    "scrolled": true
   },
   "outputs": [
    {
     "name": "stdout",
     "output_type": "stream",
     "text": [
      "+-------------------------------------------------------------------------------------------------------------------------------------------------------------------------------------------------------------------------------------------------------------------------------------------------------------------------------------------+-----------------------------------------------------------------------------------------------------------------------------------------------------------------------------------------------------------------------------------------------------------------------------------------------------------------------+\n",
      "|Review_no_punct                                                                                                                                                                                                                                                                                                                            |Review_no_punct2                                                                                                                                                                                                                                                                                                       |\n",
      "+-------------------------------------------------------------------------------------------------------------------------------------------------------------------------------------------------------------------------------------------------------------------------------------------------------------------------------------------+-----------------------------------------------------------------------------------------------------------------------------------------------------------------------------------------------------------------------------------------------------------------------------------------------------------------------+\n",
      "|better than any you can get at a restaurant                                                                                                                                                                                                                                                                                                |better than any you can get at a restaurant                                                                                                                                                                                                                                                                            |\n",
      "|i cut back on the mayo and made up the difference with sour cream to adjust the stiffness of the dip                                                                                                                                                                                                                                       |i cut back on the mayo and made up the difference with sour cream to adjust the stiffness of the dip                                                                                                                                                                                                                   |\n",
      "|i think i did something wrong because i could taste the cornstarch in the finished product                                                                                                                                                                                                                                                 |i think i did something wrong because i could taste the cornstarch in the finished product                                                                                                                                                                                                                             |\n",
      "|easily the best i have ever had  juicy flavorful not dry  the vegetables retain crispness as well not bland at all                                                                                                                                                                                                                         |easily the best i have ever had  juicy flavorful not dry  the vegetables retain crispness as well not bland at all                                                                                                                                                                                                     |\n",
      "|an excellent dish                                                                                                                                                                                                                                                                                                                          |an excellent dish                                                                                                                                                                                                                                                                                                      |\n",
      "|love it but without the bean sprouts                                                                                                                                                                                                                                                                                                       |love it but without the bean sprouts                                                                                                                                                                                                                                                                                   |\n",
      "|chewy goodness not crispy at all i even threw in craisins and left the oatmeal whole and they were great                                                                                                                                                                                                                                   |chewy goodness not crispy at all i even threw in craisins and left the oatmeal whole and they were great                                                                                                                                                                                                               |\n",
      "|thought this was terrific                                                                                                                                                                                                                                                                                                                  |thought this was terrific                                                                                                                                                                                                                                                                                              |\n",
      "|this is absolutely delicious  i even served it with lime slices so you could squeeze on more of the acid                                                                                                                                                                                                                                   |this is absolutely delicious  i even served it with lime slices so you could squeeze on more of the acid                                                                                                                                                                                                               |\n",
      "|a little greasy but a huge hit with the guests                                                                                                                                                                                                                                                                                             |a little greasy but a huge hit with the guests                                                                                                                                                                                                                                                                         |\n",
      "|leeks on a pizza  it was really delicious  i used a boboli and added some chicken sausage slices and mushrooms too                                                                                                                                                                                                                         |leeks on a pizza  it was really delicious  i used a boboli and added some chicken sausage slices and mushrooms too                                                                                                                                                                                                     |\n",
      "|i deleted the bean sprouts and replaced them with salted cashew nutsa nice complement to the sweetsour dressing our guests loved it in my opinionit deserves a pan rating                                                                                                                                                                  |i deleted the bean sprouts and replaced them with salted cashew nutsa nice complement to the sweetsour dressing our guests loved it in my opinionit deserves a pan rating                                                                                                                                              |\n",
      "|where does the bbq come in                                                                                                                                                                                                                                                                                                                 |where does the bbq come in                                                                                                                                                                                                                                                                                             |\n",
      "|this was a fine sandwich ill definitely be making it again i think you could also use blue cheese rather than goat or fetablue seems to go well with roast beef\\r\\n                                                                                                                                                                        |this was a fine sandwich ill definitely be making it again i think you could also use blue cheese rather than goat or fetablue seems to go well with roast beef                                                                                                                                                        |\n",
      "|very simple recipe to make this is a refreshing treat that goes well with vanilla ice cream my husband and i made this dessert disappear fast\\r\\n                                                                                                                                                                                          |very simple recipe to make this is a refreshing treat that goes well with vanilla ice cream my husband and i made this dessert disappear fast                                                                                                                                                                          |\n",
      "|dear lord                                                                                                                                                                                                                                                                                                                                  |dear lord                                                                                                                                                                                                                                                                                                              |\n",
      "|vastly superior to its bastard cousin the twinkie pie this is a true delight to the redneckchic cook in all of us  my wife and girlfriends in  utah that is were astounded  how could you possibly combine canned tuna with refined sugar and then italics there add brine  recipezaar baby who needs the ocean\\r\\n\\r\\neli totz\\r\\n\\r\\n\\r\\n|vastly superior to its bastard cousin the twinkie pie this is a true delight to the redneckchic cook in all of us  my wife and girlfriends in  utah that is were astounded  how could you possibly combine canned tuna with refined sugar and then italics there add brine  recipezaar baby who needs the oceaneli totz|\n",
      "|clearly        \\r\\n\\r\\n\\r\\na nine shot drink deserves at least five stars  stiff baby                                                                                                                                                                                                                                                      |clearly        a nine shot drink deserves at least five stars  stiff baby                                                                                                                                                                                                                                              |\n",
      "|i never tasted it but it sure doesnt look easy  toast is easy                                                                                                                                                                                                                                                                              |i never tasted it but it sure doesnt look easy  toast is easy                                                                                                                                                                                                                                                          |\n",
      "|this recipe was really easy to follow and was quite delicious  it reheats really well too for small families  \\r\\n\\r\\ni think next time i will buy the crust as mine needed a little more polishing\\r\\n\\r\\nthanks for the recipe\\r\\n                                                                                                       |this recipe was really easy to follow and was quite delicious  it reheats really well too for small families  i think next time i will buy the crust as mine needed a little more polishingthanks for the recipe                                                                                                       |\n",
      "+-------------------------------------------------------------------------------------------------------------------------------------------------------------------------------------------------------------------------------------------------------------------------------------------------------------------------------------------+-----------------------------------------------------------------------------------------------------------------------------------------------------------------------------------------------------------------------------------------------------------------------------------------------------------------------+\n",
      "only showing top 20 rows\n",
      "\n"
     ]
    }
   ],
   "source": [
    "process_reviews.select(\"Review_no_punct\", \"Review_no_punct2\").show(n=20, truncate=False)  "
   ]
  },
  {
   "cell_type": "code",
   "execution_count": 31,
   "id": "ec9f2054",
   "metadata": {},
   "outputs": [
    {
     "name": "stderr",
     "output_type": "stream",
     "text": [
      "\r",
      "[Stage 50:=============================>                            (1 + 1) / 2]\r"
     ]
    },
    {
     "name": "stdout",
     "output_type": "stream",
     "text": [
      "+-------+-----------------+\n",
      "|summary|       word_count|\n",
      "+-------+-----------------+\n",
      "|  count|          1325734|\n",
      "|   mean|53.35392393949314|\n",
      "| stddev|37.57547429823871|\n",
      "|    min|                1|\n",
      "|    max|             1184|\n",
      "+-------+-----------------+\n",
      "\n"
     ]
    },
    {
     "name": "stderr",
     "output_type": "stream",
     "text": [
      "\r",
      "                                                                                \r"
     ]
    }
   ],
   "source": [
    "w_count = process_reviews.withColumn(\"word_count\", size(split(process_reviews[\"Review_lower\"], \" \")))\n",
    "\n",
    "w_count.select(\"word_count\").describe().show()"
   ]
  },
  {
   "cell_type": "markdown",
   "id": "3d623b0d",
   "metadata": {},
   "source": [
    "The last cell was called for statistical purpose before splitting the dataset into training, validation and test. \n",
    "\n",
    "<b> add the features </b>"
   ]
  },
  {
   "cell_type": "markdown",
   "id": "55b6b538",
   "metadata": {},
   "source": [
    "### After a few steps of processing, the dataset will be split into three different sets, the training, validation and test. "
   ]
  },
  {
   "cell_type": "code",
   "execution_count": 32,
   "id": "decbb3a0",
   "metadata": {},
   "outputs": [
    {
     "name": "stderr",
     "output_type": "stream",
     "text": [
      "                                                                                \r"
     ]
    }
   ],
   "source": [
    "# Defining fractions to split the dataset.\n",
    "train_fractions = {label: 0.6 for label in process_reviews.select(\"label\").distinct().rdd.flatMap(lambda x: x).collect()}\n",
    "\n",
    "# Creating a train set.\n",
    "df_train = process_reviews.sampleBy(\"label\", fractions=train_fractions, seed=42)"
   ]
  },
  {
   "cell_type": "code",
   "execution_count": 33,
   "id": "d066ea4e",
   "metadata": {},
   "outputs": [],
   "source": [
    "# Creates the 40% left set to be splitted between validation and test.\n",
    "remaining_df = process_reviews.subtract(df_train)"
   ]
  },
  {
   "cell_type": "code",
   "execution_count": 34,
   "id": "43c982aa",
   "metadata": {},
   "outputs": [],
   "source": [
    "# Defining fractions to split the dataset.\n",
    "valid_fractions = {label: 0.5 for label in process_reviews.select(\"label\").distinct().rdd.flatMap(lambda x: x).collect()}\n",
    "\n",
    "# Creates the validation set from the 40%, using its franction of \n",
    "df_valid = remaining_df.sampleBy(\"label\", fractions=valid_fractions, seed=42)"
   ]
  },
  {
   "cell_type": "code",
   "execution_count": 35,
   "id": "9e6ddf99",
   "metadata": {},
   "outputs": [],
   "source": [
    "df_test = remaining_df.subtract(df_valid)"
   ]
  },
  {
   "cell_type": "code",
   "execution_count": 36,
   "id": "cbdbda42",
   "metadata": {},
   "outputs": [
    {
     "name": "stderr",
     "output_type": "stream",
     "text": [
      "                                                                                \r"
     ]
    },
    {
     "name": "stdout",
     "output_type": "stream",
     "text": [
      "+--------+------+\n",
      "|   label| count|\n",
      "+--------+------+\n",
      "|positive|745635|\n",
      "| neutral| 30424|\n",
      "|negative| 20526|\n",
      "+--------+------+\n",
      "\n"
     ]
    },
    {
     "name": "stderr",
     "output_type": "stream",
     "text": [
      "2023-10-03 22:18:49,192 WARN expressions.RowBasedKeyValueBatch: Calling spill() on RowBasedKeyValueBatch. Will not spill but return 0.\n",
      "2023-10-03 22:18:49,226 WARN expressions.RowBasedKeyValueBatch: Calling spill() on RowBasedKeyValueBatch. Will not spill but return 0.\n",
      "2023-10-03 22:18:49,255 WARN expressions.RowBasedKeyValueBatch: Calling spill() on RowBasedKeyValueBatch. Will not spill but return 0.\n",
      "2023-10-03 22:18:49,289 WARN expressions.RowBasedKeyValueBatch: Calling spill() on RowBasedKeyValueBatch. Will not spill but return 0.\n",
      "                                                                                \r"
     ]
    },
    {
     "name": "stdout",
     "output_type": "stream",
     "text": [
      "+--------+------+\n",
      "|   label| count|\n",
      "+--------+------+\n",
      "|positive|248220|\n",
      "| neutral|  9876|\n",
      "|negative|  6832|\n",
      "+--------+------+\n",
      "\n"
     ]
    },
    {
     "name": "stderr",
     "output_type": "stream",
     "text": [
      "[Stage 98:>                                                         (0 + 2) / 2]\r"
     ]
    },
    {
     "name": "stdout",
     "output_type": "stream",
     "text": [
      "+--------+------+\n",
      "|   label| count|\n",
      "+--------+------+\n",
      "|positive|247486|\n",
      "| neutral|  9947|\n",
      "|negative|  6788|\n",
      "+--------+------+\n",
      "\n"
     ]
    },
    {
     "name": "stderr",
     "output_type": "stream",
     "text": [
      "\r",
      "                                                                                \r"
     ]
    }
   ],
   "source": [
    "# Displaying the class distributions after the split using the stratified method.\n",
    "df_train.groupBy(\"label\").count().show()\n",
    "df_valid.groupBy(\"label\").count().show()\n",
    "df_test.groupBy(\"label\").count().show()"
   ]
  },
  {
   "cell_type": "code",
   "execution_count": 37,
   "id": "4fb44786",
   "metadata": {},
   "outputs": [
    {
     "name": "stderr",
     "output_type": "stream",
     "text": [
      "\r",
      "[Stage 107:============================>                            (1 + 1) / 2]\r"
     ]
    },
    {
     "name": "stdout",
     "output_type": "stream",
     "text": [
      "Rating Class Neutral (3): 3.819304%\n",
      "Rating Class Negatives (1-2): 2.576749%\n",
      "Rating Class Positives (4-5): 93.603947%\n"
     ]
    },
    {
     "name": "stderr",
     "output_type": "stream",
     "text": [
      "\r",
      "                                                                                \r"
     ]
    }
   ],
   "source": [
    "# Calculating the distribution of scores and the three different classes.\n",
    "# Placing the 1,2 to the negatives, 3 neutral and 4,5 positives.\n",
    "class_counts = (\n",
    "    df_train.withColumn(\n",
    "    \"Rating_class\",\n",
    "    when((df_train['Rating'] >= 1) & (df_train['Rating'] <= 2), \"Negatives (1-2)\")\n",
    "    .when(df_train['Rating'] == 3, \"Neutral (3)\")\n",
    "    .otherwise(\"Positives (4-5)\"))\n",
    "# Grouping the ratings into its class and using rdd to transform them into a dictionary which is easier to access in a query.\n",
    "    .groupBy(\"Rating_class\")\n",
    "    .count()\n",
    "    .rdd.collectAsMap())\n",
    "\n",
    "# Calculates to total number of reviews.\n",
    "total_reviews = sum(class_counts.values())\n",
    "# Calculates the ratio.\n",
    "Ratios = {k: v / total_reviews for k, v in class_counts.items()}\n",
    "# Prints the percentages.\n",
    "for Rating_class, ratio in Ratios.items():\n",
    "    print(f\"Rating Class {Rating_class}: {ratio*100:2f}%\")"
   ]
  },
  {
   "cell_type": "markdown",
   "id": "b5b8f440",
   "metadata": {},
   "source": [
    "Through the last line of code, the train dataframe have:\n",
    "\n",
    "- By far, the highest number of score given is the value of 5 (maximum);\n",
    "- Lower scores (1 , 2) represents less than 3% of the total of ratings given and less than 4% for neutral scores (3); <b> important feature for next step.\n",
    "- The imbalance between the positive classes are enourmous considering the others, and this potenlially could add bias into the sentiment analysis. To address this issue there are some options available to and a mixed between oversampling and undersampling will be performed after the dataframe is split into train and test. "
   ]
  },
  {
   "cell_type": "markdown",
   "id": "5922d785",
   "metadata": {},
   "source": [
    "- Before tonekization, extracts the sets in a DF form where the X are the Reviews and y the labels."
   ]
  },
  {
   "cell_type": "code",
   "execution_count": 38,
   "id": "b545611b",
   "metadata": {},
   "outputs": [],
   "source": [
    "# Extract as DataFrames, not Columns\n",
    "X_train = df_train.select([\"Review_no_punct2\"])\n",
    "y_train = df_train.select([\"label\"])\n",
    "\n",
    "X_val = df_valid.select([\"Review_no_punct2\"])\n",
    "y_val = df_valid.select([\"label\"])\n",
    "\n",
    "X_test = df_test.select([\"Review_no_punct2\"])\n",
    "y_test = df_test.select([\"label\"])"
   ]
  },
  {
   "cell_type": "code",
   "execution_count": 39,
   "id": "89820227",
   "metadata": {},
   "outputs": [],
   "source": [
    "# Initialize a tokenizer\n",
    "tokenizer = Tokenizer(inputCol=\"Review_no_punct2\", outputCol=\"tokens\")\n",
    "\n",
    "# Tokenize X_train\n",
    "X_train_token = tokenizer.transform(X_train)\n",
    "\n",
    "# Tokenize X_val\n",
    "X_val_token = tokenizer.transform(X_val)\n",
    "\n",
    "# Tokenize X_test\n",
    "X_test_token = tokenizer.transform(X_test)\n"
   ]
  },
  {
   "cell_type": "markdown",
   "id": "8dfa6eb8",
   "metadata": {},
   "source": [
    "- There are pre processing steps that could have been called before tokenization, such as removal of stop words, however in the Spark environment the command only removes when its separeted. Therefore pre processing steps will be performed also after the tokenization. "
   ]
  },
  {
   "cell_type": "code",
   "execution_count": 42,
   "id": "7cfc1d90",
   "metadata": {},
   "outputs": [
    {
     "name": "stderr",
     "output_type": "stream",
     "text": [
      "[Stage 110:============================>                            (1 + 1) / 2]\r"
     ]
    },
    {
     "name": "stdout",
     "output_type": "stream",
     "text": [
      "+------+-------+\n",
      "| words|  count|\n",
      "+------+-------+\n",
      "|      |1970835|\n",
      "|     i|1867938|\n",
      "|   the|1812699|\n",
      "|   and|1398407|\n",
      "|     a|1082303|\n",
      "|    it| 965808|\n",
      "|  this| 848003|\n",
      "|    to| 829745|\n",
      "|   for| 790991|\n",
      "|    of| 685157|\n",
      "|   was| 572014|\n",
      "|recipe| 474370|\n",
      "|    in| 394110|\n",
      "|    my| 378208|\n",
      "|  with| 378198|\n",
      "|    is| 353257|\n",
      "|  made| 337622|\n",
      "|    so| 334438|\n",
      "|  used| 299387|\n",
      "|   but| 286445|\n",
      "+------+-------+\n",
      "only showing top 20 rows\n",
      "\n"
     ]
    },
    {
     "name": "stderr",
     "output_type": "stream",
     "text": [
      "\r",
      "                                                                                \r"
     ]
    }
   ],
   "source": [
    "# It \"explodes\" the tokens column to have one token per row.\n",
    "X_train_token_exploded = X_train_token.select(explode(\"tokens\").alias(\"words\"))\n",
    "\n",
    "# Groups individual by tokens and count their occurrences.\n",
    "word_counts = X_train_token_exploded.groupBy(\"words\").agg(count(\"words\").alias(\"count\"))\n",
    "\n",
    "# Orders by count in descending order to see most frequent words at the top.\n",
    "word_counts_ordered_train = word_counts.orderBy(desc(\"count\"))\n",
    "\n",
    "# Show the results.\n",
    "word_counts_ordered_train.show()"
   ]
  },
  {
   "cell_type": "markdown",
   "id": "a33b7907",
   "metadata": {},
   "source": [
    "- As shown in the previous cell that there are spaces being counted which does not have any meaning to the model. The removal of this character will be filtering out short tokens (less than 2), the reason for the number is that word like \"no\"."
   ]
  },
  {
   "cell_type": "code",
   "execution_count": 43,
   "id": "6315d71d",
   "metadata": {},
   "outputs": [],
   "source": [
    "# UDF to filter out short tokens\n",
    "filter_short_udf = udf(lambda tokens: [token for token in tokens if len(token) > 1], ArrayType(StringType()))\n",
    "\n",
    "X_train = X_train_token.withColumn(\"filt_tokens\", filter_short_udf(X_train_token[\"tokens\"]))"
   ]
  },
  {
   "cell_type": "code",
   "execution_count": 44,
   "id": "0f93a8cd",
   "metadata": {},
   "outputs": [],
   "source": [
    "X_val = X_val_token.withColumn(\"filt_tokens\", filter_short_udf(X_val_token[\"tokens\"]))\n",
    "X_test = X_test_token.withColumn(\"filt_tokens\", filter_short_udf(X_test_token[\"tokens\"]))"
   ]
  },
  {
   "cell_type": "markdown",
   "id": "d136c2e5",
   "metadata": {},
   "source": [
    "#### Removing Stop Words"
   ]
  },
  {
   "cell_type": "code",
   "execution_count": 45,
   "id": "ad0b817a",
   "metadata": {},
   "outputs": [],
   "source": [
    "# Defines the stopword remover.\n",
    "remover = StopWordsRemover(inputCol=\"filt_tokens\", outputCol=\"tokens_no_stopwords\")\n",
    "\n",
    "# Removes stopwords from the training dataset.\n",
    "X_train = remover.transform(X_train)\n",
    "\n",
    "# Removes stopwords from the validation dataset.\n",
    "X_val = remover.transform(X_val)\n",
    "\n",
    "# Removes stopwords from the test dataset.\n",
    "X_test = remover.transform(X_test)\n"
   ]
  },
  {
   "cell_type": "markdown",
   "id": "dcbf44e4",
   "metadata": {},
   "source": [
    "## DO I REMOVE THE EMPTY TOKENS? "
   ]
  },
  {
   "cell_type": "code",
   "execution_count": null,
   "id": "b2028ad4",
   "metadata": {
    "scrolled": true
   },
   "outputs": [],
   "source": [
    "#token_reviews.filter(size(token_reviews[\"tokens_2\"]) == 0).count()"
   ]
  },
  {
   "cell_type": "code",
   "execution_count": null,
   "id": "5b152b3e",
   "metadata": {
    "scrolled": false
   },
   "outputs": [],
   "source": [
    "# Filter the empty token reviews\n",
    "#empty_token_reviews = token_reviews.filter(size(token_reviews[\"tokens_2\"]) == 0)\n",
    "\n",
    "# Group by the 'Rating' column and count the number of reviews in each group\n",
    "#result = empty_token_reviews.groupBy(\"Rating\").agg({\"Rating\": \"count\"}).orderBy(\"Rating\")\n",
    "\n",
    "# Show the result\n",
    "#result.show()\n"
   ]
  },
  {
   "cell_type": "markdown",
   "id": "db623809",
   "metadata": {},
   "source": [
    "- After removing the stop words and filtering out short tokens, the number of observations in the review column with zero tokes increased from 4 to 327, which the amount for each score can be looked at the previous code.\n",
    "\n",
    "The chosen solution for the empty rows after the transformation is to drop them, performed in the next line of code. "
   ]
  },
  {
   "cell_type": "code",
   "execution_count": null,
   "id": "af6b628e",
   "metadata": {},
   "outputs": [],
   "source": [
    "# Remove rows where the token list is empty\n",
    "#non_empty_reviews = token_reviews.filter(size(token_reviews[\"tokens_2\"]) > 0)"
   ]
  },
  {
   "cell_type": "markdown",
   "id": "90e5b189",
   "metadata": {},
   "source": [
    "## IT HAS TO GO SOMEWHERE NOW....\n",
    "\n",
    "The stage of text processing almost at the final stage, the descriptive statistical of the reviews suffered a big change. \n",
    "- Started with 1,401,982 rows and at this stage have 1,325,407, a reduction of 76,575.\n",
    "- The mean of 53 reduced to 26, meaning that the average length of words in each review reduced more than 50%, a big decrease. \n",
    "- Standard Deviation, also reduced around 50%.\n",
    "- The max length also slumped, from more than 1100 words it is now 639.  "
   ]
  },
  {
   "cell_type": "markdown",
   "id": "99b35c33",
   "metadata": {},
   "source": [
    "- For computational resources (time consuming) only the training set (X_train) will be performed the word count and frequency, along with visualization. The next following line of codes will help identify the maximun words to be used during the padding stage."
   ]
  },
  {
   "cell_type": "code",
   "execution_count": 46,
   "id": "5f84e00e",
   "metadata": {},
   "outputs": [
    {
     "name": "stderr",
     "output_type": "stream",
     "text": [
      "[Stage 113:============================>                            (1 + 1) / 2]\r"
     ]
    },
    {
     "name": "stdout",
     "output_type": "stream",
     "text": [
      "+---------+------+\n",
      "|    words| count|\n",
      "+---------+------+\n",
      "|   recipe|474370|\n",
      "|     made|337622|\n",
      "|     used|299387|\n",
      "|     make|240394|\n",
      "|   thanks|238020|\n",
      "|    great|218139|\n",
      "|     good|209394|\n",
      "|     easy|157983|\n",
      "|     time|156962|\n",
      "|    added|146700|\n",
      "|   really|136392|\n",
      "|     like|134479|\n",
      "|      one|118986|\n",
      "|delicious|117424|\n",
      "|     also|116263|\n",
      "|      use|110702|\n",
      "|    sauce|110041|\n",
      "|    loved|109929|\n",
      "|    didnt|109893|\n",
      "|   little|106978|\n",
      "+---------+------+\n",
      "only showing top 20 rows\n",
      "\n"
     ]
    },
    {
     "name": "stderr",
     "output_type": "stream",
     "text": [
      "\r",
      "                                                                                \r"
     ]
    }
   ],
   "source": [
    "# It \"explodes\" the tokens column to have one token per row.\n",
    "X_train_exploded = X_train.select(explode(\"tokens_no_stopwords\").alias(\"words\"))\n",
    "\n",
    "# Groups individual by tokens and count their occurrences.\n",
    "word_counts = X_train_exploded.groupBy(\"words\").agg(count(\"words\").alias(\"count\"))\n",
    "\n",
    "# Orders by count in descending order to see most frequent words at the top.\n",
    "word_counts_ordered = word_counts.orderBy(desc(\"count\"))\n",
    "\n",
    "# Show the results.\n",
    "word_counts_ordered.show()"
   ]
  },
  {
   "cell_type": "markdown",
   "id": "37d0c598",
   "metadata": {},
   "source": [
    "# ADD LINE GRID!!!"
   ]
  },
  {
   "cell_type": "code",
   "execution_count": 47,
   "id": "ca9dfced",
   "metadata": {},
   "outputs": [
    {
     "name": "stderr",
     "output_type": "stream",
     "text": [
      "                                                                                \r"
     ]
    },
    {
     "data": {
      "image/png": "[encoded data removed]",
      "text/plain": [
       "<Figure size 864x432 with 1 Axes>"
      ]
     },
     "metadata": {},
     "output_type": "display_data"
    }
   ],
   "source": [
    "# Convert the word counts to pandas dataframe for visualization\n",
    "word_counts_ordered = word_counts_ordered.toPandas()\n",
    "\n",
    "# Plot the word frequencies\n",
    "plt.figure(figsize=(12, 6))\n",
    "plt.plot(word_counts_ordered['count'].values)  # this plots word counts in descending order\n",
    "plt.xlabel('Words Rank')\n",
    "# Set x-axis limit\n",
    "plt.xlim(0, 1000)\n",
    "plt.ylabel('Frequency')\n",
    "plt.title('Word Frequency Distribution')\n",
    "plt.show()"
   ]
  },
  {
   "cell_type": "code",
   "execution_count": 48,
   "id": "737d3735",
   "metadata": {},
   "outputs": [
    {
     "name": "stderr",
     "output_type": "stream",
     "text": [
      "[Stage 130:============================>                            (1 + 1) / 2]\r"
     ]
    },
    {
     "name": "stdout",
     "output_type": "stream",
     "text": [
      "Total word occurrences: 20824449\n",
      "Occurrences of top 600 words: 14785063\n",
      "Coverage of top 600 words: 71.00%\n"
     ]
    },
    {
     "name": "stderr",
     "output_type": "stream",
     "text": [
      "\r",
      "[Stage 132:============================>                            (1 + 1) / 2]\r",
      "\r",
      "                                                                                \r"
     ]
    }
   ],
   "source": [
    "word_counts = (X_train.select(explode(col(\"tokens_no_stopwords\")).alias(\"word\"))\n",
    "               .groupBy(\"word\")\n",
    "               .count()\n",
    "               .orderBy(col(\"count\").desc()))\n",
    "\n",
    "# Compute total word occurrences\n",
    "total_word_occurrences = word_counts.agg({\"count\": \"sum\"}).collect()[0][0]\n",
    "\n",
    "# Compute occurrences of top N words\n",
    "N = 600\n",
    "top_N_word_occurrences = word_counts.limit(N).agg({\"count\": \"sum\"}).collect()[0][0]\n",
    "\n",
    "# Compute the coverage\n",
    "coverage = (top_N_word_occurrences / total_word_occurrences) * 100\n",
    "\n",
    "print(\"Total word occurrences:\", total_word_occurrences)\n",
    "print(f\"Occurrences of top {N} words:\", top_N_word_occurrences)\n",
    "print(f\"Coverage of top {N} words: {coverage:.2f}%\")\n"
   ]
  },
  {
   "cell_type": "code",
   "execution_count": 49,
   "id": "93525a31",
   "metadata": {},
   "outputs": [],
   "source": [
    "import spacy\n",
    "from pyspark.sql.functions import udf\n",
    "from pyspark.sql.types import ArrayType, StringType\n",
    "\n",
    "# Load spaCy model\n",
    "nlp = spacy.load(\"en_core_web_sm\", disable=[\"parser\", \"ner\", \"textcat\"])\n",
    "\n",
    "@udf(ArrayType(StringType()))\n",
    "def lemmatize_udf(tokens):\n",
    "    # Convert list of tokens to single string\n",
    "    doc = nlp(\" \".join(tokens))\n",
    "    \n",
    "    # Return list of lemmatized tokens\n",
    "    return [token.lemma_ for token in doc]\n",
    "\n",
    "# Apply the UDF\n",
    "# Apply the UDF to all three datasets\n",
    "X_train = X_train.withColumn(\"lemmatized_tokens\", lemmatize_udf(X_train[\"tokens_no_stopwords\"]))\n",
    "X_val = X_val.withColumn(\"lemmatized_tokens\", lemmatize_udf(X_val[\"tokens_no_stopwords\"]))\n",
    "X_test = X_test.withColumn(\"lemmatized_tokens\", lemmatize_udf(X_test[\"tokens_no_stopwords\"]))"
   ]
  },
  {
   "cell_type": "code",
   "execution_count": 50,
   "id": "bc5166bb",
   "metadata": {},
   "outputs": [
    {
     "name": "stderr",
     "output_type": "stream",
     "text": [
      "\r",
      "[Stage 134:>                                                        (0 + 1) / 1]\r"
     ]
    },
    {
     "name": "stdout",
     "output_type": "stream",
     "text": [
      "+--------------------------------------------------------------------------------------------------------------------------------------------------------------------------------------------------------------------------------------------------------------------------------------------------------------+------------------------------------------------------------------------------------------------------------------------------------------------------------------------------------------------------------------------------------------------------------------------------------------------+\n",
      "|tokens_no_stopwords                                                                                                                                                                                                                                                                                           |lemmatized_tokens                                                                                                                                                                                                                                                                               |\n",
      "+--------------------------------------------------------------------------------------------------------------------------------------------------------------------------------------------------------------------------------------------------------------------------------------------------------------+------------------------------------------------------------------------------------------------------------------------------------------------------------------------------------------------------------------------------------------------------------------------------------------------+\n",
      "|[cut, back, mayo, made, difference, sour, cream, adjust, stiffness, dip]                                                                                                                                                                                                                                      |[cut, back, mayo, make, difference, sour, cream, adjust, stiffness, dip]                                                                                                                                                                                                                        |\n",
      "|[easily, best, ever, juicy, flavorful, dry, vegetables, retain, crispness, well, bland]                                                                                                                                                                                                                       |[easily, well, ever, juicy, flavorful, dry, vegetable, retain, crispness, well, bland]                                                                                                                                                                                                          |\n",
      "|[love, without, bean, sprouts]                                                                                                                                                                                                                                                                                |[love, without, bean, sprout]                                                                                                                                                                                                                                                                   |\n",
      "|[thought, terrific]                                                                                                                                                                                                                                                                                           |[think, terrific]                                                                                                                                                                                                                                                                               |\n",
      "|[leeks, pizza, really, delicious, used, boboli, added, chicken, sausage, slices, mushrooms]                                                                                                                                                                                                                   |[leek, pizza, really, delicious, use, boboli, add, chicken, sausage, slice, mushroom]                                                                                                                                                                                                           |\n",
      "|[bbq, come]                                                                                                                                                                                                                                                                                                   |[bbq, come]                                                                                                                                                                                                                                                                                     |\n",
      "|[vastly, superior, bastard, cousin, twinkie, pie, true, delight, redneckchic, cook, us, wife, girlfriends, utah, astounded, possibly, combine, canned, tuna, refined, sugar, italics, add, brine, recipezaar, baby, needs, oceaneli, totz]                                                                    |[vastly, superior, bastard, cousin, twinkie, pie, true, delight, redneckchic, cook, we, wife, girlfriend, utah, astound, possibly, combine, canned, tuna, refined, sugar, italic, add, brine, recipezaar, baby, need, oceaneli, totz]                                                           |\n",
      "|[never, tasted, sure, doesnt, look, easy, toast, easy]                                                                                                                                                                                                                                                        |[never, taste, sure, do, nt, look, easy, toast, easy]                                                                                                                                                                                                                                           |\n",
      "|[delicious]                                                                                                                                                                                                                                                                                                   |[delicious]                                                                                                                                                                                                                                                                                     |\n",
      "|[husbands, aunt, dorothy, made, best, dumpling, gravy, always, used, leftover, mashed, potatoes, thought, great, recipe, close, ever, found, delicious, pork, beef, gravy, stew, yummy, brings, back, fond, memories, cook, never, used, recipe, fiqure, make, one, family, favorites, sandy, zikurshmentoroh]|[husband, aunt, dorothy, make, good, dumpling, gravy, always, use, leftover, mash, potato, think, great, recipe, close, ever, find, delicious, pork, beef, gravy, stew, yummy, bring, back, fond, memory, cook, never, use, recipe, fiqure, make, one, family, favorite, sandy, zikurshmentoroh]|\n",
      "|[made, recipe, coworkers, doubled, amounts, ingrediants, hoping, get, loaves, got, loaaves, batter, hard, stir, came, adding, walnuts, apples, end, result, excellent, bread, consumed, matter, minutes, everybody, loved, bread, love, anybody, brings, homemade, snacks, happy, taste, bread]               |[make, recipe, coworker, double, amount, ingrediant, hope, get, loaf, get, loaave, batter, hard, stir, come, add, walnuts, apple, end, result, excellent, bread, consume, matter, minute, everybody, love, bread, love, anybody, bring, homemade, snack, happy, taste, bread]                   |\n",
      "|[taste, better, appear]                                                                                                                                                                                                                                                                                       |[taste, well, appear]                                                                                                                                                                                                                                                                           |\n",
      "|[recipe, excellant, enjoyed, muchthanks]                                                                                                                                                                                                                                                                      |[recipe, excellant, enjoy, muchthank]                                                                                                                                                                                                                                                           |\n",
      "|[everyone, loves]                                                                                                                                                                                                                                                                                             |[everyone, love]                                                                                                                                                                                                                                                                                |\n",
      "|[zesty, recipe, gives, latitude, creative, adding, little, pepper, best, use, real, grated, fresh, pamesan, cheese, bulk, grated, stuff, imparts, grittyness, find, pleasent, takes, minutes, ingredients, love, stuff, make, double, batch]                                                                  |[zesty, recipe, give, latitude, creative, add, little, pepper, good, use, real, grated, fresh, pamesan, cheese, bulk, grate, stuff, impart, grittyness, find, pleasent, take, minute, ingredient, love, stuff, make, double, batch]                                                             |\n",
      "|[made, pie, instead, plain, ol, pumpkin, pie, last, years, everyone, always, raves, flavor, wonderful, texture, slightly, lighter, traditional, pumpin, pie, suspect, due, substitution, light, cream, instead, canned, milk, try, wont, go, back, plain, ol, pumkin]                                         |[make, pie, instead, plain, ol, pumpkin, pie, last, year, everyone, always, rave, flavor, wonderful, texture, slightly, light, traditional, pumpin, pie, suspect, due, substitution, light, cream, instead, can, milk, try, wo, nt, go, back, plain, ol, pumkin]                                |\n",
      "|[recipe, called, pumpkin, squares, wheres, squares, pie]                                                                                                                                                                                                                                                      |[recipe, call, pumpkin, square, where, s, square, pie]                                                                                                                                                                                                                                          |\n",
      "|[careful, cook, long, want, tuna, closer, raw, inside, crusty, outside, maybe, use, canola, oil, instead, butter, help, sear, outside]                                                                                                                                                                        |[careful, cook, long, want, tuna, close, raw, inside, crusty, outside, maybe, use, canola, oil, instead, butter, help, sear, outside]                                                                                                                                                           |\n",
      "|[absolute, hit, everyone, every, time, made, incredibly, easy, make, heavenly]                                                                                                                                                                                                                                |[absolute, hit, everyone, every, time, make, incredibly, easy, make, heavenly]                                                                                                                                                                                                                  |\n",
      "|[working, hour, days, days, week, delighted, return, home, delious, meal, crockpot, easy, tasty, delious, understatements, recipe]                                                                                                                                                                            |[work, hour, day, day, week, delight, return, home, delious, meal, crockpot, easy, tasty, delious, understatement, recipe]                                                                                                                                                                      |\n",
      "+--------------------------------------------------------------------------------------------------------------------------------------------------------------------------------------------------------------------------------------------------------------------------------------------------------------+------------------------------------------------------------------------------------------------------------------------------------------------------------------------------------------------------------------------------------------------------------------------------------------------+\n",
      "only showing top 20 rows\n",
      "\n"
     ]
    },
    {
     "name": "stderr",
     "output_type": "stream",
     "text": [
      "2023-10-03 22:52:46,781 WARN python.PythonUDFRunner: Detected deadlock while completing task 0.0 in stage 134 (TID 143): Attempting to kill Python Worker\n",
      "\r",
      "                                                                                \r"
     ]
    }
   ],
   "source": [
    "X_train.select(\"tokens_no_stopwords\", \"lemmatized_tokens\").show(truncate=False)"
   ]
  },
  {
   "cell_type": "markdown",
   "id": "20e04c87",
   "metadata": {},
   "source": [
    "- The previous code shows that the lemmatization was a success, words such as working became work, called is also call."
   ]
  },
  {
   "cell_type": "code",
   "execution_count": null,
   "id": "b95c1f06",
   "metadata": {},
   "outputs": [],
   "source": [
    "aaa"
   ]
  },
  {
   "cell_type": "code",
   "execution_count": null,
   "id": "244ce21a",
   "metadata": {},
   "outputs": [],
   "source": [
    "from pyspark.ml.feature import Word2Vec\n",
    "\n",
    "# Step 1: Define the Word2Vec model\n",
    "# The input column should be the column containing the lemmatized tokens\n",
    "# The output column will be where the vectors are stored\n",
    "# You can adjust the vectorSize and minCount parameters based on your data and requirements\n",
    "\n",
    "word2Vec = Word2Vec(vectorSize=100, minCount=5, inputCol=\"lemmatized_tokens\", outputCol=\"Review\")\n",
    "\n",
    "# Step 2: Train the Word2Vec model on the training set\n",
    "model = word2Vec.fit(X_train)\n"
   ]
  },
  {
   "cell_type": "code",
   "execution_count": null,
   "id": "e00b3894",
   "metadata": {},
   "outputs": [],
   "source": [
    "# Step 3: Use the trained model to transform all datasets\n",
    "df_train = model.transform(X_train)\n",
    "df_val = model.transform(X_val)\n",
    "df_test = model.transform(X_test)\n",
    "\n"
   ]
  },
  {
   "cell_type": "code",
   "execution_count": null,
   "id": "1568dd1a",
   "metadata": {
    "scrolled": true
   },
   "outputs": [],
   "source": [
    "from pyspark.ml.feature import Word2Vec\n",
    "\n",
    "# Initialize word2vec model\n",
    "word2vec = Word2Vec(vectorSize=100, minCount=5, inputCol=\"lemmatized_tokens\", outputCol=\"word2vec_features\")\n",
    "\n",
    "# Fit the model on your data\n",
    "word2vec_model = word2vec.fit(tokens_lemma)\n",
    "\n",
    "# Transform the data to get word embeddings\n",
    "df_reviews_w2v = word2vec_model.transform(tokens_lemma)\n"
   ]
  },
  {
   "cell_type": "markdown",
   "id": "b5971558",
   "metadata": {},
   "source": [
    "In the previous cells it was noticed that the ratio between the \"sentiments\" are quite imbalanced (the positive one having more than 93%). Thus, due to this a stratified spliting will be applied, a same distribution as the original dataset will be applied to the spliting datasets, training, validation and test.  "
   ]
  },
  {
   "cell_type": "code",
   "execution_count": null,
   "id": "2938e037",
   "metadata": {},
   "outputs": [],
   "source": [
    "df_reviews_w2v.columns"
   ]
  },
  {
   "cell_type": "markdown",
   "id": "eb0efdfb",
   "metadata": {},
   "source": [
    "# ADD PADDING"
   ]
  },
  {
   "cell_type": "code",
   "execution_count": null,
   "id": "d34674be",
   "metadata": {},
   "outputs": [],
   "source": [
    "from keras.preprocessing.sequence import pad_sequences\n",
    "\n",
    "# `sequences` is a list of lists, where each inner list is a sequence of word indices.\n",
    "padded_sequences = pad_sequences(sequences, padding='post')\n"
   ]
  },
  {
   "cell_type": "markdown",
   "id": "2be7329a",
   "metadata": {},
   "source": [
    "As observed in previous cells, the gap ratio between the classes are large. Therefore, a few techniques will be combined to reduce the imbalaced between positive (93.63%), negative (2.58%) and neutral (3.79).<br><br> \n",
    "The first technique is the oversampling, increasing the size of the negative and neutral sample. It is worthy mentioning that this may cause overfiting, because it will increase by copying the data that already has.<b> WRITE THE AMOUNT OF THE INCREASE (DOUBLE TRIPLE...), NEED TO EXPERIMENT BASED ON RESULTS OF THE MODEL.</b><br><br>\n",
    "The second is to undersample the positive side (93.63%) and it will be reduced by <b> SAME APPLY HERE AS THE PREVIOUS ONE.</b> One of the downfalls is the lost of information by reducing the sample.<br><br>\n",
    "The last one is to apply class weights, <b>CHECK IF ITS GONNA BE SURE</b>, because even after the over and undersampling the imbalance is still present but not as large as the original."
   ]
  },
  {
   "cell_type": "code",
   "execution_count": null,
   "id": "5efa7738",
   "metadata": {},
   "outputs": [],
   "source": [
    "# Separate out different classes from the training dataset\n",
    "positives = train_df.filter(col(\"label\") == 'positive')\n",
    "negatives = train_df.filter(col(\"label\") == 'negative')\n",
    "neutrals = train_df.filter(col(\"label\") == 'neutral')\n",
    "\n",
    "# Define oversampling factors\n",
    "negative_oversample_factor = 2.0  # Double the negative samples\n",
    "neutral_oversample_factor = 1.5   # 1.5 times the neutral samples\n",
    "\n",
    "oversampled_negatives = negatives.sample(withReplacement=True, fraction=negative_oversample_factor)\n",
    "oversampled_neutrals = neutrals.sample(withReplacement=True, fraction=neutral_oversample_factor)\n",
    "\n",
    "# Undersample the majority class\n",
    "undersample_factor = 0.25  # Reducing by 25%\n",
    "undersampled_positives = positives.sample(withReplacement=False, fraction=undersample_factor)\n",
    "\n",
    "# Combine the samples back\n",
    "balanced_train_df = undersampled_positives.unionAll(oversampled_negatives).unionAll(oversampled_neutrals)\n",
    "\n",
    "# Calculate class weights for the balanced dataset\n",
    "total_count = balanced_train_df.count()\n",
    "positive_weight = total_count / undersampled_positives.count()\n",
    "negative_weight = total_count / (negatives.count() * negative_oversample_factor) # can be tweaked (1.5, 2, 2.5)\n",
    "neutral_weight = total_count / (neutrals.count() * neutral_oversample_factor) # can be tweaked (1.5, 2, 2.5)\n",
    "\n",
    "# Normalize weights\n",
    "normalizing_factor = positive_weight + negative_weight + neutral_weight\n",
    "positive_weight /= normalizing_factor\n",
    "negative_weight /= normalizing_factor\n",
    "neutral_weight /= normalizing_factor\n",
    "\n",
    "class_weights = {\n",
    "    'positive': positive_weight,\n",
    "    'negative': negative_weight,\n",
    "    'neutral': neutral_weight}"
   ]
  },
  {
   "cell_type": "code",
   "execution_count": null,
   "id": "7980919d",
   "metadata": {},
   "outputs": [],
   "source": [
    "# Count instances for each class\n",
    "positives = balanced_train_df.filter(col(\"label\") == 'positive').count()\n",
    "negatives = balanced_train_df.filter(col(\"label\") == 'negative').count()\n",
    "neutrals = balanced_train_df.filter(col(\"label\") == 'neutral').count()\n",
    "\n",
    "total_count = positives + negatives + neutrals\n",
    "\n",
    "# Calculate proportions for each class\n",
    "positive_ratio = (positives / total_count) * 100\n",
    "negative_ratio = (negatives / total_count) * 100\n",
    "neutral_ratio = (neutrals / total_count) * 100\n",
    "\n",
    "print(f\"Rating Class Positives (4-5): {positive_ratio:.2f}%\")\n",
    "print(f\"Rating Class Negatives (1-2): {negative_ratio:.2f}%\")\n",
    "print(f\"Rating Class Neutral (3): {neutral_ratio:.2f}%\")\n"
   ]
  },
  {
   "cell_type": "code",
   "execution_count": null,
   "id": "2bc70da4",
   "metadata": {},
   "outputs": [],
   "source": []
  }
 ],
 "metadata": {
  "kernelspec": {
   "display_name": "Python 3 (ipykernel)",
   "language": "python",
   "name": "python3"
  },
  "language_info": {
   "codemirror_mode": {
    "name": "ipython",
    "version": 3
   },
   "file_extension": ".py",
   "mimetype": "text/x-python",
   "name": "python",
   "nbconvert_exporter": "python",
   "pygments_lexer": "ipython3",
   "version": "3.10.12"
  }
 },
 "nbformat": 4,
 "nbformat_minor": 5
}
