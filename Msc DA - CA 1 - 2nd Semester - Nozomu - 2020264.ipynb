{
 "cells": [
  {
   "cell_type": "markdown",
   "id": "d341a948",
   "metadata": {},
   "source": [
    "Nozomu Nakanishi - 2020264 - Msc DA"
   ]
  },
  {
   "cell_type": "markdown",
   "id": "e7f0692e",
   "metadata": {},
   "source": [
    "# The objectives here are:\n",
    "\n",
    "## - To create neural networks, at least two and  compare their performance and evaluate what one performed better by using loss as primary and accuracy as the second metrics.\n",
    "## - Sentiment Analysis using peoples review about culinary recipes on food.com. \n",
    "\n",
    "### Two datasets are available, the first is the recipes contain several columns (27) of which only two will be used to join, the second is the reviews a dataset with the score given in stars (from 0/1 to 5) along with the written review. \n",
    "### Positive / Negative / Neutral Sentimet on the recipes review. "
   ]
  },
  {
   "cell_type": "code",
   "execution_count": 1,
   "id": "6de0a9d0",
   "metadata": {
    "scrolled": false
   },
   "outputs": [
    {
     "data": {
      "text/plain": [
       "'local[*]'"
      ]
     },
     "execution_count": 1,
     "metadata": {},
     "output_type": "execute_result"
    }
   ],
   "source": [
    "# The command below is to check where the PySpark is running, \n",
    "# in this case (returned:local[*]) data is being processed on my local (personal) machine.\n",
    "\n",
    "sc.master"
   ]
  },
  {
   "cell_type": "markdown",
   "id": "624cee5c",
   "metadata": {},
   "source": [
    "# START ADDING ALL THE LIBRARIES HERE."
   ]
  },
  {
   "cell_type": "code",
   "execution_count": 61,
   "id": "09e85221",
   "metadata": {},
   "outputs": [],
   "source": [
    "from pyspark.sql.functions import count\n",
    "import matplotlib.pyplot as plt\n",
    "from pyspark.sql.functions import col\n",
    "from pyspark.sql import functions as F\n",
    "from pyspark.sql.functions import lower # lower case function \n",
    "from pyspark.ml.feature import Tokenizer\n",
    "from pyspark.sql.types import StructField, StructType\n",
    "from pyspark.sql.types import IntegerType, StringType, TimestampType # Tools to create the schema.\n",
    "import numpy as np # for numerical operations\n",
    "import seaborn as sns\n",
    "import matplotlib.pyplot as plt # visualization\n",
    "%matplotlib inline \n",
    "\n",
    "import warnings\n",
    "warnings.filterwarnings(\"ignore\")\n",
    "\n",
    "# spark is from the previous example.\n",
    "sc = spark.sparkContext"
   ]
  },
  {
   "cell_type": "markdown",
   "id": "7f922d1c",
   "metadata": {},
   "source": [
    "- The process to achieve the objetive will start importing the recipes reviews dataset and it is composed by 8 features and more than a million rows. The dataset is lincesed under the Creative Commons (CC0 1.0 DEED).\n",
    "\n",
    "The link for the dataset is available at kaggle: https://www.kaggle.com/datasets/irkaal/foodcom-recipes-and-reviews\n",
    "\n",
    "- There are two datasets in the zip file, however it does not says that the recipe ID in one will match the recipe ID in the other, therefore using only the reviews dataset.<br><br>\n",
    "- Also, two types of format is available, a parquet file and a csv files and the choice for the first one is that the parquet file already has a columnar type, which when taking into consideration the tools that are being used such as pyspark it will present a better speed perfomance when performing tasks. In addition to the reduction for its size in megabytes. \n",
    "<b> maybe bulk it up your parquet choices a bit better? </b>"
   ]
  },
  {
   "cell_type": "markdown",
   "id": "66e2fa40",
   "metadata": {},
   "source": [
    "The library Pandas used in the previous semester had different <b>functions</b>. For example, the shape which provided the number of columns and observations in the dataset. However, in the PySpark the count method is use to tell how many rows and the lenght of the columns for the number of features. And the same <b>\"principal\"</b> will apply to <b> the many (CHECH LATER ON IF A FEW, MOST OF ALL OF THEM)</b> following cells. "
   ]
  },
  {
   "cell_type": "markdown",
   "id": "02c416ce",
   "metadata": {},
   "source": [
    "#### The parquet format file already had a schema, therefore no schema is needed to create and apply. However, if the dataset required a schema the code below would be the one to perform the task."
   ]
  },
  {
   "cell_type": "code",
   "execution_count": 3,
   "id": "d6d974c6",
   "metadata": {},
   "outputs": [],
   "source": [
    "# Code that would be used to apply the schema in the review dataset if was required.\n",
    "\n",
    "#schema_reviews = StructType([\n",
    "    #StructField('ReviewId', IntegerType(), True),\n",
    "    #StructField('RecipeId', IntegerType(), True),\n",
    "    #StructField('AuthorId', IntegerType(), True),\n",
    "    #StructField('AuthorName', StringType(), True),\n",
    "    #StructField('Rating', IntegerType(), True),\n",
    "    #StructField('Review', StringType(), True),\n",
    "    #StructField('DateSubmitted', TimestampType(), True),\n",
    "    #StructField('DateModified', TimestampType(), True)])"
   ]
  },
  {
   "cell_type": "code",
   "execution_count": 4,
   "id": "e4cc4c22",
   "metadata": {},
   "outputs": [
    {
     "name": "stderr",
     "output_type": "stream",
     "text": [
      "                                                                                \r"
     ]
    }
   ],
   "source": [
    "df_reviews = spark.read.parquet(\"file:///home/hduser/Downloads/Dataset CA1/reviews.parquet\")"
   ]
  },
  {
   "cell_type": "markdown",
   "id": "85c68cbe",
   "metadata": {},
   "source": [
    "- After applying .head and .show, the second presented a better layout to look at the columns and the first 10 rows."
   ]
  },
  {
   "cell_type": "code",
   "execution_count": 5,
   "id": "f2d8955a",
   "metadata": {},
   "outputs": [
    {
     "name": "stdout",
     "output_type": "stream",
     "text": [
      "root\n",
      " |-- ReviewId: integer (nullable = true)\n",
      " |-- RecipeId: integer (nullable = true)\n",
      " |-- AuthorId: integer (nullable = true)\n",
      " |-- AuthorName: string (nullable = true)\n",
      " |-- Rating: integer (nullable = true)\n",
      " |-- Review: string (nullable = true)\n",
      " |-- DateSubmitted: timestamp (nullable = true)\n",
      " |-- DateModified: timestamp (nullable = true)\n",
      "\n"
     ]
    }
   ],
   "source": [
    "df_reviews.printSchema()"
   ]
  },
  {
   "cell_type": "code",
   "execution_count": 6,
   "id": "98359948",
   "metadata": {
    "scrolled": true
   },
   "outputs": [
    {
     "name": "stderr",
     "output_type": "stream",
     "text": [
      "                                                                                \r"
     ]
    },
    {
     "name": "stdout",
     "output_type": "stream",
     "text": [
      "+--------+--------+--------+----------------+------+--------------------+-------------------+-------------------+\n",
      "|ReviewId|RecipeId|AuthorId|      AuthorName|Rating|              Review|      DateSubmitted|       DateModified|\n",
      "+--------+--------+--------+----------------+------+--------------------+-------------------+-------------------+\n",
      "|       2|     992|    2008|       gayg msft|     5|better than any y...|2000-01-25 21:44:00|2000-01-25 21:44:00|\n",
      "|       7|    4384|    1634|   Bill Hilbrich|     4|I cut back on the...|2001-10-17 17:49:59|2001-10-17 17:49:59|\n",
      "|       9|    4523|    2046|Gay Gilmore ckpt|     2|i think i did som...|2000-02-25 09:00:00|2000-02-25 09:00:00|\n",
      "|      13|    7435|    1773|   Malarkey Test|     5|easily the best i...|2000-03-13 21:15:00|2000-03-13 21:15:00|\n",
      "|      14|      44|    2085|      Tony Small|     5|  An excellent dish.|2000-03-28 13:51:00|2000-03-28 13:51:00|\n",
      "|      17|    5221|    2046|Gay Gilmore ckpt|     4|love it, but with...|2000-05-08 12:08:00|2000-05-08 12:08:00|\n",
      "|      19|   13307|    2046|Gay Gilmore ckpt|     5|chewy goodness, n...|2000-05-21 17:59:00|2000-05-21 17:59:00|\n",
      "|      21|     148|    2156|  Darlene Blythe|     0|Would someone ple...|2000-06-02 11:01:00|2000-06-02 11:01:00|\n",
      "|      22|     517|    2046|Gay Gilmore ckpt|     5|thought this was ...|2000-02-25 09:02:00|2000-02-25 09:02:00|\n",
      "|      23|    4684|    2046|Gay Gilmore ckpt|     5|this is absolutel...|2000-02-25 09:06:00|2000-02-25 09:06:00|\n",
      "+--------+--------+--------+----------------+------+--------------------+-------------------+-------------------+\n",
      "only showing top 10 rows\n",
      "\n"
     ]
    }
   ],
   "source": [
    "df_reviews.show(10)"
   ]
  },
  {
   "cell_type": "markdown",
   "id": "af322fdd",
   "metadata": {},
   "source": [
    "# MAYBE DROP THE TWO LAST COLUMNS BECAUSE THEY LITERALY DO NOT HAVE ANY USE NOW AND LATER. REDUCE COMPUTALIONAL RESOUCES?"
   ]
  },
  {
   "cell_type": "code",
   "execution_count": 7,
   "id": "30ecdc19",
   "metadata": {
    "scrolled": true
   },
   "outputs": [
    {
     "name": "stdout",
     "output_type": "stream",
     "text": [
      "Shape: (1401982, 8)\n"
     ]
    }
   ],
   "source": [
    "num_rows_reviews = df_reviews.count()\n",
    "num_columns_reviews =len(df_reviews.columns)\n",
    "print(f\"Shape: ({num_rows_reviews}, {num_columns_reviews})\")"
   ]
  },
  {
   "cell_type": "code",
   "execution_count": 8,
   "id": "00fd2635",
   "metadata": {},
   "outputs": [
    {
     "name": "stdout",
     "output_type": "stream",
     "text": [
      "Number of observations with missing Review: 0\n",
      "Number of observations with missing Rating: 0\n",
      "Number of observations with missing Recipe Id: 0\n"
     ]
    }
   ],
   "source": [
    "# Searching and Printing missing values in Review, Rating, Recipe Id.\n",
    "\n",
    "missing_review = df_reviews.filter(df_reviews.Review.isNull())\n",
    "print(f\"Number of observations with missing Review: {missing_review.count()}\")\n",
    "\n",
    "missing_rating = df_reviews.filter(df_reviews.Rating.isNull())\n",
    "print(f\"Number of observations with missing Rating: {missing_rating.count()}\")\n",
    "\n",
    "missing_recipeid = df_reviews.filter(df_reviews.RecipeId.isNull())\n",
    "print(f\"Number of observations with missing Recipe Id: {missing_recipeid.count()}\")"
   ]
  },
  {
   "cell_type": "markdown",
   "id": "75a5f718",
   "metadata": {},
   "source": [
    "Regarding the frequency, three features will be analysed, the Rating scores (check which score have the highest number and the lowest), the RecipeId (check how many times that recipe recieved a review and the AuthorId (check how many times that author wrote a review)."
   ]
  },
  {
   "cell_type": "code",
   "execution_count": 9,
   "id": "249be20d",
   "metadata": {
    "collapsed": true
   },
   "outputs": [
    {
     "name": "stdout",
     "output_type": "stream",
     "text": [
      "Frequency of Ratings\n"
     ]
    },
    {
     "name": "stderr",
     "output_type": "stream",
     "text": [
      "                                                                                \r"
     ]
    },
    {
     "name": "stdout",
     "output_type": "stream",
     "text": [
      "+------+-------+\n",
      "|Rating|  count|\n",
      "+------+-------+\n",
      "|     0|  76248|\n",
      "|     1|  16559|\n",
      "|     2|  17597|\n",
      "|     3|  50279|\n",
      "|     4| 229217|\n",
      "|     5|1012082|\n",
      "+------+-------+\n",
      "\n",
      "Frequency of RecipesId\n"
     ]
    },
    {
     "name": "stderr",
     "output_type": "stream",
     "text": [
      "                                                                                \r"
     ]
    },
    {
     "name": "stdout",
     "output_type": "stream",
     "text": [
      "+--------+-----+\n",
      "|RecipeId|count|\n",
      "+--------+-----+\n",
      "|   45809| 2892|\n",
      "|    2886| 2182|\n",
      "|   27208| 1614|\n",
      "|   89204| 1584|\n",
      "|   39087| 1491|\n",
      "|   67256| 1359|\n",
      "|   35813| 1353|\n",
      "|   54257| 1325|\n",
      "|   22782| 1273|\n",
      "|   32204| 1228|\n",
      "|  420398| 1174|\n",
      "|   25690| 1076|\n",
      "|   69173| 1023|\n",
      "|   73440| 1008|\n",
      "|   68955|  910|\n",
      "|   33919|  885|\n",
      "|   82102|  862|\n",
      "|   25885|  856|\n",
      "|   85629|  805|\n",
      "|   28148|  804|\n",
      "+--------+-----+\n",
      "only showing top 20 rows\n",
      "\n",
      "Frequency of AuthorId\n"
     ]
    },
    {
     "name": "stderr",
     "output_type": "stream",
     "text": [
      "\r",
      "[Stage 20:=============================>                            (1 + 1) / 2]\r"
     ]
    },
    {
     "name": "stdout",
     "output_type": "stream",
     "text": [
      "+--------+-----+\n",
      "|AuthorId|count|\n",
      "+--------+-----+\n",
      "|  424680| 8842|\n",
      "|   37449| 6605|\n",
      "|  383346| 5438|\n",
      "|  128473| 4693|\n",
      "|  169430| 4586|\n",
      "|   89831| 3963|\n",
      "|   58104| 3743|\n",
      "|  199848| 3688|\n",
      "|  133174| 3590|\n",
      "|  305531| 3543|\n",
      "|  226863| 3340|\n",
      "|    4470| 3260|\n",
      "|  369715| 3167|\n",
      "|  498271| 3014|\n",
      "| 1072593| 2810|\n",
      "|  176615| 2790|\n",
      "|   95743| 2664|\n",
      "|  286566| 2635|\n",
      "|  107583| 2588|\n",
      "|   88099| 2574|\n",
      "+--------+-----+\n",
      "only showing top 20 rows\n",
      "\n"
     ]
    },
    {
     "name": "stderr",
     "output_type": "stream",
     "text": [
      "\r",
      "                                                                                \r"
     ]
    }
   ],
   "source": [
    "print(f\"Frequency of Ratings\")\n",
    "df_reviews.groupBy(\"Rating\").count().orderBy(\"Rating\").show()\n",
    "\n",
    "print(f\"Frequency of RecipesId\")\n",
    "df_reviews.groupBy(\"RecipeId\").count().orderBy(\"count\", ascending=False).show(20)\n",
    "\n",
    "print(f\"Frequency of AuthorId\")\n",
    "df_reviews.groupBy(\"AuthorId\").count().orderBy(\"count\", ascending=False).show(20)"
   ]
  },
  {
   "cell_type": "code",
   "execution_count": 10,
   "id": "123c868a",
   "metadata": {},
   "outputs": [
    {
     "name": "stderr",
     "output_type": "stream",
     "text": [
      "[Stage 27:>                                                         (0 + 1) / 1]\r"
     ]
    },
    {
     "name": "stdout",
     "output_type": "stream",
     "text": [
      "+--------+--------+-----------+\n",
      "|AuthorId|RecipeId|num_reviews|\n",
      "+--------+--------+-----------+\n",
      "+--------+--------+-----------+\n",
      "\n"
     ]
    },
    {
     "name": "stderr",
     "output_type": "stream",
     "text": [
      "\r",
      "                                                                                \r"
     ]
    }
   ],
   "source": [
    "# Checking if the same user (AuthorId) posted more than one review in a recipe (RecipeId).\n",
    "# Since both columns are integers, the group by and aggregation will be used to find it.\n",
    "\n",
    "# Grouping the Author and Recipe Id and count the occurrences.\n",
    "dd_review = df_reviews.groupBy(\"AuthorId\", \"RecipeId\").agg(F.count(\"*\").alias(\"num_reviews\"))\n",
    "# Filtering rows where the count is above 1, which can indicate that the recipe multiple review from the same user.\n",
    "dd_review = dd_review.filter(dd_review.num_reviews > 1)\n",
    "# Displaying the results.\n",
    "dd_review.show()"
   ]
  },
  {
   "cell_type": "markdown",
   "id": "e574a47f",
   "metadata": {},
   "source": [
    "- Based on the empty results provided by the previous line of code, no users posted a review more than once in the same recipe. "
   ]
  },
  {
   "cell_type": "markdown",
   "id": "59bae9c0",
   "metadata": {},
   "source": [
    "- Only displaying the statistical features of the rating score, which is the only column that is worth analysing, because the others are <b> identifications (labels) </b>"
   ]
  },
  {
   "cell_type": "code",
   "execution_count": 11,
   "id": "0a805603",
   "metadata": {},
   "outputs": [
    {
     "name": "stderr",
     "output_type": "stream",
     "text": [
      "                                                                                \r"
     ]
    },
    {
     "name": "stdout",
     "output_type": "stream",
     "text": [
      "+-------+------------------+\n",
      "|summary|            Rating|\n",
      "+-------+------------------+\n",
      "|  count|           1401982|\n",
      "|   mean| 4.407951029328479|\n",
      "| stddev|1.2720116809642992|\n",
      "|    min|                 0|\n",
      "|    max|                 5|\n",
      "+-------+------------------+\n",
      "\n"
     ]
    }
   ],
   "source": [
    "# Displaying statistical features of the Reviews dataset.\n",
    "df_reviews.describe().select(\"summary\", \"Rating\").show()"
   ]
  },
  {
   "cell_type": "markdown",
   "id": "0a2863ac",
   "metadata": {},
   "source": [
    "Based on missing value and statistical feature codes, there are no missing values on the reviews dataset. And the statistical features which is worth highlighting it are:\n",
    "- It has a range of scores between 0 and 5;\n",
    "- The mean of 4.4 is close to 5, therefore most of the data points are close the highest value, so the data present signs of being left-skewed; \n",
    "- It presents a high standard deviation given the range of the scores."
   ]
  },
  {
   "cell_type": "markdown",
   "id": "6ed45165",
   "metadata": {},
   "source": [
    "### Visual representation of the frequency and the distribution of the ratings."
   ]
  },
  {
   "cell_type": "code",
   "execution_count": 14,
   "id": "5d02c6c3",
   "metadata": {
    "scrolled": true
   },
   "outputs": [
    {
     "name": "stderr",
     "output_type": "stream",
     "text": [
      "                                                                                \r"
     ]
    }
   ],
   "source": [
    "ratings_column_pd = df_reviews.select(\"Rating\").toPandas()"
   ]
  },
  {
   "cell_type": "code",
   "execution_count": 22,
   "id": "8affcd03",
   "metadata": {
    "collapsed": true
   },
   "outputs": [
    {
     "data": {
      "image/png": "[encoded data removed]",
      "text/plain": [
       "<Figure size 864x576 with 1 Axes>"
      ]
     },
     "metadata": {},
     "output_type": "display_data"
    }
   ],
   "source": [
    "\n",
    "plt.figure(figsize=(12, 8)) # Setting the figure size.\n",
    "sns.set(style=\"whitegrid\", font_scale=1.2) # Addind a white space on the back and adjustive font scale.\n",
    "# Creates the boxplot\n",
    "ax = sns.boxplot(data=ratings_column_pd['Rating'], width=0.5)\n",
    "ax.set_title('Boxplot of Rating scores') # Add title to the figure.\n",
    "plt.tight_layout() # Adjusts the layout\n",
    "plt.show() # Shows the plot"
   ]
  },
  {
   "cell_type": "code",
   "execution_count": 38,
   "id": "72750776",
   "metadata": {
    "collapsed": true
   },
   "outputs": [
    {
     "data": {
      "image/png": "[encoded data removed]",
      "text/plain": [
       "<Figure size 720x432 with 1 Axes>"
      ]
     },
     "metadata": {},
     "output_type": "display_data"
    }
   ],
   "source": [
    "plt.figure(figsize=(10, 6))\n",
    "plt.hist(ratings_column_pd['Rating'], bins=6, edgecolor='black', alpha=0.7)\n",
    "plt.title(\"Histogram of Ranting Scores\")\n",
    "plt.xlabel(\"Ratings\")\n",
    "plt.xticks(range(6))\n",
    "plt.grid(axis='y')\n",
    "plt.show()"
   ]
  },
  {
   "cell_type": "code",
   "execution_count": 47,
   "id": "50155945",
   "metadata": {
    "collapsed": true
   },
   "outputs": [
    {
     "name": "stdout",
     "output_type": "stream",
     "text": [
      "Rating Class Neutral (3): 3.586280%\n",
      "Rating Class Negatives (0-2): 7.874851%\n",
      "Rating Class Positives (4-5): 88.538869%\n"
     ]
    }
   ],
   "source": [
    "from pyspark.sql.functions import when\n",
    "\n",
    "class_counts = (\n",
    "    df_reviews.withColumn(\n",
    "    \"Rating_class\",\n",
    "    when((df_reviews['Rating'] >= 0) & (df_reviews['Rating'] <= 2), \"Negatives (0-2)\")\n",
    "    .when(df_reviews['Rating'] == 3, \"Neutral (3)\")\n",
    "    .otherwise(\"Positives (4-5)\")\n",
    ")\n",
    "    .groupBy(\"Rating_class\")\n",
    "    .count()\n",
    "    .rdd.collectAsMap())\n",
    "\n",
    "total_reviews = sum(class_counts.values())\n",
    "Ratios = {k: v / total_reviews for k, v in class_counts.items()}\n",
    "\n",
    "for Rating_class, ratio in Ratios.items():\n",
    "    print(f\"Rating Class {Rating_class}: {ratio*100:2f}%\")"
   ]
  },
  {
   "cell_type": "markdown",
   "id": "593d7c7d",
   "metadata": {},
   "source": [
    "The ratings scores data is highly skewed, but also the ratio of the values between (0-3) and (4-5) are very small, which could cause add some bias into the sentiment analysis, and there are a few options to address this issue: \n",
    "- Weighted Loss Function; \n",
    "- Oversampling;\n",
    "- Cost-sensitive Neural Networks;"
   ]
  },
  {
   "cell_type": "markdown",
   "id": "09c8923a",
   "metadata": {},
   "source": [
    "- Because there are score zeros in the rating, a manual check will be apply in the following cells, to check if there is a balance between the review and the score zero."
   ]
  },
  {
   "cell_type": "code",
   "execution_count": 17,
   "id": "5ef49528",
   "metadata": {
    "collapsed": true
   },
   "outputs": [
    {
     "name": "stdout",
     "output_type": "stream",
     "text": [
      "+-------------------------------------------------------------------------------------------------------------------------------------------------------------------------------------------------------------------------------------------------------------------------------------------------------------------------------------------------------------------------------------------------------------------------------------------------------------------------------------------------------------------------------------------------+\n",
      "|Review                                                                                                                                                                                                                                                                                                                                                                                                                                                                                                                                           |\n",
      "+-------------------------------------------------------------------------------------------------------------------------------------------------------------------------------------------------------------------------------------------------------------------------------------------------------------------------------------------------------------------------------------------------------------------------------------------------------------------------------------------------------------------------------------------------+\n",
      "|great recipe its delicious                                                                                                                                                                                                                                                                                                                                                                                                                                                                                                                       |\n",
      "|I need to try this.....This is typical recipe from my Mother's side of the family. \"use this much\" i can not see this much on the phone.                                                                                                                                                                                                                                                                                                                                                                                                         |\n",
      "|Sounds a bit like Bigos                                                                                                                                                                                                                                                                                                                                                                                                                                                                                                                          |\n",
      "|If you use a can of tomato sauce in place of the soup,and,1/2 can of cider vinegar with 1/2 can water (useing the tomato sauce can), you will have really delicious stuffed cabbage with a zest.\\r\\n\\r\\n                  Pepper barlow\\r\\n\\r\\n\\r\\nsize tomato sauce- 15 oz.Can                                                                                                                                                                                                                                                                  |\n",
      "|I had a Great Aunt that made the most wonderful dill pickles she told me that her secret was that she used rain water.  How interesting.  June Bug                                                                                                                                                                                                                                                                                                                                                                                               |\n",
      "|To David Cansler,  I would like your recipe please.  June Bug                                                                                                                                                                                                                                                                                                                                                                                                                                                                                    |\n",
      "|My recipe is similar...using a whole chicken instead...and slightly different ingerdients..but the major difference is that I make a small dumpling instead of the noodles....                                                                                                                                                                                                                                                                                                                                                                   |\n",
      "|I have not tried this recipe.  It sounds wonderful, but oh so high in caloried and fat!  Are you using whole milk ricotta?  And, can't a low-calorie marjorine be substituted but the butter??                                                                                                                                                                                                                                                                                                                                                   |\n",
      "|Suet is the fat that our mothers used to get with the stew beef . You need to grind it up to go in the bread pudding.                                                                                                                                                                                                                                                                                                                                                                                                                            |\n",
      "|I find this recipe hard to follow because im in australia  and need to find similar ingredients.                                                                                                                                                                                                                                                                                                                                                                                                                                                 |\n",
      "|Easy recipe - couldn't believe how easy. But I found there was too much flour -left out nearly i cup.And tastes great Janice                                                                                                                                                                                                                                                                                                                                                                                                                     |\n",
      "|I would love to make this recipe but there is no indication of how many eggs it calls for. HELP!                                                                                                                                                                                                                                                                                                                                                                                                                                                 |\n",
      "|Anything?\\r\\n\\r\\nThis is all wrong.  Who uses powdered sugar in Margarita's? What kind of surprise is this --\"Hey, there's marshmallows in the jello! Yes!\"\\r\\n\\r\\nDrink NO beverage that changes any part of the word \"margarita\".  What the hell is coarsely cracked ice?\\r\\n\\r\\nThe f'in truth? Ok, ok:\\r\\n\\r\\nHalf the glass filled with crushed ice. Fill up to ice line with GOOD tequila (important). Splash of Grand Marnier. Add some fresh squeezed lime juice. Rub lime around the rim AFTER.  Salt is optional and is, well, useless.|\n",
      "|This is one that I grew up with, but instead of bread cumbs we used rice, and combined ground sausage with the beef, and lots of pepper. You can also bake this in the oven.  Boil your cabbage leaves, roll the mixture and place in the oven at 350 degrees for 30 minutes, cover with the tomato sause/soup.                                                                                                                                                                                                                                  |\n",
      "|Its so nutritious and filling!!!                                                                                                                                                                                                                                                                                                                                                                                                                                                                                                                 |\n",
      "|love it!!!!                                                                                                                                                                                                                                                                                                                                                                                                                                                                                                                                      |\n",
      "|The lovely colours of this cake tempt your eyes...and melt your heart...and make your mouth water, just to have a bite and then have another one and then one more...endlessly!!                                                                                                                                                                                                                                                                                                                                                                 |\n",
      "|The recipe states in the ingredients listing, 1 1/2 quarts of shellfish veloute.......it would have made it so much easier for the normal cook if a recipe for the veloute had been included. The everyday cook would not have a clue as to what shellfish veloute even is.  It's an elegant recipe, but worthless to most people, without the veloute recipe included.                                                                                                                                                                          |\n",
      "|I found myself with an over abundance of zucchini, as we plant our own every year.  This recipe is fast and easy and it's a different change of pace from the ordinary.                                                                                                                                                                                                                                                                                                                                                                          |\n",
      "|Just viewing the page reminds me how tasty it is!                                                                                                                                                                                                                                                                                                                                                                                                                                                                                                |\n",
      "+-------------------------------------------------------------------------------------------------------------------------------------------------------------------------------------------------------------------------------------------------------------------------------------------------------------------------------------------------------------------------------------------------------------------------------------------------------------------------------------------------------------------------------------------------+\n",
      "only showing top 20 rows\n",
      "\n"
     ]
    }
   ],
   "source": [
    "zero_reviews = df_reviews.filter(col(\"Rating\") == 0)\n",
    "sample_reviews = zero_reviews.sample(withReplacement=False, fraction=0.25, seed=70)\n",
    "sample_reviews.select(\"Review\").show(truncate=False)"
   ]
  },
  {
   "cell_type": "markdown",
   "id": "de085cbd",
   "metadata": {},
   "source": [
    "- According to the sample gathered from more than 70000 and randomly selecting 20 reviews at time and after many attempts with different seed numbers, the written reviews does not match the score zero give. Examples such as, great recipe, its delicious. Therefore, the option is to frop the 0 scores, so it does not affects the analysis, introducing noise to it."
   ]
  },
  {
   "cell_type": "markdown",
   "id": "db3f7bf8",
   "metadata": {},
   "source": [
    "### Text Processing of the Review Column for Sentiment Analysis"
   ]
  },
  {
   "cell_type": "markdown",
   "id": "18a36e6d",
   "metadata": {},
   "source": [
    "## AFTER YOU FINISH WITH THE TEXT PROCESSING, CREATE A SEPARETED DATAFRAME IN PANDAS FORMAT TO CREATE VISUALIZATION WITH ALL THE BEFORE AND AFTER, BECAUSE COLUMNS ARE BEING CREATED ANYWAY, SO SOME BEFORE AND AFTERS WILL BE AVAILABLE.\n",
    "\n",
    "- Lenght of words / Distribution (before and after tokenization);\n"
   ]
  },
  {
   "cell_type": "code",
   "execution_count": 102,
   "id": "dfb56812",
   "metadata": {},
   "outputs": [],
   "source": [
    "# Creating a column named Review_lower to the dataframe in a lowercase version.\n",
    "process_reviews = df_reviews.withColumn(\"Review_lower\", lower(col(\"Review\")))"
   ]
  },
  {
   "cell_type": "code",
   "execution_count": 73,
   "id": "9e15c96d",
   "metadata": {},
   "outputs": [
    {
     "name": "stderr",
     "output_type": "stream",
     "text": [
      "\r",
      "[Stage 63:=============================>                            (1 + 1) / 2]\r"
     ]
    },
    {
     "name": "stdout",
     "output_type": "stream",
     "text": [
      "Transformation successful.\n"
     ]
    },
    {
     "name": "stderr",
     "output_type": "stream",
     "text": [
      "\r",
      "                                                                                \r"
     ]
    }
   ],
   "source": [
    "# Looks for any observation that the transformation did not work.\n",
    "no_match = process_reviews.filter(lower(col(\"Review\")) !=col(\"Review_lower\")).count()\n",
    "\n",
    "if no_match == 0:\n",
    "    print(\"Transformation successful.\")\n",
    "else:\n",
    "    print(\"There is/are rows that the transformation did not work.\")"
   ]
  },
  {
   "cell_type": "code",
   "execution_count": 117,
   "id": "ab336712",
   "metadata": {
    "scrolled": false
   },
   "outputs": [],
   "source": [
    "from pyspark.sql.functions import length\n",
    "\n",
    "process_reviews = process_reviews.withColumn(\"rev_char_length\", length(process_reviews[\"Review_lower\"]))"
   ]
  },
  {
   "cell_type": "code",
   "execution_count": 121,
   "id": "b919cbbe",
   "metadata": {
    "scrolled": true
   },
   "outputs": [
    {
     "name": "stdout",
     "output_type": "stream",
     "text": [
      "+------------+\n",
      "|rev_w_length|\n",
      "+------------+\n",
      "|          44|\n",
      "|         102|\n",
      "|          91|\n",
      "|         119|\n",
      "|          18|\n",
      "|          38|\n",
      "|         108|\n",
      "|          62|\n",
      "|          26|\n",
      "|         106|\n",
      "|          48|\n",
      "|         118|\n",
      "|         182|\n",
      "|          27|\n",
      "|         167|\n",
      "|         146|\n",
      "|          10|\n",
      "|         339|\n",
      "|          83|\n",
      "|          65|\n",
      "+------------+\n",
      "only showing top 20 rows\n",
      "\n"
     ]
    }
   ],
   "source": [
    "process_reviews.select(\"rev_char_length\").show()"
   ]
  },
  {
   "cell_type": "code",
   "execution_count": 122,
   "id": "b967da95",
   "metadata": {
    "scrolled": true
   },
   "outputs": [
    {
     "name": "stderr",
     "output_type": "stream",
     "text": [
      "                                                                                \r"
     ]
    }
   ],
   "source": [
    "review_char_lengh_pd = process_reviews.select(\"rev_char_length\").toPandas()"
   ]
  },
  {
   "cell_type": "markdown",
   "id": "63f81696",
   "metadata": {},
   "source": [
    "## APPLY A TECHNIQUE TO IMPROVE VISUALIZATION."
   ]
  },
  {
   "cell_type": "code",
   "execution_count": 126,
   "id": "9981cdca",
   "metadata": {},
   "outputs": [
    {
     "data": {
      "image/png": "[encoded data removed]",
      "text/plain": [
       "<Figure size 720x432 with 1 Axes>"
      ]
     },
     "metadata": {},
     "output_type": "display_data"
    }
   ],
   "source": [
    "plt.figure(figsize=(10, 6))\n",
    "plt.hist(review_word_lengh_pd['rev_w_length'], edgecolor='black')\n",
    "plt.title(\"Histogram of Ranting Scores\")\n",
    "plt.xlabel(\"Ratings\")\n",
    "plt.xticks(range(6))\n",
    "plt.grid(axis='y')\n",
    "plt.show()"
   ]
  },
  {
   "cell_type": "code",
   "execution_count": 125,
   "id": "4af62cd7",
   "metadata": {},
   "outputs": [
    {
     "data": {
      "image/png": "[encoded data removed]",
      "text/plain": [
       "<Figure size 864x576 with 1 Axes>"
      ]
     },
     "metadata": {},
     "output_type": "display_data"
    }
   ],
   "source": [
    "\n",
    "plt.figure(figsize=(12, 8)) # Setting the figure size.\n",
    "sns.set(style=\"whitegrid\", font_scale=1.2) # Addind a white space on the back and adjustive font scale.\n",
    "# Creates the boxplot\n",
    "ax = sns.boxplot(data=review_word_lengh_pd['rev_w_length'], width=0.5)\n",
    "ax.set_title('Boxplot of Review wor') # Add title to the figure.\n",
    "plt.tight_layout() # Adjusts the layout\n",
    "plt.show() # Shows the plot"
   ]
  },
  {
   "cell_type": "code",
   "execution_count": 104,
   "id": "2074c92d",
   "metadata": {},
   "outputs": [],
   "source": [
    "tokenizer = Tokenizer(inputCol=\"Review_lower\", outputCol=\"tokens\")"
   ]
  },
  {
   "cell_type": "code",
   "execution_count": 105,
   "id": "084c1d32",
   "metadata": {},
   "outputs": [],
   "source": [
    "reviews_proc_token = tokenizer.transform(process_reviews)"
   ]
  },
  {
   "cell_type": "code",
   "execution_count": 106,
   "id": "63b55b19",
   "metadata": {},
   "outputs": [
    {
     "name": "stdout",
     "output_type": "stream",
     "text": [
      "+-------------------------------------------------------------------------------------------------------------------------------------------------------------------------------------------------------------------------------------------------------------------------------------------------------------------------------------------------------------+-------------------------------------------------------------------------------------------------------------------------------------------------------------------------------------------------------------------------------------------------------------------------------------------------------------------------------------------------------------------------------------------------------------+\n",
      "|Review_lower                                                                                                                                                                                                                                                                                                                                                 |tokens                                                                                                                                                                                                                                                                                                                                                                                                       |\n",
      "+-------------------------------------------------------------------------------------------------------------------------------------------------------------------------------------------------------------------------------------------------------------------------------------------------------------------------------------------------------------+-------------------------------------------------------------------------------------------------------------------------------------------------------------------------------------------------------------------------------------------------------------------------------------------------------------------------------------------------------------------------------------------------------------+\n",
      "|better than any you can get at a restaurant!                                                                                                                                                                                                                                                                                                                 |[better, than, any, you, can, get, at, a, restaurant!]                                                                                                                                                                                                                                                                                                                                                       |\n",
      "|i cut back on the mayo, and made up the difference with sour cream to adjust the stiffness of the dip.                                                                                                                                                                                                                                                       |[i, cut, back, on, the, mayo,, and, made, up, the, difference, with, sour, cream, to, adjust, the, stiffness, of, the, dip.]                                                                                                                                                                                                                                                                                 |\n",
      "|i think i did something wrong because i could taste the cornstarch in the finished product.                                                                                                                                                                                                                                                                  |[i, think, i, did, something, wrong, because, i, could, taste, the, cornstarch, in, the, finished, product.]                                                                                                                                                                                                                                                                                                 |\n",
      "|easily the best i have ever had.  juicy flavorful, not dry.  the vegetables retain crispness as well, not bland at all!                                                                                                                                                                                                                                      |[easily, the, best, i, have, ever, had., , juicy, flavorful,, not, dry., , the, vegetables, retain, crispness, as, well,, not, bland, at, all!]                                                                                                                                                                                                                                                              |\n",
      "|an excellent dish.                                                                                                                                                                                                                                                                                                                                           |[an, excellent, dish.]                                                                                                                                                                                                                                                                                                                                                                                       |\n",
      "|love it, but without the bean sprouts.                                                                                                                                                                                                                                                                                                                       |[love, it,, but, without, the, bean, sprouts.]                                                                                                                                                                                                                                                                                                                                                               |\n",
      "|chewy goodness, not crispy at all. i even threw in craisins and left the oatmeal whole, and they were great.                                                                                                                                                                                                                                                 |[chewy, goodness,, not, crispy, at, all., i, even, threw, in, craisins, and, left, the, oatmeal, whole,, and, they, were, great.]                                                                                                                                                                                                                                                                            |\n",
      "|would someone please check the nutrition facts of this recipe.                                                                                                                                                                                                                                                                                               |[would, someone, please, check, the, nutrition, facts, of, this, recipe.]                                                                                                                                                                                                                                                                                                                                    |\n",
      "|thought this was terrific!                                                                                                                                                                                                                                                                                                                                   |[thought, this, was, terrific!]                                                                                                                                                                                                                                                                                                                                                                              |\n",
      "|this is absolutely delicious.  i even served it with lime slices so you could squeeze on more of the acid.                                                                                                                                                                                                                                                   |[this, is, absolutely, delicious., , i, even, served, it, with, lime, slices, so, you, could, squeeze, on, more, of, the, acid.]                                                                                                                                                                                                                                                                             |\n",
      "|a little greasy, but a huge hit with the guests.                                                                                                                                                                                                                                                                                                             |[a, little, greasy,, but, a, huge, hit, with, the, guests.]                                                                                                                                                                                                                                                                                                                                                  |\n",
      "|leeks on a pizza?!  it was really delicious.  i used a boboli and added some chicken sausage slices and mushrooms too.                                                                                                                                                                                                                                       |[leeks, on, a, pizza?!, , it, was, really, delicious., , i, used, a, boboli, and, added, some, chicken, sausage, slices, and, mushrooms, too.]                                                                                                                                                                                                                                                               |\n",
      "|i deleted the bean sprouts and replaced them with salted cashew nuts...a nice complement to the sweet/sour dressing. our guests loved it, in my opinion,it deserves a \"5-pan\" rating.                                                                                                                                                                        |[i, deleted, the, bean, sprouts, and, replaced, them, with, salted, cashew, nuts...a, nice, complement, to, the, sweet/sour, dressing., our, guests, loved, it,, in, my, opinion,it, deserves, a, \"5-pan\", rating.]                                                                                                                                                                                          |\n",
      "|where does the bbq come in                                                                                                                                                                                                                                                                                                                                   |[where, does, the, bbq, come, in]                                                                                                                                                                                                                                                                                                                                                                            |\n",
      "|this was a fine sandwich, i'll definitely be making it again. i think you could also use blue cheese rather than goat or feta--blue seems to go well with roast beef.\\r\\n                                                                                                                                                                                    |[this, was, a, fine, sandwich,, i'll, definitely, be, making, it, again., i, think, you, could, also, use, blue, cheese, rather, than, goat, or, feta--blue, seems, to, go, well, with, roast, beef.]                                                                                                                                                                                                        |\n",
      "|very simple recipe to make! this is a refreshing treat that goes well with vanilla ice cream. my husband and i made this dessert disappear fast!\\r\\n                                                                                                                                                                                                         |[very, simple, recipe, to, make!, this, is, a, refreshing, treat, that, goes, well, with, vanilla, ice, cream., my, husband, and, i, made, this, dessert, disappear, fast!]                                                                                                                                                                                                                                  |\n",
      "|dear lord.                                                                                                                                                                                                                                                                                                                                                   |[dear, lord.]                                                                                                                                                                                                                                                                                                                                                                                                |\n",
      "|vastly superior to its bastard cousin the twinkie pie, this is a true delight to the \"redneck-chic\" cook in all of us.  my wife and girlfriends (in  utah, that is) were astounded.  how could you possibly combine canned tuna with refined sugar, and then (italics there) add brine!  \"recipezaar, baby- who needs the ocean?\"\\r\\n\\r\\neli totz\\r\\n\\r\\n\\r\\n|[vastly, superior, to, its, bastard, cousin, the, twinkie, pie,, this, is, a, true, delight, to, the, \"redneck-chic\", cook, in, all, of, us., , my, wife, and, girlfriends, (in, , utah,, that, is), were, astounded., , how, could, you, possibly, combine, canned, tuna, with, refined, sugar,, and, then, (italics, there), add, brine!, , \"recipezaar,, baby-, who, needs, the, ocean?\", , , , eli, totz]|\n",
      "|clearly,        \\r\\n\\r\\n\\r\\na nine shot drink deserves at least five stars.  stiff, baby!                                                                                                                                                                                                                                                                    |[clearly,, , , , , , , , , , , , , , a, nine, shot, drink, deserves, at, least, five, stars., , stiff,, baby!]                                                                                                                                                                                                                                                                                               |\n",
      "|i never tasted it but it sure doesn''t look easy.  toast is easy.                                                                                                                                                                                                                                                                                            |[i, never, tasted, it, but, it, sure, doesn''t, look, easy., , toast, is, easy.]                                                                                                                                                                                                                                                                                                                             |\n",
      "+-------------------------------------------------------------------------------------------------------------------------------------------------------------------------------------------------------------------------------------------------------------------------------------------------------------------------------------------------------------+-------------------------------------------------------------------------------------------------------------------------------------------------------------------------------------------------------------------------------------------------------------------------------------------------------------------------------------------------------------------------------------------------------------+\n",
      "only showing top 20 rows\n",
      "\n"
     ]
    }
   ],
   "source": [
    "reviews_proc_token.select(\"Review_lower\", \"tokens\").show(truncate=False)"
   ]
  },
  {
   "cell_type": "code",
   "execution_count": 94,
   "id": "94b8fc41",
   "metadata": {},
   "outputs": [],
   "source": [
    "from pyspark.sql.functions import regexp_replace # Remove punctions function.\n",
    "\n",
    "# Removing punctions of the Review_lowercase column.\n",
    "process_reviews = process_reviews.withColumn(\"Review_no_punct\", regexp_replace(col(\"Review_lower\"), \"[^a-zA-Z\\s]\", \"\"))"
   ]
  },
  {
   "cell_type": "code",
   "execution_count": 95,
   "id": "d41aadbd",
   "metadata": {},
   "outputs": [
    {
     "name": "stdout",
     "output_type": "stream",
     "text": [
      "+-----------------------------------------------------------------------------------------------------------------------+------------------------------------------------------------------------------------------------------------------+\n",
      "|Review_lower                                                                                                           |Review_no_punct                                                                                                   |\n",
      "+-----------------------------------------------------------------------------------------------------------------------+------------------------------------------------------------------------------------------------------------------+\n",
      "|better than any you can get at a restaurant!                                                                           |better than any you can get at a restaurant                                                                       |\n",
      "|i cut back on the mayo, and made up the difference with sour cream to adjust the stiffness of the dip.                 |i cut back on the mayo and made up the difference with sour cream to adjust the stiffness of the dip              |\n",
      "|i think i did something wrong because i could taste the cornstarch in the finished product.                            |i think i did something wrong because i could taste the cornstarch in the finished product                        |\n",
      "|easily the best i have ever had.  juicy flavorful, not dry.  the vegetables retain crispness as well, not bland at all!|easily the best i have ever had  juicy flavorful not dry  the vegetables retain crispness as well not bland at all|\n",
      "|an excellent dish.                                                                                                     |an excellent dish                                                                                                 |\n",
      "|love it, but without the bean sprouts.                                                                                 |love it but without the bean sprouts                                                                              |\n",
      "|chewy goodness, not crispy at all. i even threw in craisins and left the oatmeal whole, and they were great.           |chewy goodness not crispy at all i even threw in craisins and left the oatmeal whole and they were great          |\n",
      "|would someone please check the nutrition facts of this recipe.                                                         |would someone please check the nutrition facts of this recipe                                                     |\n",
      "|thought this was terrific!                                                                                             |thought this was terrific                                                                                         |\n",
      "|this is absolutely delicious.  i even served it with lime slices so you could squeeze on more of the acid.             |this is absolutely delicious  i even served it with lime slices so you could squeeze on more of the acid          |\n",
      "+-----------------------------------------------------------------------------------------------------------------------+------------------------------------------------------------------------------------------------------------------+\n",
      "only showing top 10 rows\n",
      "\n"
     ]
    }
   ],
   "source": [
    "process_reviews.select(\"Review_lower\", \"Review_no_punct\").show(n=10, truncate=False)   "
   ]
  },
  {
   "cell_type": "code",
   "execution_count": 88,
   "id": "a2b85861",
   "metadata": {},
   "outputs": [],
   "source": [
    "# Removing punctions of the Review_lowercase column.\n",
    "process_reviews = process_reviews.withColumn(\"Review_no_punct2\", regexp_replace(col(\"Review_no_punct\"), \"[\\r\\n]\", \"\"))"
   ]
  },
  {
   "cell_type": "code",
   "execution_count": 100,
   "id": "deca4c75",
   "metadata": {},
   "outputs": [
    {
     "name": "stdout",
     "output_type": "stream",
     "text": [
      "+-------------------------------------------------------------------------------------------------------------------------------------------------------------------------------------------------------------------------------------------------------------------------------------------------------------------------------------------+-----------------------------------------------------------------------------------------------------------------------------------------------------------------------------------------------------------------------------------------------------------------------------------------------------------------------+\n",
      "|Review_no_punct                                                                                                                                                                                                                                                                                                                            |Review_no_punct2                                                                                                                                                                                                                                                                                                       |\n",
      "+-------------------------------------------------------------------------------------------------------------------------------------------------------------------------------------------------------------------------------------------------------------------------------------------------------------------------------------------+-----------------------------------------------------------------------------------------------------------------------------------------------------------------------------------------------------------------------------------------------------------------------------------------------------------------------+\n",
      "|better than any you can get at a restaurant                                                                                                                                                                                                                                                                                                |better than any you can get at a restaurant                                                                                                                                                                                                                                                                            |\n",
      "|i cut back on the mayo and made up the difference with sour cream to adjust the stiffness of the dip                                                                                                                                                                                                                                       |i cut back on the mayo and made up the difference with sour cream to adjust the stiffness of the dip                                                                                                                                                                                                                   |\n",
      "|i think i did something wrong because i could taste the cornstarch in the finished product                                                                                                                                                                                                                                                 |i think i did something wrong because i could taste the cornstarch in the finished product                                                                                                                                                                                                                             |\n",
      "|easily the best i have ever had  juicy flavorful not dry  the vegetables retain crispness as well not bland at all                                                                                                                                                                                                                         |easily the best i have ever had  juicy flavorful not dry  the vegetables retain crispness as well not bland at all                                                                                                                                                                                                     |\n",
      "|an excellent dish                                                                                                                                                                                                                                                                                                                          |an excellent dish                                                                                                                                                                                                                                                                                                      |\n",
      "|love it but without the bean sprouts                                                                                                                                                                                                                                                                                                       |love it but without the bean sprouts                                                                                                                                                                                                                                                                                   |\n",
      "|chewy goodness not crispy at all i even threw in craisins and left the oatmeal whole and they were great                                                                                                                                                                                                                                   |chewy goodness not crispy at all i even threw in craisins and left the oatmeal whole and they were great                                                                                                                                                                                                               |\n",
      "|would someone please check the nutrition facts of this recipe                                                                                                                                                                                                                                                                              |would someone please check the nutrition facts of this recipe                                                                                                                                                                                                                                                          |\n",
      "|thought this was terrific                                                                                                                                                                                                                                                                                                                  |thought this was terrific                                                                                                                                                                                                                                                                                              |\n",
      "|this is absolutely delicious  i even served it with lime slices so you could squeeze on more of the acid                                                                                                                                                                                                                                   |this is absolutely delicious  i even served it with lime slices so you could squeeze on more of the acid                                                                                                                                                                                                               |\n",
      "|a little greasy but a huge hit with the guests                                                                                                                                                                                                                                                                                             |a little greasy but a huge hit with the guests                                                                                                                                                                                                                                                                         |\n",
      "|leeks on a pizza  it was really delicious  i used a boboli and added some chicken sausage slices and mushrooms too                                                                                                                                                                                                                         |leeks on a pizza  it was really delicious  i used a boboli and added some chicken sausage slices and mushrooms too                                                                                                                                                                                                     |\n",
      "|i deleted the bean sprouts and replaced them with salted cashew nutsa nice complement to the sweetsour dressing our guests loved it in my opinionit deserves a pan rating                                                                                                                                                                  |i deleted the bean sprouts and replaced them with salted cashew nutsa nice complement to the sweetsour dressing our guests loved it in my opinionit deserves a pan rating                                                                                                                                              |\n",
      "|where does the bbq come in                                                                                                                                                                                                                                                                                                                 |where does the bbq come in                                                                                                                                                                                                                                                                                             |\n",
      "|this was a fine sandwich ill definitely be making it again i think you could also use blue cheese rather than goat or fetablue seems to go well with roast beef\\r\\n                                                                                                                                                                        |this was a fine sandwich ill definitely be making it again i think you could also use blue cheese rather than goat or fetablue seems to go well with roast beef                                                                                                                                                        |\n",
      "|very simple recipe to make this is a refreshing treat that goes well with vanilla ice cream my husband and i made this dessert disappear fast\\r\\n                                                                                                                                                                                          |very simple recipe to make this is a refreshing treat that goes well with vanilla ice cream my husband and i made this dessert disappear fast                                                                                                                                                                          |\n",
      "|dear lord                                                                                                                                                                                                                                                                                                                                  |dear lord                                                                                                                                                                                                                                                                                                              |\n",
      "|vastly superior to its bastard cousin the twinkie pie this is a true delight to the redneckchic cook in all of us  my wife and girlfriends in  utah that is were astounded  how could you possibly combine canned tuna with refined sugar and then italics there add brine  recipezaar baby who needs the ocean\\r\\n\\r\\neli totz\\r\\n\\r\\n\\r\\n|vastly superior to its bastard cousin the twinkie pie this is a true delight to the redneckchic cook in all of us  my wife and girlfriends in  utah that is were astounded  how could you possibly combine canned tuna with refined sugar and then italics there add brine  recipezaar baby who needs the oceaneli totz|\n",
      "|clearly        \\r\\n\\r\\n\\r\\na nine shot drink deserves at least five stars  stiff baby                                                                                                                                                                                                                                                      |clearly        a nine shot drink deserves at least five stars  stiff baby                                                                                                                                                                                                                                              |\n",
      "|i never tasted it but it sure doesnt look easy  toast is easy                                                                                                                                                                                                                                                                              |i never tasted it but it sure doesnt look easy  toast is easy                                                                                                                                                                                                                                                          |\n",
      "+-------------------------------------------------------------------------------------------------------------------------------------------------------------------------------------------------------------------------------------------------------------------------------------------------------------------------------------------+-----------------------------------------------------------------------------------------------------------------------------------------------------------------------------------------------------------------------------------------------------------------------------------------------------------------------+\n",
      "only showing top 20 rows\n",
      "\n"
     ]
    }
   ],
   "source": [
    "process_reviews.select(\"Review_no_punct\", \"Review_no_punct2\").show(n=20, truncate=False)  "
   ]
  }
 ],
 "metadata": {
  "kernelspec": {
   "display_name": "Python 3 (ipykernel)",
   "language": "python",
   "name": "python3"
  },
  "language_info": {
   "codemirror_mode": {
    "name": "ipython",
    "version": 3
   },
   "file_extension": ".py",
   "mimetype": "text/x-python",
   "name": "python",
   "nbconvert_exporter": "python",
   "pygments_lexer": "ipython3",
   "version": "3.10.12"
  }
 },
 "nbformat": 4,
 "nbformat_minor": 5
}
