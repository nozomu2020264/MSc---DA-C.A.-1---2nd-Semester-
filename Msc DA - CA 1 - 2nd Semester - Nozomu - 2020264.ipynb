{
 "cells": [
  {
   "cell_type": "markdown",
   "id": "d341a948",
   "metadata": {},
   "source": [
    "Nozomu Nakanishi - 2020264 - Msc DA"
   ]
  },
  {
   "cell_type": "markdown",
   "id": "1a1304cc",
   "metadata": {},
   "source": [
    "This notebook presents the technical part of the research which aims develop a neural network for sentiment analysis. The chosen networks <b>is/are, LSTM and (if you have time to develop a different one.</b>\n",
    "The chronological order will follow: \n",
    "1. Introduction;\n",
    "2. Data preparation and EDA; \n",
    "3. Text pre-processing;\n",
    "4. Embedding and Padding; \n",
    "5. LSTM; \n",
    ". Conclusion "
   ]
  },
  {
   "cell_type": "markdown",
   "id": "e7f0692e",
   "metadata": {},
   "source": [
    "## 1. Introduction \n",
    "\n",
    "The experiment will be carried out by importing the chosen dataset from Kaggle, the data is licensed under the Creative Commons (CC0 1.0 DEED), allowing the use of the data. \n",
    "\n",
    "The link for the dataset is available at kaggle: https://www.kaggle.com/datasets/irkaal/foodcom-recipes-and-reviews\n",
    "\n",
    "The objective of the notebook is to develop a neural network using PySpark (chosen tool for the project) and the chosen dataset to achieve the goal is the recipe reviews from food.com, which is  composed by 8 features and more tham a million rows.\n",
    "- There are two datasets in the zip file, however it does not says that the recipe ID in one will match the recipe ID in the other, therefore using only the reviews dataset.\n",
    "- Also, two types of format is available, parquet and csv files. And the choice for the first one is that the parquet file already has a columnar type, which when taking into consideration the tools that are being used such as pyspark it will present a better speed perfomance when performing tasks. In addition to the reduction for its size in megabytes (csv - 496.1 and 173.8). \n",
    "- The dataset review, which is going to be manipulated, is about the written reviews along with score rating given. They are the most important features in the dataset to achieve the objective. \n",
    "\n",
    "<b>The technical part of the task will be carried out by performing sentiment analysis using Long Short Term Memory (LSTM).....</b>"
   ]
  },
  {
   "cell_type": "code",
   "execution_count": 1,
   "id": "6de0a9d0",
   "metadata": {
    "scrolled": false
   },
   "outputs": [
    {
     "data": {
      "text/plain": [
       "'local[*]'"
      ]
     },
     "execution_count": 1,
     "metadata": {},
     "output_type": "execute_result"
    }
   ],
   "source": [
    "# The command below is to check where the PySpark is running, \n",
    "# in this case (returned:local[*]) data is being processed on my local (personal) machine.\n",
    "\n",
    "sc.master"
   ]
  },
  {
   "cell_type": "markdown",
   "id": "624cee5c",
   "metadata": {},
   "source": [
    "- The libraries to perform the required stages are going to be imported in the next cell."
   ]
  },
  {
   "cell_type": "code",
   "execution_count": 2,
   "id": "09e85221",
   "metadata": {},
   "outputs": [
    {
     "name": "stderr",
     "output_type": "stream",
     "text": [
      "/usr/lib/python3/dist-packages/scipy/__init__.py:146: UserWarning: A NumPy version >=1.17.3 and <1.25.0 is required for this version of SciPy (detected version 1.26.0\n",
      "  warnings.warn(f\"A NumPy version >={np_minversion} and <{np_maxversion}\"\n"
     ]
    }
   ],
   "source": [
    "from pyspark.sql.functions import count # Funcion to get the \"size\" of the data.\n",
    "from pyspark.sql.functions import when # When function.\n",
    "from pyspark.sql.functions import col # Function column.\n",
    "from pyspark.sql.functions import mean, min, max, stddev # Imports function for statistical features. \n",
    "from pyspark.sql import functions as F # Data processing framework.\n",
    "from pyspark.sql.functions import lower # lower case function.\n",
    "from pyspark.sql.functions import length # Import lenght function.\n",
    "from pyspark.sql.functions import size, split # Imports function size and split.\n",
    "from pyspark.ml.feature import Tokenizer # Importing Tokenizer.\n",
    "from pyspark.sql.functions import regexp_replace # Remove / Replace function.\n",
    "from pyspark.sql.functions import explode, desc # Importing for word count.\n",
    "from pyspark.ml.feature import StopWordsRemover # Imports stopword remover.\n",
    "from pyspark.sql.types import StructField, StructType # Importing features for Schema.\n",
    "from pyspark.sql.types import IntegerType, StringType, TimestampType # Tools to create the schema.\n",
    "from pyspark.sql.functions import udf # Imports function UDF (user defined functions).\n",
    "from pyspark.sql.types import ArrayType, StringType\n",
    "from pyspark.ml.linalg import VectorUDT\n",
    "from pyspark.ml.feature import Word2Vec\n",
    "import numpy as np # for numerical operations.\n",
    "import seaborn as sns # Visualization tool.\n",
    "import matplotlib.pyplot as plt # visualization\n",
    "%matplotlib inline \n",
    "import spacy\n",
    "\n",
    "import warnings # Ignore warnings.\n",
    "warnings.filterwarnings(\"ignore\")"
   ]
  },
  {
   "cell_type": "code",
   "execution_count": 3,
   "id": "31ba4371",
   "metadata": {},
   "outputs": [],
   "source": [
    "# Initiating a spark session.\n",
    "spark = SparkSession.builder.appName('recipe_reviews').getOrCreate()"
   ]
  },
  {
   "cell_type": "markdown",
   "id": "c092bac1",
   "metadata": {},
   "source": [
    "## 2. Data preparation and EDA\n",
    "- Challeging to separete them both because it will be performed back and forth.\n",
    "- First, the numerical feature will be analysed and after the written review. \n",
    "\n",
    "#### - Importing the Review dataset.\n",
    "\n",
    "To start the dataset will be imported in parquet format as cited in the introduction."
   ]
  },
  {
   "cell_type": "code",
   "execution_count": 4,
   "id": "e4cc4c22",
   "metadata": {},
   "outputs": [
    {
     "name": "stderr",
     "output_type": "stream",
     "text": [
      "                                                                                \r"
     ]
    }
   ],
   "source": [
    "# Imports the dataset in a parquet format.\n",
    "df_reviews_og = spark.read.parquet(\"file:///home/hduser/Downloads/Dataset CA1/reviews.parquet\")"
   ]
  },
  {
   "cell_type": "code",
   "execution_count": 5,
   "id": "500cb040",
   "metadata": {},
   "outputs": [
    {
     "name": "stdout",
     "output_type": "stream",
     "text": [
      "root\n",
      " |-- ReviewId: integer (nullable = true)\n",
      " |-- RecipeId: integer (nullable = true)\n",
      " |-- AuthorId: integer (nullable = true)\n",
      " |-- AuthorName: string (nullable = true)\n",
      " |-- Rating: integer (nullable = true)\n",
      " |-- Review: string (nullable = true)\n",
      " |-- DateSubmitted: timestamp (nullable = true)\n",
      " |-- DateModified: timestamp (nullable = true)\n",
      "\n"
     ]
    }
   ],
   "source": [
    "# Prints the Schema of the dataset.\n",
    "df_reviews_og.printSchema()"
   ]
  },
  {
   "cell_type": "markdown",
   "id": "8f70430e",
   "metadata": {},
   "source": [
    "- The parquet format file already had a schema, therefore keeping the original dataset schema. However, if the csv were to be handled the following code would be appropriate to apply the schema, including the column names along with the data type."
   ]
  },
  {
   "cell_type": "code",
   "execution_count": 6,
   "id": "9b9548c8",
   "metadata": {},
   "outputs": [],
   "source": [
    "# Code that would be used to apply the schema in the review dataset if was required.\n",
    "\n",
    "#schema_reviews = StructType([\n",
    "    #StructField('ReviewId', IntegerType(), True),\n",
    "    #StructField('RecipeId', IntegerType(), True),\n",
    "    #StructField('AuthorId', IntegerType(), True),\n",
    "    #StructField('AuthorName', StringType(), True),\n",
    "    #StructField('Rating', IntegerType(), True),\n",
    "    #StructField('Review', StringType(), True),\n",
    "    #StructField('DateSubmitted', TimestampType(), True),\n",
    "    #StructField('DateModified', TimestampType(), True)])"
   ]
  },
  {
   "cell_type": "markdown",
   "id": "6ef469f7",
   "metadata": {},
   "source": [
    "The library Pandas used in the previous semester had different set of functions and/or commands. For example, the shape which provided the number of columns and observations in the dataset. However, in the PySpark the count method is use to tell how many rows and the lenght of the columns for the number of features. \n",
    "<br>However, in a later stage pandas format will be used for visualization purpose only, because pandas visualizations are better than the pyspark."
   ]
  },
  {
   "cell_type": "code",
   "execution_count": 7,
   "id": "3d3cd1c0",
   "metadata": {},
   "outputs": [
    {
     "name": "stderr",
     "output_type": "stream",
     "text": [
      "                                                                                \r"
     ]
    },
    {
     "name": "stdout",
     "output_type": "stream",
     "text": [
      "+--------+--------+--------+----------------+------+--------------------+-------------------+-------------------+\n",
      "|ReviewId|RecipeId|AuthorId|      AuthorName|Rating|              Review|      DateSubmitted|       DateModified|\n",
      "+--------+--------+--------+----------------+------+--------------------+-------------------+-------------------+\n",
      "|       2|     992|    2008|       gayg msft|     5|better than any y...|2000-01-25 21:44:00|2000-01-25 21:44:00|\n",
      "|       7|    4384|    1634|   Bill Hilbrich|     4|I cut back on the...|2001-10-17 17:49:59|2001-10-17 17:49:59|\n",
      "|       9|    4523|    2046|Gay Gilmore ckpt|     2|i think i did som...|2000-02-25 09:00:00|2000-02-25 09:00:00|\n",
      "|      13|    7435|    1773|   Malarkey Test|     5|easily the best i...|2000-03-13 21:15:00|2000-03-13 21:15:00|\n",
      "|      14|      44|    2085|      Tony Small|     5|  An excellent dish.|2000-03-28 13:51:00|2000-03-28 13:51:00|\n",
      "|      17|    5221|    2046|Gay Gilmore ckpt|     4|love it, but with...|2000-05-08 12:08:00|2000-05-08 12:08:00|\n",
      "|      19|   13307|    2046|Gay Gilmore ckpt|     5|chewy goodness, n...|2000-05-21 17:59:00|2000-05-21 17:59:00|\n",
      "|      21|     148|    2156|  Darlene Blythe|     0|Would someone ple...|2000-06-02 11:01:00|2000-06-02 11:01:00|\n",
      "|      22|     517|    2046|Gay Gilmore ckpt|     5|thought this was ...|2000-02-25 09:02:00|2000-02-25 09:02:00|\n",
      "|      23|    4684|    2046|Gay Gilmore ckpt|     5|this is absolutel...|2000-02-25 09:06:00|2000-02-25 09:06:00|\n",
      "+--------+--------+--------+----------------+------+--------------------+-------------------+-------------------+\n",
      "only showing top 10 rows\n",
      "\n"
     ]
    }
   ],
   "source": [
    "# It shows the first ten observations.\n",
    "df_reviews_og.show(10)"
   ]
  },
  {
   "cell_type": "code",
   "execution_count": 8,
   "id": "30ecdc19",
   "metadata": {
    "scrolled": false
   },
   "outputs": [
    {
     "name": "stdout",
     "output_type": "stream",
     "text": [
      "Shape: (1401982, 8)\n"
     ]
    }
   ],
   "source": [
    "num_rows_reviews = df_reviews_og.count() # Counting the number of rows.\n",
    "num_columns_reviews =len(df_reviews_og.columns) # Length of columns.\n",
    "print(f\"Shape: ({num_rows_reviews}, {num_columns_reviews})\") # Prints the shape of the dataset."
   ]
  },
  {
   "cell_type": "markdown",
   "id": "1585caa0",
   "metadata": {},
   "source": [
    "The previous code shows the shape of the dataset (1401982 rows, 8 columns) and by looking at the features, a few of them will not be needed to the analysis.\n",
    "- Temporal analysis is not the focus of the project, therefore, the date submitted and modified will be dropped in an early stage.\n",
    "- The Ids will not be part of the model, but will remain to check if they can indicate any anomaly.  "
   ]
  },
  {
   "cell_type": "code",
   "execution_count": 9,
   "id": "0e054d38",
   "metadata": {},
   "outputs": [],
   "source": [
    "# Droping two columns of the dataset.\n",
    "df_reviews_og = df_reviews_og.drop(\"DateSubmitted\", \"DateModified\")"
   ]
  },
  {
   "cell_type": "code",
   "execution_count": 10,
   "id": "00fd2635",
   "metadata": {},
   "outputs": [
    {
     "name": "stdout",
     "output_type": "stream",
     "text": [
      "Number of observations with missing Review: 0\n",
      "Number of observations with missing Rating: 0\n"
     ]
    }
   ],
   "source": [
    "# The two codes below are searching and printing the number of missing values in Review, Rating, Recipe Id.\n",
    "\n",
    "missing_review = df_reviews_og.filter(df_reviews_og.Review.isNull())\n",
    "print(f\"Number of observations with missing Review: {missing_review.count()}\")\n",
    "\n",
    "missing_rating = df_reviews_og.filter(df_reviews_og.Rating.isNull())\n",
    "print(f\"Number of observations with missing Rating: {missing_rating.count()}\")"
   ]
  },
  {
   "cell_type": "markdown",
   "id": "75a5f718",
   "metadata": {},
   "source": [
    "- No missing values are recorded in Review and Ratings. Only performing the command for two features because they are going to be the focus of the analysis. \n",
    "\n",
    "<br>\n",
    "\n",
    "- The following codes does not affect the analysis directly, but it increases the knowledge about the data.\n",
    "The next code will generate the frequency of three features, the Rating scores (check which score have the highest number and the lowest), the RecipeId (check how many times that recipe recieved a review and the AuthorId (check how many times that author wrote a review)."
   ]
  },
  {
   "cell_type": "code",
   "execution_count": 11,
   "id": "249be20d",
   "metadata": {},
   "outputs": [
    {
     "name": "stderr",
     "output_type": "stream",
     "text": [
      "                                                                                \r"
     ]
    },
    {
     "name": "stdout",
     "output_type": "stream",
     "text": [
      "+------+-------+\n",
      "|Rating|  count|\n",
      "+------+-------+\n",
      "|     0|  76248|\n",
      "|     1|  16559|\n",
      "|     2|  17597|\n",
      "|     3|  50279|\n",
      "|     4| 229217|\n",
      "|     5|1012082|\n",
      "+------+-------+\n",
      "\n",
      "Frequency of Ratings\n"
     ]
    },
    {
     "name": "stderr",
     "output_type": "stream",
     "text": [
      "                                                                                \r"
     ]
    },
    {
     "name": "stdout",
     "output_type": "stream",
     "text": [
      "+--------+-----+\n",
      "|RecipeId|count|\n",
      "+--------+-----+\n",
      "|   45809| 2892|\n",
      "|    2886| 2182|\n",
      "|   27208| 1614|\n",
      "|   89204| 1584|\n",
      "|   39087| 1491|\n",
      "|   67256| 1359|\n",
      "|   35813| 1353|\n",
      "|   54257| 1325|\n",
      "|   22782| 1273|\n",
      "|   32204| 1228|\n",
      "|  420398| 1174|\n",
      "|   25690| 1076|\n",
      "|   69173| 1023|\n",
      "|   73440| 1008|\n",
      "|   68955|  910|\n",
      "|   33919|  885|\n",
      "|   82102|  862|\n",
      "|   25885|  856|\n",
      "|   85629|  805|\n",
      "|   28148|  804|\n",
      "+--------+-----+\n",
      "only showing top 20 rows\n",
      "\n",
      "Frequency of RecipesId\n"
     ]
    },
    {
     "name": "stderr",
     "output_type": "stream",
     "text": [
      "\r",
      "[Stage 17:=============================>                            (1 + 1) / 2]\r"
     ]
    },
    {
     "name": "stdout",
     "output_type": "stream",
     "text": [
      "+--------+-----+\n",
      "|AuthorId|count|\n",
      "+--------+-----+\n",
      "|  424680| 8842|\n",
      "|   37449| 6605|\n",
      "|  383346| 5438|\n",
      "|  128473| 4693|\n",
      "|  169430| 4586|\n",
      "|   89831| 3963|\n",
      "|   58104| 3743|\n",
      "|  199848| 3688|\n",
      "|  133174| 3590|\n",
      "|  305531| 3543|\n",
      "|  226863| 3340|\n",
      "|    4470| 3260|\n",
      "|  369715| 3167|\n",
      "|  498271| 3014|\n",
      "| 1072593| 2810|\n",
      "|  176615| 2790|\n",
      "|   95743| 2664|\n",
      "|  286566| 2635|\n",
      "|  107583| 2588|\n",
      "|   88099| 2574|\n",
      "+--------+-----+\n",
      "only showing top 20 rows\n",
      "\n",
      "Frequency of AuthorId\n"
     ]
    },
    {
     "name": "stderr",
     "output_type": "stream",
     "text": [
      "\r",
      "                                                                                \r"
     ]
    }
   ],
   "source": [
    "# The codes below are getting the frequency of values using the count function and printing them from\n",
    "# the highest to the lowest.\n",
    "\n",
    "df_reviews_og.groupBy(\"Rating\").count().orderBy(\"Rating\").show()\n",
    "print(f\"Frequency of Ratings\")\n",
    "\n",
    "df_reviews_og.groupBy(\"RecipeId\").count().orderBy(\"count\", ascending=False).show(20)\n",
    "print(f\"Frequency of RecipesId\")\n",
    "\n",
    "df_reviews_og.groupBy(\"AuthorId\").count().orderBy(\"count\", ascending=False).show(20)\n",
    "print(f\"Frequency of AuthorId\")"
   ]
  },
  {
   "cell_type": "markdown",
   "id": "d826e405",
   "metadata": {},
   "source": [
    "- The Rating columns shows that most of its values are located between 4 and 5.\n",
    "\n",
    "The Recipes and AuthorId column:\n",
    "- The recipes that received the highest amount of reviews was with the ID of 45089 and 2886 (more than 2000 ratings);\n",
    "- The Author that most reviewed recipes on the website was the Id 424680 with 8842, followed by Id 37449 with 6605 reviews;"
   ]
  },
  {
   "cell_type": "markdown",
   "id": "42d6b3d0",
   "metadata": {},
   "source": [
    "The first attempt was with the entire dataset (1401982 observations), however due to computational reasons only 20% of the dataset will be manipulated and applied to the neural networks. \n",
    "- During the first attempt, any errors, typos in the parameters were taking hours to restart, or to wait for the error so it can be fixed later.\n",
    "\n",
    "By looking at the rating score frequency in the previous code it is noticeable that distributions of the ratings are imbalanced. Thus, the 20% of the dataset will have the same imbalaced characteristics as the original dataset in order to maintain the shape of the data.\n",
    "- Because tis experimentation is more focused on sentiment analysis, instead of sampling by the raw scores, the sentiment label (classes) will be used to applied a stratified split, maintaining the same distribution of classes as the original. "
   ]
  },
  {
   "cell_type": "code",
   "execution_count": 12,
   "id": "b279c8fb",
   "metadata": {},
   "outputs": [
    {
     "name": "stdout",
     "output_type": "stream",
     "text": [
      "+------+--------+\n",
      "|rating|   label|\n",
      "+------+--------+\n",
      "|     5|positive|\n",
      "|     4|positive|\n",
      "|     2|negative|\n",
      "|     5|positive|\n",
      "|     5|positive|\n",
      "|     4|positive|\n",
      "|     5|positive|\n",
      "|     0|negative|\n",
      "|     5|positive|\n",
      "|     5|positive|\n",
      "|     4|positive|\n",
      "|     5|positive|\n",
      "|     5|positive|\n",
      "|     1|negative|\n",
      "|     5|positive|\n",
      "|     4|positive|\n",
      "|     1|negative|\n",
      "|     5|positive|\n",
      "|     5|positive|\n",
      "|     3| neutral|\n",
      "+------+--------+\n",
      "only showing top 20 rows\n",
      "\n"
     ]
    }
   ],
   "source": [
    "# Creates a new column 'label' based on rating values\n",
    "df_reviews_og = df_reviews_og.withColumn(\"label\", \n",
    "                   when(col(\"rating\").isin([0, 1, 2]), \"negative\")\n",
    "                   .when(col(\"rating\") == 3, \"neutral\")\n",
    "                   .otherwise(\"positive\")\n",
    "                  )\n",
    "\n",
    "# You can verify by showing a few records\n",
    "df_reviews_og.select(\"rating\", \"label\").show()"
   ]
  },
  {
   "cell_type": "code",
   "execution_count": 13,
   "id": "5a87f1cf",
   "metadata": {},
   "outputs": [
    {
     "name": "stderr",
     "output_type": "stream",
     "text": [
      "\r",
      "[Stage 21:=============================>                            (1 + 1) / 2]\r"
     ]
    },
    {
     "name": "stdout",
     "output_type": "stream",
     "text": [
      "Rating Class Neutral (3): 3.586280%\n",
      "Rating Class Negatives (0-2): 7.874851%\n",
      "Rating Class Positives (4-5): 88.538869%\n"
     ]
    },
    {
     "name": "stderr",
     "output_type": "stream",
     "text": [
      "\r",
      "                                                                                \r"
     ]
    }
   ],
   "source": [
    "# Calculating the distribution of scores and the three different classes fo the train set.\n",
    "# Placing the 0,1,2 to the negatives, 3 neutral and 4,5 positives.\n",
    "class_counts = (\n",
    "    df_reviews_og.withColumn(\n",
    "    \"Rating_class\",\n",
    "    when((df_reviews_og['Rating'] >= 0) & (df_reviews_og['Rating'] <= 2), \"Negatives (0-2)\")\n",
    "    .when(df_reviews_og['Rating'] == 3, \"Neutral (3)\")\n",
    "    .otherwise(\"Positives (4-5)\"))\n",
    "# Grouping the ratings into its class and using rdd to transform them into a dictionary which is easier to access in a query.\n",
    "    .groupBy(\"Rating_class\")\n",
    "    .count()\n",
    "    .rdd.collectAsMap())\n",
    "\n",
    "# Calculates to total number of reviews.\n",
    "total_reviews = sum(class_counts.values())\n",
    "# Calculates the ratio.\n",
    "Ratios = {k: v / total_reviews for k, v in class_counts.items()}\n",
    "# Prints the percentages.\n",
    "for Rating_class, ratio in Ratios.items():\n",
    "    print(f\"Rating Class {Rating_class}: {ratio*100:2f}%\")"
   ]
  },
  {
   "cell_type": "code",
   "execution_count": 14,
   "id": "86668695",
   "metadata": {},
   "outputs": [
    {
     "name": "stderr",
     "output_type": "stream",
     "text": [
      "                                                                                \r"
     ]
    }
   ],
   "source": [
    "# Calculates the fraction for each label to reduce the dataset by half\n",
    "# As mentioned previously the reduction is 50%.\n",
    "fraction = 0.2\n",
    "reduce_fractions = {label: fraction for label in df_reviews_og.select(\"label\").distinct().rdd.flatMap(lambda x: x).collect()}\n",
    "\n",
    "# Reducing the dataset by half\n",
    "df_reviews = df_reviews_og.sampleBy(\"label\", fractions=reduce_fractions, seed=42)\n"
   ]
  },
  {
   "cell_type": "code",
   "execution_count": 15,
   "id": "f1e91eda",
   "metadata": {},
   "outputs": [
    {
     "name": "stderr",
     "output_type": "stream",
     "text": [
      "\r",
      "[Stage 27:=============================>                            (1 + 1) / 2]\r"
     ]
    },
    {
     "name": "stdout",
     "output_type": "stream",
     "text": [
      "Rating Class Neutral (3): 3.604834%\n",
      "Rating Class Negatives (0-2): 7.838451%\n",
      "Rating Class Positives (4-5): 88.556715%\n"
     ]
    },
    {
     "name": "stderr",
     "output_type": "stream",
     "text": [
      "\r",
      "                                                                                \r"
     ]
    }
   ],
   "source": [
    "# Calculating the distribution of scores and the three different classes fo the train set.\n",
    "# Placing the 0,1,2 to the negatives, 3 neutral and 4,5 positives.\n",
    "class_counts = (\n",
    "    df_reviews.withColumn(\n",
    "    \"Rating_class\",\n",
    "    when((df_reviews['Rating'] >= 0) & (df_reviews['Rating'] <= 2), \"Negatives (0-2)\")\n",
    "    .when(df_reviews['Rating'] == 3, \"Neutral (3)\")\n",
    "    .otherwise(\"Positives (4-5)\"))\n",
    "# Grouping the ratings into its class and using rdd to transform them into a dictionary which is easier to access in a query.\n",
    "    .groupBy(\"Rating_class\")\n",
    "    .count()\n",
    "    .rdd.collectAsMap())\n",
    "\n",
    "# Calculates to total number of reviews.\n",
    "total_reviews = sum(class_counts.values())\n",
    "# Calculates the ratio.\n",
    "Ratios = {k: v / total_reviews for k, v in class_counts.items()}\n",
    "# Prints the percentages.\n",
    "for Rating_class, ratio in Ratios.items():\n",
    "    print(f\"Rating Class {Rating_class}: {ratio*100:2f}%\")"
   ]
  },
  {
   "cell_type": "markdown",
   "id": "e7fd2e4e",
   "metadata": {},
   "source": [
    "- After applying the stratfied split, the results were successful, the difference between before and after are less than decimals.\n",
    "\n",
    "Thus, for the analysis the dataset to be handle is the half of the original named df_reviews."
   ]
  },
  {
   "cell_type": "code",
   "execution_count": 16,
   "id": "119234e8",
   "metadata": {
    "scrolled": false
   },
   "outputs": [
    {
     "name": "stderr",
     "output_type": "stream",
     "text": [
      "                                                                                \r"
     ]
    },
    {
     "name": "stdout",
     "output_type": "stream",
     "text": [
      "+-------+------------------+\n",
      "|summary|            Rating|\n",
      "+-------+------------------+\n",
      "|  count|            281178|\n",
      "|   mean|4.4086094929190764|\n",
      "| stddev|1.2705678662629132|\n",
      "|    min|                 0|\n",
      "|    max|                 5|\n",
      "+-------+------------------+\n",
      "\n"
     ]
    }
   ],
   "source": [
    "# Displaying statistical features of the Reviews dataset.\n",
    "df_reviews.describe().select(\"summary\", \"Rating\").show()"
   ]
  },
  {
   "cell_type": "code",
   "execution_count": 17,
   "id": "6a5dbbda",
   "metadata": {},
   "outputs": [
    {
     "name": "stderr",
     "output_type": "stream",
     "text": [
      "\r",
      "[Stage 33:=============================>                            (1 + 1) / 2]\r"
     ]
    },
    {
     "name": "stdout",
     "output_type": "stream",
     "text": [
      "+------+------+\n",
      "|Rating| count|\n",
      "+------+------+\n",
      "|     0| 15263|\n",
      "|     1|  3296|\n",
      "|     2|  3481|\n",
      "|     3| 10136|\n",
      "|     4| 46072|\n",
      "|     5|202930|\n",
      "+------+------+\n",
      "\n",
      "Frequency of Ratings\n"
     ]
    },
    {
     "name": "stderr",
     "output_type": "stream",
     "text": [
      "\r",
      "                                                                                \r"
     ]
    }
   ],
   "source": [
    "df_reviews.groupBy(\"Rating\").count().orderBy(\"Rating\").show()\n",
    "print(f\"Frequency of Ratings\")"
   ]
  },
  {
   "cell_type": "markdown",
   "id": "52623caf",
   "metadata": {},
   "source": [
    "Based on statistical feature:\n",
    "- It has a range of scores between 0 and 5;\n",
    "- The mean of 4.4 is close to 5, therefore most of the data points are close the highest value, so the data present signs of being left-skewed (strong evidence for skewness);\n",
    "- Also, because most of the values a concentrated in the score 5, the box (boxplot) might be very close or at the top at the upper whisker.\n",
    "- It presents a high standard deviation given the range of the scores.\n",
    "- The score zero represents the majority in the negative class, while in the positive side the maximum value is more frequent also represents more than 50% of the data.\n",
    "\n",
    "Further analysis will be performed using visual tools."
   ]
  },
  {
   "cell_type": "markdown",
   "id": "6ed45165",
   "metadata": {},
   "source": [
    "### Ratings feature visual representation.\n",
    "\n",
    "- The visualization tools using Pandas provided a better result, therefore for visualization (boxplot and histogram) purpose it will be created a dataframe using pandas library."
   ]
  },
  {
   "cell_type": "code",
   "execution_count": 18,
   "id": "fe7b6bbc",
   "metadata": {
    "scrolled": true
   },
   "outputs": [
    {
     "name": "stderr",
     "output_type": "stream",
     "text": [
      "\r",
      "[Stage 36:=============================>                            (1 + 1) / 2]\r",
      "\r",
      "                                                                                \r"
     ]
    }
   ],
   "source": [
    "# Creating a dataframe using pandas library.\n",
    "ratings_column_pd = df_reviews.select(\"Rating\").toPandas()"
   ]
  },
  {
   "cell_type": "code",
   "execution_count": 19,
   "id": "09289558",
   "metadata": {},
   "outputs": [
    {
     "data": {
      "image/png": "[encoded data removed]",
      "text/plain": [
       "<Figure size 864x576 with 1 Axes>"
      ]
     },
     "metadata": {
      "needs_background": "light"
     },
     "output_type": "display_data"
    }
   ],
   "source": [
    "# Generating the figure.\n",
    "plt.figure(figsize=(12, 8)) # Setting the figure size.\n",
    "sns.set(style=\"whitegrid\", font_scale=1.2) # Addind a white space on the back and adjustive font scale.\n",
    "# Creates the boxplot\n",
    "ax = sns.boxplot(data=ratings_column_pd['Rating'], width=0.5) # Boxplot, setting the width of the box to .5.\n",
    "ax.set_title('Boxplot of Rating scores') # Add title to the figure.\n",
    "plt.tight_layout() # Adjusts the layout\n",
    "plt.show() # Shows the plot"
   ]
  },
  {
   "cell_type": "markdown",
   "id": "0215fe23",
   "metadata": {},
   "source": [
    "The boxplot shows shows that most of values are located in the maximum values, but also points the score 0, 1 and 2 as outliers, this could be due to the fact that those values represents a small percentage of the total (approximately 7-8%). So based on IQR calculations are considering them as outliers.\n",
    "\n",
    "- The values 1 and 2 will not be outliers, despite being a small amount they represent negative score reviews of the recipe;\n",
    "- The value of 0 will be analysed in a later stage along with the writen review.\n",
    "\n",
    "Despite considering of 1 and 2 score rating outliers, they will remain in the dataset. This is because they are still a valid data point and very important to achieve the goal. Although, the score zeros will be further analysed."
   ]
  },
  {
   "cell_type": "code",
   "execution_count": 20,
   "id": "9ec28520",
   "metadata": {},
   "outputs": [
    {
     "data": {
      "image/png": "[encoded data removed]",
      "text/plain": [
       "<Figure size 720x432 with 1 Axes>"
      ]
     },
     "metadata": {},
     "output_type": "display_data"
    }
   ],
   "source": [
    "# Creating the figure for the histogram.\n",
    "plt.figure(figsize=(10, 6))\n",
    "# Plots the histogram, bins set at 6 because of the range of the value.\n",
    "plt.hist(ratings_column_pd['Rating'], bins=6, edgecolor='black', alpha=0.7)\n",
    "plt.title(\"Histogram of Ranting Scores\") # Sets title.\n",
    "plt.xlabel(\"Ratings\") # Sets x label.\n",
    "plt.xticks(range(6)) # Add ticks with range between 0 and 6.\n",
    "plt.grid(axis='y') \n",
    "plt.show() # Display the histogram."
   ]
  },
  {
   "cell_type": "markdown",
   "id": "01007703",
   "metadata": {},
   "source": [
    "An extra visualization to look at the distribution of the data, the histogram shows that the ratings scores data is highly skewed to the left and most of its values are located at the maximum score.\n",
    "\n",
    "The scores zero raised doubts about its reliability, potentially someone forgot to leave a score or if it is actually the worst score. Also, there are no notes about the score zero, so a manual check will be applied to check if there is a balance between the review and the score zero. The procedure will be done by looking at random samples (attempted multiple times with differend seed values), checking if the reviews truly represents a sentiment of a lowest score possible."
   ]
  },
  {
   "cell_type": "code",
   "execution_count": 21,
   "id": "5ef49528",
   "metadata": {},
   "outputs": [
    {
     "name": "stdout",
     "output_type": "stream",
     "text": [
      "+----------------------------------------------------------------------------------------------------------------------------------------------------------------------------------------------------------------------------------------------------------------------------------------------------------------------------------------------------------------------------------------+\n",
      "|Review                                                                                                                                                                                                                                                                                                                                                                                  |\n",
      "+----------------------------------------------------------------------------------------------------------------------------------------------------------------------------------------------------------------------------------------------------------------------------------------------------------------------------------------------------------------------------------------+\n",
      "|I love this recipe, for myself and for the kids.  It''s a great alternative to grilled cheese sandwiches!                                                                                                                                                                                                                                                                               |\n",
      "|I cook a lot of fish, mostly salmon and lake trout, but this recipe has too much fat for me as I am low-fat cook and avoid sat fat as much as possible.  You often have recipes that I could use.  I do enjoy the weekly newsletter.Colleen                                                                                                                                             |\n",
      "|This cheesecake is great. Since my family is allergic to dairy I made it with goat cheese.I made it twice, once using all goat milk cream cheese and non dairy whipped topping,cheesecake was to heavy. I then made it using half cream cheese and half ricotta along with the non dairy whipped topping,cheesecake turned out light and    fluffy. Thank You for a great dessert.Nany  |\n",
      "|I am a guest in Bergie\"s house and last night was served a really great dinner! This lamb recipe BBQ'D served with new potatoes, minted fresh peas, new carrots, baked onions and topped off with a lemon crunch pie.  What a repast!  It deserves a 5 star rating                                                                                                                      |\n",
      "|This sweet has been my childhood and teenage time favourite. The way to my heart is through this sweet:)                                                                                                                                                                                                                                                                                |\n",
      "|Nutritious!                                                                                                                                                                                                                                                                                                                                                                             |\n",
      "|I can't make this until I find out what the heck is a patty shell.  I only know about pie shells.  I was looking for pattypan squash recipes in the first place and this recipe came up.  It sounds goood and I would try it if someone would tell me what a patty shell is?                                                                                                            |\n",
      "|This is very good cornbread.  I like to top it with salso and sour creme                                                                                                                                                                                                                                                                                                                |\n",
      "|I had a really tough time with this recipe. I only got 2 cups of juice and that was after letting it drip all night. I would love to make it but I wonder if the measurements are off. I ended up adding additional grape juice from another recipe, adding more sugar and a little liquid pectin and got a great grape jelly. Would love to try it again.                              |\n",
      "|I went to a recipe exchange and this one was a favorite                                                                                                                                                                                                                                                                                                                                 |\n",
      "|The onions are from this recipe (found it!!):\\r\\nLow-Fat Chicken with Caramelized Onions  by chef Dancer^   \\r\\n\\r\\nI thought I'd rate my recipe 'cos I like it... so there! LOL :))                                                                                                                                                                                                    |\n",
      "|I think this recipe is cruel as Squirrels are kind & friendly creatures. They're also very cute. Maybe it's because I grew up reading \"Squirrel Nutkin\" books and have managed to cross the road safely ever since.                                                                                                                                                                     |\n",
      "|Sorry about this one. It was bland and disgusting. I submitted these recipes before trying most of them to get the category up and running. Don't bother making this one. Laura Bruce                                                                                                                                                                                                   |\n",
      "|This is a great way to cook brisket, but please don't call it BBQ.  I am THE past master of Southwest Texas Bar-B-que and I have been doing it for over 50 years now and have fed as many as 200 at a time.  They end up putting my BBQ sauce all over everything on their plate and sop it all up with their bread.  Warren                                                            |\n",
      "|I used sourdough, made it double decker, and added avocado.  Try toasting the bread too.  Terrificalness!                                                                                                                                                                                                                                                                               |\n",
      "|I have used this recipe for 50 years.  It is my favorite.  I found it in a book from the Dept. of Agriculture through my local Extension Service.\\r\\n\\r\\nThe Not-So-Sweet is not a good name for it because it is very sweet...but I love it.                                                                                                                                           |\n",
      "|have both ingredients on hand....will have to try soooon!                                                                                                                                                                                                                                                                                                                               |\n",
      "|Dshipley, I would just like to clarify something: no ingredients have been left out; this is copied exactly from Rao's cookbook. When I served this chicken to guests they loved it; it's unfortunate this did not suit your tastes.                                                                                                                                                    |\n",
      "|wait, i'm not too certain about this one. i really feel you must be... joking?                                                                                                                                                                                                                                                                                                          |\n",
      "|Just wanted to let others know that sesame oil has a very distinctive, intense flavor.  It really does add a lot to the recipe.  I'd really recommend using it instead of vegetable or olive oil (although it wouldn't have  to be the dark variety, any will do).  Also, I've never had trouble with the vegetables getting too done - that has me stumped.  Glad you tried it, though!|\n",
      "+----------------------------------------------------------------------------------------------------------------------------------------------------------------------------------------------------------------------------------------------------------------------------------------------------------------------------------------------------------------------------------------+\n",
      "only showing top 20 rows\n",
      "\n"
     ]
    }
   ],
   "source": [
    "zero_reviews = df_reviews.filter(col(\"Rating\") == 0)\n",
    "sample_reviews = zero_reviews.sample(withReplacement=False, fraction=0.25, seed=36)\n",
    "sample_reviews.select(\"Review\").show(truncate=False)"
   ]
  },
  {
   "cell_type": "markdown",
   "id": "de085cbd",
   "metadata": {},
   "source": [
    "- According to last code (with many attempts using different seed numbers), the written reviews does not match the score zero given. Positives reviews such as, great recipe, its delicious . Therefore, the chosen option is to drop the 0 scores (anomalies), so it does not affects the analysis by introducing noise to it, increasing the consistency in the data.\n",
    "- And since they are anomalies in the data, the rows with score of 0 will be dropped.\n",
    "<br><br><br>The next two codes will be used to drop (by using the method filter) and after printing the counts before and after the operation to check if it was correct. "
   ]
  },
  {
   "cell_type": "code",
   "execution_count": 22,
   "id": "08132f99",
   "metadata": {},
   "outputs": [],
   "source": [
    "# Method filter to exclude the rows with Rating equal to zero.\n",
    "df_reviews_no_zero = df_reviews.filter(df_reviews.Rating != 0)"
   ]
  },
  {
   "cell_type": "code",
   "execution_count": 23,
   "id": "b965be92",
   "metadata": {},
   "outputs": [
    {
     "name": "stderr",
     "output_type": "stream",
     "text": [
      "[Stage 41:=============================>                            (1 + 1) / 2]\r"
     ]
    },
    {
     "name": "stdout",
     "output_type": "stream",
     "text": [
      "Original obs count: 281178\n",
      "After filter obs count: 265915\n"
     ]
    },
    {
     "name": "stderr",
     "output_type": "stream",
     "text": [
      "\r",
      "                                                                                \r"
     ]
    }
   ],
   "source": [
    "# Counting observations before and after the exclusion and printing them for verification. \n",
    "original_count = df_reviews.count()\n",
    "filtered_count = df_reviews_no_zero.count()\n",
    "print(f\"Original obs count: {original_count}\")\n",
    "print(f\"After filter obs count: {filtered_count}\")"
   ]
  },
  {
   "cell_type": "markdown",
   "id": "37fd6f70",
   "metadata": {},
   "source": [
    "- After the drop, the observations reduced by 15263, which is the number of zero scores given (also provided at the frequency line of code). Therefore, the drop operation was sucessful."
   ]
  },
  {
   "cell_type": "markdown",
   "id": "0057ccc2",
   "metadata": {},
   "source": [
    "## 3. Text pre-processing\n",
    "\n",
    "Next stage will be the text processing of the Review column, however only a few steps of the pre processing will be called before splitting the dataset to avoid data leakage. And the steps before dividing into traininig, validation and test are:\n",
    "\n",
    "- Lowering case; \n",
    "- Removing punctuations and \\r\\n;"
   ]
  },
  {
   "cell_type": "code",
   "execution_count": 24,
   "id": "67702a06",
   "metadata": {},
   "outputs": [],
   "source": [
    "# Creating a column named Review_lower to the dataframe in a lowercase version.\n",
    "process_reviews = df_reviews_no_zero.withColumn(\"Review_lower\", lower(col(\"Review\")))"
   ]
  },
  {
   "cell_type": "code",
   "execution_count": 25,
   "id": "9c4de4a0",
   "metadata": {
    "scrolled": true
   },
   "outputs": [
    {
     "name": "stderr",
     "output_type": "stream",
     "text": [
      "\r",
      "[Stage 44:=============================>                            (1 + 1) / 2]\r"
     ]
    },
    {
     "name": "stdout",
     "output_type": "stream",
     "text": [
      "Transformation successful.\n"
     ]
    },
    {
     "name": "stderr",
     "output_type": "stream",
     "text": [
      "\r",
      "                                                                                \r"
     ]
    }
   ],
   "source": [
    "# Looks for any observation that the transformation did not work.\n",
    "no_match = process_reviews.filter(lower(col(\"Review\")) !=col(\"Review_lower\")).count()\n",
    "\n",
    "if no_match == 0:\n",
    "    print(\"Transformation successful.\")\n",
    "else:\n",
    "    print(\"There is/are rows that the transformation did not work.\")"
   ]
  },
  {
   "cell_type": "markdown",
   "id": "70ed3294",
   "metadata": {},
   "source": [
    "- After the transformation, a few statistical features will be generated before further processing for comparison purpose. "
   ]
  },
  {
   "cell_type": "code",
   "execution_count": 26,
   "id": "5e5b0b72",
   "metadata": {},
   "outputs": [
    {
     "name": "stderr",
     "output_type": "stream",
     "text": [
      "\r",
      "[Stage 47:=============================>                            (1 + 1) / 2]\r"
     ]
    },
    {
     "name": "stdout",
     "output_type": "stream",
     "text": [
      "+-------+------------------+\n",
      "|summary|        word_count|\n",
      "+-------+------------------+\n",
      "|  count|            265915|\n",
      "|   mean|53.330346163247654|\n",
      "| stddev| 37.51754164867301|\n",
      "|    min|                 1|\n",
      "|    max|               944|\n",
      "+-------+------------------+\n",
      "\n"
     ]
    },
    {
     "name": "stderr",
     "output_type": "stream",
     "text": [
      "\r",
      "                                                                                \r"
     ]
    }
   ],
   "source": [
    "# It sums the number of words in the review column.\n",
    "w_count = process_reviews.withColumn(\"word_count\", size(split(process_reviews[\"Review_lower\"], \" \")))\n",
    "# Display statistical features of the review number of words.\n",
    "w_count.select(\"word_count\").describe().show()"
   ]
  },
  {
   "cell_type": "markdown",
   "id": "6395586e",
   "metadata": {},
   "source": [
    "According to the descriptive statistics of the review (265915 in total):\n",
    "- It ranges from 1 word to 944 words;\n",
    "- The mean is 53.35, thus the average of words is 53 words per review.\n",
    "- Most of the reviews are likely to be clustered in the lower values. "
   ]
  },
  {
   "cell_type": "code",
   "execution_count": 27,
   "id": "35fcec5a",
   "metadata": {
    "scrolled": true
   },
   "outputs": [
    {
     "name": "stderr",
     "output_type": "stream",
     "text": [
      "\r",
      "[Stage 50:=============================>                            (1 + 1) / 2]\r"
     ]
    },
    {
     "name": "stdout",
     "output_type": "stream",
     "text": [
      "+-------+------------------+\n",
      "|summary|   rev_char_length|\n",
      "+-------+------------------+\n",
      "|  count|            265915|\n",
      "|   mean| 276.7425117048681|\n",
      "| stddev|194.33281332072357|\n",
      "|    min|                 0|\n",
      "|    max|              5196|\n",
      "+-------+------------------+\n",
      "\n"
     ]
    },
    {
     "name": "stderr",
     "output_type": "stream",
     "text": [
      "\r",
      "                                                                                \r"
     ]
    }
   ],
   "source": [
    "# Displaying the characters length of the review_lowercase column\n",
    "process_reviews = process_reviews.withColumn(\"rev_char_length\", length(process_reviews[\"Review_lower\"]))\n",
    "# Displaying statistical feature of the reviews character length. \n",
    "process_reviews.select(\"rev_char_length\").describe().show()"
   ]
  },
  {
   "cell_type": "markdown",
   "id": "39937c4c",
   "metadata": {},
   "source": [
    "At this stage, the review features has:\n",
    "- An average of 276 characters per review;\n",
    "- Reviews range from 0 (empty) to 5196 (longest reviews);\n",
    "\n",
    "Based on the values, the mean is much closer to the minimum than to the maximum value, therefore indicating that the distribution of the character length is right skewed. However, the histogram will be generate to be certain."
   ]
  },
  {
   "cell_type": "code",
   "execution_count": 28,
   "id": "0a449b4c",
   "metadata": {
    "scrolled": false
   },
   "outputs": [
    {
     "name": "stderr",
     "output_type": "stream",
     "text": [
      "                                                                                \r"
     ]
    }
   ],
   "source": [
    "# Transforming to pandas dataframe for visualization purpose.\n",
    "review_char_lengh_pd = process_reviews.select(\"rev_char_length\").toPandas()"
   ]
  },
  {
   "cell_type": "code",
   "execution_count": 29,
   "id": "35fcd6a1",
   "metadata": {
    "scrolled": true
   },
   "outputs": [
    {
     "data": {
      "image/png": "[encoded data removed]",
      "text/plain": [
       "<Figure size 432x288 with 1 Axes>"
      ]
     },
     "metadata": {},
     "output_type": "display_data"
    }
   ],
   "source": [
    "# Creating histogram for characters length\n",
    "char_lengths = review_char_lengh_pd[\"rev_char_length\"] # Data\n",
    "char_lengths.hist(bins=50) # Generate histogram.\n",
    "plt.xlabel(\"Character Length\") # Adds label.\n",
    "plt.ylabel(\"Number of Reviews\") # Adds label.\n",
    "plt.title(\"Distribution of Review Lengths (in characters)\") # Adds title.\n",
    "plt.show() # Shows the histogram."
   ]
  },
  {
   "cell_type": "markdown",
   "id": "e7e20edb",
   "metadata": {},
   "source": [
    "- The histogram confirms what the descriptive statistic showed, that the distribution for the number of characters is right-skewed. "
   ]
  },
  {
   "cell_type": "code",
   "execution_count": 30,
   "id": "a6980f4c",
   "metadata": {},
   "outputs": [
    {
     "name": "stderr",
     "output_type": "stream",
     "text": [
      "\r",
      "[Stage 54:=============================>                            (1 + 1) / 2]\r"
     ]
    },
    {
     "name": "stdout",
     "output_type": "stream",
     "text": [
      "Rating Class Positive: 93.64%\n",
      "Rating Class Neutral: 3.81%\n",
      "Rating Class Negative: 2.55%\n"
     ]
    },
    {
     "name": "stderr",
     "output_type": "stream",
     "text": [
      "\r",
      "                                                                                \r"
     ]
    }
   ],
   "source": [
    "# Group by the label column to get counts\n",
    "class_counts = process_reviews.groupBy(\"label\").count().rdd.collectAsMap()\n",
    "\n",
    "# Calculate the total number of reviews\n",
    "total_reviews = sum(class_counts.values())\n",
    "\n",
    "# Calculate the ratios\n",
    "Ratios = {k: v / total_reviews for k, v in class_counts.items()}\n",
    "\n",
    "# Print the percentages\n",
    "for label, ratio in Ratios.items():\n",
    "    print(f\"Rating Class {label.capitalize()}: {ratio*100:.2f}%\")\n"
   ]
  },
  {
   "cell_type": "markdown",
   "id": "744cae6f",
   "metadata": {},
   "source": [
    "The reviews have gone through some manipulation and the last line of code still shows that.\n",
    "\n",
    "- By far, the highest number of score given is between the value of 4 and 5;\n",
    "- Lower scores (1 , 2) represents less than 3% of the total of ratings given and less than 4% for neutral scores (3); <b> (Important rationale to balance the data in a later stage)</b>\n",
    "- The imbalance between the positive classes are enourmous considering the others, and this potenlially could add bias into the sentiment analysis. To mitigate this issue there are some options available which will be attempt in a later stage. \n",
    "<br>\n",
    "However, the ratio between the classes have changed:\n",
    "- The positive class increased from 88.54 to 93.64;\n",
    "- The neutral class increased from 3.59 to 3.81;\n",
    "- The negative class decreased from 7.86 to 2.55%\n",
    "Increasing even more the imbalance of the classes. Next pre processing stage is to remove punctuations and characters such as \\r\\n."
   ]
  },
  {
   "cell_type": "code",
   "execution_count": 31,
   "id": "4b0b4349",
   "metadata": {},
   "outputs": [],
   "source": [
    "# Removing punctions of the Review_lowercase column.\n",
    "process_reviews = process_reviews.withColumn(\"Review_no_punct\", regexp_replace(col(\"Review_lower\"), \"[^a-zA-Z\\s]\", \"\"))"
   ]
  },
  {
   "cell_type": "code",
   "execution_count": 32,
   "id": "9e5361a6",
   "metadata": {
    "collapsed": true
   },
   "outputs": [
    {
     "name": "stderr",
     "output_type": "stream",
     "text": [
      "\r",
      "[Stage 57:>                                                         (0 + 1) / 1]\r"
     ]
    },
    {
     "name": "stdout",
     "output_type": "stream",
     "text": [
      "+---------------------------------------------------------------------------------------------------------------------------------------------------------------------------------------------------------------------------------------------------------------------------------------------------------------------------------------------------------------------------------------------------------------------------------------------------------------------------------------------+-------------------------------------------------------------------------------------------------------------------------------------------------------------------------------------------------------------------------------------------------------------------------------------------------------------------------------------------------------------------------------------------------------------------------------------------------------------------------------+\n",
      "|Review_lower                                                                                                                                                                                                                                                                                                                                                                                                                                                                                 |Review_no_punct                                                                                                                                                                                                                                                                                                                                                                                                                                                                |\n",
      "+---------------------------------------------------------------------------------------------------------------------------------------------------------------------------------------------------------------------------------------------------------------------------------------------------------------------------------------------------------------------------------------------------------------------------------------------------------------------------------------------+-------------------------------------------------------------------------------------------------------------------------------------------------------------------------------------------------------------------------------------------------------------------------------------------------------------------------------------------------------------------------------------------------------------------------------------------------------------------------------+\n",
      "|dear lord.                                                                                                                                                                                                                                                                                                                                                                                                                                                                                   |dear lord                                                                                                                                                                                                                                                                                                                                                                                                                                                                      |\n",
      "|clearly,        \\r\\n\\r\\n\\r\\na nine shot drink deserves at least five stars.  stiff, baby!                                                                                                                                                                                                                                                                                                                                                                                                    |clearly        \\r\\n\\r\\n\\r\\na nine shot drink deserves at least five stars  stiff baby                                                                                                                                                                                                                                                                                                                                                                                          |\n",
      "|i made this recipe for 16 coworkers.  i doubled the amounts of the ingrediants hoping to get 4 loaves.  i only got 3 loaaves and the batter was hard to stir when it came to adding the walnuts and apples.  the end result was excellent and the bread was consumed in a matter of minutes.  everybody loved the bread but they love it when anybody brings in homemade snacks.  i was very happy with the taste of the bread.\\r\\n                                                          |i made this recipe for  coworkers  i doubled the amounts of the ingrediants hoping to get  loaves  i only got  loaaves and the batter was hard to stir when it came to adding the walnuts and apples  the end result was excellent and the bread was consumed in a matter of minutes  everybody loved the bread but they love it when anybody brings in homemade snacks  i was very happy with the taste of the bread\\r\\n                                                      |\n",
      "|mmmm, i love this stuff. quite elegant, and even the liver-squeemish like it as long as they don't know.                                                                                                                                                                                                                                                                                                                                                                                     |mmmm i love this stuff quite elegant and even the liversqueemish like it as long as they dont know                                                                                                                                                                                                                                                                                                                                                                             |\n",
      "|i have made this pie instead of plain ol' pumpkin pie for the last 7 years.  everyone always raves about it.  the flavor is wonderful and the texture is slightly lighter than traditional pumpin pie, i suspect due to the substitution of light cream instead of canned milk.  \\r\\n\\r\\nif you try this, you won't go back to plain ol' pumkin again!                                                                                                                                       |i have made this pie instead of plain ol pumpkin pie for the last  years  everyone always raves about it  the flavor is wonderful and the texture is slightly lighter than traditional pumpin pie i suspect due to the substitution of light cream instead of canned milk  \\r\\n\\r\\nif you try this you wont go back to plain ol pumkin again                                                                                                                                   |\n",
      "|these make a wonderful healthy snack.                                                                                                                                                                                                                                                                                                                                                                                                                                                        |these make a wonderful healthy snack                                                                                                                                                                                                                                                                                                                                                                                                                                           |\n",
      "|it's a tasty dish.                                                                                                                                                                                                                                                                                                                                                                                                                                                                           |its a tasty dish                                                                                                                                                                                                                                                                                                                                                                                                                                                               |\n",
      "|needs more spice.                                                                                                                                                                                                                                                                                                                                                                                                                                                                            |needs more spice                                                                                                                                                                                                                                                                                                                                                                                                                                                               |\n",
      "|our family has enjoyed this recipe, time and time again with great success. favorite topping for this is to serve with chili, grated cheese and onions. the kids love it simply with catsup. \\r\\neither way this dish is a major favorite of our family. great also for the kids who are learning to cook.                                                                                                                                                                                   |our family has enjoyed this recipe time and time again with great success favorite topping for this is to serve with chili grated cheese and onions the kids love it simply with catsup \\r\\neither way this dish is a major favorite of our family great also for the kids who are learning to cook                                                                                                                                                                            |\n",
      "|this dish was good the first few bites then it got a vinager taste. i wont make it again                                                                                                                                                                                                                                                                                                                                                                                                     |this dish was good the first few bites then it got a vinager taste i wont make it again                                                                                                                                                                                                                                                                                                                                                                                        |\n",
      "|this is a great quick,easy,tasy cheescake.\\r\\nthe hardest thing about it is waiting for it to cool. yum!\\r\\n\\r\\njinx                                                                                                                                                                                                                                                                                                                                                                         |this is a great quickeasytasy cheescake\\r\\nthe hardest thing about it is waiting for it to cool yum\\r\\n\\r\\njinx                                                                                                                                                                                                                                                                                                                                                                |\n",
      "|i found this meat loaf to be quite tasty, i was a little nervous about the carrots,but it made it sweeter than i have tasted in a meat loaf. the measurements were a little over it made a rather large loaf and took a lot longer to cook. i had to raise the temp to 400 to get it to cook at a faster rate. it also gave off a lot of liquid and i used extra lean meat. it made about eight servings and all together was a good meat loaf. i would defintely make it again.             |i found this meat loaf to be quite tasty i was a little nervous about the carrotsbut it made it sweeter than i have tasted in a meat loaf the measurements were a little over it made a rather large loaf and took a lot longer to cook i had to raise the temp to  to get it to cook at a faster rate it also gave off a lot of liquid and i used extra lean meat it made about eight servings and all together was a good meat loaf i would defintely make it again          |\n",
      "|she loved it                                                                                                                                                                                                                                                                                                                                                                                                                                                                                 |she loved it                                                                                                                                                                                                                                                                                                                                                                                                                                                                   |\n",
      "|where's the nutmeg and the cinnamon?                                                                                                                                                                                                                                                                                                                                                                                                                                                         |wheres the nutmeg and the cinnamon                                                                                                                                                                                                                                                                                                                                                                                                                                             |\n",
      "|i ended up adapting this to make a kind of taco instead of baking it as enchiladas, but we liked it quite a bit.                                                                                                                                                                                                                                                                                                                                                                             |i ended up adapting this to make a kind of taco instead of baking it as enchiladas but we liked it quite a bit                                                                                                                                                                                                                                                                                                                                                                 |\n",
      "|i served this recipe, cherry cheese salad at our community dinner for 60 people. it was a hit. it is a wonderful, refreshing salad. it seems to come alive in your mouth when all the flavors hit the taste buds. great recipe!                                                                                                                                                                                                                                                              |i served this recipe cherry cheese salad at our community dinner for  people it was a hit it is a wonderful refreshing salad it seems to come alive in your mouth when all the flavors hit the taste buds great recipe                                                                                                                                                                                                                                                         |\n",
      "|this taste great!!!!!! even my 3yr. old loved it                                                                                                                                                                                                                                                                                                                                                                                                                                             |this taste great even my yr old loved it                                                                                                                                                                                                                                                                                                                                                                                                                                       |\n",
      "|great recipe, everyone loved it,,young & old.\\r\\n  we used 12oz frozen can of pink lemonade instead of the pineaple juice?                                                                                                                                                                                                                                                                                                                                                                   |great recipe everyone loved ityoung  old\\r\\n  we used oz frozen can of pink lemonade instead of the pineaple juice                                                                                                                                                                                                                                                                                                                                                             |\n",
      "|i am always looking for things such as this to give as gift to friends and family. i make an instant spice tea, which was given to me by a very good friend years ago. it has instant tea, cinnimon, tang, instant lemonade, cloves, etc. it is like the mocha cocoa mix. my friends will enjoy this at christmas. i will be putting it in small mason jars with a material cap tied off with ribbon and a small christmas wooden ornement.\\r\\n\\r\\nthank you this will be great,\\r\\ngrannymj0|i am always looking for things such as this to give as gift to friends and family i make an instant spice tea which was given to me by a very good friend years ago it has instant tea cinnimon tang instant lemonade cloves etc it is like the mocha cocoa mix my friends will enjoy this at christmas i will be putting it in small mason jars with a material cap tied off with ribbon and a small christmas wooden ornement\\r\\n\\r\\nthank you this will be great\\r\\ngrannymj|\n",
      "|ok                                                                                                                                                                                                                                                                                                                                                                                                                                                                                           |ok                                                                                                                                                                                                                                                                                                                                                                                                                                                                             |\n",
      "+---------------------------------------------------------------------------------------------------------------------------------------------------------------------------------------------------------------------------------------------------------------------------------------------------------------------------------------------------------------------------------------------------------------------------------------------------------------------------------------------+-------------------------------------------------------------------------------------------------------------------------------------------------------------------------------------------------------------------------------------------------------------------------------------------------------------------------------------------------------------------------------------------------------------------------------------------------------------------------------+\n",
      "only showing top 20 rows\n",
      "\n"
     ]
    },
    {
     "name": "stderr",
     "output_type": "stream",
     "text": [
      "\r",
      "                                                                                \r"
     ]
    }
   ],
   "source": [
    "# Displays the rows of column before and after the removal of punctuations. \n",
    "process_reviews.select(\"Review_lower\", \"Review_no_punct\").show(n=20, truncate=False)   "
   ]
  },
  {
   "cell_type": "markdown",
   "id": "74b1f1c5",
   "metadata": {},
   "source": [
    "- The previous line of code shows that the removal of puctuations was successful. However, it shows special characters like \\r\\n, which will be removed in the following step."
   ]
  },
  {
   "cell_type": "code",
   "execution_count": 33,
   "id": "e037c9f7",
   "metadata": {},
   "outputs": [],
   "source": [
    "# Removing \\r\\n.\n",
    "process_reviews = process_reviews.withColumn(\"Review_no_punct2\", regexp_replace(col(\"Review_no_punct\"), \"[\\r\\n]\", \"\"))"
   ]
  },
  {
   "cell_type": "code",
   "execution_count": 34,
   "id": "bf53c319",
   "metadata": {
    "collapsed": true
   },
   "outputs": [
    {
     "name": "stderr",
     "output_type": "stream",
     "text": [
      "\r",
      "[Stage 58:>                                                         (0 + 1) / 1]\r"
     ]
    },
    {
     "name": "stdout",
     "output_type": "stream",
     "text": [
      "+-------------------------------------------------------------------------------------------------------------------------------------------------------------------------------------------------------------------------------------------------------------------------------------------------------------------------------------------------------------------------------------------------------------------------------------------------------------------------------+---------------------------------------------------------------------------------------------------------------------------------------------------------------------------------------------------------------------------------------------------------------------------------------------------------------------------------------------------------------------------------------------------------------------------------------------------------------------+\n",
      "|Review_no_punct                                                                                                                                                                                                                                                                                                                                                                                                                                                                |Review_no_punct2                                                                                                                                                                                                                                                                                                                                                                                                                                                     |\n",
      "+-------------------------------------------------------------------------------------------------------------------------------------------------------------------------------------------------------------------------------------------------------------------------------------------------------------------------------------------------------------------------------------------------------------------------------------------------------------------------------+---------------------------------------------------------------------------------------------------------------------------------------------------------------------------------------------------------------------------------------------------------------------------------------------------------------------------------------------------------------------------------------------------------------------------------------------------------------------+\n",
      "|dear lord                                                                                                                                                                                                                                                                                                                                                                                                                                                                      |dear lord                                                                                                                                                                                                                                                                                                                                                                                                                                                            |\n",
      "|clearly        \\r\\n\\r\\n\\r\\na nine shot drink deserves at least five stars  stiff baby                                                                                                                                                                                                                                                                                                                                                                                          |clearly        a nine shot drink deserves at least five stars  stiff baby                                                                                                                                                                                                                                                                                                                                                                                            |\n",
      "|i made this recipe for  coworkers  i doubled the amounts of the ingrediants hoping to get  loaves  i only got  loaaves and the batter was hard to stir when it came to adding the walnuts and apples  the end result was excellent and the bread was consumed in a matter of minutes  everybody loved the bread but they love it when anybody brings in homemade snacks  i was very happy with the taste of the bread\\r\\n                                                      |i made this recipe for  coworkers  i doubled the amounts of the ingrediants hoping to get  loaves  i only got  loaaves and the batter was hard to stir when it came to adding the walnuts and apples  the end result was excellent and the bread was consumed in a matter of minutes  everybody loved the bread but they love it when anybody brings in homemade snacks  i was very happy with the taste of the bread                                                |\n",
      "|mmmm i love this stuff quite elegant and even the liversqueemish like it as long as they dont know                                                                                                                                                                                                                                                                                                                                                                             |mmmm i love this stuff quite elegant and even the liversqueemish like it as long as they dont know                                                                                                                                                                                                                                                                                                                                                                   |\n",
      "|i have made this pie instead of plain ol pumpkin pie for the last  years  everyone always raves about it  the flavor is wonderful and the texture is slightly lighter than traditional pumpin pie i suspect due to the substitution of light cream instead of canned milk  \\r\\n\\r\\nif you try this you wont go back to plain ol pumkin again                                                                                                                                   |i have made this pie instead of plain ol pumpkin pie for the last  years  everyone always raves about it  the flavor is wonderful and the texture is slightly lighter than traditional pumpin pie i suspect due to the substitution of light cream instead of canned milk  if you try this you wont go back to plain ol pumkin again                                                                                                                                 |\n",
      "|these make a wonderful healthy snack                                                                                                                                                                                                                                                                                                                                                                                                                                           |these make a wonderful healthy snack                                                                                                                                                                                                                                                                                                                                                                                                                                 |\n",
      "|its a tasty dish                                                                                                                                                                                                                                                                                                                                                                                                                                                               |its a tasty dish                                                                                                                                                                                                                                                                                                                                                                                                                                                     |\n",
      "|needs more spice                                                                                                                                                                                                                                                                                                                                                                                                                                                               |needs more spice                                                                                                                                                                                                                                                                                                                                                                                                                                                     |\n",
      "|our family has enjoyed this recipe time and time again with great success favorite topping for this is to serve with chili grated cheese and onions the kids love it simply with catsup \\r\\neither way this dish is a major favorite of our family great also for the kids who are learning to cook                                                                                                                                                                            |our family has enjoyed this recipe time and time again with great success favorite topping for this is to serve with chili grated cheese and onions the kids love it simply with catsup either way this dish is a major favorite of our family great also for the kids who are learning to cook                                                                                                                                                                      |\n",
      "|this dish was good the first few bites then it got a vinager taste i wont make it again                                                                                                                                                                                                                                                                                                                                                                                        |this dish was good the first few bites then it got a vinager taste i wont make it again                                                                                                                                                                                                                                                                                                                                                                              |\n",
      "|this is a great quickeasytasy cheescake\\r\\nthe hardest thing about it is waiting for it to cool yum\\r\\n\\r\\njinx                                                                                                                                                                                                                                                                                                                                                                |this is a great quickeasytasy cheescakethe hardest thing about it is waiting for it to cool yumjinx                                                                                                                                                                                                                                                                                                                                                                  |\n",
      "|i found this meat loaf to be quite tasty i was a little nervous about the carrotsbut it made it sweeter than i have tasted in a meat loaf the measurements were a little over it made a rather large loaf and took a lot longer to cook i had to raise the temp to  to get it to cook at a faster rate it also gave off a lot of liquid and i used extra lean meat it made about eight servings and all together was a good meat loaf i would defintely make it again          |i found this meat loaf to be quite tasty i was a little nervous about the carrotsbut it made it sweeter than i have tasted in a meat loaf the measurements were a little over it made a rather large loaf and took a lot longer to cook i had to raise the temp to  to get it to cook at a faster rate it also gave off a lot of liquid and i used extra lean meat it made about eight servings and all together was a good meat loaf i would defintely make it again|\n",
      "|she loved it                                                                                                                                                                                                                                                                                                                                                                                                                                                                   |she loved it                                                                                                                                                                                                                                                                                                                                                                                                                                                         |\n",
      "|wheres the nutmeg and the cinnamon                                                                                                                                                                                                                                                                                                                                                                                                                                             |wheres the nutmeg and the cinnamon                                                                                                                                                                                                                                                                                                                                                                                                                                   |\n",
      "|i ended up adapting this to make a kind of taco instead of baking it as enchiladas but we liked it quite a bit                                                                                                                                                                                                                                                                                                                                                                 |i ended up adapting this to make a kind of taco instead of baking it as enchiladas but we liked it quite a bit                                                                                                                                                                                                                                                                                                                                                       |\n",
      "|i served this recipe cherry cheese salad at our community dinner for  people it was a hit it is a wonderful refreshing salad it seems to come alive in your mouth when all the flavors hit the taste buds great recipe                                                                                                                                                                                                                                                         |i served this recipe cherry cheese salad at our community dinner for  people it was a hit it is a wonderful refreshing salad it seems to come alive in your mouth when all the flavors hit the taste buds great recipe                                                                                                                                                                                                                                               |\n",
      "|this taste great even my yr old loved it                                                                                                                                                                                                                                                                                                                                                                                                                                       |this taste great even my yr old loved it                                                                                                                                                                                                                                                                                                                                                                                                                             |\n",
      "|great recipe everyone loved ityoung  old\\r\\n  we used oz frozen can of pink lemonade instead of the pineaple juice                                                                                                                                                                                                                                                                                                                                                             |great recipe everyone loved ityoung  old  we used oz frozen can of pink lemonade instead of the pineaple juice                                                                                                                                                                                                                                                                                                                                                       |\n",
      "|i am always looking for things such as this to give as gift to friends and family i make an instant spice tea which was given to me by a very good friend years ago it has instant tea cinnimon tang instant lemonade cloves etc it is like the mocha cocoa mix my friends will enjoy this at christmas i will be putting it in small mason jars with a material cap tied off with ribbon and a small christmas wooden ornement\\r\\n\\r\\nthank you this will be great\\r\\ngrannymj|i am always looking for things such as this to give as gift to friends and family i make an instant spice tea which was given to me by a very good friend years ago it has instant tea cinnimon tang instant lemonade cloves etc it is like the mocha cocoa mix my friends will enjoy this at christmas i will be putting it in small mason jars with a material cap tied off with ribbon and a small christmas wooden ornementthank you this will be greatgrannymj  |\n",
      "|ok                                                                                                                                                                                                                                                                                                                                                                                                                                                                             |ok                                                                                                                                                                                                                                                                                                                                                                                                                                                                   |\n",
      "+-------------------------------------------------------------------------------------------------------------------------------------------------------------------------------------------------------------------------------------------------------------------------------------------------------------------------------------------------------------------------------------------------------------------------------------------------------------------------------+---------------------------------------------------------------------------------------------------------------------------------------------------------------------------------------------------------------------------------------------------------------------------------------------------------------------------------------------------------------------------------------------------------------------------------------------------------------------+\n",
      "only showing top 20 rows\n",
      "\n"
     ]
    },
    {
     "name": "stderr",
     "output_type": "stream",
     "text": [
      "\r",
      "                                                                                \r"
     ]
    }
   ],
   "source": [
    "# Checking the results of the last operation.\n",
    "process_reviews.select(\"Review_no_punct\", \"Review_no_punct2\").show(n=20, truncate=False)  "
   ]
  },
  {
   "cell_type": "markdown",
   "id": "3bd79f48",
   "metadata": {},
   "source": [
    "- The last code showed that \\r\\n characters also were removed.  "
   ]
  },
  {
   "cell_type": "markdown",
   "id": "55b6b538",
   "metadata": {},
   "source": [
    "### After a few steps of processing, the dataset will be split into three different sets, the training, validation and test. \n",
    "\n",
    "- The split of the sets will be performed also by using the command sampleBy, in which will divide the reviews dataframe into three different sets, however it will keep the original ratio as close as possible.\n",
    "- The rationale behing the split to occur at this stage is to avoid as much as possible the data leaked, in order words, do not give access to information which the model is not supposed to look at it.\n",
    "- The division will be performed using fractions in order to keep the same ratio and distribution as the original dataset. \n",
    "\n",
    "<br>\n",
    "The sets will be separeted (using fractions) in the following ratio training (60%), validation (20%) and test (20%). The process will be conducted using seed 42, for the same representation when running the code.  "
   ]
  },
  {
   "cell_type": "code",
   "execution_count": 35,
   "id": "decbb3a0",
   "metadata": {},
   "outputs": [
    {
     "name": "stderr",
     "output_type": "stream",
     "text": [
      "                                                                                \r"
     ]
    }
   ],
   "source": [
    "# Defining fractions to split the dataset.\n",
    "train_fractions = {label: 0.6 for label in process_reviews.select(\"label\").distinct().rdd.flatMap(lambda x: x).collect()}\n",
    "\n",
    "# Creating a train set.\n",
    "df_train = process_reviews.sampleBy(\"label\", fractions=train_fractions, seed=42)"
   ]
  },
  {
   "cell_type": "code",
   "execution_count": 36,
   "id": "d066ea4e",
   "metadata": {},
   "outputs": [],
   "source": [
    "# Creates the 40% left set to be splitted between validation and test.\n",
    "remaining_df = process_reviews.subtract(df_train)"
   ]
  },
  {
   "cell_type": "code",
   "execution_count": 37,
   "id": "43c982aa",
   "metadata": {},
   "outputs": [
    {
     "name": "stderr",
     "output_type": "stream",
     "text": [
      "                                                                                \r"
     ]
    }
   ],
   "source": [
    "# Defining fractions to split the dataset.\n",
    "valid_fractions = {label: 0.5 for label in process_reviews.select(\"label\").distinct().rdd.flatMap(lambda x: x).collect()}\n",
    "\n",
    "# Creates the validation set from the 40%, using its franction of \n",
    "df_valid = remaining_df.sampleBy(\"label\", fractions=valid_fractions, seed=42)"
   ]
  },
  {
   "cell_type": "code",
   "execution_count": 38,
   "id": "9e6ddf99",
   "metadata": {},
   "outputs": [],
   "source": [
    "# Creating test df. \n",
    "df_test = remaining_df.subtract(df_valid)"
   ]
  },
  {
   "cell_type": "code",
   "execution_count": 39,
   "id": "cbdbda42",
   "metadata": {},
   "outputs": [
    {
     "name": "stderr",
     "output_type": "stream",
     "text": [
      "                                                                                \r"
     ]
    },
    {
     "name": "stdout",
     "output_type": "stream",
     "text": [
      "+--------+------+\n",
      "|   label| count|\n",
      "+--------+------+\n",
      "|positive|149410|\n",
      "| neutral|  6123|\n",
      "|negative|  4082|\n",
      "+--------+------+\n",
      "\n"
     ]
    },
    {
     "name": "stderr",
     "output_type": "stream",
     "text": [
      "                                                                                \r"
     ]
    },
    {
     "name": "stdout",
     "output_type": "stream",
     "text": [
      "+--------+-----+\n",
      "|   label|count|\n",
      "+--------+-----+\n",
      "|positive|49935|\n",
      "| neutral| 1986|\n",
      "|negative| 1336|\n",
      "+--------+-----+\n",
      "\n"
     ]
    },
    {
     "name": "stderr",
     "output_type": "stream",
     "text": [
      "[Stage 97:=============================>                            (1 + 1) / 2]\r"
     ]
    },
    {
     "name": "stdout",
     "output_type": "stream",
     "text": [
      "+--------+-----+\n",
      "|   label|count|\n",
      "+--------+-----+\n",
      "|positive|49657|\n",
      "| neutral| 2027|\n",
      "|negative| 1359|\n",
      "+--------+-----+\n",
      "\n"
     ]
    },
    {
     "name": "stderr",
     "output_type": "stream",
     "text": [
      "\r",
      "                                                                                \r"
     ]
    }
   ],
   "source": [
    "# Displaying the class distributions after the split using the stratified method.\n",
    "df_train.groupBy(\"label\").count().show()\n",
    "df_valid.groupBy(\"label\").count().show()\n",
    "df_test.groupBy(\"label\").count().show()"
   ]
  },
  {
   "cell_type": "code",
   "execution_count": 40,
   "id": "30df56a8",
   "metadata": {},
   "outputs": [
    {
     "name": "stdout",
     "output_type": "stream",
     "text": [
      "Word count statistics for Training Set:\n"
     ]
    },
    {
     "name": "stderr",
     "output_type": "stream",
     "text": [
      "                                                                                \r"
     ]
    },
    {
     "name": "stdout",
     "output_type": "stream",
     "text": [
      "+-------+------------------+\n",
      "|summary|        word_count|\n",
      "+-------+------------------+\n",
      "|  count|            159615|\n",
      "|   mean|53.301500485543336|\n",
      "| stddev| 37.54504176926651|\n",
      "|    min|                 1|\n",
      "|    max|               944|\n",
      "+-------+------------------+\n",
      "\n",
      "Word count statistics for Validation Set:\n"
     ]
    },
    {
     "name": "stderr",
     "output_type": "stream",
     "text": [
      "                                                                                \r"
     ]
    },
    {
     "name": "stdout",
     "output_type": "stream",
     "text": [
      "+-------+-----------------+\n",
      "|summary|       word_count|\n",
      "+-------+-----------------+\n",
      "|  count|            53257|\n",
      "|   mean|53.37863567230599|\n",
      "| stddev|37.50445965462049|\n",
      "|    min|                1|\n",
      "|    max|              805|\n",
      "+-------+-----------------+\n",
      "\n",
      "Word count statistics for Test Set:\n"
     ]
    },
    {
     "name": "stderr",
     "output_type": "stream",
     "text": [
      "[Stage 152:>                                                        (0 + 2) / 2]\r"
     ]
    },
    {
     "name": "stdout",
     "output_type": "stream",
     "text": [
      "+-------+------------------+\n",
      "|summary|        word_count|\n",
      "+-------+------------------+\n",
      "|  count|             53043|\n",
      "|   mean| 53.36866316007767|\n",
      "| stddev|37.448449992564456|\n",
      "|    min|                 1|\n",
      "|    max|               658|\n",
      "+-------+------------------+\n",
      "\n"
     ]
    },
    {
     "name": "stderr",
     "output_type": "stream",
     "text": [
      "\r",
      "                                                                                \r"
     ]
    }
   ],
   "source": [
    "# Creating a function to display the descripte statistics.\n",
    "def describe_word_count(dataset, dataset_name):\n",
    "    # Calculate word count and add as a new column\n",
    "    dataset_with_count = dataset.withColumn(\"word_count\", size(split(dataset[\"Review_no_punct2\"], \" \")))\n",
    "    \n",
    "    # Describes the word count and show the statistics.\n",
    "    print(f\"Word count statistics for {dataset_name}:\")\n",
    "    dataset_with_count.select(\"word_count\").describe().show()\n",
    "\n",
    "    return dataset_with_count\n",
    "\n",
    "# Applying the function to X_train, X_val, and X_test.\n",
    "df_train_R = describe_word_count(df_train, \"Training Set\")\n",
    "df_valid_R = describe_word_count(df_valid, \"Validation Set\")\n",
    "df_test_R = describe_word_count(df_test, \"Test Set\")"
   ]
  },
  {
   "cell_type": "markdown",
   "id": "db95a90a",
   "metadata": {},
   "source": [
    "According to the last descriptive codes:\n",
    "- The results regarding the proportion being (0.6, 0.2, 0.2) are successful, for example the training set has 398,573 reviews, which represents 60% of the total.\n",
    "- The average number of words (53) per review are equal among the sets. Despite the same averages, the sets vary in the maximum value of words. "
   ]
  },
  {
   "cell_type": "code",
   "execution_count": 41,
   "id": "47ab8dd0",
   "metadata": {},
   "outputs": [
    {
     "name": "stderr",
     "output_type": "stream",
     "text": [
      "\r",
      "[Stage 161:============================>                            (1 + 1) / 2]\r"
     ]
    },
    {
     "name": "stdout",
     "output_type": "stream",
     "text": [
      "Rating Class Positive: 93.61%\n",
      "Rating Class Neutral: 3.84%\n",
      "Rating Class Negative: 2.56%\n"
     ]
    },
    {
     "name": "stderr",
     "output_type": "stream",
     "text": [
      "\r",
      "                                                                                \r"
     ]
    }
   ],
   "source": [
    "# Calculating the distribution of scores and the three different classes fo the train set.\n",
    "# Group by the label column to get counts.\n",
    "class_counts_train = df_train.groupBy(\"label\").count().rdd.collectAsMap()\n",
    "\n",
    "# Calculate the total number of reviews.\n",
    "total_reviews_train = sum(class_counts_train.values())\n",
    "\n",
    "# Calculates the ratios.\n",
    "Ratios = {k: v / total_reviews_train for k, v in class_counts_train.items()}\n",
    "\n",
    "# Prints the percentages.\n",
    "for label, ratio in Ratios.items():\n",
    "    print(f\"Rating Class {label.capitalize()}: {ratio*100:.2f}%\")"
   ]
  },
  {
   "cell_type": "markdown",
   "id": "b5b8f440",
   "metadata": {},
   "source": [
    "- Based on the last code, it is observable that the ratio between before and after the split are similiar for all three classes. "
   ]
  },
  {
   "cell_type": "markdown",
   "id": "5922d785",
   "metadata": {},
   "source": [
    "Next step will separete the sentence into words (tokens)\n",
    "- The tokenizer provided by Keras has an additional feature which is possible to set the maximum number of words, however in the Spark enviroment this feature is not available. Therefore, a different approach to use a maximum range of vocabulary will be applied in later stage. "
   ]
  },
  {
   "cell_type": "markdown",
   "id": "7587b180",
   "metadata": {},
   "source": [
    "### Tokenizing all sets."
   ]
  },
  {
   "cell_type": "code",
   "execution_count": 42,
   "id": "89820227",
   "metadata": {},
   "outputs": [],
   "source": [
    "# Initialize a tokenizer\n",
    "tokenizer = Tokenizer(inputCol=\"Review_no_punct2\", outputCol=\"tokens\")\n",
    "\n",
    "# Tokenize X_train\n",
    "df_train_token = tokenizer.transform(df_train)\n",
    "\n",
    "# Tokenize X_val\n",
    "df_val_token = tokenizer.transform(df_valid)\n",
    "\n",
    "# Tokenize X_test\n",
    "df_test_token = tokenizer.transform(df_test)\n"
   ]
  },
  {
   "cell_type": "markdown",
   "id": "8dfa6eb8",
   "metadata": {},
   "source": [
    "- There are pre processing steps that could have been called before tokenization, such as removal of stop words, however in the Spark environment the command only removes when its separeted. Therefore pre processing steps will be performed also after the tokenization. "
   ]
  },
  {
   "cell_type": "code",
   "execution_count": 43,
   "id": "7cfc1d90",
   "metadata": {},
   "outputs": [
    {
     "name": "stderr",
     "output_type": "stream",
     "text": [
      "[Stage 164:============================>                            (1 + 1) / 2]\r"
     ]
    },
    {
     "name": "stdout",
     "output_type": "stream",
     "text": [
      "+------+------+\n",
      "| words| count|\n",
      "+------+------+\n",
      "|      |395303|\n",
      "|     i|374168|\n",
      "|   the|363882|\n",
      "|   and|281025|\n",
      "|     a|216552|\n",
      "|    it|193608|\n",
      "|  this|169531|\n",
      "|    to|165599|\n",
      "|   for|158029|\n",
      "|    of|136766|\n",
      "|   was|114952|\n",
      "|recipe| 95125|\n",
      "|    in| 79053|\n",
      "|    my| 75844|\n",
      "|  with| 75637|\n",
      "|    is| 70726|\n",
      "|  made| 67485|\n",
      "|    so| 67021|\n",
      "|  used| 59973|\n",
      "|   but| 57396|\n",
      "+------+------+\n",
      "only showing top 20 rows\n",
      "\n"
     ]
    },
    {
     "name": "stderr",
     "output_type": "stream",
     "text": [
      "\r",
      "                                                                                \r"
     ]
    }
   ],
   "source": [
    "# It \"explodes\" the tokens column to have one token per row.\n",
    "df_train_token_exploded = df_train_token.select(explode(\"tokens\").alias(\"words\"))\n",
    "\n",
    "# Groups individual by tokens and count their occurrences.\n",
    "word_counts = df_train_token_exploded.groupBy(\"words\").agg(count(\"words\").alias(\"count\"))\n",
    "\n",
    "# Orders by count in descending order to see most frequent words at the top.\n",
    "word_counts_ordered_train = word_counts.orderBy(desc(\"count\"))\n",
    "\n",
    "# Show the results.\n",
    "word_counts_ordered_train.show()"
   ]
  },
  {
   "cell_type": "markdown",
   "id": "a33b7907",
   "metadata": {},
   "source": [
    "- As shown in the previous cell that there are spaces being counted which does not have any meaning to the model. The removal of this character will be filtering out short tokens (less than 2), the reason for the number is that word like \"no\".\n",
    "\n",
    "Thus, the next two lines of code will filter out short tokens with lenght that are less than 2 characters, including the spaces. \n",
    "\n",
    "### Filter short tokens (less than 2)"
   ]
  },
  {
   "cell_type": "code",
   "execution_count": 44,
   "id": "6315d71d",
   "metadata": {},
   "outputs": [],
   "source": [
    "# UDF to filter out short tokens in all three sets.\n",
    "filter_short_udf = udf(lambda tokens: [token for token in tokens if len(token) > 1], ArrayType(StringType()))\n",
    "\n",
    "df_train = df_train_token.withColumn(\"filt_tokens\", filter_short_udf(df_train_token[\"tokens\"]))\n",
    "df_val = df_val_token.withColumn(\"filt_tokens\", filter_short_udf(df_val_token[\"tokens\"]))\n",
    "df_test = df_test_token.withColumn(\"filt_tokens\", filter_short_udf(df_test_token[\"tokens\"]))"
   ]
  },
  {
   "cell_type": "code",
   "execution_count": 45,
   "id": "10966e3d",
   "metadata": {},
   "outputs": [
    {
     "name": "stderr",
     "output_type": "stream",
     "text": [
      "[Stage 167:============================>                            (1 + 1) / 2]\r"
     ]
    },
    {
     "name": "stdout",
     "output_type": "stream",
     "text": [
      "+------+------+\n",
      "| words| count|\n",
      "+------+------+\n",
      "|   the|363882|\n",
      "|   and|281025|\n",
      "|    it|193608|\n",
      "|  this|169531|\n",
      "|    to|165599|\n",
      "|   for|158029|\n",
      "|    of|136766|\n",
      "|   was|114952|\n",
      "|recipe| 95125|\n",
      "|    in| 79053|\n",
      "|    my| 75844|\n",
      "|  with| 75637|\n",
      "|    is| 70726|\n",
      "|  made| 67485|\n",
      "|    so| 67021|\n",
      "|  used| 59973|\n",
      "|   but| 57396|\n",
      "|  that| 50050|\n",
      "|  make| 48141|\n",
      "|thanks| 47612|\n",
      "+------+------+\n",
      "only showing top 20 rows\n",
      "\n"
     ]
    },
    {
     "name": "stderr",
     "output_type": "stream",
     "text": [
      "\r",
      "                                                                                \r"
     ]
    }
   ],
   "source": [
    "# It \"explodes\" the tokens column to have one token per row.\n",
    "df_train_exploded = df_train.select(explode(\"filt_tokens\").alias(\"words\"))\n",
    "\n",
    "# Groups individual by tokens and count their occurrences.\n",
    "word_counts = df_train_exploded.groupBy(\"words\").agg(count(\"words\").alias(\"count\"))\n",
    "\n",
    "# Orders by count in descending order to see most frequent words at the top.\n",
    "word_counts_ordered = word_counts.orderBy(desc(\"count\"))\n",
    "\n",
    "# Show the results.\n",
    "word_counts_ordered.show()"
   ]
  },
  {
   "cell_type": "markdown",
   "id": "099f86ab",
   "metadata": {},
   "source": [
    "- Based on the results, spaces, letters such as i, a, are not present anymore. Thus, the operation of filtering the short tokens was successful.\n",
    "\n",
    "Next transformation to be called is to remove the stop words, a step that can be performed in early stages, although on Spark, setences has to be separeted by words. Thus this is why this step is being used now. "
   ]
  },
  {
   "cell_type": "markdown",
   "id": "d136c2e5",
   "metadata": {},
   "source": [
    "### Removing StopWords"
   ]
  },
  {
   "cell_type": "code",
   "execution_count": 46,
   "id": "ad0b817a",
   "metadata": {},
   "outputs": [],
   "source": [
    "# Defines the stopword remover.\n",
    "remover = StopWordsRemover(inputCol=\"filt_tokens\", outputCol=\"tokens_no_stopwords\")\n",
    "\n",
    "# Removes stopwords from the training dataset.\n",
    "df_train = remover.transform(df_train)\n",
    "\n",
    "# Removes stopwords from the validation dataset.\n",
    "df_val = remover.transform(df_val)\n",
    "\n",
    "# Removes stopwords from the test dataset.\n",
    "df_test = remover.transform(df_test)\n"
   ]
  },
  {
   "cell_type": "markdown",
   "id": "f24e285f",
   "metadata": {},
   "source": [
    "- After some stages of pre processing (mainly transformations) the reviews, it could potentially create empty cells, for example a review with just punctuations or with just stopwords. Therefore, the following code will search for empty reviews in all three datasets. "
   ]
  },
  {
   "cell_type": "code",
   "execution_count": 47,
   "id": "7fc78a11",
   "metadata": {},
   "outputs": [
    {
     "name": "stderr",
     "output_type": "stream",
     "text": [
      "                                                                                \r"
     ]
    },
    {
     "name": "stdout",
     "output_type": "stream",
     "text": [
      "Number of empty reviews in Training Set: 38\n"
     ]
    },
    {
     "name": "stderr",
     "output_type": "stream",
     "text": [
      "                                                                                \r"
     ]
    },
    {
     "name": "stdout",
     "output_type": "stream",
     "text": [
      "Number of empty reviews in Validation Set: 18\n"
     ]
    },
    {
     "name": "stderr",
     "output_type": "stream",
     "text": [
      "[Stage 209:============================>                            (1 + 1) / 2]\r"
     ]
    },
    {
     "name": "stdout",
     "output_type": "stream",
     "text": [
      "Number of empty reviews in Test Set: 9\n"
     ]
    },
    {
     "name": "stderr",
     "output_type": "stream",
     "text": [
      "\r",
      "                                                                                \r"
     ]
    }
   ],
   "source": [
    "# Creates a function to filter and count the empty tokens in each set.\n",
    "def count_empty_reviews(dataset, dataset_name):\n",
    "    # Filter the empty token reviews.\n",
    "    empty_token_reviews = dataset.filter(size(dataset[\"tokens_no_stopwords\"]) == 0)\n",
    "    \n",
    "    # Count the number of empty reviews.\n",
    "    empty_count = empty_token_reviews.count()\n",
    "    \n",
    "    # Print and return the result.\n",
    "    print(f\"Number of empty reviews in {dataset_name}: {empty_count}\")\n",
    "    return empty_count\n",
    "\n",
    "# Count empty reviews in df_train, df_val, and df_test.\n",
    "empty_train_count = count_empty_reviews(df_train, \"Training Set\")\n",
    "empty_val_count = count_empty_reviews(df_val, \"Validation Set\")\n",
    "empty_test_count = count_empty_reviews(df_test, \"Test Set\")\n"
   ]
  },
  {
   "cell_type": "markdown",
   "id": "5efcbca0",
   "metadata": {},
   "source": [
    "- The results of the last code shows that all the three sets now have a few empty cells, that might have been transformed to empty due to transformations. Therefore, the chosen option will be to drop the empty ones because it could potentially impact model efficiency."
   ]
  },
  {
   "cell_type": "code",
   "execution_count": 48,
   "id": "5b152b3e",
   "metadata": {
    "scrolled": false
   },
   "outputs": [],
   "source": [
    "def filter_empty_reviews(dataset):\n",
    "    return dataset.filter(size(dataset[\"tokens_no_stopwords\"]) > 0)\n",
    "\n",
    "# Filter out empty reviews in X_train, X_val, and X_test\n",
    "df_train = filter_empty_reviews(df_train)\n",
    "df_val = filter_empty_reviews(df_val)\n",
    "df_test = filter_empty_reviews(df_test)"
   ]
  },
  {
   "cell_type": "markdown",
   "id": "99b35c33",
   "metadata": {},
   "source": [
    "- For computational resources (time consuming), the maximum length of words (the vocabulary) is going to be taken from the train set only, by performing word count and frequency, along with visualization to help identify what is the number that represents the majority (at least 90%) of the words. "
   ]
  },
  {
   "cell_type": "code",
   "execution_count": 49,
   "id": "5f84e00e",
   "metadata": {},
   "outputs": [
    {
     "name": "stderr",
     "output_type": "stream",
     "text": [
      "[Stage 229:=========================================================(2 + 0) / 2]\r"
     ]
    },
    {
     "name": "stdout",
     "output_type": "stream",
     "text": [
      "+---------+-----+\n",
      "|    words|count|\n",
      "+---------+-----+\n",
      "|   recipe|95125|\n",
      "|     made|67485|\n",
      "|     used|59973|\n",
      "|     make|48141|\n",
      "|   thanks|47612|\n",
      "|    great|43492|\n",
      "|     good|42091|\n",
      "|     easy|31937|\n",
      "|     time|31417|\n",
      "|    added|29391|\n",
      "|   really|27198|\n",
      "|     like|27043|\n",
      "|delicious|23831|\n",
      "|      one|23709|\n",
      "|     also|23370|\n",
      "|    sauce|22121|\n",
      "|      use|21983|\n",
      "|    loved|21933|\n",
      "|    didnt|21883|\n",
      "|   little|21549|\n",
      "+---------+-----+\n",
      "only showing top 20 rows\n",
      "\n"
     ]
    },
    {
     "name": "stderr",
     "output_type": "stream",
     "text": [
      "\r",
      "                                                                                \r"
     ]
    }
   ],
   "source": [
    "# It \"explodes\" the tokens column to have one token per row.\n",
    "df_train_exploded = df_train.select(explode(\"tokens_no_stopwords\").alias(\"words\"))\n",
    "\n",
    "# Groups individual by tokens and count their occurrences.\n",
    "word_counts = df_train_exploded.groupBy(\"words\").agg(count(\"words\").alias(\"count\"))\n",
    "\n",
    "# Orders by count in descending order to see most frequent words at the top.\n",
    "word_counts_ordered = word_counts.orderBy(desc(\"count\"))\n",
    "\n",
    "# Show the results.\n",
    "word_counts_ordered.show()"
   ]
  },
  {
   "cell_type": "code",
   "execution_count": 50,
   "id": "c60daf64",
   "metadata": {},
   "outputs": [
    {
     "name": "stderr",
     "output_type": "stream",
     "text": [
      "[Stage 232:============================>                            (1 + 1) / 2]\r"
     ]
    },
    {
     "name": "stdout",
     "output_type": "stream",
     "text": [
      "Total distinct tokens in the dataset: 85888\n"
     ]
    },
    {
     "name": "stderr",
     "output_type": "stream",
     "text": [
      "\r",
      "                                                                                \r"
     ]
    }
   ],
   "source": [
    "distinct_token_count = (df_train\n",
    "                        .select(explode(col(\"tokens_no_stopwords\")).alias(\"word\"))\n",
    "                        .distinct()\n",
    "                        .count())\n",
    "\n",
    "print(f\"Total distinct tokens in the dataset: {distinct_token_count}\")"
   ]
  },
  {
   "cell_type": "code",
   "execution_count": 51,
   "id": "53dcef12",
   "metadata": {},
   "outputs": [
    {
     "name": "stderr",
     "output_type": "stream",
     "text": [
      "                                                                                \r"
     ]
    },
    {
     "data": {
      "image/png": "[encoded data removed]",
      "text/plain": [
       "<Figure size 720x432 with 1 Axes>"
      ]
     },
     "metadata": {},
     "output_type": "display_data"
    }
   ],
   "source": [
    "# Convert the word counts to pandas dataframe for visualization\n",
    "word_counts_ordered_pd = word_counts_ordered.toPandas()\n",
    "\n",
    "# 2. Compute the cumulative sum of the word frequencies\n",
    "word_counts_ordered_pd['cumulative_freq'] = word_counts_ordered_pd['count'].cumsum()\n",
    "word_counts_ordered_pd['cumulative_freq'] /= word_counts_ordered_pd['count'].sum()  # normalize to get the CDF\n",
    "\n",
    "# 3. Plot the CDF\n",
    "plt.figure(figsize=(10, 6))\n",
    "plt.plot(word_counts_ordered_pd['cumulative_freq'], marker='.', linestyle='none')\n",
    "plt.xlabel('Word Rank')\n",
    "plt.xlim(0, 15000)\n",
    "plt.ylabel('CDF')\n",
    "plt.title('CDF of Word Frequencies')\n",
    "plt.grid(True)\n",
    "plt.show()\n"
   ]
  },
  {
   "cell_type": "code",
   "execution_count": 52,
   "id": "db268f70",
   "metadata": {},
   "outputs": [
    {
     "name": "stderr",
     "output_type": "stream",
     "text": [
      "[Stage 252:============================>                            (1 + 1) / 2]\r"
     ]
    },
    {
     "name": "stdout",
     "output_type": "stream",
     "text": [
      "Total word occurrences: 4169309\n",
      "Occurrences of top 15000 words: 4071637\n",
      "Coverage of top 15000 words: 97.66%\n"
     ]
    },
    {
     "name": "stderr",
     "output_type": "stream",
     "text": [
      "\r",
      "[Stage 254:>                                                        (0 + 1) / 1]\r",
      "\r",
      "                                                                                \r"
     ]
    }
   ],
   "source": [
    "# Compute total word occurrences\n",
    "total_word_occurrences = word_counts_ordered.agg({\"count\": \"sum\"}).collect()[0][0]\n",
    "\n",
    "# Compute occurrences of top N words\n",
    "N = 15000\n",
    "top_N_word_occurrences = word_counts_ordered.limit(N).agg({\"count\": \"sum\"}).collect()[0][0]\n",
    "\n",
    "# Compute the coverage\n",
    "coverage = (top_N_word_occurrences / total_word_occurrences) * 100\n",
    "\n",
    "print(\"Total word occurrences:\", total_word_occurrences)\n",
    "print(f\"Occurrences of top {N} words:\", top_N_word_occurrences)\n",
    "print(f\"Coverage of top {N} words: {coverage:.2f}%\")"
   ]
  },
  {
   "cell_type": "markdown",
   "id": "03c5f647",
   "metadata": {},
   "source": [
    "Looking at the last codes, the CDF plot shows that the 15000 words is above 0.9. In addition the to the next code which tells that it covers 97.59%. Thus, a range of vocabulary will be set to N(15000) tokens (based on train set), and them filter the reviews to have tokens, which are in the range of (N). "
   ]
  },
  {
   "cell_type": "code",
   "execution_count": 53,
   "id": "09fa671f",
   "metadata": {},
   "outputs": [
    {
     "name": "stderr",
     "output_type": "stream",
     "text": [
      "                                                                                \r"
     ]
    }
   ],
   "source": [
    "from pyspark.sql.functions import explode, count, desc, udf\n",
    "from pyspark.sql.types import ArrayType, StringType\n",
    "# Gets the top N tokens\n",
    "N = 15000\n",
    "top_N_tokens = word_counts_ordered.limit(N).select(\"words\").rdd.flatMap(lambda x: x).collect()\n",
    "\n",
    "# Broadcasting the top tokens list for efficient filtering\n",
    "top_tokens_broadcast = spark.sparkContext.broadcast(set(top_N_tokens))\n",
    "\n",
    "# Defines a filtering function that retains only those tokens present in our broadcasted top tokens set\n",
    "def filter_native(tokens):\n",
    "    return [t for t in tokens if t in top_tokens_broadcast.value]\n",
    "\n",
    "# Defining UDF for our function\n",
    "filter_udf = udf(filter_native, ArrayType(StringType()))\n",
    "\n",
    "# Apply the UDF to the tokenized column in all three datasets:\n",
    "df_train = df_train.withColumn(\"filtered_tokens\", filter_udf(df_train[\"tokens_no_stopwords\"]))\n",
    "df_val = df_val.withColumn(\"filtered_tokens\", filter_udf(df_val[\"tokens_no_stopwords\"]))\n",
    "df_test = df_test.withColumn(\"filtered_tokens\", filter_udf(df_test[\"tokens_no_stopwords\"]))"
   ]
  },
  {
   "cell_type": "code",
   "execution_count": 54,
   "id": "37361cac",
   "metadata": {
    "scrolled": false
   },
   "outputs": [
    {
     "name": "stderr",
     "output_type": "stream",
     "text": [
      "[Stage 258:============================>                            (1 + 1) / 2]\r"
     ]
    },
    {
     "name": "stdout",
     "output_type": "stream",
     "text": [
      "Total distinct tokens in the dataset: 15000\n"
     ]
    },
    {
     "name": "stderr",
     "output_type": "stream",
     "text": [
      "\r",
      "                                                                                \r"
     ]
    }
   ],
   "source": [
    "distinct_token_count = (df_train\n",
    "                        .select(explode(col(\"filtered_tokens\")).alias(\"word\"))\n",
    "                        .distinct()\n",
    "                        .count())\n",
    "\n",
    "print(f\"Total distinct tokens in the dataset: {distinct_token_count}\")"
   ]
  },
  {
   "cell_type": "markdown",
   "id": "362a16c4",
   "metadata": {},
   "source": [
    "- According to the last line of code the filter function was a success by indicating that the total number of distinct tokens are 15,000, way below than the original number 155,981."
   ]
  },
  {
   "cell_type": "markdown",
   "id": "84da1bc1",
   "metadata": {},
   "source": [
    "### 4. Feature Engineering (Word2Vec and Padding)\n",
    "\n",
    "In this stage feature engineering steps will be applied to the sets."
   ]
  },
  {
   "cell_type": "markdown",
   "id": "16c5f89e",
   "metadata": {},
   "source": [
    "- Lemmatization will be applied to handle words for example that are in the past, or with ing, but it has the same representation as the verb or noun."
   ]
  },
  {
   "cell_type": "code",
   "execution_count": 56,
   "id": "93525a31",
   "metadata": {},
   "outputs": [],
   "source": [
    "# Loading spaCy model for Lemmatization.\n",
    "nlp = spacy.load(\"en_core_web_sm\", disable=[\"parser\", \"ner\", \"textcat\"])\n",
    "\n",
    "# Creating a function for lemmatization, also using UDF.\n",
    "@udf(ArrayType(StringType()))\n",
    "def lemmatize_udf(tokens):\n",
    "    # Convert list of tokens to single string.\n",
    "    doc = nlp(\" \".join(tokens))\n",
    "    \n",
    "    # Return list of lemmatized tokens.\n",
    "    return [token.lemma_ for token in doc]\n",
    "\n",
    "# Apply the UDF.\n",
    "# Apply the UDF to all three datasets.\n",
    "df_train = df_train.withColumn(\"lemmatized_tokens\", lemmatize_udf(X_train[\"filtered_tokens\"]))\n",
    "df_val = df_val.withColumn(\"lemmatized_tokens\", lemmatize_udf(X_val[\"filtered_tokens\"]))\n",
    "df_test = df_test.withColumn(\"lemmatized_tokens\", lemmatize_udf(X_test[\"filtered_tokens\"]))"
   ]
  },
  {
   "cell_type": "code",
   "execution_count": 57,
   "id": "bc5166bb",
   "metadata": {
    "collapsed": true
   },
   "outputs": [
    {
     "name": "stderr",
     "output_type": "stream",
     "text": [
      "\r",
      "[Stage 264:>                                                        (0 + 1) / 1]\r"
     ]
    },
    {
     "name": "stdout",
     "output_type": "stream",
     "text": [
      "+------------------------------------------------------------------------------------------------------------------------------------------------------------------------------------------------------------------------------------------------------------------------------------------------------------------------+----------------------------------------------------------------------------------------------------------------------------------------------------------------------------------------------------------------------------------------------------------------------------------------------------------+\n",
      "|filtered_tokens                                                                                                                                                                                                                                                                                                         |lemmatized_tokens                                                                                                                                                                                                                                                                                         |\n",
      "+------------------------------------------------------------------------------------------------------------------------------------------------------------------------------------------------------------------------------------------------------------------------------------------------------------------------+----------------------------------------------------------------------------------------------------------------------------------------------------------------------------------------------------------------------------------------------------------------------------------------------------------+\n",
      "|[clearly, nine, shot, drink, deserves, least, five, stars, stiff, baby]                                                                                                                                                                                                                                                 |[clearly, nine, shot, drink, deserve, least, five, star, stiff, baby]                                                                                                                                                                                                                                     |\n",
      "|[mmmm, love, stuff, quite, elegant, even, like, long, dont, know]                                                                                                                                                                                                                                                       |[mmmm, love, stuff, quite, elegant, even, like, long, do, nt, know]                                                                                                                                                                                                                                       |\n",
      "|[make, wonderful, healthy, snack]                                                                                                                                                                                                                                                                                       |[make, wonderful, healthy, snack]                                                                                                                                                                                                                                                                         |\n",
      "|[needs, spice]                                                                                                                                                                                                                                                                                                          |[need, spice]                                                                                                                                                                                                                                                                                             |\n",
      "|[great, hardest, thing, waiting, cool]                                                                                                                                                                                                                                                                                  |[great, hard, thing, wait, cool]                                                                                                                                                                                                                                                                          |\n",
      "|[loved]                                                                                                                                                                                                                                                                                                                 |[love]                                                                                                                                                                                                                                                                                                    |\n",
      "|[taste, great, even, yr, old, loved]                                                                                                                                                                                                                                                                                    |[taste, great, even, yr, old, love]                                                                                                                                                                                                                                                                       |\n",
      "|[always, looking, things, give, gift, friends, family, make, instant, spice, tea, given, good, friend, years, ago, instant, tea, cinnimon, tang, instant, lemonade, cloves, etc, like, mocha, cocoa, mix, friends, enjoy, christmas, putting, small, mason, jars, material, cap, tied, ribbon, small, christmas, wooden]|[always, look, thing, give, gift, friend, family, make, instant, spice, tea, give, good, friend, year, ago, instant, tea, cinnimon, tang, instant, lemonade, clove, etc, like, mocha, cocoa, mix, friend, enjoy, christmas, put, small, mason, jars, material, cap, tie, ribbon, small, christmas, wooden]|\n",
      "|[loved, recipe, tasty, makes, great, appy, making, new, years, party]                                                                                                                                                                                                                                                   |[love, recipe, tasty, make, great, appy, make, new, year, party]                                                                                                                                                                                                                                          |\n",
      "|[made, double, batch, soup, added, medium, onion, two, cloves, garlic, easy, thought, really, great, coarse, potato, soup, favorite, best, ever, made, going, put, individual, servings, freeze]                                                                                                                        |[make, double, batch, soup, add, medium, onion, two, clove, garlic, easy, think, really, great, coarse, potato, soup, favorite, well, ever, make, go, put, individual, serving, freeze]                                                                                                                   |\n",
      "|[absolutely, delightful, recipe, rich, flavorful]                                                                                                                                                                                                                                                                       |[absolutely, delightful, recipe, rich, flavorful]                                                                                                                                                                                                                                                         |\n",
      "|[good, basic, recipe, thought, add, variation, took, day, christmas, ham, bone, needed, use, son, wanted, lentil, soup, wanted, make, something, little, different, web, found, one, nice, basic, added, ham, bone, skipped, hot, dogs, added, two, potatoes, diced, tomatoes, make, delicious, soup, thanks]           |[good, basic, recipe, thought, add, variation, take, day, christmas, ham, bone, need, use, son, want, lentil, soup, want, make, something, little, different, web, find, one, nice, basic, add, ham, bone, skip, hot, dog, add, two, potato, diced, tomato, make, delicious, soup, thank]                 |\n",
      "|[good]                                                                                                                                                                                                                                                                                                                  |[good]                                                                                                                                                                                                                                                                                                    |\n",
      "|[hashbrown, casserole, similar, well, never, got, recipe, curious, much, sour, cream, put, thanks]                                                                                                                                                                                                                      |[hashbrown, casserole, similar, well, never, get, recipe, curious, much, sour, cream, put, thank]                                                                                                                                                                                                         |\n",
      "|[great, basic, potato, soup, receipe, used, two, cups, half, half, place, two, cups, milk, added, pound, cooked, bacon, plus, two, tbls, parsley, took, cheese, add, half, half]                                                                                                                                        |[great, basic, potato, soup, receipe, use, two, cup, half, half, place, two, cup, milk, add, pound, cook, bacon, plus, two, tbls, parsley, take, cheese, add, half, half]                                                                                                                                 |\n",
      "|[refreshing, salad, time, consuming, ingredients, simple, husband, enjoying, eating, lighter, healthier, meals, one, excellent, thank]                                                                                                                                                                                  |[refreshing, salad, time, consume, ingredient, simple, husband, enjoy, eat, light, healthy, meal, one, excellent, thank]                                                                                                                                                                                  |\n",
      "|[husband, simply, loved, soup, added, half, medium, onion, mine, put, four, cloves, garlic, instead, two, sprinkled, shredded, mozzarella, cheese, enjoying]                                                                                                                                                            |[husband, simply, love, soup, add, half, medium, onion, mine, put, four, clove, garlic, instead, two, sprinkle, shred, mozzarella, cheese, enjoy]                                                                                                                                                         |\n",
      "|[rate, one, highly, since, author, found, quite, funny, watch, recipe, around, world, sure, wish, done, better, job, typing]                                                                                                                                                                                            |[rate, one, highly, since, author, find, quite, funny, watch, recipe, around, world, sure, wish, do, well, job, typing]                                                                                                                                                                                   |\n",
      "|[used, cream, chicken, instead, mushroom, wonderful, whole, family, loved]                                                                                                                                                                                                                                              |[use, cream, chicken, instead, mushroom, wonderful, whole, family, love]                                                                                                                                                                                                                                  |\n",
      "|[family, like, bamboo, shoots, whole, love, recipe]                                                                                                                                                                                                                                                                     |[family, like, bamboo, shoot, whole, love, recipe]                                                                                                                                                                                                                                                        |\n",
      "+------------------------------------------------------------------------------------------------------------------------------------------------------------------------------------------------------------------------------------------------------------------------------------------------------------------------+----------------------------------------------------------------------------------------------------------------------------------------------------------------------------------------------------------------------------------------------------------------------------------------------------------+\n",
      "only showing top 20 rows\n",
      "\n"
     ]
    },
    {
     "name": "stderr",
     "output_type": "stream",
     "text": [
      "\r",
      "                                                                                \r"
     ]
    }
   ],
   "source": [
    "X_train.select(\"filtered_tokens\", \"lemmatized_tokens\").show(truncate=False)"
   ]
  },
  {
   "cell_type": "markdown",
   "id": "20e04c87",
   "metadata": {},
   "source": [
    "- The previous code shows that the lemmatization was a success, words such as loved became love, turned is also turn.\n",
    "\n",
    "Thus, next it will transform into vectors and the chosen tool is the Word2Vec, with the size of 100 and a minimum count of 5 (it has to pop up at leat 5 times). The Word2Vec model will follow three steps, first will set its configurations, second model will ve trained on the train set, and third will be applied (transform) on all three sets."
   ]
  },
  {
   "cell_type": "code",
   "execution_count": 58,
   "id": "2b8a5fdf",
   "metadata": {},
   "outputs": [
    {
     "name": "stderr",
     "output_type": "stream",
     "text": [
      "                                                                                \r"
     ]
    }
   ],
   "source": [
    "# Step 1: Define the Word2Vec model.\n",
    "word2Vec = Word2Vec(vectorSize=100, minCount=5, inputCol=\"lemmatized_tokens\", outputCol=\"Review_Vec\")\n",
    "\n",
    "# Step 2: Train the Word2Vec model on the training set.\n",
    "model = word2Vec.fit(df_train)"
   ]
  },
  {
   "cell_type": "code",
   "execution_count": 59,
   "id": "e00b3894",
   "metadata": {},
   "outputs": [],
   "source": [
    "# Step 3: Use the trained model to transform all datasets.\n",
    "df_train_trans = model.transform(df_train)\n",
    "df_val_trans = model.transform(df_val)\n",
    "df_test_trans = model.transform(df_test)"
   ]
  },
  {
   "cell_type": "markdown",
   "id": "053bcaf0",
   "metadata": {},
   "source": [
    "- After the vectorizing stage, the following stage is the padding, but first the maximum legth of vectors has to be defined. "
   ]
  },
  {
   "cell_type": "code",
   "execution_count": 73,
   "id": "b6e8f9d7",
   "metadata": {},
   "outputs": [
    {
     "ename": "NameError",
     "evalue": "name 'df_train_trans' is not defined",
     "output_type": "error",
     "traceback": [
      "\u001b[0;31m---------------------------------------------------------------------------\u001b[0m",
      "\u001b[0;31mNameError\u001b[0m                                 Traceback (most recent call last)",
      "\u001b[0;32m/tmp/ipykernel_39596/875324015.py\u001b[0m in \u001b[0;36m<module>\u001b[0;34m\u001b[0m\n\u001b[0;32m----> 1\u001b[0;31m \u001b[0mdf_train_trans\u001b[0m\u001b[0;34m.\u001b[0m\u001b[0mcolumns\u001b[0m\u001b[0;34m\u001b[0m\u001b[0;34m\u001b[0m\u001b[0m\n\u001b[0m",
      "\u001b[0;31mNameError\u001b[0m: name 'df_train_trans' is not defined"
     ]
    }
   ],
   "source": [
    "df_train_trans.columns"
   ]
  },
  {
   "cell_type": "code",
   "execution_count": 64,
   "id": "4407aaca",
   "metadata": {},
   "outputs": [],
   "source": [
    "# Creating a funtion .\n",
    "def vector_length(vector):\n",
    "    return len(vector)\n",
    "\n",
    "length_udf = udf(vector_length, IntegerType())\n",
    "\n",
    "df_train_trans = df_train_trans.withColumn(\"sequence_length\", length_udf(col(\"lemmatized_tokens\")))"
   ]
  },
  {
   "cell_type": "code",
   "execution_count": 65,
   "id": "f7f214e0",
   "metadata": {
    "scrolled": true
   },
   "outputs": [
    {
     "name": "stderr",
     "output_type": "stream",
     "text": [
      "                                                                                \r"
     ]
    },
    {
     "name": "stdout",
     "output_type": "stream",
     "text": [
      "+-------+------------------+\n",
      "|summary|   sequence_length|\n",
      "+-------+------------------+\n",
      "|  count|            159577|\n",
      "|   mean|26.055640850498506|\n",
      "| stddev|18.117172673643704|\n",
      "|    min|                 0|\n",
      "|    max|               467|\n",
      "+-------+------------------+\n",
      "\n"
     ]
    },
    {
     "name": "stderr",
     "output_type": "stream",
     "text": [
      "[Stage 279:============================>                            (1 + 1) / 2]\r"
     ]
    },
    {
     "name": "stdout",
     "output_type": "stream",
     "text": [
      "Maximum Sequence Length: 467\n"
     ]
    },
    {
     "name": "stderr",
     "output_type": "stream",
     "text": [
      "\r",
      "                                                                                \r"
     ]
    }
   ],
   "source": [
    "from pyspark.sql.functions import count, col, max as max_\n",
    "\n",
    "# Calculate mean and standard deviation\n",
    "df_train_trans.describe(\"sequence_length\").show()\n",
    "\n",
    "# Compute maximum sequence length\n",
    "max_length = df_train_trans.agg(max_(\"sequence_length\")).collect()[0][0]\n",
    "print(f\"Maximum Sequence Length: {max_length}\")\n"
   ]
  },
  {
   "cell_type": "markdown",
   "id": "06e54c5d",
   "metadata": {},
   "source": [
    "- The maximum length of  token to be used in the padding stage. However it was noticed in previous steps that the train data is very imbalanced, almost 94% of the set is composed by positives and negatives represents under 3%. Thus, oversampling the negatives (it will double) and neutrals (increase by 50%) and the positives will be undersampled by 25%. "
   ]
  },
  {
   "cell_type": "code",
   "execution_count": null,
   "id": "202253b1",
   "metadata": {},
   "outputs": [],
   "source": [
    "# Extract as DataFrames, not Columns\n",
    "X_train = df_train.select([\"filtered_tokens\"])\n",
    "y_train = df_train.select([\"label\"])\n",
    "\n",
    "X_val = df_val.select([\"filtered_tokens\"])\n",
    "y_val = df_val.select([\"label\"])\n",
    "\n",
    "X_test = df_test.select([\"filtered_tokens\"])\n",
    "y_test = df_test.select([\"label\"])"
   ]
  },
  {
   "cell_type": "code",
   "execution_count": 66,
   "id": "5efca889",
   "metadata": {},
   "outputs": [
    {
     "name": "stderr",
     "output_type": "stream",
     "text": [
      "                                                                                \r"
     ]
    }
   ],
   "source": [
    "# Separate out different classes from the training dataset\n",
    "positives = X_train_trans.filter(col(\"label\") == 'positive')\n",
    "negatives = X_train_trans.filter(col(\"label\") == 'negative')\n",
    "neutrals = X_train_trans.filter(col(\"label\") == 'neutral')\n",
    "\n",
    "# Define oversampling factors\n",
    "negative_oversample_factor = 2.0  # Double the negative samples\n",
    "neutral_oversample_factor = 1.5   # 1.5 times the neutral samples\n",
    "\n",
    "oversampled_negatives = negatives.sample(withReplacement=True, fraction=negative_oversample_factor)\n",
    "oversampled_neutrals = neutrals.sample(withReplacement=True, fraction=neutral_oversample_factor)\n",
    "\n",
    "# Undersample the majority class\n",
    "undersample_factor = 0.25  # Reducing by 25%\n",
    "undersampled_positives = positives.sample(withReplacement=False, fraction=undersample_factor)\n",
    "\n",
    "# Combine the samples back\n",
    "bal_X_train = undersampled_positives.unionAll(oversampled_negatives).unionAll(oversampled_neutrals)\n",
    "\n",
    "# Calculate class weights for the balanced dataset\n",
    "total_count = bal_X_train.count()\n",
    "positive_weight = total_count / undersampled_positives.count()\n",
    "negative_weight = total_count / (negatives.count() * negative_oversample_factor)\n",
    "neutral_weight = total_count / (neutrals.count() * neutral_oversample_factor)\n",
    "\n",
    "# Normalize weights\n",
    "normalizing_factor = positive_weight + negative_weight + neutral_weight\n",
    "positive_weight /= normalizing_factor\n",
    "negative_weight /= normalizing_factor\n",
    "neutral_weight /= normalizing_factor\n",
    "\n",
    "class_weights = {\n",
    "    'positive': positive_weight,\n",
    "    'negative': negative_weight,\n",
    "    'neutral': neutral_weight}"
   ]
  },
  {
   "cell_type": "code",
   "execution_count": 69,
   "id": "6ba5878d",
   "metadata": {
    "collapsed": true
   },
   "outputs": [
    {
     "ename": "AnalysisException",
     "evalue": "cannot resolve 'label' given input columns: [Review_Vec, filtered_tokens, lemmatized_tokens, sequence_length];\n'Filter ('label = positive)\n+- Union false, false\n   :- Sample 0.0, 0.25, false, 4631377941153410876\n   :  +- Project [filtered_tokens#2128, lemmatized_tokens#2198, Review_Vec#2232, sequence_length#2399]\n   :     +- Filter (label#153 = positive)\n   :        +- Project [filtered_tokens#2128, lemmatized_tokens#2198, Review_Vec#2232, vector_length(lemmatized_tokens#2198) AS sequence_length#2399, label#153]\n   :           +- Project [filtered_tokens#2128, lemmatized_tokens#2198, Review_Vec#2232, vector_length(Review_Vec#2232) AS sequence_length#2260, label#153]\n   :              +- Project [filtered_tokens#2128, lemmatized_tokens#2198, UDF(lemmatized_tokens#2198) AS Review_Vec#2232, label#153]\n   :                 +- Project [filtered_tokens#2128, lemmatize_udf(filtered_tokens#2128) AS lemmatized_tokens#2198, label#153]\n   :                    +- Project [filtered_tokens#2128, label#153]\n   :                       +- Project [ReviewId#0, RecipeId#1, AuthorId#2, AuthorName#3, Rating#4, Review#5, label#153, Review_lower#756, rev_char_length#899, Review_no_punct#1038, Review_no_punct2#1060, tokens#1781, filt_tokens#1857, tokens_no_stopwords#1927, filter_native(tokens_no_stopwords#1927) AS filtered_tokens#2128]\n   :                          +- Filter (size(tokens_no_stopwords#1927, true) > 0)\n   :                             +- Project [ReviewId#0, RecipeId#1, AuthorId#2, AuthorName#3, Rating#4, Review#5, label#153, Review_lower#756, rev_char_length#899, Review_no_punct#1038, Review_no_punct2#1060, tokens#1781, filt_tokens#1857, UDF(filt_tokens#1857) AS tokens_no_stopwords#1927]\n   :                                +- Project [ReviewId#0, RecipeId#1, AuthorId#2, AuthorName#3, Rating#4, Review#5, label#153, Review_lower#756, rev_char_length#899, Review_no_punct#1038, Review_no_punct2#1060, tokens#1781, <lambda>(tokens#1781) AS filt_tokens#1857]\n   :                                   +- Project [ReviewId#0, RecipeId#1, AuthorId#2, AuthorName#3, Rating#4, Review#5, label#153, Review_lower#756, rev_char_length#899, Review_no_punct#1038, Review_no_punct2#1060, UDF(Review_no_punct2#1060) AS tokens#1781]\n   :                                      +- Filter UDF(label#153, rand(42))\n   :                                         +- Project [ReviewId#0, RecipeId#1, AuthorId#2, AuthorName#3, Rating#4, Review#5, label#153, Review_lower#756, rev_char_length#899, Review_no_punct#1038, regexp_replace(Review_no_punct#1038, [\r\n], , 1) AS Review_no_punct2#1060]\n   :                                            +- Project [ReviewId#0, RecipeId#1, AuthorId#2, AuthorName#3, Rating#4, Review#5, label#153, Review_lower#756, rev_char_length#899, regexp_replace(Review_lower#756, [^a-zA-Z\\s], , 1) AS Review_no_punct#1038]\n   :                                               +- Project [ReviewId#0, RecipeId#1, AuthorId#2, AuthorName#3, Rating#4, Review#5, label#153, Review_lower#756, length(Review_lower#756) AS rev_char_length#899]\n   :                                                  +- Project [ReviewId#0, RecipeId#1, AuthorId#2, AuthorName#3, Rating#4, Review#5, label#153, lower(Review#5) AS Review_lower#756]\n   :                                                     +- Filter NOT (Rating#4 = 0)\n   :                                                        +- Filter UDF(label#153, rand(42))\n   :                                                           +- Project [ReviewId#0, RecipeId#1, AuthorId#2, AuthorName#3, Rating#4, Review#5, CASE WHEN rating#4 IN (0,1,2) THEN negative WHEN (rating#4 = 3) THEN neutral ELSE positive END AS label#153]\n   :                                                              +- Project [ReviewId#0, RecipeId#1, AuthorId#2, AuthorName#3, Rating#4, Review#5]\n   :                                                                 +- Relation [ReviewId#0,RecipeId#1,AuthorId#2,AuthorName#3,Rating#4,Review#5,DateSubmitted#6,DateModified#7] parquet\n   :- Project [filtered_tokens#2128 AS filtered_tokens#2545, lemmatized_tokens#2198 AS lemmatized_tokens#2546, Review_Vec#2232 AS Review_Vec#2547, sequence_length#2399 AS sequence_length#2548]\n   :  +- Sample 0.0, 2.0, true, -3909861199592578861\n   :     +- Project [filtered_tokens#2128, lemmatized_tokens#2198, Review_Vec#2232, sequence_length#2399]\n   :        +- Filter (label#153 = negative)\n   :           +- Project [filtered_tokens#2128, lemmatized_tokens#2198, Review_Vec#2232, vector_length(lemmatized_tokens#2198) AS sequence_length#2399, label#153]\n   :              +- Project [filtered_tokens#2128, lemmatized_tokens#2198, Review_Vec#2232, vector_length(Review_Vec#2232) AS sequence_length#2260, label#153]\n   :                 +- Project [filtered_tokens#2128, lemmatized_tokens#2198, UDF(lemmatized_tokens#2198) AS Review_Vec#2232, label#153]\n   :                    +- Project [filtered_tokens#2128, lemmatize_udf(filtered_tokens#2128) AS lemmatized_tokens#2198, label#153]\n   :                       +- Project [filtered_tokens#2128, label#153]\n   :                          +- Project [ReviewId#2537, RecipeId#2538, AuthorId#2539, AuthorName#2540, Rating#2541, Review#2542, label#153, Review_lower#756, rev_char_length#899, Review_no_punct#1038, Review_no_punct2#1060, tokens#1781, filt_tokens#1857, tokens_no_stopwords#1927, filter_native(tokens_no_stopwords#1927) AS filtered_tokens#2128]\n   :                             +- Filter (size(tokens_no_stopwords#1927, true) > 0)\n   :                                +- Project [ReviewId#2537, RecipeId#2538, AuthorId#2539, AuthorName#2540, Rating#2541, Review#2542, label#153, Review_lower#756, rev_char_length#899, Review_no_punct#1038, Review_no_punct2#1060, tokens#1781, filt_tokens#1857, UDF(filt_tokens#1857) AS tokens_no_stopwords#1927]\n   :                                   +- Project [ReviewId#2537, RecipeId#2538, AuthorId#2539, AuthorName#2540, Rating#2541, Review#2542, label#153, Review_lower#756, rev_char_length#899, Review_no_punct#1038, Review_no_punct2#1060, tokens#1781, <lambda>(tokens#1781) AS filt_tokens#1857]\n   :                                      +- Project [ReviewId#2537, RecipeId#2538, AuthorId#2539, AuthorName#2540, Rating#2541, Review#2542, label#153, Review_lower#756, rev_char_length#899, Review_no_punct#1038, Review_no_punct2#1060, UDF(Review_no_punct2#1060) AS tokens#1781]\n   :                                         +- Filter UDF(label#153, rand(42))\n   :                                            +- Project [ReviewId#2537, RecipeId#2538, AuthorId#2539, AuthorName#2540, Rating#2541, Review#2542, label#153, Review_lower#756, rev_char_length#899, Review_no_punct#1038, regexp_replace(Review_no_punct#1038, [\r\n], , 1) AS Review_no_punct2#1060]\n   :                                               +- Project [ReviewId#2537, RecipeId#2538, AuthorId#2539, AuthorName#2540, Rating#2541, Review#2542, label#153, Review_lower#756, rev_char_length#899, regexp_replace(Review_lower#756, [^a-zA-Z\\s], , 1) AS Review_no_punct#1038]\n   :                                                  +- Project [ReviewId#2537, RecipeId#2538, AuthorId#2539, AuthorName#2540, Rating#2541, Review#2542, label#153, Review_lower#756, length(Review_lower#756) AS rev_char_length#899]\n   :                                                     +- Project [ReviewId#2537, RecipeId#2538, AuthorId#2539, AuthorName#2540, Rating#2541, Review#2542, label#153, lower(Review#2542) AS Review_lower#756]\n   :                                                        +- Filter NOT (Rating#2541 = 0)\n   :                                                           +- Filter UDF(label#153, rand(42))\n   :                                                              +- Project [ReviewId#2537, RecipeId#2538, AuthorId#2539, AuthorName#2540, Rating#2541, Review#2542, CASE WHEN rating#2541 IN (0,1,2) THEN negative WHEN (rating#2541 = 3) THEN neutral ELSE positive END AS label#153]\n   :                                                                 +- Project [ReviewId#2537, RecipeId#2538, AuthorId#2539, AuthorName#2540, Rating#2541, Review#2542]\n   :                                                                    +- Relation [ReviewId#2537,RecipeId#2538,AuthorId#2539,AuthorName#2540,Rating#2541,Review#2542,DateSubmitted#2543,DateModified#2544] parquet\n   +- Project [filtered_tokens#2128 AS filtered_tokens#2573, lemmatized_tokens#2198 AS lemmatized_tokens#2574, Review_Vec#2232 AS Review_Vec#2575, sequence_length#2399 AS sequence_length#2576]\n      +- Sample 0.0, 1.5, true, 7453967907175433174\n         +- Project [filtered_tokens#2128, lemmatized_tokens#2198, Review_Vec#2232, sequence_length#2399]\n            +- Filter (label#153 = neutral)\n               +- Project [filtered_tokens#2128, lemmatized_tokens#2198, Review_Vec#2232, vector_length(lemmatized_tokens#2198) AS sequence_length#2399, label#153]\n                  +- Project [filtered_tokens#2128, lemmatized_tokens#2198, Review_Vec#2232, vector_length(Review_Vec#2232) AS sequence_length#2260, label#153]\n                     +- Project [filtered_tokens#2128, lemmatized_tokens#2198, UDF(lemmatized_tokens#2198) AS Review_Vec#2232, label#153]\n                        +- Project [filtered_tokens#2128, lemmatize_udf(filtered_tokens#2128) AS lemmatized_tokens#2198, label#153]\n                           +- Project [filtered_tokens#2128, label#153]\n                              +- Project [ReviewId#2565, RecipeId#2566, AuthorId#2567, AuthorName#2568, Rating#2569, Review#2570, label#153, Review_lower#756, rev_char_length#899, Review_no_punct#1038, Review_no_punct2#1060, tokens#1781, filt_tokens#1857, tokens_no_stopwords#1927, filter_native(tokens_no_stopwords#1927) AS filtered_tokens#2128]\n                                 +- Filter (size(tokens_no_stopwords#1927, true) > 0)\n                                    +- Project [ReviewId#2565, RecipeId#2566, AuthorId#2567, AuthorName#2568, Rating#2569, Review#2570, label#153, Review_lower#756, rev_char_length#899, Review_no_punct#1038, Review_no_punct2#1060, tokens#1781, filt_tokens#1857, UDF(filt_tokens#1857) AS tokens_no_stopwords#1927]\n                                       +- Project [ReviewId#2565, RecipeId#2566, AuthorId#2567, AuthorName#2568, Rating#2569, Review#2570, label#153, Review_lower#756, rev_char_length#899, Review_no_punct#1038, Review_no_punct2#1060, tokens#1781, <lambda>(tokens#1781) AS filt_tokens#1857]\n                                          +- Project [ReviewId#2565, RecipeId#2566, AuthorId#2567, AuthorName#2568, Rating#2569, Review#2570, label#153, Review_lower#756, rev_char_length#899, Review_no_punct#1038, Review_no_punct2#1060, UDF(Review_no_punct2#1060) AS tokens#1781]\n                                             +- Filter UDF(label#153, rand(42))\n                                                +- Project [ReviewId#2565, RecipeId#2566, AuthorId#2567, AuthorName#2568, Rating#2569, Review#2570, label#153, Review_lower#756, rev_char_length#899, Review_no_punct#1038, regexp_replace(Review_no_punct#1038, [\r\n], , 1) AS Review_no_punct2#1060]\n                                                   +- Project [ReviewId#2565, RecipeId#2566, AuthorId#2567, AuthorName#2568, Rating#2569, Review#2570, label#153, Review_lower#756, rev_char_length#899, regexp_replace(Review_lower#756, [^a-zA-Z\\s], , 1) AS Review_no_punct#1038]\n                                                      +- Project [ReviewId#2565, RecipeId#2566, AuthorId#2567, AuthorName#2568, Rating#2569, Review#2570, label#153, Review_lower#756, length(Review_lower#756) AS rev_char_length#899]\n                                                         +- Project [ReviewId#2565, RecipeId#2566, AuthorId#2567, AuthorName#2568, Rating#2569, Review#2570, label#153, lower(Review#2570) AS Review_lower#756]\n                                                            +- Filter NOT (Rating#2569 = 0)\n                                                               +- Filter UDF(label#153, rand(42))\n                                                                  +- Project [ReviewId#2565, RecipeId#2566, AuthorId#2567, AuthorName#2568, Rating#2569, Review#2570, CASE WHEN rating#2569 IN (0,1,2) THEN negative WHEN (rating#2569 = 3) THEN neutral ELSE positive END AS label#153]\n                                                                     +- Project [ReviewId#2565, RecipeId#2566, AuthorId#2567, AuthorName#2568, Rating#2569, Review#2570]\n                                                                        +- Relation [ReviewId#2565,RecipeId#2566,AuthorId#2567,AuthorName#2568,Rating#2569,Review#2570,DateSubmitted#2571,DateModified#2572] parquet\n",
     "output_type": "error",
     "traceback": [
      "\u001b[0;31m---------------------------------------------------------------------------\u001b[0m",
      "\u001b[0;31mAnalysisException\u001b[0m                         Traceback (most recent call last)",
      "\u001b[0;32m/tmp/ipykernel_39596/2478858024.py\u001b[0m in \u001b[0;36m<module>\u001b[0;34m\u001b[0m\n\u001b[1;32m      1\u001b[0m \u001b[0;31m# Count instances for each class\u001b[0m\u001b[0;34m\u001b[0m\u001b[0;34m\u001b[0m\u001b[0m\n\u001b[0;32m----> 2\u001b[0;31m \u001b[0mpositives\u001b[0m \u001b[0;34m=\u001b[0m \u001b[0mbal_X_train\u001b[0m\u001b[0;34m.\u001b[0m\u001b[0mfilter\u001b[0m\u001b[0;34m(\u001b[0m\u001b[0mcol\u001b[0m\u001b[0;34m(\u001b[0m\u001b[0;34m\"label\"\u001b[0m\u001b[0;34m)\u001b[0m \u001b[0;34m==\u001b[0m \u001b[0;34m'positive'\u001b[0m\u001b[0;34m)\u001b[0m\u001b[0;34m.\u001b[0m\u001b[0mcount\u001b[0m\u001b[0;34m(\u001b[0m\u001b[0;34m)\u001b[0m\u001b[0;34m\u001b[0m\u001b[0;34m\u001b[0m\u001b[0m\n\u001b[0m\u001b[1;32m      3\u001b[0m \u001b[0mnegatives\u001b[0m \u001b[0;34m=\u001b[0m \u001b[0mbal_X_train\u001b[0m\u001b[0;34m.\u001b[0m\u001b[0mfilter\u001b[0m\u001b[0;34m(\u001b[0m\u001b[0mcol\u001b[0m\u001b[0;34m(\u001b[0m\u001b[0;34m\"label\"\u001b[0m\u001b[0;34m)\u001b[0m \u001b[0;34m==\u001b[0m \u001b[0;34m'negative'\u001b[0m\u001b[0;34m)\u001b[0m\u001b[0;34m.\u001b[0m\u001b[0mcount\u001b[0m\u001b[0;34m(\u001b[0m\u001b[0;34m)\u001b[0m\u001b[0;34m\u001b[0m\u001b[0;34m\u001b[0m\u001b[0m\n\u001b[1;32m      4\u001b[0m \u001b[0mneutrals\u001b[0m \u001b[0;34m=\u001b[0m \u001b[0mbal_X_train\u001b[0m\u001b[0;34m.\u001b[0m\u001b[0mfilter\u001b[0m\u001b[0;34m(\u001b[0m\u001b[0mcol\u001b[0m\u001b[0;34m(\u001b[0m\u001b[0;34m\"label\"\u001b[0m\u001b[0;34m)\u001b[0m \u001b[0;34m==\u001b[0m \u001b[0;34m'neutral'\u001b[0m\u001b[0;34m)\u001b[0m\u001b[0;34m.\u001b[0m\u001b[0mcount\u001b[0m\u001b[0;34m(\u001b[0m\u001b[0;34m)\u001b[0m\u001b[0;34m\u001b[0m\u001b[0;34m\u001b[0m\u001b[0m\n\u001b[1;32m      5\u001b[0m \u001b[0;34m\u001b[0m\u001b[0m\n",
      "\u001b[0;32m/usr/local/spark/python/pyspark/sql/dataframe.py\u001b[0m in \u001b[0;36mfilter\u001b[0;34m(self, condition)\u001b[0m\n\u001b[1;32m   1731\u001b[0m             \u001b[0mjdf\u001b[0m \u001b[0;34m=\u001b[0m \u001b[0mself\u001b[0m\u001b[0;34m.\u001b[0m\u001b[0m_jdf\u001b[0m\u001b[0;34m.\u001b[0m\u001b[0mfilter\u001b[0m\u001b[0;34m(\u001b[0m\u001b[0mcondition\u001b[0m\u001b[0;34m)\u001b[0m\u001b[0;34m\u001b[0m\u001b[0;34m\u001b[0m\u001b[0m\n\u001b[1;32m   1732\u001b[0m         \u001b[0;32melif\u001b[0m \u001b[0misinstance\u001b[0m\u001b[0;34m(\u001b[0m\u001b[0mcondition\u001b[0m\u001b[0;34m,\u001b[0m \u001b[0mColumn\u001b[0m\u001b[0;34m)\u001b[0m\u001b[0;34m:\u001b[0m\u001b[0;34m\u001b[0m\u001b[0;34m\u001b[0m\u001b[0m\n\u001b[0;32m-> 1733\u001b[0;31m             \u001b[0mjdf\u001b[0m \u001b[0;34m=\u001b[0m \u001b[0mself\u001b[0m\u001b[0;34m.\u001b[0m\u001b[0m_jdf\u001b[0m\u001b[0;34m.\u001b[0m\u001b[0mfilter\u001b[0m\u001b[0;34m(\u001b[0m\u001b[0mcondition\u001b[0m\u001b[0;34m.\u001b[0m\u001b[0m_jc\u001b[0m\u001b[0;34m)\u001b[0m\u001b[0;34m\u001b[0m\u001b[0;34m\u001b[0m\u001b[0m\n\u001b[0m\u001b[1;32m   1734\u001b[0m         \u001b[0;32melse\u001b[0m\u001b[0;34m:\u001b[0m\u001b[0;34m\u001b[0m\u001b[0;34m\u001b[0m\u001b[0m\n\u001b[1;32m   1735\u001b[0m             \u001b[0;32mraise\u001b[0m \u001b[0mTypeError\u001b[0m\u001b[0;34m(\u001b[0m\u001b[0;34m\"condition should be string or Column\"\u001b[0m\u001b[0;34m)\u001b[0m\u001b[0;34m\u001b[0m\u001b[0;34m\u001b[0m\u001b[0m\n",
      "\u001b[0;32m/usr/local/spark/python/lib/py4j-0.10.9.5-src.zip/py4j/java_gateway.py\u001b[0m in \u001b[0;36m__call__\u001b[0;34m(self, *args)\u001b[0m\n\u001b[1;32m   1319\u001b[0m \u001b[0;34m\u001b[0m\u001b[0m\n\u001b[1;32m   1320\u001b[0m         \u001b[0manswer\u001b[0m \u001b[0;34m=\u001b[0m \u001b[0mself\u001b[0m\u001b[0;34m.\u001b[0m\u001b[0mgateway_client\u001b[0m\u001b[0;34m.\u001b[0m\u001b[0msend_command\u001b[0m\u001b[0;34m(\u001b[0m\u001b[0mcommand\u001b[0m\u001b[0;34m)\u001b[0m\u001b[0;34m\u001b[0m\u001b[0;34m\u001b[0m\u001b[0m\n\u001b[0;32m-> 1321\u001b[0;31m         return_value = get_return_value(\n\u001b[0m\u001b[1;32m   1322\u001b[0m             answer, self.gateway_client, self.target_id, self.name)\n\u001b[1;32m   1323\u001b[0m \u001b[0;34m\u001b[0m\u001b[0m\n",
      "\u001b[0;32m/usr/local/spark/python/pyspark/sql/utils.py\u001b[0m in \u001b[0;36mdeco\u001b[0;34m(*a, **kw)\u001b[0m\n\u001b[1;32m    115\u001b[0m                 \u001b[0;31m# Hide where the exception came from that shows a non-Pythonic\u001b[0m\u001b[0;34m\u001b[0m\u001b[0;34m\u001b[0m\u001b[0m\n\u001b[1;32m    116\u001b[0m                 \u001b[0;31m# JVM exception message.\u001b[0m\u001b[0;34m\u001b[0m\u001b[0;34m\u001b[0m\u001b[0m\n\u001b[0;32m--> 117\u001b[0;31m                 \u001b[0;32mraise\u001b[0m \u001b[0mconverted\u001b[0m \u001b[0;32mfrom\u001b[0m \u001b[0;32mNone\u001b[0m\u001b[0;34m\u001b[0m\u001b[0;34m\u001b[0m\u001b[0m\n\u001b[0m\u001b[1;32m    118\u001b[0m             \u001b[0;32melse\u001b[0m\u001b[0;34m:\u001b[0m\u001b[0;34m\u001b[0m\u001b[0;34m\u001b[0m\u001b[0m\n\u001b[1;32m    119\u001b[0m                 \u001b[0;32mraise\u001b[0m\u001b[0;34m\u001b[0m\u001b[0;34m\u001b[0m\u001b[0m\n",
      "\u001b[0;31mAnalysisException\u001b[0m: cannot resolve 'label' given input columns: [Review_Vec, filtered_tokens, lemmatized_tokens, sequence_length];\n'Filter ('label = positive)\n+- Union false, false\n   :- Sample 0.0, 0.25, false, 4631377941153410876\n   :  +- Project [filtered_tokens#2128, lemmatized_tokens#2198, Review_Vec#2232, sequence_length#2399]\n   :     +- Filter (label#153 = positive)\n   :        +- Project [filtered_tokens#2128, lemmatized_tokens#2198, Review_Vec#2232, vector_length(lemmatized_tokens#2198) AS sequence_length#2399, label#153]\n   :           +- Project [filtered_tokens#2128, lemmatized_tokens#2198, Review_Vec#2232, vector_length(Review_Vec#2232) AS sequence_length#2260, label#153]\n   :              +- Project [filtered_tokens#2128, lemmatized_tokens#2198, UDF(lemmatized_tokens#2198) AS Review_Vec#2232, label#153]\n   :                 +- Project [filtered_tokens#2128, lemmatize_udf(filtered_tokens#2128) AS lemmatized_tokens#2198, label#153]\n   :                    +- Project [filtered_tokens#2128, label#153]\n   :                       +- Project [ReviewId#0, RecipeId#1, AuthorId#2, AuthorName#3, Rating#4, Review#5, label#153, Review_lower#756, rev_char_length#899, Review_no_punct#1038, Review_no_punct2#1060, tokens#1781, filt_tokens#1857, tokens_no_stopwords#1927, filter_native(tokens_no_stopwords#1927) AS filtered_tokens#2128]\n   :                          +- Filter (size(tokens_no_stopwords#1927, true) > 0)\n   :                             +- Project [ReviewId#0, RecipeId#1, AuthorId#2, AuthorName#3, Rating#4, Review#5, label#153, Review_lower#756, rev_char_length#899, Review_no_punct#1038, Review_no_punct2#1060, tokens#1781, filt_tokens#1857, UDF(filt_tokens#1857) AS tokens_no_stopwords#1927]\n   :                                +- Project [ReviewId#0, RecipeId#1, AuthorId#2, AuthorName#3, Rating#4, Review#5, label#153, Review_lower#756, rev_char_length#899, Review_no_punct#1038, Review_no_punct2#1060, tokens#1781, <lambda>(tokens#1781) AS filt_tokens#1857]\n   :                                   +- Project [ReviewId#0, RecipeId#1, AuthorId#2, AuthorName#3, Rating#4, Review#5, label#153, Review_lower#756, rev_char_length#899, Review_no_punct#1038, Review_no_punct2#1060, UDF(Review_no_punct2#1060) AS tokens#1781]\n   :                                      +- Filter UDF(label#153, rand(42))\n   :                                         +- Project [ReviewId#0, RecipeId#1, AuthorId#2, AuthorName#3, Rating#4, Review#5, label#153, Review_lower#756, rev_char_length#899, Review_no_punct#1038, regexp_replace(Review_no_punct#1038, [\r\n], , 1) AS Review_no_punct2#1060]\n   :                                            +- Project [ReviewId#0, RecipeId#1, AuthorId#2, AuthorName#3, Rating#4, Review#5, label#153, Review_lower#756, rev_char_length#899, regexp_replace(Review_lower#756, [^a-zA-Z\\s], , 1) AS Review_no_punct#1038]\n   :                                               +- Project [ReviewId#0, RecipeId#1, AuthorId#2, AuthorName#3, Rating#4, Review#5, label#153, Review_lower#756, length(Review_lower#756) AS rev_char_length#899]\n   :                                                  +- Project [ReviewId#0, RecipeId#1, AuthorId#2, AuthorName#3, Rating#4, Review#5, label#153, lower(Review#5) AS Review_lower#756]\n   :                                                     +- Filter NOT (Rating#4 = 0)\n   :                                                        +- Filter UDF(label#153, rand(42))\n   :                                                           +- Project [ReviewId#0, RecipeId#1, AuthorId#2, AuthorName#3, Rating#4, Review#5, CASE WHEN rating#4 IN (0,1,2) THEN negative WHEN (rating#4 = 3) THEN neutral ELSE positive END AS label#153]\n   :                                                              +- Project [ReviewId#0, RecipeId#1, AuthorId#2, AuthorName#3, Rating#4, Review#5]\n   :                                                                 +- Relation [ReviewId#0,RecipeId#1,AuthorId#2,AuthorName#3,Rating#4,Review#5,DateSubmitted#6,DateModified#7] parquet\n   :- Project [filtered_tokens#2128 AS filtered_tokens#2545, lemmatized_tokens#2198 AS lemmatized_tokens#2546, Review_Vec#2232 AS Review_Vec#2547, sequence_length#2399 AS sequence_length#2548]\n   :  +- Sample 0.0, 2.0, true, -3909861199592578861\n   :     +- Project [filtered_tokens#2128, lemmatized_tokens#2198, Review_Vec#2232, sequence_length#2399]\n   :        +- Filter (label#153 = negative)\n   :           +- Project [filtered_tokens#2128, lemmatized_tokens#2198, Review_Vec#2232, vector_length(lemmatized_tokens#2198) AS sequence_length#2399, label#153]\n   :              +- Project [filtered_tokens#2128, lemmatized_tokens#2198, Review_Vec#2232, vector_length(Review_Vec#2232) AS sequence_length#2260, label#153]\n   :                 +- Project [filtered_tokens#2128, lemmatized_tokens#2198, UDF(lemmatized_tokens#2198) AS Review_Vec#2232, label#153]\n   :                    +- Project [filtered_tokens#2128, lemmatize_udf(filtered_tokens#2128) AS lemmatized_tokens#2198, label#153]\n   :                       +- Project [filtered_tokens#2128, label#153]\n   :                          +- Project [ReviewId#2537, RecipeId#2538, AuthorId#2539, AuthorName#2540, Rating#2541, Review#2542, label#153, Review_lower#756, rev_char_length#899, Review_no_punct#1038, Review_no_punct2#1060, tokens#1781, filt_tokens#1857, tokens_no_stopwords#1927, filter_native(tokens_no_stopwords#1927) AS filtered_tokens#2128]\n   :                             +- Filter (size(tokens_no_stopwords#1927, true) > 0)\n   :                                +- Project [ReviewId#2537, RecipeId#2538, AuthorId#2539, AuthorName#2540, Rating#2541, Review#2542, label#153, Review_lower#756, rev_char_length#899, Review_no_punct#1038, Review_no_punct2#1060, tokens#1781, filt_tokens#1857, UDF(filt_tokens#1857) AS tokens_no_stopwords#1927]\n   :                                   +- Project [ReviewId#2537, RecipeId#2538, AuthorId#2539, AuthorName#2540, Rating#2541, Review#2542, label#153, Review_lower#756, rev_char_length#899, Review_no_punct#1038, Review_no_punct2#1060, tokens#1781, <lambda>(tokens#1781) AS filt_tokens#1857]\n   :                                      +- Project [ReviewId#2537, RecipeId#2538, AuthorId#2539, AuthorName#2540, Rating#2541, Review#2542, label#153, Review_lower#756, rev_char_length#899, Review_no_punct#1038, Review_no_punct2#1060, UDF(Review_no_punct2#1060) AS tokens#1781]\n   :                                         +- Filter UDF(label#153, rand(42))\n   :                                            +- Project [ReviewId#2537, RecipeId#2538, AuthorId#2539, AuthorName#2540, Rating#2541, Review#2542, label#153, Review_lower#756, rev_char_length#899, Review_no_punct#1038, regexp_replace(Review_no_punct#1038, [\r\n], , 1) AS Review_no_punct2#1060]\n   :                                               +- Project [ReviewId#2537, RecipeId#2538, AuthorId#2539, AuthorName#2540, Rating#2541, Review#2542, label#153, Review_lower#756, rev_char_length#899, regexp_replace(Review_lower#756, [^a-zA-Z\\s], , 1) AS Review_no_punct#1038]\n   :                                                  +- Project [ReviewId#2537, RecipeId#2538, AuthorId#2539, AuthorName#2540, Rating#2541, Review#2542, label#153, Review_lower#756, length(Review_lower#756) AS rev_char_length#899]\n   :                                                     +- Project [ReviewId#2537, RecipeId#2538, AuthorId#2539, AuthorName#2540, Rating#2541, Review#2542, label#153, lower(Review#2542) AS Review_lower#756]\n   :                                                        +- Filter NOT (Rating#2541 = 0)\n   :                                                           +- Filter UDF(label#153, rand(42))\n   :                                                              +- Project [ReviewId#2537, RecipeId#2538, AuthorId#2539, AuthorName#2540, Rating#2541, Review#2542, CASE WHEN rating#2541 IN (0,1,2) THEN negative WHEN (rating#2541 = 3) THEN neutral ELSE positive END AS label#153]\n   :                                                                 +- Project [ReviewId#2537, RecipeId#2538, AuthorId#2539, AuthorName#2540, Rating#2541, Review#2542]\n   :                                                                    +- Relation [ReviewId#2537,RecipeId#2538,AuthorId#2539,AuthorName#2540,Rating#2541,Review#2542,DateSubmitted#2543,DateModified#2544] parquet\n   +- Project [filtered_tokens#2128 AS filtered_tokens#2573, lemmatized_tokens#2198 AS lemmatized_tokens#2574, Review_Vec#2232 AS Review_Vec#2575, sequence_length#2399 AS sequence_length#2576]\n      +- Sample 0.0, 1.5, true, 7453967907175433174\n         +- Project [filtered_tokens#2128, lemmatized_tokens#2198, Review_Vec#2232, sequence_length#2399]\n            +- Filter (label#153 = neutral)\n               +- Project [filtered_tokens#2128, lemmatized_tokens#2198, Review_Vec#2232, vector_length(lemmatized_tokens#2198) AS sequence_length#2399, label#153]\n                  +- Project [filtered_tokens#2128, lemmatized_tokens#2198, Review_Vec#2232, vector_length(Review_Vec#2232) AS sequence_length#2260, label#153]\n                     +- Project [filtered_tokens#2128, lemmatized_tokens#2198, UDF(lemmatized_tokens#2198) AS Review_Vec#2232, label#153]\n                        +- Project [filtered_tokens#2128, lemmatize_udf(filtered_tokens#2128) AS lemmatized_tokens#2198, label#153]\n                           +- Project [filtered_tokens#2128, label#153]\n                              +- Project [ReviewId#2565, RecipeId#2566, AuthorId#2567, AuthorName#2568, Rating#2569, Review#2570, label#153, Review_lower#756, rev_char_length#899, Review_no_punct#1038, Review_no_punct2#1060, tokens#1781, filt_tokens#1857, tokens_no_stopwords#1927, filter_native(tokens_no_stopwords#1927) AS filtered_tokens#2128]\n                                 +- Filter (size(tokens_no_stopwords#1927, true) > 0)\n                                    +- Project [ReviewId#2565, RecipeId#2566, AuthorId#2567, AuthorName#2568, Rating#2569, Review#2570, label#153, Review_lower#756, rev_char_length#899, Review_no_punct#1038, Review_no_punct2#1060, tokens#1781, filt_tokens#1857, UDF(filt_tokens#1857) AS tokens_no_stopwords#1927]\n                                       +- Project [ReviewId#2565, RecipeId#2566, AuthorId#2567, AuthorName#2568, Rating#2569, Review#2570, label#153, Review_lower#756, rev_char_length#899, Review_no_punct#1038, Review_no_punct2#1060, tokens#1781, <lambda>(tokens#1781) AS filt_tokens#1857]\n                                          +- Project [ReviewId#2565, RecipeId#2566, AuthorId#2567, AuthorName#2568, Rating#2569, Review#2570, label#153, Review_lower#756, rev_char_length#899, Review_no_punct#1038, Review_no_punct2#1060, UDF(Review_no_punct2#1060) AS tokens#1781]\n                                             +- Filter UDF(label#153, rand(42))\n                                                +- Project [ReviewId#2565, RecipeId#2566, AuthorId#2567, AuthorName#2568, Rating#2569, Review#2570, label#153, Review_lower#756, rev_char_length#899, Review_no_punct#1038, regexp_replace(Review_no_punct#1038, [\r\n], , 1) AS Review_no_punct2#1060]\n                                                   +- Project [ReviewId#2565, RecipeId#2566, AuthorId#2567, AuthorName#2568, Rating#2569, Review#2570, label#153, Review_lower#756, rev_char_length#899, regexp_replace(Review_lower#756, [^a-zA-Z\\s], , 1) AS Review_no_punct#1038]\n                                                      +- Project [ReviewId#2565, RecipeId#2566, AuthorId#2567, AuthorName#2568, Rating#2569, Review#2570, label#153, Review_lower#756, length(Review_lower#756) AS rev_char_length#899]\n                                                         +- Project [ReviewId#2565, RecipeId#2566, AuthorId#2567, AuthorName#2568, Rating#2569, Review#2570, label#153, lower(Review#2570) AS Review_lower#756]\n                                                            +- Filter NOT (Rating#2569 = 0)\n                                                               +- Filter UDF(label#153, rand(42))\n                                                                  +- Project [ReviewId#2565, RecipeId#2566, AuthorId#2567, AuthorName#2568, Rating#2569, Review#2570, CASE WHEN rating#2569 IN (0,1,2) THEN negative WHEN (rating#2569 = 3) THEN neutral ELSE positive END AS label#153]\n                                                                     +- Project [ReviewId#2565, RecipeId#2566, AuthorId#2567, AuthorName#2568, Rating#2569, Review#2570]\n                                                                        +- Relation [ReviewId#2565,RecipeId#2566,AuthorId#2567,AuthorName#2568,Rating#2569,Review#2570,DateSubmitted#2571,DateModified#2572] parquet\n"
     ]
    }
   ],
   "source": [
    "# Count instances for each class\n",
    "positives = bal_X_train.filter(col(\"label\") == 'positive').count()\n",
    "negatives = bal_X_train.filter(col(\"label\") == 'negative').count()\n",
    "neutrals = bal_X_train.filter(col(\"label\") == 'neutral').count()\n",
    "\n",
    "total_count = positives + negatives + neutrals\n",
    "\n",
    "# Calculate proportions for each class\n",
    "positive_ratio = (positives / total_count) * 100\n",
    "negative_ratio = (negatives / total_count) * 100\n",
    "neutral_ratio = (neutrals / total_count) * 100\n",
    "\n",
    "print(f\"Rating Class Positives (4-5): {positive_ratio:.2f}%\")\n",
    "print(f\"Rating Class Negatives (1-2): {negative_ratio:.2f}%\")\n",
    "print(f\"Rating Class Neutral (3): {neutral_ratio:.2f}%\")\n"
   ]
  },
  {
   "cell_type": "markdown",
   "id": "1b8ee24e",
   "metadata": {},
   "source": [
    "As observed in previous cells, the gap ratio between the classes are large. Therefore, a few techniques will be combined to reduce the imbalaced between positive (93.63%), negative (2.58%) and neutral (3.79).<br><br> \n",
    "The first technique is the oversampling, increasing the size of the negative and neutral sample. It is worthy mentioning that this may cause overfiting, because it will increase by copying the data that already has.<b> WRITE THE AMOUNT OF THE INCREASE (DOUBLE TRIPLE...), NEED TO EXPERIMENT BASED ON RESULTS OF THE MODEL.</b><br><br>\n",
    "The second is to undersample the positive side (93.63%) and it will be reduced by <b> SAME APPLY HERE AS THE PREVIOUS ONE.</b> One of the downfalls is the lost of information by reducing the sample.<br><br>\n",
    "The last one is to apply class weights, <b>CHECK IF ITS GONNA BE SURE</b>, because even after the over and undersampling the imbalance is still present but not as large as the original."
   ]
  },
  {
   "cell_type": "markdown",
   "id": "eb0efdfb",
   "metadata": {},
   "source": [
    "# ADD PADDING"
   ]
  },
  {
   "cell_type": "code",
   "execution_count": 68,
   "id": "d34674be",
   "metadata": {},
   "outputs": [
    {
     "name": "stderr",
     "output_type": "stream",
     "text": [
      "2023-10-05 21:42:28.911637: I tensorflow/tsl/cuda/cudart_stub.cc:28] Could not find cuda drivers on your machine, GPU will not be used.\n",
      "2023-10-05 21:42:30.583684: E tensorflow/compiler/xla/stream_executor/cuda/cuda_dnn.cc:9342] Unable to register cuDNN factory: Attempting to register factory for plugin cuDNN when one has already been registered\n",
      "2023-10-05 21:42:30.583740: E tensorflow/compiler/xla/stream_executor/cuda/cuda_fft.cc:609] Unable to register cuFFT factory: Attempting to register factory for plugin cuFFT when one has already been registered\n",
      "2023-10-05 21:42:30.589719: E tensorflow/compiler/xla/stream_executor/cuda/cuda_blas.cc:1518] Unable to register cuBLAS factory: Attempting to register factory for plugin cuBLAS when one has already been registered\n",
      "2023-10-05 21:42:31.079916: I tensorflow/tsl/cuda/cudart_stub.cc:28] Could not find cuda drivers on your machine, GPU will not be used.\n",
      "2023-10-05 21:42:31.092624: I tensorflow/core/platform/cpu_feature_guard.cc:182] This TensorFlow binary is optimized to use available CPU instructions in performance-critical operations.\n",
      "To enable the following instructions: AVX2, in other operations, rebuild TensorFlow with the appropriate compiler flags.\n",
      "2023-10-05 21:42:45.805504: W tensorflow/compiler/tf2tensorrt/utils/py_utils.cc:38] TF-TRT Warning: Could not find TensorRT\n"
     ]
    },
    {
     "ename": "NameError",
     "evalue": "name 'sequences' is not defined",
     "output_type": "error",
     "traceback": [
      "\u001b[0;31m---------------------------------------------------------------------------\u001b[0m",
      "\u001b[0;31mNameError\u001b[0m                                 Traceback (most recent call last)",
      "\u001b[0;32m/tmp/ipykernel_39596/324966766.py\u001b[0m in \u001b[0;36m<module>\u001b[0;34m\u001b[0m\n\u001b[1;32m      2\u001b[0m \u001b[0;34m\u001b[0m\u001b[0m\n\u001b[1;32m      3\u001b[0m \u001b[0;31m# `sequences` is a list of lists, where each inner list is a sequence of word indices.\u001b[0m\u001b[0;34m\u001b[0m\u001b[0;34m\u001b[0m\u001b[0m\n\u001b[0;32m----> 4\u001b[0;31m \u001b[0mpadded_sequences\u001b[0m \u001b[0;34m=\u001b[0m \u001b[0mpad_sequences\u001b[0m\u001b[0;34m(\u001b[0m\u001b[0msequences\u001b[0m\u001b[0;34m,\u001b[0m \u001b[0mpadding\u001b[0m\u001b[0;34m=\u001b[0m\u001b[0;34m'pre'\u001b[0m\u001b[0;34m)\u001b[0m\u001b[0;34m\u001b[0m\u001b[0;34m\u001b[0m\u001b[0m\n\u001b[0m",
      "\u001b[0;31mNameError\u001b[0m: name 'sequences' is not defined"
     ]
    }
   ],
   "source": [
    "from keras.preprocessing.sequence import pad_sequences\n",
    "\n",
    "sequences = tokenizer.texts_to_sequences(reviews_list)\n",
    "\n",
    "# `sequences` is a list of lists, where each inner list is a sequence of word indices.\n",
    "padded_sequences = pad_sequences(sequences, padding='pre')\n"
   ]
  }
 ],
 "metadata": {
  "kernelspec": {
   "display_name": "Python 3 (ipykernel)",
   "language": "python",
   "name": "python3"
  },
  "language_info": {
   "codemirror_mode": {
    "name": "ipython",
    "version": 3
   },
   "file_extension": ".py",
   "mimetype": "text/x-python",
   "name": "python",
   "nbconvert_exporter": "python",
   "pygments_lexer": "ipython3",
   "version": "3.10.12"
  }
 },
 "nbformat": 4,
 "nbformat_minor": 5
}
