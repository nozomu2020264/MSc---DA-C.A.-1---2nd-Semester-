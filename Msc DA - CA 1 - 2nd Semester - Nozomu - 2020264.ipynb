{
 "cells": [
  {
   "cell_type": "markdown",
   "id": "d341a948",
   "metadata": {},
   "source": [
    "Nozomu Nakanishi - 2020264 - Msc DA"
   ]
  },
  {
   "cell_type": "markdown",
   "id": "eaf927ec",
   "metadata": {},
   "source": [
    "This notebook presents the technical part of the research which aims develop a neural network for sentiment analysis. The chosen networks <b>is/are, LSTM and (if you have time to develop a different one.</b>\n",
    "The chronological order will follow: \n",
    "1. Introduction;\n",
    "2. Data preparation and EDA; \n",
    "3. Text pre-processing;\n",
    "4. Embedding and Padding; \n",
    "5. LSTM; \n",
    ". Conclusion "
   ]
  },
  {
   "cell_type": "markdown",
   "id": "e7f0692e",
   "metadata": {},
   "source": [
    "## 1. Introduction \n",
    "\n",
    "The experiment will be carried out by importing the chosen dataset from Kaggle, the data is licensed under the Creative Commons (CC0 1.0 DEED), allowing the use of the data. \n",
    "\n",
    "The link for the dataset is available at kaggle: https://www.kaggle.com/datasets/irkaal/foodcom-recipes-and-reviews\n",
    "\n",
    "The objective of the notebook is to develop a neural network using PySpark (chosen tool for the project) and the chosen dataset to achieve the goal is the recipe reviews from food.com, which is  composed by 8 features and more tham a million rows.\n",
    "- There are two datasets in the zip file, however it does not says that the recipe ID in one will match the recipe ID in the other, therefore using only the reviews dataset.\n",
    "- Also, two types of format is available, parquet and csv files. And the choice for the first one is that the parquet file already has a columnar type, which when taking into consideration the tools that are being used such as pyspark it will present a better speed perfomance when performing tasks. In addition to the reduction for its size in megabytes (csv - 496.1 and 173.8). \n",
    "- The dataset review, which is going to be manipulated, is about the written reviews along with score rating given. They are the most important features in the dataset to achieve the objective. \n",
    "\n",
    "<b>The technical part of the task will be carried out by performing sentiment analysis using Long Short Term Memory (LSTM).....</b>"
   ]
  },
  {
   "cell_type": "code",
   "execution_count": 1,
   "id": "6de0a9d0",
   "metadata": {
    "scrolled": false
   },
   "outputs": [
    {
     "data": {
      "text/plain": [
       "'local[*]'"
      ]
     },
     "execution_count": 1,
     "metadata": {},
     "output_type": "execute_result"
    }
   ],
   "source": [
    "# The command below is to check where the PySpark is running, \n",
    "# in this case (returned:local[*]) data is being processed on my local (personal) machine.\n",
    "\n",
    "sc.master"
   ]
  },
  {
   "cell_type": "markdown",
   "id": "624cee5c",
   "metadata": {},
   "source": [
    "- The libraries to perform the required stages are going to be imported in the next cell."
   ]
  },
  {
   "cell_type": "code",
   "execution_count": 2,
   "id": "09e85221",
   "metadata": {},
   "outputs": [
    {
     "name": "stderr",
     "output_type": "stream",
     "text": [
      "/usr/lib/python3/dist-packages/scipy/__init__.py:146: UserWarning: A NumPy version >=1.17.3 and <1.25.0 is required for this version of SciPy (detected version 1.26.0\n",
      "  warnings.warn(f\"A NumPy version >={np_minversion} and <{np_maxversion}\"\n"
     ]
    }
   ],
   "source": [
    "from pyspark.sql.functions import count # Funcion to get the \"size\" of the data.\n",
    "from pyspark.sql.functions import when # When function.\n",
    "from pyspark.sql.functions import col # Function column.\n",
    "from pyspark.sql.functions import mean, min, max, stddev # Imports function for statistical features. \n",
    "from pyspark.sql import functions as F # Data processing framework.\n",
    "from pyspark.sql.functions import lower # lower case function.\n",
    "from pyspark.sql.functions import length # Import lenght function.\n",
    "from pyspark.sql.functions import size, split # Imports function size and split.\n",
    "from pyspark.ml.feature import Tokenizer # Importing Tokenizer.\n",
    "from pyspark.sql.functions import regexp_replace # Remove / Replace function.\n",
    "from pyspark.sql.functions import explode, count, desc # Importing for word count.\n",
    "from pyspark.ml.feature import StopWordsRemover # Imports stopword remover.\n",
    "from pyspark.sql.types import StructField, StructType # Importing features for Schema.\n",
    "from pyspark.sql.types import IntegerType, StringType, TimestampType # Tools to create the schema.\n",
    "from pyspark.sql.functions import udf # Imports function UDF.\n",
    "from pyspark.sql.types import ArrayType, StringType\n",
    "import numpy as np # for numerical operations.\n",
    "import seaborn as sns # Visualization tool.\n",
    "import matplotlib.pyplot as plt # visualization\n",
    "%matplotlib inline \n",
    "\n",
    "import warnings # Ignore warnings.\n",
    "warnings.filterwarnings(\"ignore\")"
   ]
  },
  {
   "cell_type": "code",
   "execution_count": 3,
   "id": "31ba4371",
   "metadata": {},
   "outputs": [],
   "source": [
    "# Initiating a spark session.\n",
    "spark = SparkSession.builder.appName('recipe_reviews').getOrCreate()"
   ]
  },
  {
   "cell_type": "markdown",
   "id": "c092bac1",
   "metadata": {},
   "source": [
    "## 2. Data preparation and EDA\n",
    "- Challeging to separete them both because it will be performed back and forth.\n",
    "- First, the numerical feature will be analysed and after the written review. \n",
    "\n",
    "#### - Importing the Review dataset.\n",
    "\n",
    "To start the dataset will be imported in parquet format as cited in the introduction."
   ]
  },
  {
   "cell_type": "code",
   "execution_count": 4,
   "id": "e4cc4c22",
   "metadata": {},
   "outputs": [
    {
     "name": "stderr",
     "output_type": "stream",
     "text": [
      "                                                                                \r"
     ]
    }
   ],
   "source": [
    "# Imports the dataset in a parquet format.\n",
    "df_reviews = spark.read.parquet(\"file:///home/hduser/Downloads/Dataset CA1/reviews.parquet\")"
   ]
  },
  {
   "cell_type": "code",
   "execution_count": 5,
   "id": "500cb040",
   "metadata": {},
   "outputs": [
    {
     "name": "stdout",
     "output_type": "stream",
     "text": [
      "root\n",
      " |-- ReviewId: integer (nullable = true)\n",
      " |-- RecipeId: integer (nullable = true)\n",
      " |-- AuthorId: integer (nullable = true)\n",
      " |-- AuthorName: string (nullable = true)\n",
      " |-- Rating: integer (nullable = true)\n",
      " |-- Review: string (nullable = true)\n",
      " |-- DateSubmitted: timestamp (nullable = true)\n",
      " |-- DateModified: timestamp (nullable = true)\n",
      "\n"
     ]
    }
   ],
   "source": [
    "# Prints the Schema of the dataset.\n",
    "df_reviews.printSchema()"
   ]
  },
  {
   "cell_type": "markdown",
   "id": "8f70430e",
   "metadata": {},
   "source": [
    "- The parquet format file already had a schema, therefore keeping the original dataset schema. However, if the csv were to be handled the following code would be appropriate to apply the schema, including the column names along with the data type."
   ]
  },
  {
   "cell_type": "code",
   "execution_count": 6,
   "id": "9b9548c8",
   "metadata": {},
   "outputs": [],
   "source": [
    "# Code that would be used to apply the schema in the review dataset if was required.\n",
    "\n",
    "#schema_reviews = StructType([\n",
    "    #StructField('ReviewId', IntegerType(), True),\n",
    "    #StructField('RecipeId', IntegerType(), True),\n",
    "    #StructField('AuthorId', IntegerType(), True),\n",
    "    #StructField('AuthorName', StringType(), True),\n",
    "    #StructField('Rating', IntegerType(), True),\n",
    "    #StructField('Review', StringType(), True),\n",
    "    #StructField('DateSubmitted', TimestampType(), True),\n",
    "    #StructField('DateModified', TimestampType(), True)])"
   ]
  },
  {
   "cell_type": "markdown",
   "id": "6ef469f7",
   "metadata": {},
   "source": [
    "The library Pandas used in the previous semester had different set of functions and/or commands. For example, the shape which provided the number of columns and observations in the dataset. However, in the PySpark the count method is use to tell how many rows and the lenght of the columns for the number of features. \n",
    "<br>However, in a later stage pandas format will be used for visualization purpose only, because pandas visualizations are better than the pyspark."
   ]
  },
  {
   "cell_type": "code",
   "execution_count": 7,
   "id": "d42ca577",
   "metadata": {},
   "outputs": [
    {
     "name": "stderr",
     "output_type": "stream",
     "text": [
      "                                                                                \r"
     ]
    },
    {
     "name": "stdout",
     "output_type": "stream",
     "text": [
      "+--------+--------+--------+----------------+------+--------------------+-------------------+-------------------+\n",
      "|ReviewId|RecipeId|AuthorId|      AuthorName|Rating|              Review|      DateSubmitted|       DateModified|\n",
      "+--------+--------+--------+----------------+------+--------------------+-------------------+-------------------+\n",
      "|       2|     992|    2008|       gayg msft|     5|better than any y...|2000-01-25 21:44:00|2000-01-25 21:44:00|\n",
      "|       7|    4384|    1634|   Bill Hilbrich|     4|I cut back on the...|2001-10-17 17:49:59|2001-10-17 17:49:59|\n",
      "|       9|    4523|    2046|Gay Gilmore ckpt|     2|i think i did som...|2000-02-25 09:00:00|2000-02-25 09:00:00|\n",
      "|      13|    7435|    1773|   Malarkey Test|     5|easily the best i...|2000-03-13 21:15:00|2000-03-13 21:15:00|\n",
      "|      14|      44|    2085|      Tony Small|     5|  An excellent dish.|2000-03-28 13:51:00|2000-03-28 13:51:00|\n",
      "|      17|    5221|    2046|Gay Gilmore ckpt|     4|love it, but with...|2000-05-08 12:08:00|2000-05-08 12:08:00|\n",
      "|      19|   13307|    2046|Gay Gilmore ckpt|     5|chewy goodness, n...|2000-05-21 17:59:00|2000-05-21 17:59:00|\n",
      "|      21|     148|    2156|  Darlene Blythe|     0|Would someone ple...|2000-06-02 11:01:00|2000-06-02 11:01:00|\n",
      "|      22|     517|    2046|Gay Gilmore ckpt|     5|thought this was ...|2000-02-25 09:02:00|2000-02-25 09:02:00|\n",
      "|      23|    4684|    2046|Gay Gilmore ckpt|     5|this is absolutel...|2000-02-25 09:06:00|2000-02-25 09:06:00|\n",
      "+--------+--------+--------+----------------+------+--------------------+-------------------+-------------------+\n",
      "only showing top 10 rows\n",
      "\n"
     ]
    }
   ],
   "source": [
    "# It shows the first ten observations.\n",
    "df_reviews.show(10)"
   ]
  },
  {
   "cell_type": "code",
   "execution_count": 8,
   "id": "30ecdc19",
   "metadata": {
    "scrolled": false
   },
   "outputs": [
    {
     "name": "stdout",
     "output_type": "stream",
     "text": [
      "Shape: (1401982, 8)\n"
     ]
    }
   ],
   "source": [
    "num_rows_reviews = df_reviews.count() # Counting the number of rows.\n",
    "num_columns_reviews =len(df_reviews.columns) # Length of columns.\n",
    "print(f\"Shape: ({num_rows_reviews}, {num_columns_reviews})\") # Prints the shape of the dataset."
   ]
  },
  {
   "cell_type": "markdown",
   "id": "1585caa0",
   "metadata": {},
   "source": [
    "The previous code shows the shape of the dataset (1401982 rows, 8 columns) and by looking at the features, a few of them will not be needed to the analysis.\n",
    "- Temporal analysis is not the focus of the project, therefore, the date submitted and modified will be dropped in an early stage.\n",
    "- The Ids will not be part of the model, but will remain to check if they can indicate any anomaly.  "
   ]
  },
  {
   "cell_type": "code",
   "execution_count": 9,
   "id": "0e054d38",
   "metadata": {},
   "outputs": [],
   "source": [
    "# Droping two columns of the dataset.\n",
    "df_reviews = df_reviews.drop(\"DateSubmitted\", \"DateModified\")"
   ]
  },
  {
   "cell_type": "code",
   "execution_count": 10,
   "id": "00fd2635",
   "metadata": {},
   "outputs": [
    {
     "name": "stdout",
     "output_type": "stream",
     "text": [
      "Number of observations with missing Review: 0\n",
      "Number of observations with missing Rating: 0\n"
     ]
    }
   ],
   "source": [
    "# The two codes below are searching and printing the number of missing values in Review, Rating, Recipe Id.\n",
    "\n",
    "missing_review = df_reviews.filter(df_reviews.Review.isNull())\n",
    "print(f\"Number of observations with missing Review: {missing_review.count()}\")\n",
    "\n",
    "missing_rating = df_reviews.filter(df_reviews.Rating.isNull())\n",
    "print(f\"Number of observations with missing Rating: {missing_rating.count()}\")"
   ]
  },
  {
   "cell_type": "markdown",
   "id": "75a5f718",
   "metadata": {},
   "source": [
    "- No missing values are recorded in Review and Ratings. Only performing the command for two features because they are going to be the focus of the analysis. \n",
    "\n",
    "<br>\n",
    "\n",
    "- The following codes does not affect the analysis directly, but it increases the knowledge about the data.\n",
    "The next code will generate the frequency of three features, the Rating scores (check which score have the highest number and the lowest), the RecipeId (check how many times that recipe recieved a review and the AuthorId (check how many times that author wrote a review)."
   ]
  },
  {
   "cell_type": "code",
   "execution_count": 11,
   "id": "249be20d",
   "metadata": {},
   "outputs": [
    {
     "name": "stderr",
     "output_type": "stream",
     "text": [
      "                                                                                \r"
     ]
    },
    {
     "name": "stdout",
     "output_type": "stream",
     "text": [
      "+------+-------+\n",
      "|Rating|  count|\n",
      "+------+-------+\n",
      "|     0|  76248|\n",
      "|     1|  16559|\n",
      "|     2|  17597|\n",
      "|     3|  50279|\n",
      "|     4| 229217|\n",
      "|     5|1012082|\n",
      "+------+-------+\n",
      "\n",
      "Frequency of Ratings\n"
     ]
    },
    {
     "name": "stderr",
     "output_type": "stream",
     "text": [
      "                                                                                \r"
     ]
    },
    {
     "name": "stdout",
     "output_type": "stream",
     "text": [
      "+--------+-----+\n",
      "|RecipeId|count|\n",
      "+--------+-----+\n",
      "|   45809| 2892|\n",
      "|    2886| 2182|\n",
      "|   27208| 1614|\n",
      "|   89204| 1584|\n",
      "|   39087| 1491|\n",
      "|   67256| 1359|\n",
      "|   35813| 1353|\n",
      "|   54257| 1325|\n",
      "|   22782| 1273|\n",
      "|   32204| 1228|\n",
      "|  420398| 1174|\n",
      "|   25690| 1076|\n",
      "|   69173| 1023|\n",
      "|   73440| 1008|\n",
      "|   68955|  910|\n",
      "|   33919|  885|\n",
      "|   82102|  862|\n",
      "|   25885|  856|\n",
      "|   85629|  805|\n",
      "|   28148|  804|\n",
      "+--------+-----+\n",
      "only showing top 20 rows\n",
      "\n",
      "Frequency of RecipesId\n"
     ]
    },
    {
     "name": "stderr",
     "output_type": "stream",
     "text": [
      "\r",
      "[Stage 17:=============================>                            (1 + 1) / 2]\r"
     ]
    },
    {
     "name": "stdout",
     "output_type": "stream",
     "text": [
      "+--------+-----+\n",
      "|AuthorId|count|\n",
      "+--------+-----+\n",
      "|  424680| 8842|\n",
      "|   37449| 6605|\n",
      "|  383346| 5438|\n",
      "|  128473| 4693|\n",
      "|  169430| 4586|\n",
      "|   89831| 3963|\n",
      "|   58104| 3743|\n",
      "|  199848| 3688|\n",
      "|  133174| 3590|\n",
      "|  305531| 3543|\n",
      "|  226863| 3340|\n",
      "|    4470| 3260|\n",
      "|  369715| 3167|\n",
      "|  498271| 3014|\n",
      "| 1072593| 2810|\n",
      "|  176615| 2790|\n",
      "|   95743| 2664|\n",
      "|  286566| 2635|\n",
      "|  107583| 2588|\n",
      "|   88099| 2574|\n",
      "+--------+-----+\n",
      "only showing top 20 rows\n",
      "\n",
      "Frequency of AuthorId\n"
     ]
    },
    {
     "name": "stderr",
     "output_type": "stream",
     "text": [
      "\r",
      "[Stage 19:>                                                         (0 + 2) / 2]\r",
      "\r",
      "                                                                                \r"
     ]
    }
   ],
   "source": [
    "# The codes below are getting the frequency of values using the count function and printing them from\n",
    "# the highest to the lowest.\n",
    "\n",
    "df_reviews.groupBy(\"Rating\").count().orderBy(\"Rating\").show()\n",
    "print(f\"Frequency of Ratings\")\n",
    "\n",
    "df_reviews.groupBy(\"RecipeId\").count().orderBy(\"count\", ascending=False).show(20)\n",
    "print(f\"Frequency of RecipesId\")\n",
    "\n",
    "df_reviews.groupBy(\"AuthorId\").count().orderBy(\"count\", ascending=False).show(20)\n",
    "print(f\"Frequency of AuthorId\")"
   ]
  },
  {
   "cell_type": "markdown",
   "id": "d826e405",
   "metadata": {},
   "source": [
    "- The Rating columns shows that most of its values are located between 4 and 5.\n",
    "\n",
    "The Recipes and AuthorId column:\n",
    "- The recipes that received the highest amount of reviews was with the ID of 45089 and 2886 (more than 2000 ratings);\n",
    "- The Author that most reviewed recipes on the website was the Id 424680 with 8842, followed by Id 37449 with 6605 reviews;"
   ]
  },
  {
   "cell_type": "code",
   "execution_count": 12,
   "id": "1560a0f6",
   "metadata": {},
   "outputs": [
    {
     "name": "stderr",
     "output_type": "stream",
     "text": [
      "                                                                                \r"
     ]
    },
    {
     "name": "stdout",
     "output_type": "stream",
     "text": [
      "+--------+--------+-----------+\n",
      "|AuthorId|RecipeId|num_reviews|\n",
      "+--------+--------+-----------+\n",
      "+--------+--------+-----------+\n",
      "\n"
     ]
    },
    {
     "name": "stderr",
     "output_type": "stream",
     "text": [
      "\r",
      "[Stage 24:>                                                         (0 + 1) / 1]\r",
      "\r",
      "                                                                                \r"
     ]
    }
   ],
   "source": [
    "# Grouping the Author and Recipe Id and count the occurrences.\n",
    "# Since both columns are integers, the group by and aggregation will be used to find it.\n",
    "dd_review = df_reviews.groupBy(\"AuthorId\", \"RecipeId\").agg(F.count(\"*\").alias(\"num_reviews\"))\n",
    "# Filtering rows where the count is above 1, which can indicate that the recipe multiple review from the same user.\n",
    "dd_review = dd_review.filter(dd_review.num_reviews > 1)\n",
    "# Displaying the results.\n",
    "dd_review.show()"
   ]
  },
  {
   "cell_type": "markdown",
   "id": "038a1d30",
   "metadata": {},
   "source": [
    "- The previous code showerd that none of the reviewers (AuthorId) posted more than one review in the same recipe (RecipeId).\n",
    "\n",
    "Next the rating score given will be analysed a little further. "
   ]
  },
  {
   "cell_type": "code",
   "execution_count": 13,
   "id": "119234e8",
   "metadata": {},
   "outputs": [
    {
     "name": "stderr",
     "output_type": "stream",
     "text": [
      "[Stage 25:=============================>                            (1 + 1) / 2]\r"
     ]
    },
    {
     "name": "stdout",
     "output_type": "stream",
     "text": [
      "+-------+------------------+\n",
      "|summary|            Rating|\n",
      "+-------+------------------+\n",
      "|  count|           1401982|\n",
      "|   mean| 4.407951029328479|\n",
      "| stddev|1.2720116809642992|\n",
      "|    min|                 0|\n",
      "|    max|                 5|\n",
      "+-------+------------------+\n",
      "\n"
     ]
    },
    {
     "name": "stderr",
     "output_type": "stream",
     "text": [
      "\r",
      "                                                                                \r"
     ]
    }
   ],
   "source": [
    "# Displaying statistical features of the Reviews dataset.\n",
    "df_reviews.describe().select(\"summary\", \"Rating\").show()"
   ]
  },
  {
   "cell_type": "markdown",
   "id": "52623caf",
   "metadata": {},
   "source": [
    "Based on missing value and statistical feature codes, there are no missing values on the reviews dataset (same count as the shape of the dataset). And some statistical features can be displayed:\n",
    "- It has a range of scores between 0 and 5;\n",
    "- The mean of 4.4 is close to 5, therefore most of the data points are close the highest value, so the data present signs of being left-skewed (strong evidence for skewness);\n",
    "- Also, because most of the values a concentrated in the score 5, the box (boxplot) might be very close or at the top at the upper whisker.\n",
    "- It presents a high standard deviation given the range of the scores.\n",
    "\n",
    "Further analysis will be performed using visual tools."
   ]
  },
  {
   "cell_type": "markdown",
   "id": "6ed45165",
   "metadata": {},
   "source": [
    "### Ratings feature visual representation.\n",
    "\n",
    "- The visualization tools using Pandas provided a better result, therefore for visualization (boxplot and histogram) purpose it will be created a dataframe using pandas library."
   ]
  },
  {
   "cell_type": "code",
   "execution_count": 14,
   "id": "fe7b6bbc",
   "metadata": {
    "scrolled": true
   },
   "outputs": [
    {
     "name": "stderr",
     "output_type": "stream",
     "text": [
      "\r",
      "[Stage 28:=============================>                            (1 + 1) / 2]\r",
      "\r",
      "                                                                                \r"
     ]
    }
   ],
   "source": [
    "# Creating a dataframe using pandas library.\n",
    "ratings_column_pd = df_reviews.select(\"Rating\").toPandas()"
   ]
  },
  {
   "cell_type": "code",
   "execution_count": 15,
   "id": "09289558",
   "metadata": {},
   "outputs": [
    {
     "data": {
      "image/png": "[encoded data removed]",
      "text/plain": [
       "<Figure size 864x576 with 1 Axes>"
      ]
     },
     "metadata": {
      "needs_background": "light"
     },
     "output_type": "display_data"
    }
   ],
   "source": [
    "# Generating the figure.\n",
    "plt.figure(figsize=(12, 8)) # Setting the figure size.\n",
    "sns.set(style=\"whitegrid\", font_scale=1.2) # Addind a white space on the back and adjustive font scale.\n",
    "# Creates the boxplot\n",
    "ax = sns.boxplot(data=ratings_column_pd['Rating'], width=0.5) # Boxplot, setting the width of the box to .5.\n",
    "ax.set_title('Boxplot of Rating scores') # Add title to the figure.\n",
    "plt.tight_layout() # Adjusts the layout\n",
    "plt.show() # Shows the plot"
   ]
  },
  {
   "cell_type": "markdown",
   "id": "0215fe23",
   "metadata": {},
   "source": [
    "The boxplot shows shows that most of values are located in the maximum values, but also points the score 0, 1 and 2 as outliers, this could be due to the fact that those values represents a small percentage of the total (approximately 7-8%). So based on IQR calculations are considering them as outliers.\n",
    "\n",
    "- The values 1 and 2 will not be outliers, despite being a small amount they represent negative score reviews of the recipe;\n",
    "- The value of 0 will be analysed in a later stage along with the writen review.\n",
    "\n",
    "Despite considering of 1 and 2 score rating outliers, they will remain in the dataset. This is because they are still a valid data point and very important to achieve the goal. Although, the score zeros will be further analysed."
   ]
  },
  {
   "cell_type": "code",
   "execution_count": 16,
   "id": "9ec28520",
   "metadata": {},
   "outputs": [
    {
     "data": {
      "image/png": "[encoded data removed]",
      "text/plain": [
       "<Figure size 720x432 with 1 Axes>"
      ]
     },
     "metadata": {},
     "output_type": "display_data"
    }
   ],
   "source": [
    "# Creating the figure for the histogram.\n",
    "plt.figure(figsize=(10, 6))\n",
    "# Plots the histogram, bins set at 6 because of the range of the value.\n",
    "plt.hist(ratings_column_pd['Rating'], bins=6, edgecolor='black', alpha=0.7)\n",
    "plt.title(\"Histogram of Ranting Scores\") # Sets title.\n",
    "plt.xlabel(\"Ratings\") # Sets x label.\n",
    "plt.xticks(range(6)) # Add ticks with range between 0 and 6.\n",
    "plt.grid(axis='y') \n",
    "plt.show() # Display the histogram."
   ]
  },
  {
   "cell_type": "markdown",
   "id": "01007703",
   "metadata": {},
   "source": [
    "An extra visualization to look at the distribution of the data, the histogram shows that the ratings scores data is highly skewed to the left and most of its values are located at the maximum score.\n",
    "\n",
    "The scores zero raised doubts about its reliability, potentially someone forgot to leave a score or if it is actually the worst score. Also, there are no notes about the score zero, so a manual check will be applied to check if there is a balance between the review and the score zero. The procedure will be done by looking at random samples (attempted multiple times with differend seed values), checking if the reviews truly represents a sentiment of a lowest score possible."
   ]
  },
  {
   "cell_type": "code",
   "execution_count": 17,
   "id": "5ef49528",
   "metadata": {},
   "outputs": [
    {
     "name": "stdout",
     "output_type": "stream",
     "text": [
      "+-------------------------------------------------------------------------------------------------------------------------------------------------------------------------------------------------------------------------------------------------------------------------------------------------------------------------------------------------------------------------------------------------------------------------------------------------------------------------------------------------------------------------------------------------+\n",
      "|Review                                                                                                                                                                                                                                                                                                                                                                                                                                                                                                                                           |\n",
      "+-------------------------------------------------------------------------------------------------------------------------------------------------------------------------------------------------------------------------------------------------------------------------------------------------------------------------------------------------------------------------------------------------------------------------------------------------------------------------------------------------------------------------------------------------+\n",
      "|great recipe its delicious                                                                                                                                                                                                                                                                                                                                                                                                                                                                                                                       |\n",
      "|I need to try this.....This is typical recipe from my Mother's side of the family. \"use this much\" i can not see this much on the phone.                                                                                                                                                                                                                                                                                                                                                                                                         |\n",
      "|Sounds a bit like Bigos                                                                                                                                                                                                                                                                                                                                                                                                                                                                                                                          |\n",
      "|If you use a can of tomato sauce in place of the soup,and,1/2 can of cider vinegar with 1/2 can water (useing the tomato sauce can), you will have really delicious stuffed cabbage with a zest.\\r\\n\\r\\n                  Pepper barlow\\r\\n\\r\\n\\r\\nsize tomato sauce- 15 oz.Can                                                                                                                                                                                                                                                                  |\n",
      "|I had a Great Aunt that made the most wonderful dill pickles she told me that her secret was that she used rain water.  How interesting.  June Bug                                                                                                                                                                                                                                                                                                                                                                                               |\n",
      "|To David Cansler,  I would like your recipe please.  June Bug                                                                                                                                                                                                                                                                                                                                                                                                                                                                                    |\n",
      "|My recipe is similar...using a whole chicken instead...and slightly different ingerdients..but the major difference is that I make a small dumpling instead of the noodles....                                                                                                                                                                                                                                                                                                                                                                   |\n",
      "|I have not tried this recipe.  It sounds wonderful, but oh so high in caloried and fat!  Are you using whole milk ricotta?  And, can't a low-calorie marjorine be substituted but the butter??                                                                                                                                                                                                                                                                                                                                                   |\n",
      "|Suet is the fat that our mothers used to get with the stew beef . You need to grind it up to go in the bread pudding.                                                                                                                                                                                                                                                                                                                                                                                                                            |\n",
      "|I find this recipe hard to follow because im in australia  and need to find similar ingredients.                                                                                                                                                                                                                                                                                                                                                                                                                                                 |\n",
      "|Easy recipe - couldn't believe how easy. But I found there was too much flour -left out nearly i cup.And tastes great Janice                                                                                                                                                                                                                                                                                                                                                                                                                     |\n",
      "|I would love to make this recipe but there is no indication of how many eggs it calls for. HELP!                                                                                                                                                                                                                                                                                                                                                                                                                                                 |\n",
      "|Anything?\\r\\n\\r\\nThis is all wrong.  Who uses powdered sugar in Margarita's? What kind of surprise is this --\"Hey, there's marshmallows in the jello! Yes!\"\\r\\n\\r\\nDrink NO beverage that changes any part of the word \"margarita\".  What the hell is coarsely cracked ice?\\r\\n\\r\\nThe f'in truth? Ok, ok:\\r\\n\\r\\nHalf the glass filled with crushed ice. Fill up to ice line with GOOD tequila (important). Splash of Grand Marnier. Add some fresh squeezed lime juice. Rub lime around the rim AFTER.  Salt is optional and is, well, useless.|\n",
      "|This is one that I grew up with, but instead of bread cumbs we used rice, and combined ground sausage with the beef, and lots of pepper. You can also bake this in the oven.  Boil your cabbage leaves, roll the mixture and place in the oven at 350 degrees for 30 minutes, cover with the tomato sause/soup.                                                                                                                                                                                                                                  |\n",
      "|Its so nutritious and filling!!!                                                                                                                                                                                                                                                                                                                                                                                                                                                                                                                 |\n",
      "|love it!!!!                                                                                                                                                                                                                                                                                                                                                                                                                                                                                                                                      |\n",
      "|The lovely colours of this cake tempt your eyes...and melt your heart...and make your mouth water, just to have a bite and then have another one and then one more...endlessly!!                                                                                                                                                                                                                                                                                                                                                                 |\n",
      "|The recipe states in the ingredients listing, 1 1/2 quarts of shellfish veloute.......it would have made it so much easier for the normal cook if a recipe for the veloute had been included. The everyday cook would not have a clue as to what shellfish veloute even is.  It's an elegant recipe, but worthless to most people, without the veloute recipe included.                                                                                                                                                                          |\n",
      "|I found myself with an over abundance of zucchini, as we plant our own every year.  This recipe is fast and easy and it's a different change of pace from the ordinary.                                                                                                                                                                                                                                                                                                                                                                          |\n",
      "|Just viewing the page reminds me how tasty it is!                                                                                                                                                                                                                                                                                                                                                                                                                                                                                                |\n",
      "+-------------------------------------------------------------------------------------------------------------------------------------------------------------------------------------------------------------------------------------------------------------------------------------------------------------------------------------------------------------------------------------------------------------------------------------------------------------------------------------------------------------------------------------------------+\n",
      "only showing top 20 rows\n",
      "\n"
     ]
    }
   ],
   "source": [
    "zero_reviews = df_reviews.filter(col(\"Rating\") == 0)\n",
    "sample_reviews = zero_reviews.sample(withReplacement=False, fraction=0.25, seed=70)\n",
    "sample_reviews.select(\"Review\").show(truncate=False)"
   ]
  },
  {
   "cell_type": "markdown",
   "id": "de085cbd",
   "metadata": {},
   "source": [
    "- According to last code (with many attempts using different seed numbers), the written reviews does not match the score zero given. Positives reviews such as, great recipe, its delicious . Therefore, the chosen option is to drop the 0 scores (anomalies), so it does not affects the analysis by introducing noise to it, increasing the consistency in the data.\n",
    "- And since they are anomalies in the data, the rows with score of 0 will be dropped.\n",
    "<br><br><br>The next two codes will be used to drop (by using the method filter) and after printing the counts before and after the operation to check if it was correct. "
   ]
  },
  {
   "cell_type": "code",
   "execution_count": 18,
   "id": "08132f99",
   "metadata": {},
   "outputs": [],
   "source": [
    "# Method filter to exclude the rows with Rating equal to zero.\n",
    "df_reviews_no_zero = df_reviews.filter(df_reviews.Rating != 0)"
   ]
  },
  {
   "cell_type": "code",
   "execution_count": 19,
   "id": "b965be92",
   "metadata": {},
   "outputs": [
    {
     "name": "stdout",
     "output_type": "stream",
     "text": [
      "Original obs count: 1401982\n",
      "After filter obs count: 1325734\n"
     ]
    }
   ],
   "source": [
    "# Counting observations before and after the exclusion and printing them for verification. \n",
    "original_count = df_reviews.count()\n",
    "filtered_count = df_reviews_no_zero.count()\n",
    "print(f\"Original obs count: {original_count}\")\n",
    "print(f\"After filter obs count: {filtered_count}\")"
   ]
  },
  {
   "cell_type": "markdown",
   "id": "37fd6f70",
   "metadata": {},
   "source": [
    "- After the drop, the observations reduced by 76248, which is the number of zero scores given (also provided at the frequency line of code). Therefore, the drop operation was sucessful."
   ]
  },
  {
   "cell_type": "markdown",
   "id": "0057ccc2",
   "metadata": {},
   "source": [
    "## 3. Text pre-processing\n",
    "\n",
    "Next stage will be the text processing of the Review column, however only a few steps of the pre processing will be called before splitting the dataset to avoid data leakage. And the steps before dividing into traininig, validation and test are:\n",
    "\n",
    "- Label definition; \n",
    "- Lowering case; \n",
    "- Removing punctuations and \\r\\n;"
   ]
  },
  {
   "cell_type": "markdown",
   "id": "b6bc87dd",
   "metadata": {},
   "source": [
    "First a column (label) will be created with positive, negative and neutral labels according to the rating score given by the reviewer. This feature will be the sentiment label."
   ]
  },
  {
   "cell_type": "code",
   "execution_count": 20,
   "id": "db0a7ac9",
   "metadata": {},
   "outputs": [
    {
     "name": "stdout",
     "output_type": "stream",
     "text": [
      "+------+--------+\n",
      "|rating|   label|\n",
      "+------+--------+\n",
      "|     5|positive|\n",
      "|     4|positive|\n",
      "|     2|negative|\n",
      "|     5|positive|\n",
      "|     5|positive|\n",
      "|     4|positive|\n",
      "|     5|positive|\n",
      "|     5|positive|\n",
      "|     5|positive|\n",
      "|     4|positive|\n",
      "|     5|positive|\n",
      "|     5|positive|\n",
      "|     1|negative|\n",
      "|     5|positive|\n",
      "|     4|positive|\n",
      "|     1|negative|\n",
      "|     5|positive|\n",
      "|     5|positive|\n",
      "|     3| neutral|\n",
      "|     4|positive|\n",
      "+------+--------+\n",
      "only showing top 20 rows\n",
      "\n"
     ]
    }
   ],
   "source": [
    "# Creates a new column 'label' based on rating values\n",
    "df_reviews_no_zero = df_reviews_no_zero.withColumn(\"label\", \n",
    "                   when(col(\"rating\").isin([1, 2]), \"negative\")\n",
    "                   .when(col(\"rating\") == 3, \"neutral\")\n",
    "                   .otherwise(\"positive\")\n",
    "                  )\n",
    "\n",
    "# You can verify by showing a few records\n",
    "df_reviews_no_zero.select(\"rating\", \"label\").show()\n"
   ]
  },
  {
   "cell_type": "markdown",
   "id": "378069a7",
   "metadata": {},
   "source": [
    "According to the last cell, the label features was successfully created. Next, the dataset will be transformed into lower case letters."
   ]
  },
  {
   "cell_type": "code",
   "execution_count": 21,
   "id": "67702a06",
   "metadata": {},
   "outputs": [],
   "source": [
    "# Creating a column named Review_lower to the dataframe in a lowercase version.\n",
    "process_reviews = df_reviews_no_zero.withColumn(\"Review_lower\", lower(col(\"Review\")))"
   ]
  },
  {
   "cell_type": "code",
   "execution_count": 22,
   "id": "9c4de4a0",
   "metadata": {
    "scrolled": true
   },
   "outputs": [
    {
     "name": "stderr",
     "output_type": "stream",
     "text": [
      "\r",
      "[Stage 37:=============================>                            (1 + 1) / 2]\r"
     ]
    },
    {
     "name": "stdout",
     "output_type": "stream",
     "text": [
      "Transformation successful.\n"
     ]
    },
    {
     "name": "stderr",
     "output_type": "stream",
     "text": [
      "\r",
      "                                                                                \r"
     ]
    }
   ],
   "source": [
    "# Looks for any observation that the transformation did not work.\n",
    "no_match = process_reviews.filter(lower(col(\"Review\")) !=col(\"Review_lower\")).count()\n",
    "\n",
    "if no_match == 0:\n",
    "    print(\"Transformation successful.\")\n",
    "else:\n",
    "    print(\"There is/are rows that the transformation did not work.\")"
   ]
  },
  {
   "cell_type": "markdown",
   "id": "70ed3294",
   "metadata": {},
   "source": [
    "- After the transformation, a few statistical features will be generated before further processing for comparison purpose. "
   ]
  },
  {
   "cell_type": "code",
   "execution_count": 23,
   "id": "173b6b24",
   "metadata": {},
   "outputs": [
    {
     "name": "stderr",
     "output_type": "stream",
     "text": [
      "\r",
      "[Stage 40:=============================>                            (1 + 1) / 2]\r"
     ]
    },
    {
     "name": "stdout",
     "output_type": "stream",
     "text": [
      "+-------+-----------------+\n",
      "|summary|       word_count|\n",
      "+-------+-----------------+\n",
      "|  count|          1325734|\n",
      "|   mean|53.35392393949314|\n",
      "| stddev|37.57547429823871|\n",
      "|    min|                1|\n",
      "|    max|             1184|\n",
      "+-------+-----------------+\n",
      "\n"
     ]
    },
    {
     "name": "stderr",
     "output_type": "stream",
     "text": [
      "\r",
      "                                                                                \r"
     ]
    }
   ],
   "source": [
    "# It sums the number of words in the review column.\n",
    "w_count = process_reviews.withColumn(\"word_count\", size(split(process_reviews[\"Review_lower\"], \" \")))\n",
    "# Display statistical features of the review number of words.\n",
    "w_count.select(\"word_count\").describe().show()"
   ]
  },
  {
   "cell_type": "markdown",
   "id": "719768b0",
   "metadata": {},
   "source": [
    "According to the descriptive statistics of the review word count (1,325,734 in total):\n",
    "- It ranges from 1 word to 1184 words;\n",
    "- The mean is 53.35, thus the average of words is 53 words per review.\n",
    "- Most of the reviews are likely to be clustered in the lower values. "
   ]
  },
  {
   "cell_type": "code",
   "execution_count": 24,
   "id": "35fcec5a",
   "metadata": {
    "scrolled": true
   },
   "outputs": [
    {
     "name": "stderr",
     "output_type": "stream",
     "text": [
      "\r",
      "[Stage 43:=============================>                            (1 + 1) / 2]\r"
     ]
    },
    {
     "name": "stdout",
     "output_type": "stream",
     "text": [
      "+-------+------------------+\n",
      "|summary|   rev_char_length|\n",
      "+-------+------------------+\n",
      "|  count|           1325734|\n",
      "|   mean| 276.9054689703968|\n",
      "| stddev|194.79580324070147|\n",
      "|    min|                 0|\n",
      "|    max|              8587|\n",
      "+-------+------------------+\n",
      "\n"
     ]
    },
    {
     "name": "stderr",
     "output_type": "stream",
     "text": [
      "\r",
      "                                                                                \r"
     ]
    }
   ],
   "source": [
    "# Displaying the characters length of the review_lowercase column\n",
    "process_reviews = process_reviews.withColumn(\"rev_char_length\", length(process_reviews[\"Review_lower\"]))\n",
    "# Displaying statistical feature of the reviews character length. \n",
    "process_reviews.select(\"rev_char_length\").describe().show()"
   ]
  },
  {
   "cell_type": "markdown",
   "id": "3ffe9e20",
   "metadata": {},
   "source": [
    "At this stage, the review features has:\n",
    "- An average of 276 characters per review;\n",
    "- Reviews range from 0 (empty) to 8587 (long reviews);\n",
    "\n",
    "Based on the values, the mean is much closer to the minimum than to the maximum value, therefore indicating that the distribution of the character length is right skewed. However, the histogram will be generate to be certain."
   ]
  },
  {
   "cell_type": "code",
   "execution_count": 25,
   "id": "0a449b4c",
   "metadata": {
    "scrolled": false
   },
   "outputs": [
    {
     "name": "stderr",
     "output_type": "stream",
     "text": [
      "                                                                                \r"
     ]
    }
   ],
   "source": [
    "# Transforming to pandas dataframe for visualization purpose.\n",
    "review_char_lengh_pd = process_reviews.select(\"rev_char_length\").toPandas()"
   ]
  },
  {
   "cell_type": "code",
   "execution_count": 26,
   "id": "35fcd6a1",
   "metadata": {
    "scrolled": true
   },
   "outputs": [
    {
     "data": {
      "image/png": "[encoded data removed]",
      "text/plain": [
       "<Figure size 432x288 with 1 Axes>"
      ]
     },
     "metadata": {},
     "output_type": "display_data"
    }
   ],
   "source": [
    "# Creating histogram for characters length\n",
    "char_lengths = review_char_lengh_pd[\"rev_char_length\"] # Data\n",
    "char_lengths.hist(bins=50) # Generate histogram.\n",
    "plt.xlabel(\"Character Length\") # Adds label.\n",
    "plt.ylabel(\"Number of Reviews\") # Adds label.\n",
    "plt.title(\"Distribution of Review Lengths (in characters)\") # Adds title.\n",
    "plt.show() # Shows the histogram."
   ]
  },
  {
   "cell_type": "markdown",
   "id": "e7e20edb",
   "metadata": {},
   "source": [
    "- The histogram confirms what the descriptive statistic showed, that the distribution for the number of characters is right-skewed. "
   ]
  },
  {
   "cell_type": "markdown",
   "id": "aa10ae98",
   "metadata": {},
   "source": [
    "# CHECK IF YOU CAN OPTIMIZE THIS CODE BECAUSE YOU HAVE THE LABEL ALREADY!!!!\n",
    "\n",
    "replace if works"
   ]
  },
  {
   "cell_type": "code",
   "execution_count": 29,
   "id": "c0f05035",
   "metadata": {},
   "outputs": [
    {
     "name": "stderr",
     "output_type": "stream",
     "text": [
      "\r",
      "[Stage 50:=============================>                            (1 + 1) / 2]\r"
     ]
    },
    {
     "name": "stdout",
     "output_type": "stream",
     "text": [
      "Rating Class Positive: 93.63%\n",
      "Rating Class Neutral: 3.79%\n",
      "Rating Class Negative: 2.58%\n"
     ]
    },
    {
     "name": "stderr",
     "output_type": "stream",
     "text": [
      "\r",
      "                                                                                \r"
     ]
    }
   ],
   "source": [
    "# Group by the label column to get counts\n",
    "class_counts = process_reviews.groupBy(\"label\").count().rdd.collectAsMap()\n",
    "\n",
    "# Calculate the total number of reviews\n",
    "total_reviews = sum(class_counts.values())\n",
    "\n",
    "# Calculate the ratios\n",
    "Ratios = {k: v / total_reviews for k, v in class_counts.items()}\n",
    "\n",
    "# Print the percentages\n",
    "for label, ratio in Ratios.items():\n",
    "    print(f\"Rating Class {label.capitalize()}: {ratio*100:.2f}%\")\n"
   ]
  },
  {
   "cell_type": "markdown",
   "id": "00d08c1a",
   "metadata": {},
   "source": [
    "Through the last line of code, the reviews have:\n",
    "\n",
    "- By far, the highest number of score given is between the value of 4 and 5;\n",
    "- Lower scores (1 , 2) represents less than 3% of the total of ratings given and less than 4% for neutral scores (3); <b> (Important rationale to balance the data in a later stage)</b>\n",
    "- The imbalance between the positive classes are enourmous considering the others, and this potenlially could add bias into the sentiment analysis. To mitigate this issue there are some options available which will be attempt in a later stage. \n",
    "\n",
    "Next pre processing stage is to remove punctuations and characters such as \\r\\n."
   ]
  },
  {
   "cell_type": "code",
   "execution_count": 30,
   "id": "4b0b4349",
   "metadata": {},
   "outputs": [],
   "source": [
    "# Removing punctions of the Review_lowercase column.\n",
    "process_reviews = process_reviews.withColumn(\"Review_no_punct\", regexp_replace(col(\"Review_lower\"), \"[^a-zA-Z\\s]\", \"\"))"
   ]
  },
  {
   "cell_type": "code",
   "execution_count": 31,
   "id": "9e5361a6",
   "metadata": {},
   "outputs": [
    {
     "name": "stdout",
     "output_type": "stream",
     "text": [
      "+-------------------------------------------------------------------------------------------------------------------------------------------------------------------------------------------------------------------------------------------------------------------------------------------------------------------------------------------------------------+-------------------------------------------------------------------------------------------------------------------------------------------------------------------------------------------------------------------------------------------------------------------------------------------------------------------------------------------+\n",
      "|Review_lower                                                                                                                                                                                                                                                                                                                                                 |Review_no_punct                                                                                                                                                                                                                                                                                                                            |\n",
      "+-------------------------------------------------------------------------------------------------------------------------------------------------------------------------------------------------------------------------------------------------------------------------------------------------------------------------------------------------------------+-------------------------------------------------------------------------------------------------------------------------------------------------------------------------------------------------------------------------------------------------------------------------------------------------------------------------------------------+\n",
      "|better than any you can get at a restaurant!                                                                                                                                                                                                                                                                                                                 |better than any you can get at a restaurant                                                                                                                                                                                                                                                                                                |\n",
      "|i cut back on the mayo, and made up the difference with sour cream to adjust the stiffness of the dip.                                                                                                                                                                                                                                                       |i cut back on the mayo and made up the difference with sour cream to adjust the stiffness of the dip                                                                                                                                                                                                                                       |\n",
      "|i think i did something wrong because i could taste the cornstarch in the finished product.                                                                                                                                                                                                                                                                  |i think i did something wrong because i could taste the cornstarch in the finished product                                                                                                                                                                                                                                                 |\n",
      "|easily the best i have ever had.  juicy flavorful, not dry.  the vegetables retain crispness as well, not bland at all!                                                                                                                                                                                                                                      |easily the best i have ever had  juicy flavorful not dry  the vegetables retain crispness as well not bland at all                                                                                                                                                                                                                         |\n",
      "|an excellent dish.                                                                                                                                                                                                                                                                                                                                           |an excellent dish                                                                                                                                                                                                                                                                                                                          |\n",
      "|love it, but without the bean sprouts.                                                                                                                                                                                                                                                                                                                       |love it but without the bean sprouts                                                                                                                                                                                                                                                                                                       |\n",
      "|chewy goodness, not crispy at all. i even threw in craisins and left the oatmeal whole, and they were great.                                                                                                                                                                                                                                                 |chewy goodness not crispy at all i even threw in craisins and left the oatmeal whole and they were great                                                                                                                                                                                                                                   |\n",
      "|thought this was terrific!                                                                                                                                                                                                                                                                                                                                   |thought this was terrific                                                                                                                                                                                                                                                                                                                  |\n",
      "|this is absolutely delicious.  i even served it with lime slices so you could squeeze on more of the acid.                                                                                                                                                                                                                                                   |this is absolutely delicious  i even served it with lime slices so you could squeeze on more of the acid                                                                                                                                                                                                                                   |\n",
      "|a little greasy, but a huge hit with the guests.                                                                                                                                                                                                                                                                                                             |a little greasy but a huge hit with the guests                                                                                                                                                                                                                                                                                             |\n",
      "|leeks on a pizza?!  it was really delicious.  i used a boboli and added some chicken sausage slices and mushrooms too.                                                                                                                                                                                                                                       |leeks on a pizza  it was really delicious  i used a boboli and added some chicken sausage slices and mushrooms too                                                                                                                                                                                                                         |\n",
      "|i deleted the bean sprouts and replaced them with salted cashew nuts...a nice complement to the sweet/sour dressing. our guests loved it, in my opinion,it deserves a \"5-pan\" rating.                                                                                                                                                                        |i deleted the bean sprouts and replaced them with salted cashew nutsa nice complement to the sweetsour dressing our guests loved it in my opinionit deserves a pan rating                                                                                                                                                                  |\n",
      "|where does the bbq come in                                                                                                                                                                                                                                                                                                                                   |where does the bbq come in                                                                                                                                                                                                                                                                                                                 |\n",
      "|this was a fine sandwich, i'll definitely be making it again. i think you could also use blue cheese rather than goat or feta--blue seems to go well with roast beef.\\r\\n                                                                                                                                                                                    |this was a fine sandwich ill definitely be making it again i think you could also use blue cheese rather than goat or fetablue seems to go well with roast beef\\r\\n                                                                                                                                                                        |\n",
      "|very simple recipe to make! this is a refreshing treat that goes well with vanilla ice cream. my husband and i made this dessert disappear fast!\\r\\n                                                                                                                                                                                                         |very simple recipe to make this is a refreshing treat that goes well with vanilla ice cream my husband and i made this dessert disappear fast\\r\\n                                                                                                                                                                                          |\n",
      "|dear lord.                                                                                                                                                                                                                                                                                                                                                   |dear lord                                                                                                                                                                                                                                                                                                                                  |\n",
      "|vastly superior to its bastard cousin the twinkie pie, this is a true delight to the \"redneck-chic\" cook in all of us.  my wife and girlfriends (in  utah, that is) were astounded.  how could you possibly combine canned tuna with refined sugar, and then (italics there) add brine!  \"recipezaar, baby- who needs the ocean?\"\\r\\n\\r\\neli totz\\r\\n\\r\\n\\r\\n|vastly superior to its bastard cousin the twinkie pie this is a true delight to the redneckchic cook in all of us  my wife and girlfriends in  utah that is were astounded  how could you possibly combine canned tuna with refined sugar and then italics there add brine  recipezaar baby who needs the ocean\\r\\n\\r\\neli totz\\r\\n\\r\\n\\r\\n|\n",
      "|clearly,        \\r\\n\\r\\n\\r\\na nine shot drink deserves at least five stars.  stiff, baby!                                                                                                                                                                                                                                                                    |clearly        \\r\\n\\r\\n\\r\\na nine shot drink deserves at least five stars  stiff baby                                                                                                                                                                                                                                                      |\n",
      "|i never tasted it but it sure doesn''t look easy.  toast is easy.                                                                                                                                                                                                                                                                                            |i never tasted it but it sure doesnt look easy  toast is easy                                                                                                                                                                                                                                                                              |\n",
      "|this recipe was really easy to follow and was quite delicious.  it reheats really well, too, for small families.  \\r\\n\\r\\ni think next time i will buy the crust, as mine needed a little more polishing.\\r\\n\\r\\nthanks for the recipe!\\r\\n                                                                                                                  |this recipe was really easy to follow and was quite delicious  it reheats really well too for small families  \\r\\n\\r\\ni think next time i will buy the crust as mine needed a little more polishing\\r\\n\\r\\nthanks for the recipe\\r\\n                                                                                                       |\n",
      "+-------------------------------------------------------------------------------------------------------------------------------------------------------------------------------------------------------------------------------------------------------------------------------------------------------------------------------------------------------------+-------------------------------------------------------------------------------------------------------------------------------------------------------------------------------------------------------------------------------------------------------------------------------------------------------------------------------------------+\n",
      "only showing top 20 rows\n",
      "\n"
     ]
    }
   ],
   "source": [
    "# Displays the rows of column before and after the removal of punctuations. \n",
    "process_reviews.select(\"Review_lower\", \"Review_no_punct\").show(n=20, truncate=False)   "
   ]
  },
  {
   "cell_type": "markdown",
   "id": "74b1f1c5",
   "metadata": {},
   "source": [
    "- The previous line of code shows that the removal of puctuations was successful. However, it shows special characters like \\r\\n, which will be removed in the following step."
   ]
  },
  {
   "cell_type": "code",
   "execution_count": 32,
   "id": "e037c9f7",
   "metadata": {},
   "outputs": [],
   "source": [
    "# Removing \\r\\n.\n",
    "process_reviews = process_reviews.withColumn(\"Review_no_punct2\", regexp_replace(col(\"Review_no_punct\"), \"[\\r\\n]\", \"\"))"
   ]
  },
  {
   "cell_type": "code",
   "execution_count": 33,
   "id": "bf53c319",
   "metadata": {},
   "outputs": [
    {
     "name": "stdout",
     "output_type": "stream",
     "text": [
      "+-------------------------------------------------------------------------------------------------------------------------------------------------------------------------------------------------------------------------------------------------------------------------------------------------------------------------------------------+-----------------------------------------------------------------------------------------------------------------------------------------------------------------------------------------------------------------------------------------------------------------------------------------------------------------------+\n",
      "|Review_no_punct                                                                                                                                                                                                                                                                                                                            |Review_no_punct2                                                                                                                                                                                                                                                                                                       |\n",
      "+-------------------------------------------------------------------------------------------------------------------------------------------------------------------------------------------------------------------------------------------------------------------------------------------------------------------------------------------+-----------------------------------------------------------------------------------------------------------------------------------------------------------------------------------------------------------------------------------------------------------------------------------------------------------------------+\n",
      "|better than any you can get at a restaurant                                                                                                                                                                                                                                                                                                |better than any you can get at a restaurant                                                                                                                                                                                                                                                                            |\n",
      "|i cut back on the mayo and made up the difference with sour cream to adjust the stiffness of the dip                                                                                                                                                                                                                                       |i cut back on the mayo and made up the difference with sour cream to adjust the stiffness of the dip                                                                                                                                                                                                                   |\n",
      "|i think i did something wrong because i could taste the cornstarch in the finished product                                                                                                                                                                                                                                                 |i think i did something wrong because i could taste the cornstarch in the finished product                                                                                                                                                                                                                             |\n",
      "|easily the best i have ever had  juicy flavorful not dry  the vegetables retain crispness as well not bland at all                                                                                                                                                                                                                         |easily the best i have ever had  juicy flavorful not dry  the vegetables retain crispness as well not bland at all                                                                                                                                                                                                     |\n",
      "|an excellent dish                                                                                                                                                                                                                                                                                                                          |an excellent dish                                                                                                                                                                                                                                                                                                      |\n",
      "|love it but without the bean sprouts                                                                                                                                                                                                                                                                                                       |love it but without the bean sprouts                                                                                                                                                                                                                                                                                   |\n",
      "|chewy goodness not crispy at all i even threw in craisins and left the oatmeal whole and they were great                                                                                                                                                                                                                                   |chewy goodness not crispy at all i even threw in craisins and left the oatmeal whole and they were great                                                                                                                                                                                                               |\n",
      "|thought this was terrific                                                                                                                                                                                                                                                                                                                  |thought this was terrific                                                                                                                                                                                                                                                                                              |\n",
      "|this is absolutely delicious  i even served it with lime slices so you could squeeze on more of the acid                                                                                                                                                                                                                                   |this is absolutely delicious  i even served it with lime slices so you could squeeze on more of the acid                                                                                                                                                                                                               |\n",
      "|a little greasy but a huge hit with the guests                                                                                                                                                                                                                                                                                             |a little greasy but a huge hit with the guests                                                                                                                                                                                                                                                                         |\n",
      "|leeks on a pizza  it was really delicious  i used a boboli and added some chicken sausage slices and mushrooms too                                                                                                                                                                                                                         |leeks on a pizza  it was really delicious  i used a boboli and added some chicken sausage slices and mushrooms too                                                                                                                                                                                                     |\n",
      "|i deleted the bean sprouts and replaced them with salted cashew nutsa nice complement to the sweetsour dressing our guests loved it in my opinionit deserves a pan rating                                                                                                                                                                  |i deleted the bean sprouts and replaced them with salted cashew nutsa nice complement to the sweetsour dressing our guests loved it in my opinionit deserves a pan rating                                                                                                                                              |\n",
      "|where does the bbq come in                                                                                                                                                                                                                                                                                                                 |where does the bbq come in                                                                                                                                                                                                                                                                                             |\n",
      "|this was a fine sandwich ill definitely be making it again i think you could also use blue cheese rather than goat or fetablue seems to go well with roast beef\\r\\n                                                                                                                                                                        |this was a fine sandwich ill definitely be making it again i think you could also use blue cheese rather than goat or fetablue seems to go well with roast beef                                                                                                                                                        |\n",
      "|very simple recipe to make this is a refreshing treat that goes well with vanilla ice cream my husband and i made this dessert disappear fast\\r\\n                                                                                                                                                                                          |very simple recipe to make this is a refreshing treat that goes well with vanilla ice cream my husband and i made this dessert disappear fast                                                                                                                                                                          |\n",
      "|dear lord                                                                                                                                                                                                                                                                                                                                  |dear lord                                                                                                                                                                                                                                                                                                              |\n",
      "|vastly superior to its bastard cousin the twinkie pie this is a true delight to the redneckchic cook in all of us  my wife and girlfriends in  utah that is were astounded  how could you possibly combine canned tuna with refined sugar and then italics there add brine  recipezaar baby who needs the ocean\\r\\n\\r\\neli totz\\r\\n\\r\\n\\r\\n|vastly superior to its bastard cousin the twinkie pie this is a true delight to the redneckchic cook in all of us  my wife and girlfriends in  utah that is were astounded  how could you possibly combine canned tuna with refined sugar and then italics there add brine  recipezaar baby who needs the oceaneli totz|\n",
      "|clearly        \\r\\n\\r\\n\\r\\na nine shot drink deserves at least five stars  stiff baby                                                                                                                                                                                                                                                      |clearly        a nine shot drink deserves at least five stars  stiff baby                                                                                                                                                                                                                                              |\n",
      "|i never tasted it but it sure doesnt look easy  toast is easy                                                                                                                                                                                                                                                                              |i never tasted it but it sure doesnt look easy  toast is easy                                                                                                                                                                                                                                                          |\n",
      "|this recipe was really easy to follow and was quite delicious  it reheats really well too for small families  \\r\\n\\r\\ni think next time i will buy the crust as mine needed a little more polishing\\r\\n\\r\\nthanks for the recipe\\r\\n                                                                                                       |this recipe was really easy to follow and was quite delicious  it reheats really well too for small families  i think next time i will buy the crust as mine needed a little more polishingthanks for the recipe                                                                                                       |\n",
      "+-------------------------------------------------------------------------------------------------------------------------------------------------------------------------------------------------------------------------------------------------------------------------------------------------------------------------------------------+-----------------------------------------------------------------------------------------------------------------------------------------------------------------------------------------------------------------------------------------------------------------------------------------------------------------------+\n",
      "only showing top 20 rows\n",
      "\n"
     ]
    }
   ],
   "source": [
    "# Checking the results of the last operation.\n",
    "process_reviews.select(\"Review_no_punct\", \"Review_no_punct2\").show(n=20, truncate=False)  "
   ]
  },
  {
   "cell_type": "markdown",
   "id": "fe1069fe",
   "metadata": {},
   "source": [
    "- The last code showed that \\r\\n characters also were removed.  "
   ]
  },
  {
   "cell_type": "markdown",
   "id": "55b6b538",
   "metadata": {},
   "source": [
    "### After a few steps of processing, the dataset will be split into three different sets, the training, validation and test. \n",
    "\n",
    "- The split of the sets will be performed also by using the command sampleBy, in which will divide the reviews dataframe into three different sets, however it will keep the original ratio as close as possible.\n",
    "- The rationale behing the split to occur at this stage is to avoid as much as possible the data leaked, in order words, do not give access to information which the model is not supposed to look at it.\n",
    "- The division will be performed using fractions in order to keep the same ratio and distribution as the original dataset. \n",
    "\n",
    "<br>\n",
    "The sets will be separeted in the following ratio training (60%), validation (20%) and test (20%). The process will be conducted using seed 42, for the same representation when running the code.  "
   ]
  },
  {
   "cell_type": "code",
   "execution_count": 34,
   "id": "decbb3a0",
   "metadata": {},
   "outputs": [
    {
     "name": "stderr",
     "output_type": "stream",
     "text": [
      "                                                                                \r"
     ]
    }
   ],
   "source": [
    "# Defining fractions to split the dataset.\n",
    "train_fractions = {label: 0.6 for label in process_reviews.select(\"label\").distinct().rdd.flatMap(lambda x: x).collect()}\n",
    "\n",
    "# Creating a train set.\n",
    "df_train = process_reviews.sampleBy(\"label\", fractions=train_fractions, seed=42)"
   ]
  },
  {
   "cell_type": "code",
   "execution_count": 35,
   "id": "d066ea4e",
   "metadata": {},
   "outputs": [],
   "source": [
    "# Creates the 40% left set to be splitted between validation and test.\n",
    "remaining_df = process_reviews.subtract(df_train)"
   ]
  },
  {
   "cell_type": "code",
   "execution_count": 36,
   "id": "43c982aa",
   "metadata": {},
   "outputs": [],
   "source": [
    "# Defining fractions to split the dataset.\n",
    "valid_fractions = {label: 0.5 for label in process_reviews.select(\"label\").distinct().rdd.flatMap(lambda x: x).collect()}\n",
    "\n",
    "# Creates the validation set from the 40%, using its franction of \n",
    "df_valid = remaining_df.sampleBy(\"label\", fractions=valid_fractions, seed=42)"
   ]
  },
  {
   "cell_type": "code",
   "execution_count": 37,
   "id": "9e6ddf99",
   "metadata": {},
   "outputs": [],
   "source": [
    "# Creating test df. \n",
    "df_test = remaining_df.subtract(df_valid)"
   ]
  },
  {
   "cell_type": "code",
   "execution_count": 38,
   "id": "cbdbda42",
   "metadata": {
    "scrolled": true
   },
   "outputs": [
    {
     "name": "stderr",
     "output_type": "stream",
     "text": [
      "                                                                                \r"
     ]
    },
    {
     "name": "stdout",
     "output_type": "stream",
     "text": [
      "+--------+------+\n",
      "|   label| count|\n",
      "+--------+------+\n",
      "|positive|745635|\n",
      "| neutral| 30424|\n",
      "|negative| 20526|\n",
      "+--------+------+\n",
      "\n"
     ]
    },
    {
     "name": "stderr",
     "output_type": "stream",
     "text": [
      "2023-10-04 23:11:44,301 WARN expressions.RowBasedKeyValueBatch: Calling spill() on RowBasedKeyValueBatch. Will not spill but return 0.\n",
      "2023-10-04 23:11:44,315 WARN expressions.RowBasedKeyValueBatch: Calling spill() on RowBasedKeyValueBatch. Will not spill but return 0.\n",
      "2023-10-04 23:11:44,335 WARN expressions.RowBasedKeyValueBatch: Calling spill() on RowBasedKeyValueBatch. Will not spill but return 0.\n",
      "2023-10-04 23:11:44,352 WARN expressions.RowBasedKeyValueBatch: Calling spill() on RowBasedKeyValueBatch. Will not spill but return 0.\n",
      "                                                                                \r"
     ]
    },
    {
     "name": "stdout",
     "output_type": "stream",
     "text": [
      "+--------+------+\n",
      "|   label| count|\n",
      "+--------+------+\n",
      "|positive|248220|\n",
      "| neutral|  9876|\n",
      "|negative|  6832|\n",
      "+--------+------+\n",
      "\n"
     ]
    },
    {
     "name": "stderr",
     "output_type": "stream",
     "text": [
      "[Stage 100:>                                                        (0 + 2) / 2]\r"
     ]
    },
    {
     "name": "stdout",
     "output_type": "stream",
     "text": [
      "+--------+------+\n",
      "|   label| count|\n",
      "+--------+------+\n",
      "|positive|247486|\n",
      "| neutral|  9947|\n",
      "|negative|  6788|\n",
      "+--------+------+\n",
      "\n"
     ]
    },
    {
     "name": "stderr",
     "output_type": "stream",
     "text": [
      "\r",
      "                                                                                \r"
     ]
    }
   ],
   "source": [
    "# Displaying the class distributions after the split using the stratified method.\n",
    "df_train.groupBy(\"label\").count().show()\n",
    "df_valid.groupBy(\"label\").count().show()\n",
    "df_test.groupBy(\"label\").count().show()"
   ]
  },
  {
   "cell_type": "code",
   "execution_count": null,
   "id": "bce45e08",
   "metadata": {
    "scrolled": true
   },
   "outputs": [
    {
     "name": "stdout",
     "output_type": "stream",
     "text": [
      "Word count statistics for Training Set:\n"
     ]
    },
    {
     "name": "stderr",
     "output_type": "stream",
     "text": [
      "                                                                                \r"
     ]
    },
    {
     "name": "stdout",
     "output_type": "stream",
     "text": [
      "+-------+-----------------+\n",
      "|summary|       word_count|\n",
      "+-------+-----------------+\n",
      "|  count|           796585|\n",
      "|   mean| 53.3311297601637|\n",
      "| stddev|37.56732519939138|\n",
      "|    min|                1|\n",
      "|    max|              944|\n",
      "+-------+-----------------+\n",
      "\n",
      "Word count statistics for Validation Set:\n"
     ]
    },
    {
     "name": "stderr",
     "output_type": "stream",
     "text": [
      "[Stage 116:===========>                                            (2 + 2) / 10]\r"
     ]
    }
   ],
   "source": [
    "# Creating a function to display the descripte statistics.\n",
    "def describe_word_count(dataset, dataset_name):\n",
    "    # Calculate word count and add as a new column\n",
    "    dataset_with_count = dataset.withColumn(\"word_count\", size(split(dataset[\"Review_lower\"], \" \")))\n",
    "    \n",
    "    # Describes the word count and show the statistics.\n",
    "    print(f\"Word count statistics for {dataset_name}:\")\n",
    "    dataset_with_count.select(\"word_count\").describe().show()\n",
    "\n",
    "    return dataset_with_count\n",
    "\n",
    "# Applying the function to X_train, X_val, and X_test.\n",
    "df_train_R = describe_word_count(df_train, \"Training Set\")\n",
    "df_valid_R = describe_word_count(df_valid, \"Validation Set\")\n",
    "df_test_R = describe_word_count(df_test, \"Test Set\")\n"
   ]
  },
  {
   "cell_type": "markdown",
   "id": "f3243e91",
   "metadata": {},
   "source": [
    "- The results regarding the proportion being (0.6, 0.2, 0.2) are successful, for example the training set has 796,585 reviews, which represents 60% of the total (1,325,734).\n",
    "- The average number of words per review are equal among the sets. Despite the same averages the sets vary in the maximum value of words. "
   ]
  },
  {
   "cell_type": "markdown",
   "id": "c338088a",
   "metadata": {},
   "source": [
    "# OPTIMIZE IT, YOU HAVE THE LABEL COLUMN ALREADY!!!!\n",
    "\n",
    "- Try to run the code below if it works, replace it and erase this line."
   ]
  },
  {
   "cell_type": "code",
   "execution_count": null,
   "id": "7ad01443",
   "metadata": {},
   "outputs": [],
   "source": [
    "# Calculating the distribution of scores and the three different classes fo the train set.\n",
    "# Group by the label column to get counts.\n",
    "class_counts_train = df_train.groupBy(\"label\").count().rdd.collectAsMap()\n",
    "\n",
    "# Calculate the total number of reviews.\n",
    "total_reviews_train = sum(class_counts_train.values())\n",
    "\n",
    "# Calculates the ratios.\n",
    "Ratios = {k: v / total_reviews_train for k, v in class_counts.items()}\n",
    "\n",
    "# Prints the percentages.\n",
    "for label, ratio in Ratios.items():\n",
    "    print(f\"Rating Class {label.capitalize()}: {ratio*100:.2f}%\")\n"
   ]
  },
  {
   "cell_type": "code",
   "execution_count": null,
   "id": "4fb44786",
   "metadata": {},
   "outputs": [],
   "source": [
    "# Calculating the distribution of scores and the three different classes fo the train set.\n",
    "# Placing the 1,2 to the negatives, 3 neutral and 4,5 positives.\n",
    "class_counts = (\n",
    "    df_train.withColumn(\n",
    "    \"Rating_class\",\n",
    "    when((df_train['Rating'] >= 1) & (df_train['Rating'] <= 2), \"Negatives (1-2)\")\n",
    "    .when(df_train['Rating'] == 3, \"Neutral (3)\")\n",
    "    .otherwise(\"Positives (4-5)\"))\n",
    "# Grouping the ratings into its class and using rdd to transform them into a dictionary which is easier to access in a query.\n",
    "    .groupBy(\"Rating_class\")\n",
    "    .count()\n",
    "    .rdd.collectAsMap())\n",
    "\n",
    "# Calculates to total number of reviews.\n",
    "total_reviews = sum(class_counts.values())\n",
    "# Calculates the ratio.\n",
    "Ratios = {k: v / total_reviews for k, v in class_counts.items()}\n",
    "# Prints the percentages.\n",
    "for Rating_class, ratio in Ratios.items():\n",
    "    print(f\"Rating Class {Rating_class}: {ratio*100:2f}%\")"
   ]
  },
  {
   "cell_type": "markdown",
   "id": "b5b8f440",
   "metadata": {},
   "source": [
    "- Based on the last code, it is observable that the ratio between before and after the split are similiar for all three classes. "
   ]
  },
  {
   "cell_type": "markdown",
   "id": "5922d785",
   "metadata": {},
   "source": [
    "Next step will separete the sentence into words (tokens)\n",
    "- The tokenizer provided by Keras has an additional feature which is possible to set the maximum number of words, however in the Spark enviroment this feature is not available. Therefore, the number of words that are going to be used in the padding stage which will be performed in a later stage."
   ]
  },
  {
   "cell_type": "markdown",
   "id": "43905984",
   "metadata": {},
   "source": [
    "### Tokenizing all sets."
   ]
  },
  {
   "cell_type": "code",
   "execution_count": null,
   "id": "89820227",
   "metadata": {},
   "outputs": [],
   "source": [
    "# Initialize a tokenizer\n",
    "tokenizer = Tokenizer(inputCol=\"Review_no_punct2\", outputCol=\"tokens\")\n",
    "\n",
    "# Tokenize X_train\n",
    "df_train_token = tokenizer.transform(df_train)\n",
    "\n",
    "# Tokenize X_val\n",
    "df_val_token = tokenizer.transform(df_valid)\n",
    "\n",
    "# Tokenize X_test\n",
    "df_test_token = tokenizer.transform(df_test)\n"
   ]
  },
  {
   "cell_type": "markdown",
   "id": "8dfa6eb8",
   "metadata": {},
   "source": [
    "- There are pre processing steps that could have been called before tokenization, such as removal of stop words, however in the Spark environment the command only removes when its separeted. Therefore pre processing steps will be performed also after the tokenization. "
   ]
  },
  {
   "cell_type": "code",
   "execution_count": null,
   "id": "7cfc1d90",
   "metadata": {},
   "outputs": [],
   "source": [
    "# It \"explodes\" the tokens column to have one token per row.\n",
    "df_train_token_exploded = df_train_token.select(explode(\"tokens\").alias(\"words\"))\n",
    "\n",
    "# Groups individual by tokens and count their occurrences.\n",
    "word_counts = df_train_token_exploded.groupBy(\"words\").agg(count(\"words\").alias(\"count\"))\n",
    "\n",
    "# Orders by count in descending order to see most frequent words at the top.\n",
    "word_counts_ordered_train = word_counts.orderBy(desc(\"count\"))\n",
    "\n",
    "# Show the results.\n",
    "word_counts_ordered_train.show()"
   ]
  },
  {
   "cell_type": "markdown",
   "id": "a33b7907",
   "metadata": {},
   "source": [
    "- As shown in the previous cell that there are spaces being counted which does not have any meaning to the model. The removal of this character will be filtering out short tokens (less than 2), the reason for the number is that word like \"no\".\n",
    "\n",
    "Thus, the next two lines of code will filter out short tokens with lenght that are less than 2 characters, including the spaces. \n",
    "\n",
    "### Filter short tokens (less than 2)"
   ]
  },
  {
   "cell_type": "code",
   "execution_count": null,
   "id": "6315d71d",
   "metadata": {},
   "outputs": [],
   "source": [
    "# UDF to filter out short tokens in all three sets.\n",
    "filter_short_udf = udf(lambda tokens: [token for token in tokens if len(token) > 1], ArrayType(StringType()))\n",
    "\n",
    "df_train = df_train_token.withColumn(\"filt_tokens\", filter_short_udf(df_train_token[\"tokens\"]))\n",
    "df_val = df_val_token.withColumn(\"filt_tokens\", filter_short_udf(df_val_token[\"tokens\"]))\n",
    "df_test = df_test_token.withColumn(\"filt_tokens\", filter_short_udf(df_test_token[\"tokens\"]))"
   ]
  },
  {
   "cell_type": "code",
   "execution_count": null,
   "id": "bb648d83",
   "metadata": {},
   "outputs": [],
   "source": [
    "# It \"explodes\" the tokens column to have one token per row.\n",
    "df_train_exploded = df_train.select(explode(\"filt_tokens\").alias(\"words\"))\n",
    "\n",
    "# Groups individual by tokens and count their occurrences.\n",
    "word_counts = df_train_exploded.groupBy(\"words\").agg(count(\"words\").alias(\"count\"))\n",
    "\n",
    "# Orders by count in descending order to see most frequent words at the top.\n",
    "word_counts_ordered = word_counts.orderBy(desc(\"count\"))\n",
    "\n",
    "# Show the results.\n",
    "word_counts_ordered.show()"
   ]
  },
  {
   "cell_type": "markdown",
   "id": "2bee9eda",
   "metadata": {},
   "source": [
    "- Based on the results, spaces, letters such as i, a, are not present anymore. Thus, the operation of filtering the short tokens was successful.\n",
    "\n",
    "Next transformation to be called is to remove the stop words, a step that can be performed in early stages, although on Spark, setences has to be separeted by words. Thus this is why this step is being used now. "
   ]
  },
  {
   "cell_type": "markdown",
   "id": "d136c2e5",
   "metadata": {},
   "source": [
    "### Removing Stop Words"
   ]
  },
  {
   "cell_type": "code",
   "execution_count": null,
   "id": "ad0b817a",
   "metadata": {},
   "outputs": [],
   "source": [
    "# Defines the stopword remover.\n",
    "remover = StopWordsRemover(inputCol=\"filt_tokens\", outputCol=\"tokens_no_stopwords\")\n",
    "\n",
    "# Removes stopwords from the training dataset.\n",
    "df_train = remover.transform(df_train)\n",
    "\n",
    "# Removes stopwords from the validation dataset.\n",
    "df_val = remover.transform(df_val)\n",
    "\n",
    "# Removes stopwords from the test dataset.\n",
    "df_test = remover.transform(df_test)\n"
   ]
  },
  {
   "cell_type": "markdown",
   "id": "c89f4af5",
   "metadata": {},
   "source": [
    "- After some stages of pre processing (mainly transformations) the reviews, it could potentially create empty cells, for example a review with just punctuations or with just stopwords. Therefore, the following code will search for empty reviews in all three datasets. "
   ]
  },
  {
   "cell_type": "code",
   "execution_count": null,
   "id": "8caf27c8",
   "metadata": {
    "scrolled": false
   },
   "outputs": [],
   "source": [
    "def count_empty_reviews(dataset, dataset_name):\n",
    "    # Filter the empty token reviews\n",
    "    empty_token_reviews = dataset.filter(size(dataset[\"tokens_no_stopwords\"]) == 0)\n",
    "    \n",
    "    # Count the number of empty reviews\n",
    "    empty_count = empty_token_reviews.count()\n",
    "    \n",
    "    # Print and return the result\n",
    "    print(f\"Number of empty reviews in {dataset_name}: {empty_count}\")\n",
    "    return empty_count\n",
    "\n",
    "# Count empty reviews in X_train, X_val, and X_test\n",
    "empty_train_count = count_empty_reviews(df_train, \"Training Set\")\n",
    "empty_val_count = count_empty_reviews(df_val, \"Validation Set\")\n",
    "empty_test_count = count_empty_reviews(df_test, \"Test Set\")\n"
   ]
  },
  {
   "cell_type": "markdown",
   "id": "848738b9",
   "metadata": {},
   "source": [
    "- The results of the last code shows that all the three sets now have a few empty cells, that might have been transformed to empty due to transformations. Therefore, the chosen option will be to drop the empty ones because it could potentially impact model efficiency."
   ]
  },
  {
   "cell_type": "code",
   "execution_count": null,
   "id": "5b152b3e",
   "metadata": {
    "scrolled": false
   },
   "outputs": [],
   "source": [
    "def filter_empty_reviews(dataset):\n",
    "    return dataset.filter(size(dataset[\"tokens_no_stopwords\"]) > 0)\n",
    "\n",
    "# Filter out empty reviews in X_train, X_val, and X_test\n",
    "df_train = filter_empty_reviews(df_train)\n",
    "df_val = filter_empty_reviews(df_val)\n",
    "df_test = filter_empty_reviews(df_test)"
   ]
  },
  {
   "cell_type": "markdown",
   "id": "db623809",
   "metadata": {},
   "source": [
    "- After removing the stop words and filtering out short tokens, the number of observations in the review column with zero tokes increased from 4 to 327, which the amount for each score can be looked at the previous code.\n",
    "\n",
    "The chosen solution for the empty rows after the transformation is to drop them, performed in the next line of code. "
   ]
  },
  {
   "cell_type": "markdown",
   "id": "90e5b189",
   "metadata": {},
   "source": [
    "The stage of text processing almost at the final stage, the descriptive statistical of the reviews suffered a big change. \n",
    "- Started with 1,401,982 rows and at this stage have 1,325,407, a reduction of 76,575.\n",
    "- The mean of 53 reduced to 26, meaning that the average length of words in each review reduced more than 50%, a big decrease. \n",
    "- Standard Deviation, also reduced around 50%.\n",
    "- The max length also slumped, from more than 1100 words it is now 639.  "
   ]
  },
  {
   "cell_type": "markdown",
   "id": "99b35c33",
   "metadata": {},
   "source": [
    "- For computational resources (time consuming), but also because the maximum length of words is going to be taken from the train set, thus the only set (X_train) that will be performed the word count and frequency, along with visualization. The next following line of codes will help identify the maximum length words to be used during the padding stage.\n",
    "\n",
    "The tokenizer provided by Keras has an additional feature which is possible to set the maximum number of words, however in the Spark enviroment this feature is not available. Therefore, the number of words that are going to be used in the padding stage will be performed next."
   ]
  },
  {
   "cell_type": "code",
   "execution_count": null,
   "id": "5f84e00e",
   "metadata": {},
   "outputs": [],
   "source": [
    "# It \"explodes\" the tokens column to have one token per row.\n",
    "df_train_exploded = df_train.select(explode(\"tokens_no_stopwords\").alias(\"words\"))\n",
    "\n",
    "# Groups individual by tokens and count their occurrences.\n",
    "word_counts = df_train_exploded.groupBy(\"words\").agg(count(\"words\").alias(\"count\"))\n",
    "\n",
    "# Orders by count in descending order to see most frequent words at the top.\n",
    "word_counts_ordered = word_counts.orderBy(desc(\"count\"))\n",
    "\n",
    "# Show the results.\n",
    "word_counts_ordered.show()"
   ]
  },
  {
   "cell_type": "code",
   "execution_count": null,
   "id": "ca9dfced",
   "metadata": {},
   "outputs": [],
   "source": [
    "# Convert the word counts to pandas dataframe for visualization\n",
    "word_counts_ordered = word_counts_ordered.toPandas()\n",
    "\n",
    "# Plot the word frequencies\n",
    "plt.figure(figsize=(12, 6))\n",
    "plt.plot(word_counts_ordered['count'].values)  # this plots word counts in descending order\n",
    "plt.xlabel('Words Rank')\n",
    "# Set x-axis limit\n",
    "plt.xlim(0, 1500)\n",
    "plt.ylabel('Frequency')\n",
    "plt.title('Word Frequency Distribution')\n",
    "plt.show()"
   ]
  },
  {
   "cell_type": "code",
   "execution_count": null,
   "id": "f9514b64",
   "metadata": {},
   "outputs": [],
   "source": [
    "aaaa"
   ]
  },
  {
   "cell_type": "code",
   "execution_count": null,
   "id": "737d3735",
   "metadata": {
    "scrolled": true
   },
   "outputs": [],
   "source": [
    "word_counts = (df_train.select(explode(col(\"tokens_no_stopwords\")).alias(\"word\"))\n",
    "               .groupBy(\"word\")\n",
    "               .count()\n",
    "               .orderBy(col(\"count\").desc()))\n",
    "\n",
    "# Compute total word occurrences\n",
    "total_word_occurrences = word_counts.agg({\"count\": \"sum\"}).collect()[0][0]\n",
    "\n",
    "# Compute occurrences of top N words\n",
    "N = 1000\n",
    "top_N_word_occurrences = word_counts.limit(N).agg({\"count\": \"sum\"}).collect()[0][0]\n",
    "\n",
    "# Compute the coverage\n",
    "coverage = (top_N_word_occurrences / total_word_occurrences) * 100\n",
    "\n",
    "print(\"Total word occurrences:\", total_word_occurrences)\n",
    "print(f\"Occurrences of top {N} words:\", top_N_word_occurrences)\n",
    "print(f\"Coverage of top {N} words: {coverage:.2f}%\")\n"
   ]
  },
  {
   "cell_type": "code",
   "execution_count": null,
   "id": "2ce7c857",
   "metadata": {},
   "outputs": [],
   "source": [
    "# Converts word_counts_ordered to a Pandas dataframe, only for visualization purpose. \n",
    "word_counts_pd = word_counts_ordered.toPandas()\n",
    "\n",
    "# 2. Compute the cumulative sum of the word frequencies\n",
    "word_counts_pd['cumulative_freq'] = word_counts_pd['count'].cumsum()\n",
    "word_counts_pd['cumulative_freq'] /= word_counts_pd['count'].sum()  # normalize to get the CDF\n",
    "\n",
    "# 3. Plot the CDF\n",
    "plt.figure(figsize=(10, 6))\n",
    "plt.plot(word_counts_pd['cumulative_freq'], marker='.', linestyle='none')\n",
    "plt.xlabel('Word Rank')\n",
    "plt.ylabel('CDF')\n",
    "plt.title('CDF of Word Frequencies')\n",
    "plt.grid(True)\n",
    "plt.show()\n"
   ]
  },
  {
   "cell_type": "markdown",
   "id": "d968b648",
   "metadata": {},
   "source": [
    "- Feature Engineering"
   ]
  },
  {
   "cell_type": "code",
   "execution_count": null,
   "id": "81f02da9",
   "metadata": {},
   "outputs": [],
   "source": [
    "# Extract as DataFrames, not Columns\n",
    "X_train = df_train.select([\"tokens_no_stopwords\"])\n",
    "y_train = df_train.select([\"label\"])\n",
    "\n",
    "X_val = df_val.select([\"tokens_no_stopwords\"])\n",
    "y_val = df_val.select([\"label\"])\n",
    "\n",
    "X_test = df_test.select([\"tokens_no_stopwords\"])\n",
    "y_test = df_test.select([\"label\"])"
   ]
  },
  {
   "cell_type": "code",
   "execution_count": null,
   "id": "93525a31",
   "metadata": {},
   "outputs": [],
   "source": [
    "import spacy\n",
    "from pyspark.sql.functions import udf\n",
    "from pyspark.sql.types import ArrayType, StringType\n",
    "\n",
    "# Load spaCy model\n",
    "nlp = spacy.load(\"en_core_web_sm\", disable=[\"parser\", \"ner\", \"textcat\"])\n",
    "\n",
    "@udf(ArrayType(StringType()))\n",
    "def lemmatize_udf(tokens):\n",
    "    # Convert list of tokens to single string\n",
    "    doc = nlp(\" \".join(tokens))\n",
    "    \n",
    "    # Return list of lemmatized tokens\n",
    "    return [token.lemma_ for token in doc]\n",
    "\n",
    "# Apply the UDF\n",
    "# Apply the UDF to all three datasets\n",
    "X_train = X_train.withColumn(\"lemmatized_tokens\", lemmatize_udf(X_train[\"tokens_no_stopwords\"]))\n",
    "X_val = X_val.withColumn(\"lemmatized_tokens\", lemmatize_udf(X_val[\"tokens_no_stopwords\"]))\n",
    "X_test = X_test.withColumn(\"lemmatized_tokens\", lemmatize_udf(X_test[\"tokens_no_stopwords\"]))"
   ]
  },
  {
   "cell_type": "code",
   "execution_count": null,
   "id": "bc5166bb",
   "metadata": {},
   "outputs": [],
   "source": [
    "X_train.select(\"tokens_no_stopwords\", \"lemmatized_tokens\").show(truncate=False)"
   ]
  },
  {
   "cell_type": "markdown",
   "id": "20e04c87",
   "metadata": {},
   "source": [
    "- The previous code shows that the lemmatization was a success, words such as working became work, called is also call."
   ]
  },
  {
   "cell_type": "code",
   "execution_count": null,
   "id": "fd06d368",
   "metadata": {},
   "outputs": [],
   "source": [
    "from pyspark.ml.feature import Word2Vec\n",
    "\n",
    "# Step 1: Define the Word2Vec model\n",
    "# The input column should be the column containing the lemmatized tokens\n",
    "# The output column will be where the vectors are stored\n",
    "# You can adjust the vectorSize and minCount parameters based on your data and requirements\n",
    "\n",
    "word2Vec = Word2Vec(vectorSize=100, minCount=5, inputCol=\"lemmatized_tokens\", outputCol=\"Review\")\n",
    "\n",
    "# Step 2: Train the Word2Vec model on the training set\n",
    "model = word2Vec.fit(X_train)\n"
   ]
  },
  {
   "cell_type": "code",
   "execution_count": null,
   "id": "e00b3894",
   "metadata": {},
   "outputs": [],
   "source": [
    "# Step 3: Use the trained model to transform all datasets\n",
    "X_train_trans = model.transform(X_train)\n",
    "X_val_trans = model.transform(X_val)\n",
    "X_test_trans = model.transform(X_test)"
   ]
  },
  {
   "cell_type": "code",
   "execution_count": null,
   "id": "a1e71be7",
   "metadata": {},
   "outputs": [],
   "source": [
    "from pyspark.sql.functions import size, collect_list, sort_array\n",
    "from pyspark.sql.window import Window\n",
    "\n",
    "# Calculate the length of each sequence\n",
    "X_train_trans = X_train_trans.withColumn(\"sequence_length\", size(\"word2vec_output_length\"))\n",
    "\n",
    "# Using describe() to get mean and standard deviation\n",
    "X_train_trans.describe(\"sequence_length\").show()\n",
    "\n",
    "# Computing the median\n",
    "# Sorting the DataFrame by sequence length\n",
    "sorted_df = X_train_trans.sort(\"sequence_length\")\n",
    "\n",
    "# Using a window function to get the total count\n",
    "win = Window.rowsBetween(Window.unboundedPreceding, Window.unboundedFollowing)\n",
    "sorted_with_total = sorted_df.withColumn(\"total_count\", count(\"sequence_length\").over(win))\n",
    "\n",
    "# Filtering out to get the middle value(s)\n",
    "median_df = sorted_with_total.filter(\n",
    "    (col(\"total_count\") % 2 == 1 & (col(\"sequence_length\") == (col(\"total_count\") + 1) / 2)) | \n",
    "    (col(\"total_count\") % 2 == 0 & \n",
    "     ((col(\"sequence_length\") == col(\"total_count\") / 2) | \n",
    "      (col(\"sequence_length\") == (col(\"total_count\") + 1) / 2)))\n",
    ")\n",
    "\n",
    "median = median_df.collect()[0][\"sequence_length\"]\n",
    "print(f\"Median Sequence Length: {median}\")\n",
    "\n",
    "# Computing the maximum sequence length\n",
    "max_length = transformed_train_df.agg({\"sequence_length\": \"max\"}).collect()[0][0]\n",
    "print(f\"Maximum Sequence Length: {max_length}\")\n"
   ]
  },
  {
   "cell_type": "code",
   "execution_count": null,
   "id": "bea1f451",
   "metadata": {},
   "outputs": [],
   "source": [
    "# Assuming the 'word2vec_sequence' column holds your Word2Vec sequences\n",
    "sequence_lengths = X_train_trans.withColumn(\"sequence_length\", size(X_train_trans[\"Review\"]))\n",
    "\n",
    "# Descriptive statistics\n",
    "sequence_lengths.describe([\"sequence_length\"]).show()\n",
    "\n",
    "# Calculate percentiles\n",
    "percentiles = sequence_lengths.approxQuantile(\"sequence_length\", [0.9, 0.95, 0.99], 0.01)\n",
    "print(f\"90th percentile: {percentiles[0]}\")\n",
    "print(f\"95th percentile: {percentiles[1]}\")\n",
    "print(f\"99th percentile: {percentiles[2]}\")\n"
   ]
  },
  {
   "cell_type": "markdown",
   "id": "b5971558",
   "metadata": {},
   "source": [
    "In the previous cells it was noticed that the ratio between the \"sentiments\" are quite imbalanced (the positive one having more than 93%). Thus, due to this a stratified spliting will be applied, a same distribution as the original dataset will be applied to the spliting datasets, training, validation and test.  "
   ]
  },
  {
   "cell_type": "code",
   "execution_count": null,
   "id": "6b369b2d",
   "metadata": {},
   "outputs": [],
   "source": [
    "# Separate out different classes from the training dataset\n",
    "positives = train_combined_for_padding.filter(col(\"label\") == 'positive')\n",
    "negatives = train_combined_for_padding.filter(col(\"label\") == 'negative')\n",
    "neutrals = train_combined_for_padding.filter(col(\"label\") == 'neutral')\n",
    "\n",
    "# Define oversampling factors\n",
    "negative_oversample_factor = 2.0  # Double the negative samples\n",
    "neutral_oversample_factor = 1.5   # 1.5 times the neutral samples\n",
    "\n",
    "oversampled_negatives = negatives.sample(withReplacement=True, fraction=negative_oversample_factor)\n",
    "oversampled_neutrals = neutrals.sample(withReplacement=True, fraction=neutral_oversample_factor)\n",
    "\n",
    "# Undersample the majority class\n",
    "undersample_factor = 0.25  # Reducing by 25%\n",
    "undersampled_positives = positives.sample(withReplacement=False, fraction=undersample_factor)\n",
    "\n",
    "# Combine the samples back\n",
    "bal_X_train = undersampled_positives.unionAll(oversampled_negatives).unionAll(oversampled_neutrals)\n",
    "\n",
    "# Calculate class weights for the balanced dataset\n",
    "total_count = bal_X_train.count()\n",
    "positive_weight = total_count / undersampled_positives.count()\n",
    "negative_weight = total_count / (negatives.count() * negative_oversample_factor) # can be tweaked (1.5, 2, 2.5)\n",
    "neutral_weight = total_count / (neutrals.count() * neutral_oversample_factor) # can be tweaked (1.5, 2, 2.5)\n",
    "\n",
    "# Normalize weights\n",
    "normalizing_factor = positive_weight + negative_weight + neutral_weight\n",
    "positive_weight /= normalizing_factor\n",
    "negative_weight /= normalizing_factor\n",
    "neutral_weight /= normalizing_factor\n",
    "\n",
    "class_weights = {\n",
    "    'positive': positive_weight,\n",
    "    'negative': negative_weight,\n",
    "    'neutral': neutral_weight}"
   ]
  },
  {
   "cell_type": "code",
   "execution_count": null,
   "id": "4b6c5ded",
   "metadata": {},
   "outputs": [],
   "source": [
    "# Count instances for each class\n",
    "positives = bal_X_train .filter(col(\"label\") == 'positive').count()\n",
    "negatives = bal_X_train .filter(col(\"label\") == 'negative').count()\n",
    "neutrals = bal_X_train .filter(col(\"label\") == 'neutral').count()\n",
    "\n",
    "total_count = positives + negatives + neutrals\n",
    "\n",
    "# Calculate proportions for each class\n",
    "positive_ratio = (positives / total_count) * 100\n",
    "negative_ratio = (negatives / total_count) * 100\n",
    "neutral_ratio = (neutrals / total_count) * 100\n",
    "\n",
    "print(f\"Rating Class Positives (4-5): {positive_ratio:.2f}%\")\n",
    "print(f\"Rating Class Negatives (1-2): {negative_ratio:.2f}%\")\n",
    "print(f\"Rating Class Neutral (3): {neutral_ratio:.2f}%\")\n"
   ]
  },
  {
   "cell_type": "markdown",
   "id": "eb0efdfb",
   "metadata": {},
   "source": [
    "# ADD PADDING"
   ]
  },
  {
   "cell_type": "code",
   "execution_count": null,
   "id": "d34674be",
   "metadata": {},
   "outputs": [],
   "source": [
    "from keras.preprocessing.sequence import pad_sequences\n",
    "\n",
    "# `sequences` is a list of lists, where each inner list is a sequence of word indices.\n",
    "padded_sequences = pad_sequences(sequences, padding='post')\n"
   ]
  },
  {
   "cell_type": "code",
   "execution_count": null,
   "id": "7c5e8ffd",
   "metadata": {},
   "outputs": [],
   "source": [
    "# Assuming X_train and y_train are Spark DataFrames\n",
    "train_combined_for_padding = df_train.join(y_train)\n",
    "# Display the columns of the joined set.\n",
    "train_combined_for_padding.columns"
   ]
  },
  {
   "cell_type": "markdown",
   "id": "2be7329a",
   "metadata": {},
   "source": [
    "As observed in previous cells, the gap ratio between the classes are large. Therefore, a few techniques will be combined to reduce the imbalaced between positive (93.63%), negative (2.58%) and neutral (3.79).<br><br> \n",
    "The first technique is the oversampling, increasing the size of the negative and neutral sample. It is worthy mentioning that this may cause overfiting, because it will increase by copying the data that already has.<b> WRITE THE AMOUNT OF THE INCREASE (DOUBLE TRIPLE...), NEED TO EXPERIMENT BASED ON RESULTS OF THE MODEL.</b><br><br>\n",
    "The second is to undersample the positive side (93.63%) and it will be reduced by <b> SAME APPLY HERE AS THE PREVIOUS ONE.</b> One of the downfalls is the lost of information by reducing the sample.<br><br>\n",
    "The last one is to apply class weights, <b>CHECK IF ITS GONNA BE SURE</b>, because even after the over and undersampling the imbalance is still present but not as large as the original."
   ]
  },
  {
   "cell_type": "code",
   "execution_count": null,
   "id": "5efa7738",
   "metadata": {},
   "outputs": [],
   "source": [
    "# Separate out different classes from the training dataset\n",
    "positives = train_df.filter(col(\"label\") == 'positive')\n",
    "negatives = train_df.filter(col(\"label\") == 'negative')\n",
    "neutrals = train_df.filter(col(\"label\") == 'neutral')\n",
    "\n",
    "# Define oversampling factors\n",
    "negative_oversample_factor = 2.0  # Double the negative samples\n",
    "neutral_oversample_factor = 1.5   # 1.5 times the neutral samples\n",
    "\n",
    "oversampled_negatives = negatives.sample(withReplacement=True, fraction=negative_oversample_factor)\n",
    "oversampled_neutrals = neutrals.sample(withReplacement=True, fraction=neutral_oversample_factor)\n",
    "\n",
    "# Undersample the majority class\n",
    "undersample_factor = 0.25  # Reducing by 25%\n",
    "undersampled_positives = positives.sample(withReplacement=False, fraction=undersample_factor)\n",
    "\n",
    "# Combine the samples back\n",
    "balanced_train_df = undersampled_positives.unionAll(oversampled_negatives).unionAll(oversampled_neutrals)\n",
    "\n",
    "# Calculate class weights for the balanced dataset\n",
    "total_count = balanced_train_df.count()\n",
    "positive_weight = total_count / undersampled_positives.count()\n",
    "negative_weight = total_count / (negatives.count() * negative_oversample_factor) # can be tweaked (1.5, 2, 2.5)\n",
    "neutral_weight = total_count / (neutrals.count() * neutral_oversample_factor) # can be tweaked (1.5, 2, 2.5)\n",
    "\n",
    "# Normalize weights\n",
    "normalizing_factor = positive_weight + negative_weight + neutral_weight\n",
    "positive_weight /= normalizing_factor\n",
    "negative_weight /= normalizing_factor\n",
    "neutral_weight /= normalizing_factor\n",
    "\n",
    "class_weights = {\n",
    "    'positive': positive_weight,\n",
    "    'negative': negative_weight,\n",
    "    'neutral': neutral_weight}"
   ]
  },
  {
   "cell_type": "code",
   "execution_count": null,
   "id": "7980919d",
   "metadata": {},
   "outputs": [],
   "source": [
    "# Count instances for each class\n",
    "positives = balanced_train_df.filter(col(\"label\") == 'positive').count()\n",
    "negatives = balanced_train_df.filter(col(\"label\") == 'negative').count()\n",
    "neutrals = balanced_train_df.filter(col(\"label\") == 'neutral').count()\n",
    "\n",
    "total_count = positives + negatives + neutrals\n",
    "\n",
    "# Calculate proportions for each class\n",
    "positive_ratio = (positives / total_count) * 100\n",
    "negative_ratio = (negatives / total_count) * 100\n",
    "neutral_ratio = (neutrals / total_count) * 100\n",
    "\n",
    "print(f\"Rating Class Positives (4-5): {positive_ratio:.2f}%\")\n",
    "print(f\"Rating Class Negatives (1-2): {negative_ratio:.2f}%\")\n",
    "print(f\"Rating Class Neutral (3): {neutral_ratio:.2f}%\")\n"
   ]
  },
  {
   "cell_type": "code",
   "execution_count": null,
   "id": "2bc70da4",
   "metadata": {},
   "outputs": [],
   "source": []
  }
 ],
 "metadata": {
  "kernelspec": {
   "display_name": "Python 3 (ipykernel)",
   "language": "python",
   "name": "python3"
  },
  "language_info": {
   "codemirror_mode": {
    "name": "ipython",
    "version": 3
   },
   "file_extension": ".py",
   "mimetype": "text/x-python",
   "name": "python",
   "nbconvert_exporter": "python",
   "pygments_lexer": "ipython3",
   "version": "3.10.12"
  }
 },
 "nbformat": 4,
 "nbformat_minor": 5
}
