{
 "cells": [
  {
   "cell_type": "markdown",
   "id": "d341a948",
   "metadata": {},
   "source": [
    "Nozomu Nakanishi - 2020264 - Msc DA"
   ]
  },
  {
   "cell_type": "markdown",
   "id": "e7f0692e",
   "metadata": {},
   "source": [
    "# The objectives here are:\n",
    "\n",
    "## - To create neural networks, at least two and  compare their performance and evaluate what one performed better by using loss as primary and accuracy as the second metrics.\n",
    "\n",
    "## - Sentiment Analysis using peoples review about culinary recipes on food.com. \n",
    "\n",
    "### The reviews a dataset with the score given in stars (from 0/1 to 5) along with the written review. (features that are going to be used.\n",
    "\n",
    "### Positive / Negative / Neutral Sentimet on the recipes review. "
   ]
  },
  {
   "cell_type": "code",
   "execution_count": 69,
   "id": "6de0a9d0",
   "metadata": {
    "scrolled": false
   },
   "outputs": [
    {
     "data": {
      "text/plain": [
       "'local[*]'"
      ]
     },
     "execution_count": 69,
     "metadata": {},
     "output_type": "execute_result"
    }
   ],
   "source": [
    "# The command below is to check where the PySpark is running, \n",
    "# in this case (returned:local[*]) data is being processed on my local (personal) machine.\n",
    "\n",
    "sc.master"
   ]
  },
  {
   "cell_type": "markdown",
   "id": "624cee5c",
   "metadata": {},
   "source": [
    "# START ADDING ALL THE LIBRARIES HERE."
   ]
  },
  {
   "cell_type": "code",
   "execution_count": 70,
   "id": "09e85221",
   "metadata": {},
   "outputs": [],
   "source": [
    "from pyspark.sql.functions import count # Funcion to get the \"size\" of the data.\n",
    "from pyspark.sql.functions import when # When function.\n",
    "from pyspark.sql.functions import col # Function column.\n",
    "from pyspark.sql.functions import mean, min, max, stddev # Imports function for statistical features. \n",
    "from pyspark.sql import functions as F # Data processing framework.\n",
    "from pyspark.sql.functions import lower # lower case function.\n",
    "from pyspark.sql.functions import length # Import lenght function.\n",
    "from pyspark.sql.functions import size, split # Imports function size and split.\n",
    "from pyspark.ml.feature import Tokenizer # Importing Tokenizer.\n",
    "from pyspark.sql.functions import regexp_replace # Remove / Replace function.\n",
    "from pyspark.sql.functions import explode, count, desc # Importing for word count.\n",
    "from pyspark.ml.feature import StopWordsRemover # Imports stopword remover.\n",
    "from pyspark.sql.types import StructField, StructType # Importing features for Schema.\n",
    "from pyspark.sql.types import IntegerType, StringType, TimestampType # Tools to create the schema.\n",
    "from pyspark.sql.functions import udf # Imports function UDF.\n",
    "from pyspark.sql.types import ArrayType, StringType\n",
    "import numpy as np # for numerical operations.\n",
    "import seaborn as sns # Visualization tool.\n",
    "import matplotlib.pyplot as plt # visualization\n",
    "%matplotlib inline \n",
    "\n",
    "import warnings # Ignore warnings.\n",
    "warnings.filterwarnings(\"ignore\")"
   ]
  },
  {
   "cell_type": "code",
   "execution_count": 73,
   "id": "b4af209f",
   "metadata": {},
   "outputs": [],
   "source": [
    "spark = SparkSession.builder.appName('recipe_reviews').getOrCreate()"
   ]
  },
  {
   "cell_type": "markdown",
   "id": "7f922d1c",
   "metadata": {},
   "source": [
    "- The process to achieve the objetive will start importing the recipes reviews dataset and it is composed by 8 features and more than a million rows. The dataset is lincesed under the Creative Commons (CC0 1.0 DEED).\n",
    "\n",
    "The link for the dataset is available at kaggle: https://www.kaggle.com/datasets/irkaal/foodcom-recipes-and-reviews\n",
    "\n",
    "- There are two datasets in the zip file, however it does not says that the recipe ID in one will match the recipe ID in the other, therefore using only the reviews dataset to achieve the objective.<br>\n",
    "- Also, two types of format is available, a parquet file and a csv files and the choice for the first one is that the parquet file already has a columnar type, which when taking into consideration the tools that are being used such as pyspark it will present a better speed perfomance when performing tasks. In addition to the reduction for its size in megabytes. \n",
    "- The dataset review, which is going to be manipulated, is regarding the written reviews along with score rating given. <b>They are the most important features in  the dataset, in which the rating score would define the positive, neutral and negative label for the sentiment analysis of the review. </b>"
   ]
  },
  {
   "cell_type": "markdown",
   "id": "b8b54975",
   "metadata": {},
   "source": [
    "## 1. Data preparation and EDA\n",
    "- Challeging to separete, both will be performed back and forth. \n",
    "\n",
    "### - Importing the Review dataset.\n",
    "\n",
    "First, the dataset will be imported in parquet format as cited above."
   ]
  },
  {
   "cell_type": "code",
   "execution_count": 74,
   "id": "e4cc4c22",
   "metadata": {},
   "outputs": [],
   "source": [
    "# Imports the dataset in a parquet format.\n",
    "df_reviews = spark.read.parquet(\"file:///home/hduser/Downloads/Dataset CA1/reviews.parquet\")"
   ]
  },
  {
   "cell_type": "markdown",
   "id": "1824feb5",
   "metadata": {},
   "source": [
    "- After applying .head and .show, the second presented a better layout to look at the columns and the first 10 rows."
   ]
  },
  {
   "cell_type": "code",
   "execution_count": 76,
   "id": "98359948",
   "metadata": {
    "scrolled": false
   },
   "outputs": [
    {
     "name": "stderr",
     "output_type": "stream",
     "text": [
      "\r",
      "[Stage 93:>                                                         (0 + 1) / 1]\r"
     ]
    },
    {
     "name": "stdout",
     "output_type": "stream",
     "text": [
      "+--------+--------+--------+----------------+------+--------------------+-------------------+-------------------+\n",
      "|ReviewId|RecipeId|AuthorId|      AuthorName|Rating|              Review|      DateSubmitted|       DateModified|\n",
      "+--------+--------+--------+----------------+------+--------------------+-------------------+-------------------+\n",
      "|       2|     992|    2008|       gayg msft|     5|better than any y...|2000-01-25 21:44:00|2000-01-25 21:44:00|\n",
      "|       7|    4384|    1634|   Bill Hilbrich|     4|I cut back on the...|2001-10-17 17:49:59|2001-10-17 17:49:59|\n",
      "|       9|    4523|    2046|Gay Gilmore ckpt|     2|i think i did som...|2000-02-25 09:00:00|2000-02-25 09:00:00|\n",
      "|      13|    7435|    1773|   Malarkey Test|     5|easily the best i...|2000-03-13 21:15:00|2000-03-13 21:15:00|\n",
      "|      14|      44|    2085|      Tony Small|     5|  An excellent dish.|2000-03-28 13:51:00|2000-03-28 13:51:00|\n",
      "|      17|    5221|    2046|Gay Gilmore ckpt|     4|love it, but with...|2000-05-08 12:08:00|2000-05-08 12:08:00|\n",
      "|      19|   13307|    2046|Gay Gilmore ckpt|     5|chewy goodness, n...|2000-05-21 17:59:00|2000-05-21 17:59:00|\n",
      "|      21|     148|    2156|  Darlene Blythe|     0|Would someone ple...|2000-06-02 11:01:00|2000-06-02 11:01:00|\n",
      "|      22|     517|    2046|Gay Gilmore ckpt|     5|thought this was ...|2000-02-25 09:02:00|2000-02-25 09:02:00|\n",
      "|      23|    4684|    2046|Gay Gilmore ckpt|     5|this is absolutel...|2000-02-25 09:06:00|2000-02-25 09:06:00|\n",
      "+--------+--------+--------+----------------+------+--------------------+-------------------+-------------------+\n",
      "only showing top 10 rows\n",
      "\n"
     ]
    },
    {
     "name": "stderr",
     "output_type": "stream",
     "text": [
      "\r",
      "                                                                                \r"
     ]
    }
   ],
   "source": [
    "# It shows the first ten observations.\n",
    "df_reviews.show(10)"
   ]
  },
  {
   "cell_type": "code",
   "execution_count": null,
   "id": "c013d3d4",
   "metadata": {},
   "outputs": [],
   "source": [
    "# Prints the Schema of the dataset.\n",
    "df_reviews.printSchema()"
   ]
  },
  {
   "cell_type": "markdown",
   "id": "4e977fed",
   "metadata": {},
   "source": [
    "- The parquet format file already had a schema, therefore keeping the original dataset schema. However, if the csv were to be handled the following code would be appropriate to apply the schema, including the column names along with the data type."
   ]
  },
  {
   "cell_type": "code",
   "execution_count": 6,
   "id": "2b141a4a",
   "metadata": {},
   "outputs": [],
   "source": [
    "# Code that would be used to apply the schema in the review dataset if was required.\n",
    "\n",
    "#schema_reviews = StructType([\n",
    "    #StructField('ReviewId', IntegerType(), True),\n",
    "    #StructField('RecipeId', IntegerType(), True),\n",
    "    #StructField('AuthorId', IntegerType(), True),\n",
    "    #StructField('AuthorName', StringType(), True),\n",
    "    #StructField('Rating', IntegerType(), True),\n",
    "    #StructField('Review', StringType(), True),\n",
    "    #StructField('DateSubmitted', TimestampType(), True),\n",
    "    #StructField('DateModified', TimestampType(), True)])"
   ]
  },
  {
   "cell_type": "markdown",
   "id": "135b496d",
   "metadata": {},
   "source": [
    "The library Pandas used in the previous semester had different set of functions and/or commands. For example, the shape which provided the number of columns and observations in the dataset. However, in the PySpark the count method is use to tell how many rows and the lenght of the columns for the number of features. \n",
    "<br>However, in a later stage pandas format will be used for visualization purpose only, because pandas visualizations are better than the pyspark."
   ]
  },
  {
   "cell_type": "code",
   "execution_count": 77,
   "id": "30ecdc19",
   "metadata": {
    "scrolled": true
   },
   "outputs": [
    {
     "name": "stdout",
     "output_type": "stream",
     "text": [
      "Shape: (1401982, 8)\n"
     ]
    }
   ],
   "source": [
    "num_rows_reviews = df_reviews.count() # Counting the number of rows.\n",
    "num_columns_reviews =len(df_reviews.columns) # Length of columns.\n",
    "print(f\"Shape: ({num_rows_reviews}, {num_columns_reviews})\") # Prints the shape of the dataset."
   ]
  },
  {
   "cell_type": "markdown",
   "id": "39cf3449",
   "metadata": {},
   "source": [
    "- Temporal analysis is not the focus of the project, therefore, the date submitted and modified will be dropped in an early stage."
   ]
  },
  {
   "cell_type": "code",
   "execution_count": 78,
   "id": "1fb2455b",
   "metadata": {},
   "outputs": [],
   "source": [
    "# Droping two columns of the dataset.\n",
    "df_reviews = df_reviews.drop(\"DateSubmitted\", \"DateModified\")"
   ]
  },
  {
   "cell_type": "code",
   "execution_count": 79,
   "id": "00fd2635",
   "metadata": {},
   "outputs": [
    {
     "name": "stdout",
     "output_type": "stream",
     "text": [
      "Number of observations with missing Review: 0\n",
      "Number of observations with missing Rating: 0\n",
      "Number of observations with missing Recipe Id: 0\n"
     ]
    }
   ],
   "source": [
    "# The three codes below are searching and printing the number of missing values in Review, Rating, Recipe Id.\n",
    "\n",
    "missing_review = df_reviews.filter(df_reviews.Review.isNull())\n",
    "print(f\"Number of observations with missing Review: {missing_review.count()}\")\n",
    "\n",
    "missing_rating = df_reviews.filter(df_reviews.Rating.isNull())\n",
    "print(f\"Number of observations with missing Rating: {missing_rating.count()}\")\n",
    "\n",
    "missing_recipeid = df_reviews.filter(df_reviews.RecipeId.isNull())\n",
    "print(f\"Number of observations with missing Recipe Id: {missing_recipeid.count()}\")"
   ]
  },
  {
   "cell_type": "markdown",
   "id": "75a5f718",
   "metadata": {},
   "source": [
    "- No missing values are recorded in the Recipe Id and Review, Ratings.\n",
    "\n",
    "Regarding the frequency, three features will be analysed, the Rating scores (check which score have the highest number and the lowest), the RecipeId (check how many times that recipe recieved a review and the AuthorId (check how many times that author wrote a review)."
   ]
  },
  {
   "cell_type": "code",
   "execution_count": 80,
   "id": "249be20d",
   "metadata": {
    "collapsed": true
   },
   "outputs": [
    {
     "name": "stdout",
     "output_type": "stream",
     "text": [
      "+------+-------+\n",
      "|Rating|  count|\n",
      "+------+-------+\n",
      "|     0|  76248|\n",
      "|     1|  16559|\n",
      "|     2|  17597|\n",
      "|     3|  50279|\n",
      "|     4| 229217|\n",
      "|     5|1012082|\n",
      "+------+-------+\n",
      "\n",
      "Frequency of Ratings\n"
     ]
    },
    {
     "name": "stderr",
     "output_type": "stream",
     "text": [
      "                                                                                \r"
     ]
    },
    {
     "name": "stdout",
     "output_type": "stream",
     "text": [
      "+--------+-----+\n",
      "|RecipeId|count|\n",
      "+--------+-----+\n",
      "|   45809| 2892|\n",
      "|    2886| 2182|\n",
      "|   27208| 1614|\n",
      "|   89204| 1584|\n",
      "|   39087| 1491|\n",
      "|   67256| 1359|\n",
      "|   35813| 1353|\n",
      "|   54257| 1325|\n",
      "|   22782| 1273|\n",
      "|   32204| 1228|\n",
      "|  420398| 1174|\n",
      "|   25690| 1076|\n",
      "|   69173| 1023|\n",
      "|   73440| 1008|\n",
      "|   68955|  910|\n",
      "|   33919|  885|\n",
      "|   82102|  862|\n",
      "|   25885|  856|\n",
      "|   85629|  805|\n",
      "|   28148|  804|\n",
      "+--------+-----+\n",
      "only showing top 20 rows\n",
      "\n",
      "Frequency of RecipesId\n"
     ]
    },
    {
     "name": "stderr",
     "output_type": "stream",
     "text": [
      "\r",
      "[Stage 112:============================>                            (1 + 1) / 2]\r"
     ]
    },
    {
     "name": "stdout",
     "output_type": "stream",
     "text": [
      "+--------+-----+\n",
      "|AuthorId|count|\n",
      "+--------+-----+\n",
      "|  424680| 8842|\n",
      "|   37449| 6605|\n",
      "|  383346| 5438|\n",
      "|  128473| 4693|\n",
      "|  169430| 4586|\n",
      "|   89831| 3963|\n",
      "|   58104| 3743|\n",
      "|  199848| 3688|\n",
      "|  133174| 3590|\n",
      "|  305531| 3543|\n",
      "|  226863| 3340|\n",
      "|    4470| 3260|\n",
      "|  369715| 3167|\n",
      "|  498271| 3014|\n",
      "| 1072593| 2810|\n",
      "|  176615| 2790|\n",
      "|   95743| 2664|\n",
      "|  286566| 2635|\n",
      "|  107583| 2588|\n",
      "|   88099| 2574|\n",
      "+--------+-----+\n",
      "only showing top 20 rows\n",
      "\n",
      "Frequency of AuthorId\n"
     ]
    },
    {
     "name": "stderr",
     "output_type": "stream",
     "text": [
      "\r",
      "                                                                                \r"
     ]
    }
   ],
   "source": [
    "# The codes below are getting the frequency of values using the count function and printing them from\n",
    "# the highest to the lowest.\n",
    "\n",
    "df_reviews.groupBy(\"Rating\").count().orderBy(\"Rating\").show()\n",
    "print(f\"Frequency of Ratings\")\n",
    "\n",
    "df_reviews.groupBy(\"RecipeId\").count().orderBy(\"count\", ascending=False).show(20)\n",
    "print(f\"Frequency of RecipesId\")\n",
    "\n",
    "df_reviews.groupBy(\"AuthorId\").count().orderBy(\"count\", ascending=False).show(20)\n",
    "print(f\"Frequency of AuthorId\")"
   ]
  },
  {
   "cell_type": "markdown",
   "id": "b9d19be7",
   "metadata": {},
   "source": [
    "The Recipes and AuthorId column:\n",
    "- The recipes that recieved the highest amount of reviews was with the ID of 45089 and 2886 (more than 2000 ratings);\n",
    "- The Author that most reviewed recipes on the website was the Id424680 with 8842, followed by Id37449 with 6605 reviews;"
   ]
  },
  {
   "cell_type": "code",
   "execution_count": 81,
   "id": "28e4b623",
   "metadata": {},
   "outputs": [
    {
     "name": "stderr",
     "output_type": "stream",
     "text": [
      "                                                                                \r"
     ]
    },
    {
     "name": "stdout",
     "output_type": "stream",
     "text": [
      "+--------+--------+-----------+\n",
      "|AuthorId|RecipeId|num_reviews|\n",
      "+--------+--------+-----------+\n",
      "+--------+--------+-----------+\n",
      "\n"
     ]
    }
   ],
   "source": [
    "# Checking if the same user (AuthorId) posted more than one review in a recipe (RecipeId).\n",
    "# Since both columns are integers, the group by and aggregation will be used to find it.\n",
    "\n",
    "# Grouping the Author and Recipe Id and count the occurrences.\n",
    "dd_review = df_reviews.groupBy(\"AuthorId\", \"RecipeId\").agg(F.count(\"*\").alias(\"num_reviews\"))\n",
    "# Filtering rows where the count is above 1, which can indicate that the recipe multiple review from the same user.\n",
    "dd_review = dd_review.filter(dd_review.num_reviews > 1)\n",
    "# Displaying the results.\n",
    "dd_review.show()"
   ]
  },
  {
   "cell_type": "markdown",
   "id": "0be04dfc",
   "metadata": {},
   "source": [
    "Based on the empty results provided by the previous line of code, no users posted a review more than once in the same recipe. "
   ]
  },
  {
   "cell_type": "markdown",
   "id": "77b56bd0",
   "metadata": {},
   "source": [
    "- Only displaying the statistical features of the rating score, which is the only column that is going to be used in the analysis. The review and author Id columns are mainly to identify which is the review and who gave it."
   ]
  },
  {
   "cell_type": "code",
   "execution_count": 82,
   "id": "209d59d0",
   "metadata": {},
   "outputs": [
    {
     "name": "stderr",
     "output_type": "stream",
     "text": [
      "[Stage 120:============================>                            (1 + 1) / 2]\r"
     ]
    },
    {
     "name": "stdout",
     "output_type": "stream",
     "text": [
      "+-------+------------------+\n",
      "|summary|            Rating|\n",
      "+-------+------------------+\n",
      "|  count|           1401982|\n",
      "|   mean| 4.407951029328479|\n",
      "| stddev|1.2720116809642992|\n",
      "|    min|                 0|\n",
      "|    max|                 5|\n",
      "+-------+------------------+\n",
      "\n"
     ]
    },
    {
     "name": "stderr",
     "output_type": "stream",
     "text": [
      "\r",
      "                                                                                \r"
     ]
    }
   ],
   "source": [
    "# Displaying statistical features of the Reviews dataset.\n",
    "df_reviews.describe().select(\"summary\", \"Rating\").show()"
   ]
  },
  {
   "cell_type": "markdown",
   "id": "5cd776d4",
   "metadata": {},
   "source": [
    "Based on missing value and statistical feature codes, there are no missing values on the reviews dataset (same count as the shape of the dataset). And some statistical features can be displayed:\n",
    "- It has a range of scores between 0 and 5;\n",
    "- The mean of 4.4 is close to 5, therefore most of the data points are close the highest value, so the data present signs of being left-skewed (strong evidence for skewness);\n",
    "- Also, because most of the values a concentrated in the score 5, the box (boxplot) might be very close or at the top at the upper whisker.\n",
    "- It presents a high standard deviation given the range of the scores.\n",
    "\n",
    "Further analysis will be performed next using visual tools."
   ]
  },
  {
   "cell_type": "markdown",
   "id": "6ed45165",
   "metadata": {},
   "source": [
    "### Ratings feature visual representation.\n",
    "\n",
    "- The visualization tools using Pandas provided a better result, therefore for visualization purpose it will be created a dataframe using pandas library."
   ]
  },
  {
   "cell_type": "code",
   "execution_count": 83,
   "id": "a4fc2a22",
   "metadata": {
    "scrolled": true
   },
   "outputs": [
    {
     "name": "stderr",
     "output_type": "stream",
     "text": [
      "\r",
      "[Stage 123:============================>                            (1 + 1) / 2]\r",
      "\r",
      "                                                                                \r"
     ]
    }
   ],
   "source": [
    "# Creating a dataframe using pandas library.\n",
    "ratings_column_pd = df_reviews.select(\"Rating\").toPandas()"
   ]
  },
  {
   "cell_type": "code",
   "execution_count": 84,
   "id": "c8bb8876",
   "metadata": {},
   "outputs": [
    {
     "data": {
      "image/png": "[encoded data removed]",
      "text/plain": [
       "<Figure size 864x576 with 1 Axes>"
      ]
     },
     "metadata": {
      "needs_background": "light"
     },
     "output_type": "display_data"
    }
   ],
   "source": [
    "# Generating the figure.\n",
    "plt.figure(figsize=(12, 8)) # Setting the figure size.\n",
    "sns.set(style=\"whitegrid\", font_scale=1.2) # Addind a white space on the back and adjustive font scale.\n",
    "# Creates the boxplot\n",
    "ax = sns.boxplot(data=ratings_column_pd['Rating'], width=0.5) # Boxplot, setting the width of the box to .5.\n",
    "ax.set_title('Boxplot of Rating scores') # Add title to the figure.\n",
    "plt.tight_layout() # Adjusts the layout\n",
    "plt.show() # Shows the plot"
   ]
  },
  {
   "cell_type": "markdown",
   "id": "6652a789",
   "metadata": {},
   "source": [
    "The boxplot shows shows that most of values are located in the maximum values, but also points the score 0, 1 and 2 as outliers, this could be due to the fact that those values represents a small percentage of the total (approximately 7-8%). So based on IQR calculations are considering them as outliers.\n",
    "\n",
    "- The values 1 and 2 will not be outliers, despite being a small amount they represent negative score reviews of the recipe;\n",
    "- The value of 0 will be analysed in a later stage along with the writen review.\n",
    "\n",
    "Despite the outliers considerations the values which represents the 1 and 2 score rating will remain in the dataset. This is because they are still a valid data point. Although, the score zeros will be analysed a little further."
   ]
  },
  {
   "cell_type": "code",
   "execution_count": 85,
   "id": "7c7834a1",
   "metadata": {},
   "outputs": [
    {
     "data": {
      "image/png": "[encoded data removed]",
      "text/plain": [
       "<Figure size 720x432 with 1 Axes>"
      ]
     },
     "metadata": {},
     "output_type": "display_data"
    }
   ],
   "source": [
    "# Creating the figure for the histogram.\n",
    "plt.figure(figsize=(10, 6))\n",
    "# Plots the histogram, bins set at 6 because of the range of the value.\n",
    "plt.hist(ratings_column_pd['Rating'], bins=6, edgecolor='black', alpha=0.7)\n",
    "plt.title(\"Histogram of Ranting Scores\") # Sets title.\n",
    "plt.xlabel(\"Ratings\") # Sets x label.\n",
    "plt.xticks(range(6)) # Add ticks with range between 0 and 6.\n",
    "plt.grid(axis='y') \n",
    "plt.show() # Display the histogram."
   ]
  },
  {
   "cell_type": "markdown",
   "id": "581fc0a4",
   "metadata": {},
   "source": [
    "The histogram shows that the ratings scores data is highly left skewed. With most of its values located at the maximum."
   ]
  },
  {
   "cell_type": "markdown",
   "id": "09c8923a",
   "metadata": {},
   "source": [
    "- The score zero raised doubts if someone forgot to leave a score or if it is actually the worst score.\n",
    "\n",
    "- Also, there are no notes about the score zero, so a manual check will be apply to check if there is a balance between the review and the score zero. The procedure will be done by looking at random samples (attempted multiple times with differend seed values), checking if the reviews truly represents a sentiment of a lowest score possible."
   ]
  },
  {
   "cell_type": "code",
   "execution_count": 86,
   "id": "5ef49528",
   "metadata": {},
   "outputs": [
    {
     "name": "stdout",
     "output_type": "stream",
     "text": [
      "+-------------------------------------------------------------------------------------------------------------------------------------------------------------------------------------------------------------------------------------------------------------------------------------------------------------------------------------------------------------------------------------------------------------------------------------------------------------------------------------------------------------------------------------------------+\n",
      "|Review                                                                                                                                                                                                                                                                                                                                                                                                                                                                                                                                           |\n",
      "+-------------------------------------------------------------------------------------------------------------------------------------------------------------------------------------------------------------------------------------------------------------------------------------------------------------------------------------------------------------------------------------------------------------------------------------------------------------------------------------------------------------------------------------------------+\n",
      "|great recipe its delicious                                                                                                                                                                                                                                                                                                                                                                                                                                                                                                                       |\n",
      "|I need to try this.....This is typical recipe from my Mother's side of the family. \"use this much\" i can not see this much on the phone.                                                                                                                                                                                                                                                                                                                                                                                                         |\n",
      "|Sounds a bit like Bigos                                                                                                                                                                                                                                                                                                                                                                                                                                                                                                                          |\n",
      "|If you use a can of tomato sauce in place of the soup,and,1/2 can of cider vinegar with 1/2 can water (useing the tomato sauce can), you will have really delicious stuffed cabbage with a zest.\\r\\n\\r\\n                  Pepper barlow\\r\\n\\r\\n\\r\\nsize tomato sauce- 15 oz.Can                                                                                                                                                                                                                                                                  |\n",
      "|I had a Great Aunt that made the most wonderful dill pickles she told me that her secret was that she used rain water.  How interesting.  June Bug                                                                                                                                                                                                                                                                                                                                                                                               |\n",
      "|To David Cansler,  I would like your recipe please.  June Bug                                                                                                                                                                                                                                                                                                                                                                                                                                                                                    |\n",
      "|My recipe is similar...using a whole chicken instead...and slightly different ingerdients..but the major difference is that I make a small dumpling instead of the noodles....                                                                                                                                                                                                                                                                                                                                                                   |\n",
      "|I have not tried this recipe.  It sounds wonderful, but oh so high in caloried and fat!  Are you using whole milk ricotta?  And, can't a low-calorie marjorine be substituted but the butter??                                                                                                                                                                                                                                                                                                                                                   |\n",
      "|Suet is the fat that our mothers used to get with the stew beef . You need to grind it up to go in the bread pudding.                                                                                                                                                                                                                                                                                                                                                                                                                            |\n",
      "|I find this recipe hard to follow because im in australia  and need to find similar ingredients.                                                                                                                                                                                                                                                                                                                                                                                                                                                 |\n",
      "|Easy recipe - couldn't believe how easy. But I found there was too much flour -left out nearly i cup.And tastes great Janice                                                                                                                                                                                                                                                                                                                                                                                                                     |\n",
      "|I would love to make this recipe but there is no indication of how many eggs it calls for. HELP!                                                                                                                                                                                                                                                                                                                                                                                                                                                 |\n",
      "|Anything?\\r\\n\\r\\nThis is all wrong.  Who uses powdered sugar in Margarita's? What kind of surprise is this --\"Hey, there's marshmallows in the jello! Yes!\"\\r\\n\\r\\nDrink NO beverage that changes any part of the word \"margarita\".  What the hell is coarsely cracked ice?\\r\\n\\r\\nThe f'in truth? Ok, ok:\\r\\n\\r\\nHalf the glass filled with crushed ice. Fill up to ice line with GOOD tequila (important). Splash of Grand Marnier. Add some fresh squeezed lime juice. Rub lime around the rim AFTER.  Salt is optional and is, well, useless.|\n",
      "|This is one that I grew up with, but instead of bread cumbs we used rice, and combined ground sausage with the beef, and lots of pepper. You can also bake this in the oven.  Boil your cabbage leaves, roll the mixture and place in the oven at 350 degrees for 30 minutes, cover with the tomato sause/soup.                                                                                                                                                                                                                                  |\n",
      "|Its so nutritious and filling!!!                                                                                                                                                                                                                                                                                                                                                                                                                                                                                                                 |\n",
      "|love it!!!!                                                                                                                                                                                                                                                                                                                                                                                                                                                                                                                                      |\n",
      "|The lovely colours of this cake tempt your eyes...and melt your heart...and make your mouth water, just to have a bite and then have another one and then one more...endlessly!!                                                                                                                                                                                                                                                                                                                                                                 |\n",
      "|The recipe states in the ingredients listing, 1 1/2 quarts of shellfish veloute.......it would have made it so much easier for the normal cook if a recipe for the veloute had been included. The everyday cook would not have a clue as to what shellfish veloute even is.  It's an elegant recipe, but worthless to most people, without the veloute recipe included.                                                                                                                                                                          |\n",
      "|I found myself with an over abundance of zucchini, as we plant our own every year.  This recipe is fast and easy and it's a different change of pace from the ordinary.                                                                                                                                                                                                                                                                                                                                                                          |\n",
      "|Just viewing the page reminds me how tasty it is!                                                                                                                                                                                                                                                                                                                                                                                                                                                                                                |\n",
      "+-------------------------------------------------------------------------------------------------------------------------------------------------------------------------------------------------------------------------------------------------------------------------------------------------------------------------------------------------------------------------------------------------------------------------------------------------------------------------------------------------------------------------------------------------+\n",
      "only showing top 20 rows\n",
      "\n"
     ]
    }
   ],
   "source": [
    "zero_reviews = df_reviews.filter(col(\"Rating\") == 0)\n",
    "sample_reviews = zero_reviews.sample(withReplacement=False, fraction=0.25, seed=70)\n",
    "sample_reviews.select(\"Review\").show(truncate=False)"
   ]
  },
  {
   "cell_type": "markdown",
   "id": "de085cbd",
   "metadata": {},
   "source": [
    "- According to last code (with many attempts using different seed numbers), the written reviews does not match the score zero given. Positives reviews such as, great recipe, its delicious . Therefore, the chosen option is to drop the 0 scores (anomalies), so it does not affects the analysis by introducing noise to it, increasing the consistency in the data.\n",
    "- And since they are anomalies in the data, the rows with score of 0 will be dropped, also saving computational resources. \n",
    "<br><br><br>The next two codes will be used to drop (by using the method filter) and after printing the counts before and after the operation to check if it was correct. "
   ]
  },
  {
   "cell_type": "code",
   "execution_count": 87,
   "id": "43f552f1",
   "metadata": {},
   "outputs": [],
   "source": [
    "# Method filter to exclude the rows with Rating equal to zero.\n",
    "df_reviews_no_zero = df_reviews.filter(df_reviews.Rating != 0)"
   ]
  },
  {
   "cell_type": "code",
   "execution_count": 88,
   "id": "a7c4e705",
   "metadata": {},
   "outputs": [
    {
     "name": "stdout",
     "output_type": "stream",
     "text": [
      "Original obs count: 1401982\n",
      "After filter obs count: 1325734\n"
     ]
    }
   ],
   "source": [
    "# Counting observations before and after the exclusion and printing them for verification. \n",
    "original_count = df_reviews.count()\n",
    "filtered_count = df_reviews_no_zero.count()\n",
    "print(f\"Original obs count: {original_count}\")\n",
    "print(f\"After filter obs count: {filtered_count}\")"
   ]
  },
  {
   "cell_type": "markdown",
   "id": "70a23c50",
   "metadata": {},
   "source": [
    "- After the drop, the observations reduced by 76248, which is the number of zero scores given (also provided at the frequency line of code). Therefore, the drop operation was sucessful."
   ]
  },
  {
   "cell_type": "code",
   "execution_count": 89,
   "id": "7a5bf4c3",
   "metadata": {
    "scrolled": true
   },
   "outputs": [
    {
     "name": "stderr",
     "output_type": "stream",
     "text": [
      "\r",
      "[Stage 131:============================>                            (1 + 1) / 2]\r"
     ]
    },
    {
     "name": "stdout",
     "output_type": "stream",
     "text": [
      "Rating Class Neutral (3): 3.792541%\n",
      "Rating Class Negatives (1-2): 2.576384%\n",
      "Rating Class Positives (4-5): 93.631075%\n"
     ]
    },
    {
     "name": "stderr",
     "output_type": "stream",
     "text": [
      "\r",
      "                                                                                \r"
     ]
    }
   ],
   "source": [
    "# Calculating the distribution of scores and the three different groups.\n",
    "# Placing the 1,2 to the negatives, 3 neutral and 4,5 positives.\n",
    "class_counts = (\n",
    "    df_reviews_no_zero.withColumn(\n",
    "    \"Rating_class\",\n",
    "    when((df_reviews_no_zero['Rating'] >= 1) & (df_reviews_no_zero['Rating'] <= 2), \"Negatives (1-2)\")\n",
    "    .when(df_reviews_no_zero['Rating'] == 3, \"Neutral (3)\")\n",
    "    .otherwise(\"Positives (4-5)\"))\n",
    "# Grouping the ratings into its class and using rdd to transform them into a dictionary which is easier to access in a query.\n",
    "    .groupBy(\"Rating_class\")\n",
    "    .count()\n",
    "    .rdd.collectAsMap())\n",
    "\n",
    "# Calculates to total number of reviews.\n",
    "total_reviews = sum(class_counts.values())\n",
    "# Calculates the ratio.\n",
    "Ratios = {k: v / total_reviews for k, v in class_counts.items()}\n",
    "# Prints the percentages.\n",
    "for Rating_class, ratio in Ratios.items():\n",
    "    print(f\"Rating Class {Rating_class}: {ratio*100:2f}%\")"
   ]
  },
  {
   "cell_type": "markdown",
   "id": "5574d73e",
   "metadata": {},
   "source": [
    "Through the last line of code, the Rating column:\n",
    "\n",
    "- By far, the highest number of score given is the value of 5 (maximum);\n",
    "- Lower scores (1 , 2) represents less than 3% of the total of ratings given and less than 4% for neutral scores (3);\n",
    "- The imbalance between the positive classes are enourmous considering the others, and this potenlially could add bias into the sentiment analysis. To address this issue there are some options available to and a mixed between oversampling and undersampling will be performed after the dataframe is split into train and test. \n"
   ]
  },
  {
   "cell_type": "markdown",
   "id": "a5b032ab",
   "metadata": {},
   "source": [
    "### Next stage will be the text processing of the Review column follow by the steps above: \n",
    "\n",
    "- Label definition; \n",
    "- Lowering case; \n",
    "- Removing punctuations and \\r\\n;\n",
    "- Tokenization;\n",
    "- Removing Stop Words;\n",
    "- Filtering out short tokens;\n",
    "- Lemmatization;\n",
    "- Word2Vec;"
   ]
  },
  {
   "cell_type": "markdown",
   "id": "7b577d87",
   "metadata": {},
   "source": [
    "### Text Processing of the Review Column for Sentiment Analysis\n",
    "\n",
    "To start, a column (label) will be created with positive, negativa and neutral labels according to the rating score given by the reviewer. "
   ]
  },
  {
   "cell_type": "code",
   "execution_count": 90,
   "id": "f7b7743c",
   "metadata": {
    "collapsed": true
   },
   "outputs": [
    {
     "name": "stdout",
     "output_type": "stream",
     "text": [
      "+------+--------+\n",
      "|rating|   label|\n",
      "+------+--------+\n",
      "|     5|positive|\n",
      "|     4|positive|\n",
      "|     2|negative|\n",
      "|     5|positive|\n",
      "|     5|positive|\n",
      "|     4|positive|\n",
      "|     5|positive|\n",
      "|     5|positive|\n",
      "|     5|positive|\n",
      "|     4|positive|\n",
      "|     5|positive|\n",
      "|     5|positive|\n",
      "|     1|negative|\n",
      "|     5|positive|\n",
      "|     4|positive|\n",
      "|     1|negative|\n",
      "|     5|positive|\n",
      "|     5|positive|\n",
      "|     3| neutral|\n",
      "|     4|positive|\n",
      "+------+--------+\n",
      "only showing top 20 rows\n",
      "\n"
     ]
    }
   ],
   "source": [
    "# Creates a new column 'label' based on rating values\n",
    "df_reviews_no_zero = df_reviews_no_zero.withColumn(\"label\", \n",
    "                   when(col(\"rating\").isin([1, 2]), \"negative\")\n",
    "                   .when(col(\"rating\") == 3, \"neutral\")\n",
    "                   .otherwise(\"positive\")\n",
    "                  )\n",
    "\n",
    "# You can verify by showing a few records\n",
    "df_reviews_no_zero.select(\"rating\", \"label\").show()\n"
   ]
  },
  {
   "cell_type": "code",
   "execution_count": 91,
   "id": "12d82ef5",
   "metadata": {},
   "outputs": [],
   "source": [
    "# Creating a column named Review_lower to the dataframe in a lowercase version.\n",
    "process_reviews = df_reviews_no_zero.withColumn(\"Review_lower\", lower(col(\"Review\")))"
   ]
  },
  {
   "cell_type": "code",
   "execution_count": 92,
   "id": "62436622",
   "metadata": {
    "scrolled": true
   },
   "outputs": [
    {
     "name": "stderr",
     "output_type": "stream",
     "text": [
      "\r",
      "[Stage 135:============================>                            (1 + 1) / 2]\r"
     ]
    },
    {
     "name": "stdout",
     "output_type": "stream",
     "text": [
      "Transformation successful.\n"
     ]
    },
    {
     "name": "stderr",
     "output_type": "stream",
     "text": [
      "\r",
      "                                                                                \r"
     ]
    }
   ],
   "source": [
    "# Looks for any observation that the transformation did not work.\n",
    "no_match = process_reviews.filter(lower(col(\"Review\")) !=col(\"Review_lower\")).count()\n",
    "\n",
    "if no_match == 0:\n",
    "    print(\"Transformation successful.\")\n",
    "else:\n",
    "    print(\"There is/are rows that the transformation did not work.\")"
   ]
  },
  {
   "cell_type": "markdown",
   "id": "179c35fc",
   "metadata": {},
   "source": [
    "- After the transformation, a few statistical features will be generated for comparison purpose. "
   ]
  },
  {
   "cell_type": "code",
   "execution_count": 93,
   "id": "61d5dfa4",
   "metadata": {
    "collapsed": true
   },
   "outputs": [
    {
     "name": "stdout",
     "output_type": "stream",
     "text": [
      "+---------------+\n",
      "|rev_char_length|\n",
      "+---------------+\n",
      "|             44|\n",
      "|            102|\n",
      "|             91|\n",
      "|            119|\n",
      "|             18|\n",
      "|             38|\n",
      "|            108|\n",
      "|             26|\n",
      "|            106|\n",
      "|             48|\n",
      "|            118|\n",
      "|            182|\n",
      "|             27|\n",
      "|            167|\n",
      "|            146|\n",
      "|             10|\n",
      "|            339|\n",
      "|             83|\n",
      "|             65|\n",
      "|            225|\n",
      "+---------------+\n",
      "only showing top 20 rows\n",
      "\n"
     ]
    }
   ],
   "source": [
    "# Displaying the characters length of the review_lowercase column\n",
    "process_reviews = process_reviews.withColumn(\"rev_char_length\", length(process_reviews[\"Review_lower\"]))\n",
    "process_reviews.select(\"rev_char_length\").show()"
   ]
  },
  {
   "cell_type": "code",
   "execution_count": 94,
   "id": "f15e2360",
   "metadata": {
    "scrolled": true
   },
   "outputs": [
    {
     "name": "stderr",
     "output_type": "stream",
     "text": [
      "\r",
      "[Stage 139:============================>                            (1 + 1) / 2]\r"
     ]
    },
    {
     "name": "stdout",
     "output_type": "stream",
     "text": [
      "+-------+------------------+\n",
      "|summary|   rev_char_length|\n",
      "+-------+------------------+\n",
      "|  count|           1325734|\n",
      "|   mean| 276.9054689703968|\n",
      "| stddev|194.79580324070147|\n",
      "|    min|                 0|\n",
      "|    max|              8587|\n",
      "+-------+------------------+\n",
      "\n"
     ]
    },
    {
     "name": "stderr",
     "output_type": "stream",
     "text": [
      "\r",
      "                                                                                \r"
     ]
    }
   ],
   "source": [
    "# Displaying statistical feature of the reviews character length. \n",
    "process_reviews.select(\"rev_char_length\").describe().show()"
   ]
  },
  {
   "cell_type": "code",
   "execution_count": 95,
   "id": "f76c5649",
   "metadata": {
    "scrolled": false
   },
   "outputs": [
    {
     "name": "stderr",
     "output_type": "stream",
     "text": [
      "                                                                                \r"
     ]
    }
   ],
   "source": [
    "# Transforming to pandas dataframe for visualization purpose.\n",
    "review_char_lengh_pd = process_reviews.select(\"rev_char_length\").toPandas()"
   ]
  },
  {
   "cell_type": "code",
   "execution_count": 96,
   "id": "fda59c06",
   "metadata": {},
   "outputs": [
    {
     "data": {
      "image/png": "[encoded data removed]",
      "text/plain": [
       "<Figure size 432x288 with 1 Axes>"
      ]
     },
     "metadata": {},
     "output_type": "display_data"
    }
   ],
   "source": [
    "# Creating histogram for characters length\n",
    "char_lengths = review_char_lengh_pd[\"rev_char_length\"] # Data\n",
    "char_lengths.hist(bins=50) # Generate histogram.\n",
    "plt.xlabel(\"Character Length\") # Adds label.\n",
    "plt.ylabel(\"Number of Reviews\") # Adds label.\n",
    "plt.title(\"Distribution of Review Lengths (in characters)\") # Adds title.\n",
    "plt.show() # Shows the histogram."
   ]
  },
  {
   "cell_type": "markdown",
   "id": "bf2c4aae",
   "metadata": {},
   "source": [
    "- According to the character length histogram, the majority of reviews ranges between 0 and around 1500. But also showing that also has reviews with more than 6000 characters. "
   ]
  },
  {
   "cell_type": "code",
   "execution_count": 97,
   "id": "580aba50",
   "metadata": {
    "scrolled": false
   },
   "outputs": [
    {
     "name": "stderr",
     "output_type": "stream",
     "text": [
      "\r",
      "[Stage 143:============================>                            (1 + 1) / 2]\r"
     ]
    },
    {
     "name": "stdout",
     "output_type": "stream",
     "text": [
      "+-------+-----------------+\n",
      "|summary|       word_count|\n",
      "+-------+-----------------+\n",
      "|  count|          1325734|\n",
      "|   mean|53.35392393949314|\n",
      "| stddev|37.57547429823871|\n",
      "|    min|                1|\n",
      "|    max|             1184|\n",
      "+-------+-----------------+\n",
      "\n"
     ]
    },
    {
     "name": "stderr",
     "output_type": "stream",
     "text": [
      "\r",
      "                                                                                \r"
     ]
    }
   ],
   "source": [
    "w_count = process_reviews.withColumn(\"word_count\", size(split(process_reviews[\"Review_lower\"], \" \")))\n",
    "\n",
    "w_count.select(\"word_count\").describe().show()"
   ]
  },
  {
   "cell_type": "markdown",
   "id": "9c454615",
   "metadata": {},
   "source": [
    "- Before applying tokenization, a few statistical feature will be extract to check for any differences before and after transformations during the text processing.And beginning with the descriptive statistics of the review feature has 1325734 rows, with an average around 53 words in each review, ranging from 1 to more than 1000 words.\n",
    "\n",
    "The following step is to remove punctuations and other special characters from the text."
   ]
  },
  {
   "cell_type": "code",
   "execution_count": 98,
   "id": "3d13410d",
   "metadata": {},
   "outputs": [],
   "source": [
    "# Removing punctions of the Review_lowercase column.\n",
    "process_reviews = process_reviews.withColumn(\"Review_no_punct\", regexp_replace(col(\"Review_lower\"), \"[^a-zA-Z\\s]\", \"\"))"
   ]
  },
  {
   "cell_type": "code",
   "execution_count": 99,
   "id": "aa3ddf83",
   "metadata": {
    "collapsed": true
   },
   "outputs": [
    {
     "name": "stdout",
     "output_type": "stream",
     "text": [
      "+-------------------------------------------------------------------------------------------------------------------------------------------------------------------------------------------------------------------------------------------------------------------------------------------------------------------------------------------------------------+-------------------------------------------------------------------------------------------------------------------------------------------------------------------------------------------------------------------------------------------------------------------------------------------------------------------------------------------+\n",
      "|Review_lower                                                                                                                                                                                                                                                                                                                                                 |Review_no_punct                                                                                                                                                                                                                                                                                                                            |\n",
      "+-------------------------------------------------------------------------------------------------------------------------------------------------------------------------------------------------------------------------------------------------------------------------------------------------------------------------------------------------------------+-------------------------------------------------------------------------------------------------------------------------------------------------------------------------------------------------------------------------------------------------------------------------------------------------------------------------------------------+\n",
      "|better than any you can get at a restaurant!                                                                                                                                                                                                                                                                                                                 |better than any you can get at a restaurant                                                                                                                                                                                                                                                                                                |\n",
      "|i cut back on the mayo, and made up the difference with sour cream to adjust the stiffness of the dip.                                                                                                                                                                                                                                                       |i cut back on the mayo and made up the difference with sour cream to adjust the stiffness of the dip                                                                                                                                                                                                                                       |\n",
      "|i think i did something wrong because i could taste the cornstarch in the finished product.                                                                                                                                                                                                                                                                  |i think i did something wrong because i could taste the cornstarch in the finished product                                                                                                                                                                                                                                                 |\n",
      "|easily the best i have ever had.  juicy flavorful, not dry.  the vegetables retain crispness as well, not bland at all!                                                                                                                                                                                                                                      |easily the best i have ever had  juicy flavorful not dry  the vegetables retain crispness as well not bland at all                                                                                                                                                                                                                         |\n",
      "|an excellent dish.                                                                                                                                                                                                                                                                                                                                           |an excellent dish                                                                                                                                                                                                                                                                                                                          |\n",
      "|love it, but without the bean sprouts.                                                                                                                                                                                                                                                                                                                       |love it but without the bean sprouts                                                                                                                                                                                                                                                                                                       |\n",
      "|chewy goodness, not crispy at all. i even threw in craisins and left the oatmeal whole, and they were great.                                                                                                                                                                                                                                                 |chewy goodness not crispy at all i even threw in craisins and left the oatmeal whole and they were great                                                                                                                                                                                                                                   |\n",
      "|thought this was terrific!                                                                                                                                                                                                                                                                                                                                   |thought this was terrific                                                                                                                                                                                                                                                                                                                  |\n",
      "|this is absolutely delicious.  i even served it with lime slices so you could squeeze on more of the acid.                                                                                                                                                                                                                                                   |this is absolutely delicious  i even served it with lime slices so you could squeeze on more of the acid                                                                                                                                                                                                                                   |\n",
      "|a little greasy, but a huge hit with the guests.                                                                                                                                                                                                                                                                                                             |a little greasy but a huge hit with the guests                                                                                                                                                                                                                                                                                             |\n",
      "|leeks on a pizza?!  it was really delicious.  i used a boboli and added some chicken sausage slices and mushrooms too.                                                                                                                                                                                                                                       |leeks on a pizza  it was really delicious  i used a boboli and added some chicken sausage slices and mushrooms too                                                                                                                                                                                                                         |\n",
      "|i deleted the bean sprouts and replaced them with salted cashew nuts...a nice complement to the sweet/sour dressing. our guests loved it, in my opinion,it deserves a \"5-pan\" rating.                                                                                                                                                                        |i deleted the bean sprouts and replaced them with salted cashew nutsa nice complement to the sweetsour dressing our guests loved it in my opinionit deserves a pan rating                                                                                                                                                                  |\n",
      "|where does the bbq come in                                                                                                                                                                                                                                                                                                                                   |where does the bbq come in                                                                                                                                                                                                                                                                                                                 |\n",
      "|this was a fine sandwich, i'll definitely be making it again. i think you could also use blue cheese rather than goat or feta--blue seems to go well with roast beef.\\r\\n                                                                                                                                                                                    |this was a fine sandwich ill definitely be making it again i think you could also use blue cheese rather than goat or fetablue seems to go well with roast beef\\r\\n                                                                                                                                                                        |\n",
      "|very simple recipe to make! this is a refreshing treat that goes well with vanilla ice cream. my husband and i made this dessert disappear fast!\\r\\n                                                                                                                                                                                                         |very simple recipe to make this is a refreshing treat that goes well with vanilla ice cream my husband and i made this dessert disappear fast\\r\\n                                                                                                                                                                                          |\n",
      "|dear lord.                                                                                                                                                                                                                                                                                                                                                   |dear lord                                                                                                                                                                                                                                                                                                                                  |\n",
      "|vastly superior to its bastard cousin the twinkie pie, this is a true delight to the \"redneck-chic\" cook in all of us.  my wife and girlfriends (in  utah, that is) were astounded.  how could you possibly combine canned tuna with refined sugar, and then (italics there) add brine!  \"recipezaar, baby- who needs the ocean?\"\\r\\n\\r\\neli totz\\r\\n\\r\\n\\r\\n|vastly superior to its bastard cousin the twinkie pie this is a true delight to the redneckchic cook in all of us  my wife and girlfriends in  utah that is were astounded  how could you possibly combine canned tuna with refined sugar and then italics there add brine  recipezaar baby who needs the ocean\\r\\n\\r\\neli totz\\r\\n\\r\\n\\r\\n|\n",
      "|clearly,        \\r\\n\\r\\n\\r\\na nine shot drink deserves at least five stars.  stiff, baby!                                                                                                                                                                                                                                                                    |clearly        \\r\\n\\r\\n\\r\\na nine shot drink deserves at least five stars  stiff baby                                                                                                                                                                                                                                                      |\n",
      "|i never tasted it but it sure doesn''t look easy.  toast is easy.                                                                                                                                                                                                                                                                                            |i never tasted it but it sure doesnt look easy  toast is easy                                                                                                                                                                                                                                                                              |\n",
      "|this recipe was really easy to follow and was quite delicious.  it reheats really well, too, for small families.  \\r\\n\\r\\ni think next time i will buy the crust, as mine needed a little more polishing.\\r\\n\\r\\nthanks for the recipe!\\r\\n                                                                                                                  |this recipe was really easy to follow and was quite delicious  it reheats really well too for small families  \\r\\n\\r\\ni think next time i will buy the crust as mine needed a little more polishing\\r\\n\\r\\nthanks for the recipe\\r\\n                                                                                                       |\n",
      "+-------------------------------------------------------------------------------------------------------------------------------------------------------------------------------------------------------------------------------------------------------------------------------------------------------------------------------------------------------------+-------------------------------------------------------------------------------------------------------------------------------------------------------------------------------------------------------------------------------------------------------------------------------------------------------------------------------------------+\n",
      "only showing top 20 rows\n",
      "\n"
     ]
    }
   ],
   "source": [
    "# Displays the rows of column before and after the removal of punctuations. \n",
    "process_reviews.select(\"Review_lower\", \"Review_no_punct\").show(n=20, truncate=False)   "
   ]
  },
  {
   "cell_type": "markdown",
   "id": "f326b13c",
   "metadata": {},
   "source": [
    "- The previous line of code shows that the removal of puctuations was successful. However, it shows special characters like \\r\\n, which will be removed in the following step."
   ]
  },
  {
   "cell_type": "code",
   "execution_count": 100,
   "id": "7ebfd76f",
   "metadata": {},
   "outputs": [],
   "source": [
    "# Removing \\r\\n.\n",
    "process_reviews = process_reviews.withColumn(\"Review_no_punct2\", regexp_replace(col(\"Review_no_punct\"), \"[\\r\\n]\", \"\"))"
   ]
  },
  {
   "cell_type": "code",
   "execution_count": 101,
   "id": "5e07faf7",
   "metadata": {
    "collapsed": true
   },
   "outputs": [
    {
     "name": "stdout",
     "output_type": "stream",
     "text": [
      "+-------------------------------------------------------------------------------------------------------------------------------------------------------------------------------------------------------------------------------------------------------------------------------------------------------------------------------------------+-----------------------------------------------------------------------------------------------------------------------------------------------------------------------------------------------------------------------------------------------------------------------------------------------------------------------+\n",
      "|Review_no_punct                                                                                                                                                                                                                                                                                                                            |Review_no_punct2                                                                                                                                                                                                                                                                                                       |\n",
      "+-------------------------------------------------------------------------------------------------------------------------------------------------------------------------------------------------------------------------------------------------------------------------------------------------------------------------------------------+-----------------------------------------------------------------------------------------------------------------------------------------------------------------------------------------------------------------------------------------------------------------------------------------------------------------------+\n",
      "|better than any you can get at a restaurant                                                                                                                                                                                                                                                                                                |better than any you can get at a restaurant                                                                                                                                                                                                                                                                            |\n",
      "|i cut back on the mayo and made up the difference with sour cream to adjust the stiffness of the dip                                                                                                                                                                                                                                       |i cut back on the mayo and made up the difference with sour cream to adjust the stiffness of the dip                                                                                                                                                                                                                   |\n",
      "|i think i did something wrong because i could taste the cornstarch in the finished product                                                                                                                                                                                                                                                 |i think i did something wrong because i could taste the cornstarch in the finished product                                                                                                                                                                                                                             |\n",
      "|easily the best i have ever had  juicy flavorful not dry  the vegetables retain crispness as well not bland at all                                                                                                                                                                                                                         |easily the best i have ever had  juicy flavorful not dry  the vegetables retain crispness as well not bland at all                                                                                                                                                                                                     |\n",
      "|an excellent dish                                                                                                                                                                                                                                                                                                                          |an excellent dish                                                                                                                                                                                                                                                                                                      |\n",
      "|love it but without the bean sprouts                                                                                                                                                                                                                                                                                                       |love it but without the bean sprouts                                                                                                                                                                                                                                                                                   |\n",
      "|chewy goodness not crispy at all i even threw in craisins and left the oatmeal whole and they were great                                                                                                                                                                                                                                   |chewy goodness not crispy at all i even threw in craisins and left the oatmeal whole and they were great                                                                                                                                                                                                               |\n",
      "|thought this was terrific                                                                                                                                                                                                                                                                                                                  |thought this was terrific                                                                                                                                                                                                                                                                                              |\n",
      "|this is absolutely delicious  i even served it with lime slices so you could squeeze on more of the acid                                                                                                                                                                                                                                   |this is absolutely delicious  i even served it with lime slices so you could squeeze on more of the acid                                                                                                                                                                                                               |\n",
      "|a little greasy but a huge hit with the guests                                                                                                                                                                                                                                                                                             |a little greasy but a huge hit with the guests                                                                                                                                                                                                                                                                         |\n",
      "|leeks on a pizza  it was really delicious  i used a boboli and added some chicken sausage slices and mushrooms too                                                                                                                                                                                                                         |leeks on a pizza  it was really delicious  i used a boboli and added some chicken sausage slices and mushrooms too                                                                                                                                                                                                     |\n",
      "|i deleted the bean sprouts and replaced them with salted cashew nutsa nice complement to the sweetsour dressing our guests loved it in my opinionit deserves a pan rating                                                                                                                                                                  |i deleted the bean sprouts and replaced them with salted cashew nutsa nice complement to the sweetsour dressing our guests loved it in my opinionit deserves a pan rating                                                                                                                                              |\n",
      "|where does the bbq come in                                                                                                                                                                                                                                                                                                                 |where does the bbq come in                                                                                                                                                                                                                                                                                             |\n",
      "|this was a fine sandwich ill definitely be making it again i think you could also use blue cheese rather than goat or fetablue seems to go well with roast beef\\r\\n                                                                                                                                                                        |this was a fine sandwich ill definitely be making it again i think you could also use blue cheese rather than goat or fetablue seems to go well with roast beef                                                                                                                                                        |\n",
      "|very simple recipe to make this is a refreshing treat that goes well with vanilla ice cream my husband and i made this dessert disappear fast\\r\\n                                                                                                                                                                                          |very simple recipe to make this is a refreshing treat that goes well with vanilla ice cream my husband and i made this dessert disappear fast                                                                                                                                                                          |\n",
      "|dear lord                                                                                                                                                                                                                                                                                                                                  |dear lord                                                                                                                                                                                                                                                                                                              |\n",
      "|vastly superior to its bastard cousin the twinkie pie this is a true delight to the redneckchic cook in all of us  my wife and girlfriends in  utah that is were astounded  how could you possibly combine canned tuna with refined sugar and then italics there add brine  recipezaar baby who needs the ocean\\r\\n\\r\\neli totz\\r\\n\\r\\n\\r\\n|vastly superior to its bastard cousin the twinkie pie this is a true delight to the redneckchic cook in all of us  my wife and girlfriends in  utah that is were astounded  how could you possibly combine canned tuna with refined sugar and then italics there add brine  recipezaar baby who needs the oceaneli totz|\n",
      "|clearly        \\r\\n\\r\\n\\r\\na nine shot drink deserves at least five stars  stiff baby                                                                                                                                                                                                                                                      |clearly        a nine shot drink deserves at least five stars  stiff baby                                                                                                                                                                                                                                              |\n",
      "|i never tasted it but it sure doesnt look easy  toast is easy                                                                                                                                                                                                                                                                              |i never tasted it but it sure doesnt look easy  toast is easy                                                                                                                                                                                                                                                          |\n",
      "|this recipe was really easy to follow and was quite delicious  it reheats really well too for small families  \\r\\n\\r\\ni think next time i will buy the crust as mine needed a little more polishing\\r\\n\\r\\nthanks for the recipe\\r\\n                                                                                                       |this recipe was really easy to follow and was quite delicious  it reheats really well too for small families  i think next time i will buy the crust as mine needed a little more polishingthanks for the recipe                                                                                                       |\n",
      "+-------------------------------------------------------------------------------------------------------------------------------------------------------------------------------------------------------------------------------------------------------------------------------------------------------------------------------------------+-----------------------------------------------------------------------------------------------------------------------------------------------------------------------------------------------------------------------------------------------------------------------------------------------------------------------+\n",
      "only showing top 20 rows\n",
      "\n"
     ]
    },
    {
     "name": "stderr",
     "output_type": "stream",
     "text": [
      "\r",
      "[Stage 147:>                                                        (0 + 1) / 1]\r",
      "\r",
      "                                                                                \r"
     ]
    }
   ],
   "source": [
    "process_reviews.select(\"Review_no_punct\", \"Review_no_punct2\").show(n=20, truncate=False)  "
   ]
  },
  {
   "cell_type": "markdown",
   "id": "135b74f5",
   "metadata": {},
   "source": [
    "- The previous code shows that the characters like \\r\\n were erased. \n",
    "\n",
    "The next step will tokenize the review column, transforming each word in tokens."
   ]
  },
  {
   "cell_type": "code",
   "execution_count": 102,
   "id": "ec8eb358",
   "metadata": {},
   "outputs": [],
   "source": [
    "# Creating tokenizer with the column tokens as output.\n",
    "tokenizer = Tokenizer(inputCol=\"Review_no_punct2\", outputCol=\"tokens\")"
   ]
  },
  {
   "cell_type": "code",
   "execution_count": 103,
   "id": "ee8a2f84",
   "metadata": {},
   "outputs": [],
   "source": [
    "# Apply the transformation.\n",
    "token_reviews = tokenizer.transform(process_reviews)"
   ]
  },
  {
   "cell_type": "code",
   "execution_count": 104,
   "id": "9d474477",
   "metadata": {},
   "outputs": [
    {
     "name": "stderr",
     "output_type": "stream",
     "text": [
      "                                                                                \r"
     ]
    },
    {
     "name": "stdout",
     "output_type": "stream",
     "text": [
      "+------+-------+\n",
      "|  word|  count|\n",
      "+------+-------+\n",
      "|      |3279768|\n",
      "|     i|3108489|\n",
      "|   the|3018518|\n",
      "|   and|2329822|\n",
      "|     a|1804978|\n",
      "|    it|1607492|\n",
      "|  this|1412254|\n",
      "|    to|1381135|\n",
      "|   for|1316394|\n",
      "|    of|1140789|\n",
      "|   was| 954028|\n",
      "|recipe| 789514|\n",
      "|    in| 657126|\n",
      "|    my| 629697|\n",
      "|  with| 628741|\n",
      "|    is| 588018|\n",
      "|  made| 560845|\n",
      "|    so| 556641|\n",
      "|  used| 498798|\n",
      "|   but| 477474|\n",
      "+------+-------+\n",
      "only showing top 20 rows\n",
      "\n"
     ]
    }
   ],
   "source": [
    "# It \"explodes\" the tokens column to have one token per row.\n",
    "#df_exploded = token_reviews.select(explode(\"tokens\").alias(\"word\"))\n",
    "\n",
    "# Groups individual by tokens and count their occurrences.\n",
    "#word_counts = df_exploded.groupBy(\"word\").agg(count(\"word\").alias(\"count\"))\n",
    "\n",
    "# Orders by count in descending order to see most frequent words at the top.\n",
    "#word_counts_ordered = word_counts.orderBy(desc(\"count\"))\n",
    "\n",
    "# Show the results.\n",
    "#word_counts_ordered.show()"
   ]
  },
  {
   "cell_type": "markdown",
   "id": "076b14bf",
   "metadata": {},
   "source": [
    "- After separating into words, it was identified that blank spaces, i and the are the most common tokens (more than 3 million each)."
   ]
  },
  {
   "cell_type": "code",
   "execution_count": 105,
   "id": "57b29106",
   "metadata": {
    "collapsed": true
   },
   "outputs": [
    {
     "name": "stdout",
     "output_type": "stream",
     "text": [
      "+-----------------------------------------------------------------------------------------------------------------------------------------------------------------------------------------------------------------------------------------------------------------------------------------------------------------------+-----------------------------------------------------------------------------------------------------------------------------------------------------------------------------------------------------------------------------------------------------------------------------------------------------------------------------------------------------------------------------------+\n",
      "|Review_no_punct2                                                                                                                                                                                                                                                                                                       |tokens                                                                                                                                                                                                                                                                                                                                                                             |\n",
      "+-----------------------------------------------------------------------------------------------------------------------------------------------------------------------------------------------------------------------------------------------------------------------------------------------------------------------+-----------------------------------------------------------------------------------------------------------------------------------------------------------------------------------------------------------------------------------------------------------------------------------------------------------------------------------------------------------------------------------+\n",
      "|better than any you can get at a restaurant                                                                                                                                                                                                                                                                            |[better, than, any, you, can, get, at, a, restaurant]                                                                                                                                                                                                                                                                                                                              |\n",
      "|i cut back on the mayo and made up the difference with sour cream to adjust the stiffness of the dip                                                                                                                                                                                                                   |[i, cut, back, on, the, mayo, and, made, up, the, difference, with, sour, cream, to, adjust, the, stiffness, of, the, dip]                                                                                                                                                                                                                                                         |\n",
      "|i think i did something wrong because i could taste the cornstarch in the finished product                                                                                                                                                                                                                             |[i, think, i, did, something, wrong, because, i, could, taste, the, cornstarch, in, the, finished, product]                                                                                                                                                                                                                                                                        |\n",
      "|easily the best i have ever had  juicy flavorful not dry  the vegetables retain crispness as well not bland at all                                                                                                                                                                                                     |[easily, the, best, i, have, ever, had, , juicy, flavorful, not, dry, , the, vegetables, retain, crispness, as, well, not, bland, at, all]                                                                                                                                                                                                                                         |\n",
      "|an excellent dish                                                                                                                                                                                                                                                                                                      |[an, excellent, dish]                                                                                                                                                                                                                                                                                                                                                              |\n",
      "|love it but without the bean sprouts                                                                                                                                                                                                                                                                                   |[love, it, but, without, the, bean, sprouts]                                                                                                                                                                                                                                                                                                                                       |\n",
      "|chewy goodness not crispy at all i even threw in craisins and left the oatmeal whole and they were great                                                                                                                                                                                                               |[chewy, goodness, not, crispy, at, all, i, even, threw, in, craisins, and, left, the, oatmeal, whole, and, they, were, great]                                                                                                                                                                                                                                                      |\n",
      "|thought this was terrific                                                                                                                                                                                                                                                                                              |[thought, this, was, terrific]                                                                                                                                                                                                                                                                                                                                                     |\n",
      "|this is absolutely delicious  i even served it with lime slices so you could squeeze on more of the acid                                                                                                                                                                                                               |[this, is, absolutely, delicious, , i, even, served, it, with, lime, slices, so, you, could, squeeze, on, more, of, the, acid]                                                                                                                                                                                                                                                     |\n",
      "|a little greasy but a huge hit with the guests                                                                                                                                                                                                                                                                         |[a, little, greasy, but, a, huge, hit, with, the, guests]                                                                                                                                                                                                                                                                                                                          |\n",
      "|leeks on a pizza  it was really delicious  i used a boboli and added some chicken sausage slices and mushrooms too                                                                                                                                                                                                     |[leeks, on, a, pizza, , it, was, really, delicious, , i, used, a, boboli, and, added, some, chicken, sausage, slices, and, mushrooms, too]                                                                                                                                                                                                                                         |\n",
      "|i deleted the bean sprouts and replaced them with salted cashew nutsa nice complement to the sweetsour dressing our guests loved it in my opinionit deserves a pan rating                                                                                                                                              |[i, deleted, the, bean, sprouts, and, replaced, them, with, salted, cashew, nutsa, nice, complement, to, the, sweetsour, dressing, our, guests, loved, it, in, my, opinionit, deserves, a, pan, rating]                                                                                                                                                                            |\n",
      "|where does the bbq come in                                                                                                                                                                                                                                                                                             |[where, does, the, bbq, come, in]                                                                                                                                                                                                                                                                                                                                                  |\n",
      "|this was a fine sandwich ill definitely be making it again i think you could also use blue cheese rather than goat or fetablue seems to go well with roast beef                                                                                                                                                        |[this, was, a, fine, sandwich, ill, definitely, be, making, it, again, i, think, you, could, also, use, blue, cheese, rather, than, goat, or, fetablue, seems, to, go, well, with, roast, beef]                                                                                                                                                                                    |\n",
      "|very simple recipe to make this is a refreshing treat that goes well with vanilla ice cream my husband and i made this dessert disappear fast                                                                                                                                                                          |[very, simple, recipe, to, make, this, is, a, refreshing, treat, that, goes, well, with, vanilla, ice, cream, my, husband, and, i, made, this, dessert, disappear, fast]                                                                                                                                                                                                           |\n",
      "|dear lord                                                                                                                                                                                                                                                                                                              |[dear, lord]                                                                                                                                                                                                                                                                                                                                                                       |\n",
      "|vastly superior to its bastard cousin the twinkie pie this is a true delight to the redneckchic cook in all of us  my wife and girlfriends in  utah that is were astounded  how could you possibly combine canned tuna with refined sugar and then italics there add brine  recipezaar baby who needs the oceaneli totz|[vastly, superior, to, its, bastard, cousin, the, twinkie, pie, this, is, a, true, delight, to, the, redneckchic, cook, in, all, of, us, , my, wife, and, girlfriends, in, , utah, that, is, were, astounded, , how, could, you, possibly, combine, canned, tuna, with, refined, sugar, and, then, italics, there, add, brine, , recipezaar, baby, who, needs, the, oceaneli, totz]|\n",
      "|clearly        a nine shot drink deserves at least five stars  stiff baby                                                                                                                                                                                                                                              |[clearly, , , , , , , , a, nine, shot, drink, deserves, at, least, five, stars, , stiff, baby]                                                                                                                                                                                                                                                                                     |\n",
      "|i never tasted it but it sure doesnt look easy  toast is easy                                                                                                                                                                                                                                                          |[i, never, tasted, it, but, it, sure, doesnt, look, easy, , toast, is, easy]                                                                                                                                                                                                                                                                                                       |\n",
      "|this recipe was really easy to follow and was quite delicious  it reheats really well too for small families  i think next time i will buy the crust as mine needed a little more polishingthanks for the recipe                                                                                                       |[this, recipe, was, really, easy, to, follow, and, was, quite, delicious, , it, reheats, really, well, too, for, small, families, , i, think, next, time, i, will, buy, the, crust, as, mine, needed, a, little, more, polishingthanks, for, the, recipe]                                                                                                                          |\n",
      "+-----------------------------------------------------------------------------------------------------------------------------------------------------------------------------------------------------------------------------------------------------------------------------------------------------------------------+-----------------------------------------------------------------------------------------------------------------------------------------------------------------------------------------------------------------------------------------------------------------------------------------------------------------------------------------------------------------------------------+\n",
      "only showing top 20 rows\n",
      "\n"
     ]
    }
   ],
   "source": [
    "# Selecting and displaying two columns, to check the results of the operation.\n",
    "token_reviews.select(\"Review_no_punct2\", \"tokens\").show(truncate=False)"
   ]
  },
  {
   "cell_type": "markdown",
   "id": "0a8b047c",
   "metadata": {},
   "source": [
    "- The last cell shows how the words were separeted after tokenizing them. (they are separeted by commas)"
   ]
  },
  {
   "cell_type": "code",
   "execution_count": 107,
   "id": "a2d05a5e",
   "metadata": {
    "scrolled": true
   },
   "outputs": [
    {
     "name": "stderr",
     "output_type": "stream",
     "text": [
      "[Stage 155:============================>                            (1 + 1) / 2]\r"
     ]
    },
    {
     "name": "stdout",
     "output_type": "stream",
     "text": [
      "+-------+-----------------+\n",
      "|summary| word_count_punct|\n",
      "+-------+-----------------+\n",
      "|  count|          1325734|\n",
      "|   mean|53.22485279852519|\n",
      "| stddev|37.54565917289778|\n",
      "|    min|                0|\n",
      "|    max|             1184|\n",
      "+-------+-----------------+\n",
      "\n"
     ]
    },
    {
     "name": "stderr",
     "output_type": "stream",
     "text": [
      "\r",
      "                                                                                \r"
     ]
    }
   ],
   "source": [
    "w_t_count = token_reviews.withColumn(\"word_count_punct\", size(token_reviews[\"tokens\"]))\n",
    "\n",
    "w_t_count.select(\"word_count_punct\").describe().show()"
   ]
  },
  {
   "cell_type": "code",
   "execution_count": 108,
   "id": "40436345",
   "metadata": {
    "scrolled": true
   },
   "outputs": [
    {
     "name": "stderr",
     "output_type": "stream",
     "text": [
      "                                                                                \r"
     ]
    },
    {
     "data": {
      "text/plain": [
       "4"
      ]
     },
     "execution_count": 108,
     "metadata": {},
     "output_type": "execute_result"
    }
   ],
   "source": [
    "token_reviews.filter(size(token_reviews[\"tokens\"]) == 0).count()"
   ]
  },
  {
   "cell_type": "markdown",
   "id": "54145ec6",
   "metadata": {},
   "source": [
    "- After the tokenization the length of words, so as the the standard deviation did not change. However, the transformation mande some of the observation to become zero. The cells with review zero will be dealt with in the following steps."
   ]
  },
  {
   "cell_type": "markdown",
   "id": "b6f1d9bb",
   "metadata": {},
   "source": [
    "#### Removing Stop Words."
   ]
  },
  {
   "cell_type": "code",
   "execution_count": 109,
   "id": "413f886c",
   "metadata": {},
   "outputs": [],
   "source": [
    "# Creating a stopword remover with tokens as an input column and filtered_tokens as an output.\n",
    "remover = StopWordsRemover(inputCol=\"tokens\", outputCol=\"filtered_tokens\")"
   ]
  },
  {
   "cell_type": "code",
   "execution_count": 110,
   "id": "2895ab3f",
   "metadata": {},
   "outputs": [],
   "source": [
    "# Removes stopwords by creating an output called filtered reviews.\n",
    "token_reviews = remover.transform(token_reviews)"
   ]
  },
  {
   "cell_type": "code",
   "execution_count": 111,
   "id": "22a3bf9c",
   "metadata": {
    "collapsed": true
   },
   "outputs": [
    {
     "name": "stdout",
     "output_type": "stream",
     "text": [
      "+-----------------------------------------------------------------------------------------------------------------------------------------------------------------------------------------------------------------------------------------------------------------------------------------------------------------------+-----------------------------------------------------------------------------------------------------------------------------------------------------------------------------------------------------------------------------------------------------------------------------------------------------------------------------------------------------------------------------------+--------------------------------------------------------------------------------------------------------------------------------------------------------------------------------------------------------------------------------------------------+\n",
      "|Review_no_punct2                                                                                                                                                                                                                                                                                                       |tokens                                                                                                                                                                                                                                                                                                                                                                             |filtered_tokens                                                                                                                                                                                                                                   |\n",
      "+-----------------------------------------------------------------------------------------------------------------------------------------------------------------------------------------------------------------------------------------------------------------------------------------------------------------------+-----------------------------------------------------------------------------------------------------------------------------------------------------------------------------------------------------------------------------------------------------------------------------------------------------------------------------------------------------------------------------------+--------------------------------------------------------------------------------------------------------------------------------------------------------------------------------------------------------------------------------------------------+\n",
      "|better than any you can get at a restaurant                                                                                                                                                                                                                                                                            |[better, than, any, you, can, get, at, a, restaurant]                                                                                                                                                                                                                                                                                                                              |[better, get, restaurant]                                                                                                                                                                                                                         |\n",
      "|i cut back on the mayo and made up the difference with sour cream to adjust the stiffness of the dip                                                                                                                                                                                                                   |[i, cut, back, on, the, mayo, and, made, up, the, difference, with, sour, cream, to, adjust, the, stiffness, of, the, dip]                                                                                                                                                                                                                                                         |[cut, back, mayo, made, difference, sour, cream, adjust, stiffness, dip]                                                                                                                                                                          |\n",
      "|i think i did something wrong because i could taste the cornstarch in the finished product                                                                                                                                                                                                                             |[i, think, i, did, something, wrong, because, i, could, taste, the, cornstarch, in, the, finished, product]                                                                                                                                                                                                                                                                        |[think, something, wrong, taste, cornstarch, finished, product]                                                                                                                                                                                   |\n",
      "|easily the best i have ever had  juicy flavorful not dry  the vegetables retain crispness as well not bland at all                                                                                                                                                                                                     |[easily, the, best, i, have, ever, had, , juicy, flavorful, not, dry, , the, vegetables, retain, crispness, as, well, not, bland, at, all]                                                                                                                                                                                                                                         |[easily, best, ever, , juicy, flavorful, dry, , vegetables, retain, crispness, well, bland]                                                                                                                                                       |\n",
      "|an excellent dish                                                                                                                                                                                                                                                                                                      |[an, excellent, dish]                                                                                                                                                                                                                                                                                                                                                              |[excellent, dish]                                                                                                                                                                                                                                 |\n",
      "|love it but without the bean sprouts                                                                                                                                                                                                                                                                                   |[love, it, but, without, the, bean, sprouts]                                                                                                                                                                                                                                                                                                                                       |[love, without, bean, sprouts]                                                                                                                                                                                                                    |\n",
      "|chewy goodness not crispy at all i even threw in craisins and left the oatmeal whole and they were great                                                                                                                                                                                                               |[chewy, goodness, not, crispy, at, all, i, even, threw, in, craisins, and, left, the, oatmeal, whole, and, they, were, great]                                                                                                                                                                                                                                                      |[chewy, goodness, crispy, even, threw, craisins, left, oatmeal, whole, great]                                                                                                                                                                     |\n",
      "|thought this was terrific                                                                                                                                                                                                                                                                                              |[thought, this, was, terrific]                                                                                                                                                                                                                                                                                                                                                     |[thought, terrific]                                                                                                                                                                                                                               |\n",
      "|this is absolutely delicious  i even served it with lime slices so you could squeeze on more of the acid                                                                                                                                                                                                               |[this, is, absolutely, delicious, , i, even, served, it, with, lime, slices, so, you, could, squeeze, on, more, of, the, acid]                                                                                                                                                                                                                                                     |[absolutely, delicious, , even, served, lime, slices, squeeze, acid]                                                                                                                                                                              |\n",
      "|a little greasy but a huge hit with the guests                                                                                                                                                                                                                                                                         |[a, little, greasy, but, a, huge, hit, with, the, guests]                                                                                                                                                                                                                                                                                                                          |[little, greasy, huge, hit, guests]                                                                                                                                                                                                               |\n",
      "|leeks on a pizza  it was really delicious  i used a boboli and added some chicken sausage slices and mushrooms too                                                                                                                                                                                                     |[leeks, on, a, pizza, , it, was, really, delicious, , i, used, a, boboli, and, added, some, chicken, sausage, slices, and, mushrooms, too]                                                                                                                                                                                                                                         |[leeks, pizza, , really, delicious, , used, boboli, added, chicken, sausage, slices, mushrooms]                                                                                                                                                   |\n",
      "|i deleted the bean sprouts and replaced them with salted cashew nutsa nice complement to the sweetsour dressing our guests loved it in my opinionit deserves a pan rating                                                                                                                                              |[i, deleted, the, bean, sprouts, and, replaced, them, with, salted, cashew, nutsa, nice, complement, to, the, sweetsour, dressing, our, guests, loved, it, in, my, opinionit, deserves, a, pan, rating]                                                                                                                                                                            |[deleted, bean, sprouts, replaced, salted, cashew, nutsa, nice, complement, sweetsour, dressing, guests, loved, opinionit, deserves, pan, rating]                                                                                                 |\n",
      "|where does the bbq come in                                                                                                                                                                                                                                                                                             |[where, does, the, bbq, come, in]                                                                                                                                                                                                                                                                                                                                                  |[bbq, come]                                                                                                                                                                                                                                       |\n",
      "|this was a fine sandwich ill definitely be making it again i think you could also use blue cheese rather than goat or fetablue seems to go well with roast beef                                                                                                                                                        |[this, was, a, fine, sandwich, ill, definitely, be, making, it, again, i, think, you, could, also, use, blue, cheese, rather, than, goat, or, fetablue, seems, to, go, well, with, roast, beef]                                                                                                                                                                                    |[fine, sandwich, ill, definitely, making, think, also, use, blue, cheese, rather, goat, fetablue, seems, go, well, roast, beef]                                                                                                                   |\n",
      "|very simple recipe to make this is a refreshing treat that goes well with vanilla ice cream my husband and i made this dessert disappear fast                                                                                                                                                                          |[very, simple, recipe, to, make, this, is, a, refreshing, treat, that, goes, well, with, vanilla, ice, cream, my, husband, and, i, made, this, dessert, disappear, fast]                                                                                                                                                                                                           |[simple, recipe, make, refreshing, treat, goes, well, vanilla, ice, cream, husband, made, dessert, disappear, fast]                                                                                                                               |\n",
      "|dear lord                                                                                                                                                                                                                                                                                                              |[dear, lord]                                                                                                                                                                                                                                                                                                                                                                       |[dear, lord]                                                                                                                                                                                                                                      |\n",
      "|vastly superior to its bastard cousin the twinkie pie this is a true delight to the redneckchic cook in all of us  my wife and girlfriends in  utah that is were astounded  how could you possibly combine canned tuna with refined sugar and then italics there add brine  recipezaar baby who needs the oceaneli totz|[vastly, superior, to, its, bastard, cousin, the, twinkie, pie, this, is, a, true, delight, to, the, redneckchic, cook, in, all, of, us, , my, wife, and, girlfriends, in, , utah, that, is, were, astounded, , how, could, you, possibly, combine, canned, tuna, with, refined, sugar, and, then, italics, there, add, brine, , recipezaar, baby, who, needs, the, oceaneli, totz]|[vastly, superior, bastard, cousin, twinkie, pie, true, delight, redneckchic, cook, us, , wife, girlfriends, , utah, astounded, , possibly, combine, canned, tuna, refined, sugar, italics, add, brine, , recipezaar, baby, needs, oceaneli, totz]|\n",
      "|clearly        a nine shot drink deserves at least five stars  stiff baby                                                                                                                                                                                                                                              |[clearly, , , , , , , , a, nine, shot, drink, deserves, at, least, five, stars, , stiff, baby]                                                                                                                                                                                                                                                                                     |[clearly, , , , , , , , nine, shot, drink, deserves, least, five, stars, , stiff, baby]                                                                                                                                                           |\n",
      "|i never tasted it but it sure doesnt look easy  toast is easy                                                                                                                                                                                                                                                          |[i, never, tasted, it, but, it, sure, doesnt, look, easy, , toast, is, easy]                                                                                                                                                                                                                                                                                                       |[never, tasted, sure, doesnt, look, easy, , toast, easy]                                                                                                                                                                                          |\n",
      "|this recipe was really easy to follow and was quite delicious  it reheats really well too for small families  i think next time i will buy the crust as mine needed a little more polishingthanks for the recipe                                                                                                       |[this, recipe, was, really, easy, to, follow, and, was, quite, delicious, , it, reheats, really, well, too, for, small, families, , i, think, next, time, i, will, buy, the, crust, as, mine, needed, a, little, more, polishingthanks, for, the, recipe]                                                                                                                          |[recipe, really, easy, follow, quite, delicious, , reheats, really, well, small, families, , think, next, time, buy, crust, mine, needed, little, polishingthanks, recipe]                                                                        |\n",
      "+-----------------------------------------------------------------------------------------------------------------------------------------------------------------------------------------------------------------------------------------------------------------------------------------------------------------------+-----------------------------------------------------------------------------------------------------------------------------------------------------------------------------------------------------------------------------------------------------------------------------------------------------------------------------------------------------------------------------------+--------------------------------------------------------------------------------------------------------------------------------------------------------------------------------------------------------------------------------------------------+\n",
      "only showing top 20 rows\n",
      "\n"
     ]
    }
   ],
   "source": [
    "# Displaying the same features but in different stages to check the operation.\n",
    "token_reviews.select(\"Review_no_punct2\", \"tokens\", \"filtered_tokens\").show(truncate=False)"
   ]
  },
  {
   "cell_type": "markdown",
   "id": "3ef10970",
   "metadata": {},
   "source": [
    "#### Filtering short tokens\n",
    "\n",
    "- It will remove token with less than 2 characters and the reason why is that in food review the word \"no\", can have significant impact. For example, \"no good\" and \"good\" will be the same, which is not true.\n",
    "<br><br>The following code will perform the task using UDF:"
   ]
  },
  {
   "cell_type": "code",
   "execution_count": 112,
   "id": "a06848f9",
   "metadata": {},
   "outputs": [],
   "source": [
    "# UDF to filter out short tokens\n",
    "filter_short_udf = udf(lambda tokens: [token for token in tokens if len(token) > 1], ArrayType(StringType()))\n",
    "\n",
    "token_reviews = token_reviews.withColumn(\"tokens_2\", filter_short_udf(token_reviews[\"filtered_tokens\"]))\n"
   ]
  },
  {
   "cell_type": "code",
   "execution_count": 113,
   "id": "b378dbcd",
   "metadata": {
    "collapsed": true
   },
   "outputs": [
    {
     "name": "stderr",
     "output_type": "stream",
     "text": [
      "\r",
      "[Stage 162:>                                                        (0 + 1) / 1]\r"
     ]
    },
    {
     "name": "stdout",
     "output_type": "stream",
     "text": [
      "+--------------------------------------------------------------------------------------------------------------------------------------------------------------------------------------------------------------------------------------------------+------------------------------------------------------------------------------------------------------------------------------------------------------------------------------------------------------------------------------------------+\n",
      "|filtered_tokens                                                                                                                                                                                                                                   |tokens_2                                                                                                                                                                                                                                  |\n",
      "+--------------------------------------------------------------------------------------------------------------------------------------------------------------------------------------------------------------------------------------------------+------------------------------------------------------------------------------------------------------------------------------------------------------------------------------------------------------------------------------------------+\n",
      "|[better, get, restaurant]                                                                                                                                                                                                                         |[better, get, restaurant]                                                                                                                                                                                                                 |\n",
      "|[cut, back, mayo, made, difference, sour, cream, adjust, stiffness, dip]                                                                                                                                                                          |[cut, back, mayo, made, difference, sour, cream, adjust, stiffness, dip]                                                                                                                                                                  |\n",
      "|[think, something, wrong, taste, cornstarch, finished, product]                                                                                                                                                                                   |[think, something, wrong, taste, cornstarch, finished, product]                                                                                                                                                                           |\n",
      "|[easily, best, ever, , juicy, flavorful, dry, , vegetables, retain, crispness, well, bland]                                                                                                                                                       |[easily, best, ever, juicy, flavorful, dry, vegetables, retain, crispness, well, bland]                                                                                                                                                   |\n",
      "|[excellent, dish]                                                                                                                                                                                                                                 |[excellent, dish]                                                                                                                                                                                                                         |\n",
      "|[love, without, bean, sprouts]                                                                                                                                                                                                                    |[love, without, bean, sprouts]                                                                                                                                                                                                            |\n",
      "|[chewy, goodness, crispy, even, threw, craisins, left, oatmeal, whole, great]                                                                                                                                                                     |[chewy, goodness, crispy, even, threw, craisins, left, oatmeal, whole, great]                                                                                                                                                             |\n",
      "|[thought, terrific]                                                                                                                                                                                                                               |[thought, terrific]                                                                                                                                                                                                                       |\n",
      "|[absolutely, delicious, , even, served, lime, slices, squeeze, acid]                                                                                                                                                                              |[absolutely, delicious, even, served, lime, slices, squeeze, acid]                                                                                                                                                                        |\n",
      "|[little, greasy, huge, hit, guests]                                                                                                                                                                                                               |[little, greasy, huge, hit, guests]                                                                                                                                                                                                       |\n",
      "|[leeks, pizza, , really, delicious, , used, boboli, added, chicken, sausage, slices, mushrooms]                                                                                                                                                   |[leeks, pizza, really, delicious, used, boboli, added, chicken, sausage, slices, mushrooms]                                                                                                                                               |\n",
      "|[deleted, bean, sprouts, replaced, salted, cashew, nutsa, nice, complement, sweetsour, dressing, guests, loved, opinionit, deserves, pan, rating]                                                                                                 |[deleted, bean, sprouts, replaced, salted, cashew, nutsa, nice, complement, sweetsour, dressing, guests, loved, opinionit, deserves, pan, rating]                                                                                         |\n",
      "|[bbq, come]                                                                                                                                                                                                                                       |[bbq, come]                                                                                                                                                                                                                               |\n",
      "|[fine, sandwich, ill, definitely, making, think, also, use, blue, cheese, rather, goat, fetablue, seems, go, well, roast, beef]                                                                                                                   |[fine, sandwich, ill, definitely, making, think, also, use, blue, cheese, rather, goat, fetablue, seems, go, well, roast, beef]                                                                                                           |\n",
      "|[simple, recipe, make, refreshing, treat, goes, well, vanilla, ice, cream, husband, made, dessert, disappear, fast]                                                                                                                               |[simple, recipe, make, refreshing, treat, goes, well, vanilla, ice, cream, husband, made, dessert, disappear, fast]                                                                                                                       |\n",
      "|[dear, lord]                                                                                                                                                                                                                                      |[dear, lord]                                                                                                                                                                                                                              |\n",
      "|[vastly, superior, bastard, cousin, twinkie, pie, true, delight, redneckchic, cook, us, , wife, girlfriends, , utah, astounded, , possibly, combine, canned, tuna, refined, sugar, italics, add, brine, , recipezaar, baby, needs, oceaneli, totz]|[vastly, superior, bastard, cousin, twinkie, pie, true, delight, redneckchic, cook, us, wife, girlfriends, utah, astounded, possibly, combine, canned, tuna, refined, sugar, italics, add, brine, recipezaar, baby, needs, oceaneli, totz]|\n",
      "|[clearly, , , , , , , , nine, shot, drink, deserves, least, five, stars, , stiff, baby]                                                                                                                                                           |[clearly, nine, shot, drink, deserves, least, five, stars, stiff, baby]                                                                                                                                                                   |\n",
      "|[never, tasted, sure, doesnt, look, easy, , toast, easy]                                                                                                                                                                                          |[never, tasted, sure, doesnt, look, easy, toast, easy]                                                                                                                                                                                    |\n",
      "|[recipe, really, easy, follow, quite, delicious, , reheats, really, well, small, families, , think, next, time, buy, crust, mine, needed, little, polishingthanks, recipe]                                                                        |[recipe, really, easy, follow, quite, delicious, reheats, really, well, small, families, think, next, time, buy, crust, mine, needed, little, polishingthanks, recipe]                                                                    |\n",
      "+--------------------------------------------------------------------------------------------------------------------------------------------------------------------------------------------------------------------------------------------------+------------------------------------------------------------------------------------------------------------------------------------------------------------------------------------------------------------------------------------------+\n",
      "only showing top 20 rows\n",
      "\n"
     ]
    },
    {
     "name": "stderr",
     "output_type": "stream",
     "text": [
      "\r",
      "                                                                                \r"
     ]
    }
   ],
   "source": [
    "# Selecting and displaying two columns, to check the results of the operation.\n",
    "token_reviews.select(\"filtered_tokens\", \"tokens_2\").show(truncate=False)"
   ]
  },
  {
   "cell_type": "code",
   "execution_count": 117,
   "id": "b245d53d",
   "metadata": {
    "scrolled": true
   },
   "outputs": [
    {
     "name": "stderr",
     "output_type": "stream",
     "text": [
      "                                                                                \r"
     ]
    },
    {
     "data": {
      "text/plain": [
       "327"
      ]
     },
     "execution_count": 117,
     "metadata": {},
     "output_type": "execute_result"
    }
   ],
   "source": [
    "token_reviews.filter(size(token_reviews[\"tokens_2\"]) == 0).count()"
   ]
  },
  {
   "cell_type": "code",
   "execution_count": 119,
   "id": "a1fa0a99",
   "metadata": {
    "scrolled": false
   },
   "outputs": [
    {
     "name": "stderr",
     "output_type": "stream",
     "text": [
      "[Stage 169:============================>                            (1 + 1) / 2]\r"
     ]
    },
    {
     "name": "stdout",
     "output_type": "stream",
     "text": [
      "+------+-------------+\n",
      "|Rating|count(Rating)|\n",
      "+------+-------------+\n",
      "|     1|           16|\n",
      "|     2|            5|\n",
      "|     3|           11|\n",
      "|     4|           50|\n",
      "|     5|          245|\n",
      "+------+-------------+\n",
      "\n"
     ]
    },
    {
     "name": "stderr",
     "output_type": "stream",
     "text": [
      "\r",
      "                                                                                \r"
     ]
    }
   ],
   "source": [
    "# Filter the empty token reviews\n",
    "empty_token_reviews = token_reviews.filter(size(token_reviews[\"tokens_2\"]) == 0)\n",
    "\n",
    "# Group by the 'Rating' column and count the number of reviews in each group\n",
    "result = empty_token_reviews.groupBy(\"Rating\").agg({\"Rating\": \"count\"}).orderBy(\"Rating\")\n",
    "\n",
    "# Show the result\n",
    "result.show()\n"
   ]
  },
  {
   "cell_type": "markdown",
   "id": "92e1a1f1",
   "metadata": {},
   "source": [
    "- After removing the stop words and filtering out short tokens, the number of observations in the review column with zero tokes increased from 4 to 327, which the amount for each score can be looked at the previous code.\n",
    "\n",
    "The chosen solution for the empty rows after the transformation is to drop them, performed in the next line of code. "
   ]
  },
  {
   "cell_type": "code",
   "execution_count": 121,
   "id": "0a0528de",
   "metadata": {},
   "outputs": [],
   "source": [
    "# Remove rows where the token list is empty\n",
    "non_empty_reviews = token_reviews.filter(size(token_reviews[\"tokens_2\"]) > 0)"
   ]
  },
  {
   "cell_type": "code",
   "execution_count": 123,
   "id": "df2f900a",
   "metadata": {
    "scrolled": false
   },
   "outputs": [
    {
     "name": "stderr",
     "output_type": "stream",
     "text": [
      "[Stage 172:============================>                            (1 + 1) / 2]\r"
     ]
    },
    {
     "name": "stdout",
     "output_type": "stream",
     "text": [
      "+-------+------------------+\n",
      "|summary|       final_count|\n",
      "+-------+------------------+\n",
      "|  count|           1325407|\n",
      "|   mean|26.158801786922808|\n",
      "| stddev| 18.18721206046169|\n",
      "|    min|                 1|\n",
      "|    max|               639|\n",
      "+-------+------------------+\n",
      "\n"
     ]
    },
    {
     "name": "stderr",
     "output_type": "stream",
     "text": [
      "\r",
      "                                                                                \r"
     ]
    }
   ],
   "source": [
    "final_count = non_empty_reviews.withColumn(\"final_count\", size(non_empty_reviews[\"tokens_2\"]))\n",
    "\n",
    "final_count.select(\"final_count\").describe().show()"
   ]
  },
  {
   "cell_type": "code",
   "execution_count": null,
   "id": "eae60df1",
   "metadata": {},
   "outputs": [
    {
     "name": "stderr",
     "output_type": "stream",
     "text": [
      "[Stage 180:============================>                            (1 + 1) / 2]\r"
     ]
    }
   ],
   "source": [
    "# Transforming to pandas dataframe for visualization purpose.\n",
    "aa = final_count.select(\"final_count\").toPandas()"
   ]
  },
  {
   "cell_type": "code",
   "execution_count": null,
   "id": "5755b34a",
   "metadata": {},
   "outputs": [],
   "source": [
    "# Creating histogram for characters length\n",
    "char_lengths = raa[\"final_count\"] # Data\n",
    "char_lengths.hist(bins=50) # Generate histogram.\n",
    "plt.xlabel(\"Token Length\") # Adds label.\n",
    "plt.ylabel(\"Number of Reviews\") # Adds label.\n",
    "plt.title(\"Distribution of Review Lengths (in tokens)\") # Adds title.\n",
    "plt.show() # Shows the histogram."
   ]
  },
  {
   "cell_type": "markdown",
   "id": "bd435c6a",
   "metadata": {},
   "source": [
    "The stage of text processing almost at the final stage, the descriptive statistical of the reviews suffered a big change. \n",
    "- Started with 1,401,982 rows and at this stage have 1,325,407, a reduction of 76,575.\n",
    "- The mean of 53 reduced to 26, meaning that the average length of words in each review reduced more than 50%, a big decrease. \n",
    "- Standard Deviation, also reduced around 50%.\n",
    "- The max length also slumped, from more than 1100 words it is now 639.  "
   ]
  },
  {
   "cell_type": "code",
   "execution_count": 125,
   "id": "b05793b5",
   "metadata": {},
   "outputs": [],
   "source": [
    "import nltk\n",
    "from nltk.stem import WordNetLemmatizer\n",
    "\n",
    "# Download wordnet data for nltk\n",
    "# nltk.download('wordnet')\n",
    "\n",
    "# Initialize lemmatizer\n",
    "lemmatizer = WordNetLemmatizer()\n",
    "\n",
    "# Defining UDF for lemmatization\n",
    "@udf(ArrayType(StringType()))\n",
    "def lemmatize_udf(tokens):\n",
    "    return [lemmatizer.lemmatize(token) for token in tokens]\n",
    "\n",
    "# Apply the UDF\n",
    "tokens_lemma = non_empty_reviews.withColumn(\"lemmatized_tokens\", lemmatize_udf(token_reviews[\"tokens_2\"]))\n"
   ]
  },
  {
   "cell_type": "code",
   "execution_count": 127,
   "id": "cc01721b",
   "metadata": {},
   "outputs": [
    {
     "name": "stderr",
     "output_type": "stream",
     "text": [
      "/usr/lib/python3/dist-packages/scipy/__init__.py:146: UserWarning: A NumPy version >=1.17.3 and <1.25.0 is required for this version of SciPy (detected version 1.26.0\n",
      "  warnings.warn(f\"A NumPy version >={np_minversion} and <{np_maxversion}\"\n",
      "/usr/lib/python3/dist-packages/scipy/__init__.py:146: UserWarning: A NumPy version >=1.17.3 and <1.25.0 is required for this version of SciPy (detected version 1.26.0\n",
      "  warnings.warn(f\"A NumPy version >={np_minversion} and <{np_maxversion}\"\n",
      "/usr/lib/python3/dist-packages/scipy/__init__.py:146: UserWarning: A NumPy version >=1.17.3 and <1.25.0 is required for this version of SciPy (detected version 1.26.0\n",
      "  warnings.warn(f\"A NumPy version >={np_minversion} and <{np_maxversion}\"\n",
      "/usr/lib/python3/dist-packages/scipy/__init__.py:146: UserWarning: A NumPy version >=1.17.3 and <1.25.0 is required for this version of SciPy (detected version 1.26.0\n",
      "  warnings.warn(f\"A NumPy version >={np_minversion} and <{np_maxversion}\"\n",
      "                                                                                \r"
     ]
    }
   ],
   "source": [
    "from pyspark.ml.feature import Word2Vec\n",
    "\n",
    "# Initialize word2vec model\n",
    "word2vec = Word2Vec(vectorSize=100, minCount=5, inputCol=\"lemmatized_tokens\", outputCol=\"word2vec_features\")\n",
    "\n",
    "# Fit the model on your data\n",
    "word2vec_model = word2vec.fit(tokens_lemma)\n",
    "\n",
    "# Transform the data to get word embeddings\n",
    "df_reviews_w2v = word2vec_model.transform(tokens_lemma)\n"
   ]
  },
  {
   "cell_type": "code",
   "execution_count": null,
   "id": "43b5d5ec",
   "metadata": {},
   "outputs": [],
   "source": []
  }
 ],
 "metadata": {
  "kernelspec": {
   "display_name": "Python 3 (ipykernel)",
   "language": "python",
   "name": "python3"
  },
  "language_info": {
   "codemirror_mode": {
    "name": "ipython",
    "version": 3
   },
   "file_extension": ".py",
   "mimetype": "text/x-python",
   "name": "python",
   "nbconvert_exporter": "python",
   "pygments_lexer": "ipython3",
   "version": "3.10.12"
  }
 },
 "nbformat": 4,
 "nbformat_minor": 5
}
